{
 "cells": [
  {
   "cell_type": "code",
   "execution_count": 1,
   "id": "9bc0fab0",
   "metadata": {},
   "outputs": [
    {
     "name": "stderr",
     "output_type": "stream",
     "text": [
      "/home/stuart/.pyenv/versions/3.10.6/envs/lewagon/lib/python3.10/site-packages/pinecone/index.py:4: TqdmExperimentalWarning: Using `tqdm.autonotebook.tqdm` in notebook mode. Use `tqdm.tqdm` instead to force console mode (e.g. in jupyter console)\n",
      "  from tqdm.autonotebook import tqdm\n"
     ]
    }
   ],
   "source": [
    "import pinecone\n",
    "from google.cloud import bigquery\n",
    "from langchain.embeddings.openai import OpenAIEmbeddings\n",
    "from langchain.text_splitter import CharacterTextSplitter\n",
    "from langchain.vectorstores import Pinecone\n",
    "from langchain.chat_models import ChatOpenAI\n",
    "from langchain.chains import RetrievalQA\n",
    "from pydantic import BaseModel\n",
    "from dotenv import load_dotenv\n",
    "import os\n",
    "\n",
    "# Load the environment variables from the .env file\n",
    "load_dotenv()\n",
    "\n",
    "# Access environment variables\n",
    "api_key = os.getenv(\"OPENAI_KEY\")\n",
    "pinecone_key = os.getenv('PINECONE_API_KEY')\n",
    "pinecone_env = os.getenv('PINECONE_ENV')"
   ]
  },
  {
   "cell_type": "code",
   "execution_count": 2,
   "id": "b68a2969",
   "metadata": {},
   "outputs": [],
   "source": [
    "embeddings = OpenAIEmbeddings(openai_api_key=api_key)"
   ]
  },
  {
   "cell_type": "code",
   "execution_count": 3,
   "id": "58280c94",
   "metadata": {},
   "outputs": [],
   "source": [
    "from langchain.document_loaders import BigQueryLoader\n",
    "# PROJECT = \"wagon-bootcamp-377120\"\n",
    "# DATASET = \"g_adventures_dataset\"\n",
    "# TABLE = \"one_month\"\n",
    "\n",
    "# BASE_QUERY = f\"\"\"\n",
    "#     SELECT *\n",
    "#     FROM {PROJECT}.{DATASET}.{TABLE}\n",
    "#     WHERE tour_name = 'Highlights of Jordan'\n",
    "#     \"\"\"\n",
    "\n",
    "# loader = BigQueryLoader(BASE_QUERY)\n",
    "\n",
    "# docs = loader.load()"
   ]
  },
  {
   "cell_type": "code",
   "execution_count": 4,
   "id": "24efc806",
   "metadata": {},
   "outputs": [],
   "source": [
    "PROJECT = \"wagon-bootcamp-377120\"\n",
    "DATASET = \"g_adventures_dataset\"\n",
    "TABLE = \"one_month\""
   ]
  },
  {
   "cell_type": "code",
   "execution_count": 5,
   "id": "856a8113",
   "metadata": {},
   "outputs": [],
   "source": [
    "class UserTravelDetails(BaseModel):\n",
    "    country: str\n",
    "    max_budget: float\n",
    "    min_budget: float\n",
    "    departing_after: str\n",
    "    departing_before: str\n",
    "    max_duration: int\n",
    "    min_duration: int"
   ]
  },
  {
   "cell_type": "code",
   "execution_count": 6,
   "id": "5366c6b7",
   "metadata": {},
   "outputs": [],
   "source": [
    "# Example usage:\n",
    "user_travel_details = UserTravelDetails(\n",
    "    country=\"Morocco\",\n",
    "    max_budget=1000,\n",
    "    min_budget=0,\n",
    "    departing_after=\"2024-04-01\",\n",
    "    departing_before=\"2024-04-30\",\n",
    "    max_duration=10,\n",
    "    min_duration=5\n",
    ")"
   ]
  },
  {
   "cell_type": "code",
   "execution_count": 7,
   "id": "803429b3",
   "metadata": {},
   "outputs": [],
   "source": [
    "def list_all_column_names():\n",
    "    client = bigquery.Client(project=PROJECT)\n",
    "    dataset_ref = client.dataset(DATASET)\n",
    "    table_ref = dataset_ref.table(TABLE)\n",
    "\n",
    "    # Get the table schema\n",
    "    table = client.get_table(table_ref)\n",
    "\n",
    "    # Extract and return the column names\n",
    "    column_names = [field.name for field in table.schema]\n",
    "\n",
    "    return column_names"
   ]
  },
  {
   "cell_type": "code",
   "execution_count": 8,
   "id": "4d2f46d2",
   "metadata": {},
   "outputs": [],
   "source": [
    "found_itineraries = ['Morocco Kasbahs & Desert']"
   ]
  },
  {
   "cell_type": "code",
   "execution_count": 9,
   "id": "3f9b3db5",
   "metadata": {},
   "outputs": [],
   "source": [
    "def generate_sql_query(user_travel_details, found_itineraries):\n",
    "    \n",
    "    all_columns = list_all_column_names()\n",
    "    all_columns_str = \",\\n\".join(all_columns)\n",
    "    all_columns_str = all_columns_str + \",\"\n",
    "    \n",
    "    room_categories = [category for category in all_columns if \"Adult\" in category and \"Promotion Description\" not in category]\n",
    "    \n",
    "    category_cases = []\n",
    "\n",
    "    for category in room_categories:\n",
    "        category_case = f\"CASE WHEN {category} > 0 THEN {category} ELSE 1000000 END\"\n",
    "        category_cases.append(category_case)\n",
    "\n",
    "    category_cases_str = \",\\n\".join(category_cases)\n",
    "\n",
    "    query = f\"\"\"\n",
    "    SELECT\n",
    "        MAX(tour_operator) AS tour_operator,\n",
    "        tour_name,\n",
    "        itinerary_name,\n",
    "        MAX(visited_countries) AS visited_countries,\n",
    "        MAX(currency) AS currency,\n",
    "        ARRAY_AGG(DISTINCT cost) AS Costs,\n",
    "        MAX(duration) AS duration,\n",
    "        ARRAY_AGG(CAST(start_date AS STRING) ORDER BY start_date) AS start_dates,\n",
    "        MAX(Travel_Style) AS Travel_Style,\n",
    "        MAX(Service_Level) AS Service_Level,\n",
    "        MAX(Physical_Grading) AS Physical_Grading,\n",
    "        MAX(Merchandising) AS Merchandising,\n",
    "        MAX(Trip_Type) AS Trip_Type,\n",
    "        MAX(itinerary) AS itinerary,\n",
    "        MAX(url) AS url\n",
    "FROM (\n",
    "    SELECT\n",
    "        {all_columns_str}\n",
    "        LEAST(\n",
    "            {category_cases_str}\n",
    "        ) AS cost\n",
    "    FROM {PROJECT}.{DATASET}.{TABLE}\n",
    ") AS subquery\n",
    "    WHERE 1 = 1\n",
    "    \"\"\"\n",
    "\n",
    "    \n",
    "    # Iterate through the provided filter criteria and add them to the query\n",
    "    if user_travel_details.max_budget:\n",
    "        query += f\" AND cost <= {user_travel_details.max_budget}\"\n",
    "\n",
    "    if user_travel_details.departing_after:\n",
    "        query += f\" AND start_date >= '{user_travel_details.departing_after}'\"\n",
    "\n",
    "    if user_travel_details.departing_before:\n",
    "        query += f\" AND start_date <= '{user_travel_details.departing_before}'\"\n",
    "\n",
    "    query += f\"\"\" AND tour_name = '{found_itineraries[0]}'\n",
    "    GROUP BY\n",
    "        tour_name, itinerary_name;\"\"\"\n",
    "    \n",
    "    return query"
   ]
  },
  {
   "cell_type": "code",
   "execution_count": 10,
   "id": "56575f49",
   "metadata": {},
   "outputs": [],
   "source": [
    "query = generate_sql_query(user_travel_details, found_itineraries)\n",
    "\n",
    "loader = BigQueryLoader(query)\n",
    "\n",
    "docs = loader.load()"
   ]
  },
  {
   "cell_type": "code",
   "execution_count": 11,
   "id": "be4a372f",
   "metadata": {},
   "outputs": [],
   "source": [
    "text_splitter = CharacterTextSplitter(chunk_size=500, chunk_overlap=50)\n",
    "texts = text_splitter.split_documents(docs)"
   ]
  },
  {
   "cell_type": "code",
   "execution_count": 12,
   "id": "7f04b707",
   "metadata": {},
   "outputs": [],
   "source": [
    "pinecone.init(api_key=pinecone_key,\n",
    "              environment=pinecone_env)"
   ]
  },
  {
   "cell_type": "code",
   "execution_count": 13,
   "id": "1a8c16d5",
   "metadata": {},
   "outputs": [],
   "source": [
    "pinecone.create_index(\"chatbot\", dimension=1536)"
   ]
  },
  {
   "cell_type": "code",
   "execution_count": 14,
   "id": "23f64c2f",
   "metadata": {},
   "outputs": [],
   "source": [
    "docsearch = Pinecone.from_documents(texts, embeddings, index_name=\"chatbot\")"
   ]
  },
  {
   "cell_type": "code",
   "execution_count": 15,
   "id": "339f4162",
   "metadata": {},
   "outputs": [],
   "source": [
    "# completion llm\n",
    "llm = ChatOpenAI(\n",
    "    openai_api_key=api_key,\n",
    "    model_name='gpt-3.5-turbo',\n",
    "    temperature=0.0\n",
    ")\n",
    "\n",
    "qa = RetrievalQA.from_chain_type(\n",
    "    llm=llm,\n",
    "    chain_type=\"stuff\",\n",
    "    retriever=docsearch.as_retriever()\n",
    ")"
   ]
  },
  {
   "cell_type": "code",
   "execution_count": 16,
   "id": "6c703683",
   "metadata": {},
   "outputs": [],
   "source": [
    "import time\n",
    "time.sleep(20)"
   ]
  },
  {
   "cell_type": "code",
   "execution_count": 17,
   "id": "4658f608",
   "metadata": {},
   "outputs": [],
   "source": [
    "query = \"what are the departure dates?\""
   ]
  },
  {
   "cell_type": "code",
   "execution_count": 20,
   "id": "4e0cbf1d",
   "metadata": {},
   "outputs": [
    {
     "name": "stdout",
     "output_type": "stream",
     "text": [
      "The departure dates for the Morocco Kasbahs & Desert tour with G Adventures are as follows:\n",
      "\n",
      "- 2024-04-02\n",
      "- 2024-04-04\n",
      "- 2024-04-06\n",
      "- 2024-04-11\n",
      "- 2024-04-13\n",
      "- 2024-04-16\n",
      "- 2024-04-20\n",
      "- 2024-04-21\n",
      "\n",
      "Please note that these dates are subject to availability and may change. It is always best to check with G Adventures or visit their website for the most up-to-date information.\n"
     ]
    }
   ],
   "source": [
    "answer = qa.run(query)\n",
    "print(answer)"
   ]
  },
  {
   "cell_type": "code",
   "execution_count": 19,
   "id": "0979622c",
   "metadata": {},
   "outputs": [],
   "source": [
    "# pinecone.delete_index(\"chatbot\")"
   ]
  },
  {
   "cell_type": "code",
   "execution_count": null,
   "id": "4a456d9c",
   "metadata": {},
   "outputs": [],
   "source": []
  }
 ],
 "metadata": {
  "kernelspec": {
   "display_name": "Python 3 (ipykernel)",
   "language": "python",
   "name": "python3"
  },
  "language_info": {
   "codemirror_mode": {
    "name": "ipython",
    "version": 3
   },
   "file_extension": ".py",
   "mimetype": "text/x-python",
   "name": "python",
   "nbconvert_exporter": "python",
   "pygments_lexer": "ipython3",
   "version": "3.10.6"
  },
  "toc": {
   "base_numbering": 1,
   "nav_menu": {},
   "number_sections": true,
   "sideBar": true,
   "skip_h1_title": false,
   "title_cell": "Table of Contents",
   "title_sidebar": "Contents",
   "toc_cell": false,
   "toc_position": {},
   "toc_section_display": true,
   "toc_window_display": false
  }
 },
 "nbformat": 4,
 "nbformat_minor": 5
}
