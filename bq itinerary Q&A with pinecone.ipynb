{
 "cells": [
  {
   "cell_type": "code",
   "execution_count": 1,
   "id": "9bc0fab0",
   "metadata": {},
   "outputs": [
    {
     "name": "stderr",
     "output_type": "stream",
     "text": [
      "/home/stuart/.pyenv/versions/3.10.6/envs/lewagon/lib/python3.10/site-packages/pinecone/index.py:4: TqdmExperimentalWarning: Using `tqdm.autonotebook.tqdm` in notebook mode. Use `tqdm.tqdm` instead to force console mode (e.g. in jupyter console)\n",
      "  from tqdm.autonotebook import tqdm\n"
     ]
    }
   ],
   "source": [
    "import pinecone\n",
    "from google.cloud import bigquery\n",
    "from langchain.embeddings.openai import OpenAIEmbeddings\n",
    "from langchain.text_splitter import CharacterTextSplitter\n",
    "from langchain.vectorstores import Pinecone\n",
    "from langchain.chat_models import ChatOpenAI\n",
    "from langchain.chains import RetrievalQA\n",
    "from langchain.document_loaders import BigQueryLoader\n",
    "from pydantic import BaseModel\n",
    "from dotenv import load_dotenv\n",
    "import os\n",
    "\n",
    "# Load the environment variables from the .env file\n",
    "load_dotenv()\n",
    "\n",
    "# Access environment variables\n",
    "api_key = os.getenv(\"OPENAI_KEY\")\n",
    "pinecone_key = os.getenv('PINECONE_API_KEY')\n",
    "pinecone_env = os.getenv('PINECONE_ENV')"
   ]
  },
  {
   "cell_type": "code",
   "execution_count": 2,
   "id": "bd74c580",
   "metadata": {},
   "outputs": [],
   "source": [
    "embeddings = OpenAIEmbeddings(openai_api_key=api_key)"
   ]
  },
  {
   "cell_type": "code",
   "execution_count": 3,
   "id": "381a6357",
   "metadata": {},
   "outputs": [],
   "source": [
    "\n",
    "pinecone.init(api_key=pinecone_key,\n",
    "              environment=pinecone_env)\n",
    "pinecone.create_index(\"chatbot\", dimension=1536)"
   ]
  },
  {
   "cell_type": "code",
   "execution_count": 4,
   "id": "337fe370",
   "metadata": {},
   "outputs": [],
   "source": [
    "import datetime\n",
    "now = datetime.datetime.now()\n"
   ]
  },
  {
   "cell_type": "code",
   "execution_count": null,
   "id": "57cb48fd",
   "metadata": {},
   "outputs": [],
   "source": []
  },
  {
   "cell_type": "code",
   "execution_count": null,
   "id": "07197c9d",
   "metadata": {},
   "outputs": [],
   "source": []
  },
  {
   "cell_type": "code",
   "execution_count": 5,
   "id": "c1a2360c",
   "metadata": {},
   "outputs": [],
   "source": [
    "PROJECT = \"wagon-bootcamp-377120\"\n",
    "DATASET = \"g_adventures_dataset\"\n",
    "TABLE = \"one_month\""
   ]
  },
  {
   "cell_type": "code",
   "execution_count": 6,
   "id": "b2cbe9ec",
   "metadata": {},
   "outputs": [],
   "source": [
    "class UserTravelDetails(BaseModel):\n",
    "    country: str\n",
    "    max_budget: float\n",
    "    min_budget: float\n",
    "    departing_after: str\n",
    "    departing_before: str\n",
    "    max_duration: int\n",
    "    min_duration: int"
   ]
  },
  {
   "cell_type": "code",
   "execution_count": 7,
   "id": "dd971ab0",
   "metadata": {},
   "outputs": [],
   "source": [
    "# Example usage:\n",
    "user_travel_details = UserTravelDetails(\n",
    "    country=\"Morocco\",\n",
    "    max_budget=1000,\n",
    "    min_budget=0,\n",
    "    departing_after=\"2024-04-01\",\n",
    "    departing_before=\"2024-04-30\",\n",
    "    max_duration=10,\n",
    "    min_duration=5\n",
    ")"
   ]
  },
  {
   "cell_type": "code",
   "execution_count": 8,
   "id": "6eaf713d",
   "metadata": {},
   "outputs": [],
   "source": [
    "def list_all_column_names():\n",
    "    client = bigquery.Client(project=PROJECT)\n",
    "    dataset_ref = client.dataset(DATASET)\n",
    "    table_ref = dataset_ref.table(TABLE)\n",
    "\n",
    "    # Get the table schema\n",
    "    table = client.get_table(table_ref)\n",
    "\n",
    "    # Extract and return the column names\n",
    "    column_names = [field.name for field in table.schema]\n",
    "\n",
    "    return column_names"
   ]
  },
  {
   "cell_type": "code",
   "execution_count": 9,
   "id": "332f6b47",
   "metadata": {},
   "outputs": [],
   "source": [
    "found_itineraries = ['Morocco Kasbahs & Desert']"
   ]
  },
  {
   "cell_type": "code",
   "execution_count": 10,
   "id": "539e109b",
   "metadata": {},
   "outputs": [],
   "source": [
    "def generate_sql_query(user_travel_details, found_itineraries):\n",
    "    \n",
    "    all_columns = list_all_column_names()\n",
    "    all_columns_str = \",\\n\".join(all_columns)\n",
    "    all_columns_str = all_columns_str + \",\"\n",
    "    \n",
    "    room_categories = [category for category in all_columns if \"Adult\" in category and \"Promotion Description\" not in category]\n",
    "    \n",
    "    category_cases = []\n",
    "\n",
    "    for category in room_categories:\n",
    "        category_case = f\"CASE WHEN {category} > 0 THEN {category} ELSE 1000000 END\"\n",
    "        category_cases.append(category_case)\n",
    "\n",
    "    category_cases_str = \",\\n\".join(category_cases)\n",
    "\n",
    "    query = f\"\"\"\n",
    "    SELECT\n",
    "        MAX(tour_operator) AS tour_operator,\n",
    "        tour_name,\n",
    "        itinerary_name,\n",
    "        MAX(visited_countries) AS visited_countries,\n",
    "        MAX(currency) AS currency,\n",
    "        ARRAY_AGG(DISTINCT cost) AS Costs,\n",
    "        MAX(duration) AS duration,\n",
    "        ARRAY_AGG(CAST(start_date AS STRING) ORDER BY start_date) AS start_dates,\n",
    "        MAX(Travel_Style) AS Travel_Style,\n",
    "        MAX(Service_Level) AS Service_Level,\n",
    "        MAX(Physical_Grading) AS Physical_Grading,\n",
    "        MAX(Merchandising) AS Merchandising,\n",
    "        MAX(Trip_Type) AS Trip_Type,\n",
    "        MAX(itinerary) AS itinerary,\n",
    "        MAX(url) AS url\n",
    "FROM (\n",
    "    SELECT\n",
    "        {all_columns_str}\n",
    "        LEAST(\n",
    "            {category_cases_str}\n",
    "        ) AS cost\n",
    "    FROM {PROJECT}.{DATASET}.{TABLE}\n",
    ") AS subquery\n",
    "    WHERE 1 = 1\n",
    "    \"\"\"\n",
    "\n",
    "    \n",
    "    # Iterate through the provided filter criteria and add them to the query\n",
    "    if user_travel_details.max_budget:\n",
    "        query += f\" AND cost <= {user_travel_details.max_budget}\"\n",
    "\n",
    "    if user_travel_details.departing_after:\n",
    "        query += f\" AND start_date >= '{user_travel_details.departing_after}'\"\n",
    "\n",
    "    if user_travel_details.departing_before:\n",
    "        query += f\" AND start_date <= '{user_travel_details.departing_before}'\"\n",
    "\n",
    "    query += f\"\"\" AND tour_name = '{found_itineraries[0]}'\n",
    "    GROUP BY\n",
    "        tour_name, itinerary_name;\"\"\"\n",
    "    \n",
    "    return query"
   ]
  },
  {
   "cell_type": "code",
   "execution_count": 11,
   "id": "051bc395",
   "metadata": {},
   "outputs": [],
   "source": [
    "def generate_sql_query(user_travel_details, found_itineraries):\n",
    "    \n",
    "    all_columns = list_all_column_names()\n",
    "    all_columns_str = \",\\n\".join(all_columns)\n",
    "    all_columns_str = all_columns_str + \",\"\n",
    "    \n",
    "    room_categories = [category for category in all_columns if \"Adult\" in category and \"Promotion Description\" not in category]\n",
    "    \n",
    "    category_cases = []\n",
    "\n",
    "    for category in room_categories:\n",
    "        category_case = f\"CASE WHEN {category} > 0 THEN {category} ELSE 1000000 END\"\n",
    "        category_cases.append(category_case)\n",
    "\n",
    "    category_cases_str = \",\\n\".join(category_cases)\n",
    "\n",
    "    query = f\"\"\"\n",
    "    SELECT\n",
    "        MAX(tour_operator) AS tour_operator,\n",
    "        tour_name,\n",
    "        itinerary_name,\n",
    "        MAX(visited_countries) AS visited_countries,\n",
    "        MAX(duration) AS duration,\n",
    "        MAX(Travel_Style) AS Travel_Style,\n",
    "        MAX(Service_Level) AS Service_Level,\n",
    "        MAX(Physical_Grading) AS Physical_Grading,\n",
    "        MAX(Merchandising) AS Merchandising,\n",
    "        MAX(Trip_Type) AS Trip_Type,\n",
    "        MAX(itinerary) AS itinerary,\n",
    "        MAX(url) AS url\n",
    "FROM (\n",
    "    SELECT\n",
    "        {all_columns_str}\n",
    "        LEAST(\n",
    "            {category_cases_str}\n",
    "        ) AS cost\n",
    "    FROM {PROJECT}.{DATASET}.{TABLE}\n",
    ") AS subquery\n",
    "    WHERE 1 = 1\n",
    "    \"\"\"\n",
    "    query += f\"\"\" AND tour_name = '{found_itineraries[0]}'\n",
    "    GROUP BY\n",
    "        tour_name, itinerary_name;\"\"\"\n",
    "    \n",
    "    return query"
   ]
  },
  {
   "cell_type": "code",
   "execution_count": 12,
   "id": "1a19a4d3",
   "metadata": {},
   "outputs": [],
   "source": [
    "query = generate_sql_query(user_travel_details, found_itineraries)\n",
    "\n",
    "loader = BigQueryLoader(query)\n",
    "\n",
    "docs = loader.load()"
   ]
  },
  {
   "cell_type": "code",
   "execution_count": 13,
   "id": "373a2529",
   "metadata": {},
   "outputs": [],
   "source": [
    "text_splitter = CharacterTextSplitter(chunk_size=500, chunk_overlap=50)\n",
    "texts = text_splitter.split_documents(docs)"
   ]
  },
  {
   "cell_type": "code",
   "execution_count": null,
   "id": "8e1cb8f6",
   "metadata": {},
   "outputs": [],
   "source": []
  },
  {
   "cell_type": "code",
   "execution_count": 14,
   "id": "e531e100",
   "metadata": {},
   "outputs": [],
   "source": [
    "docsearch = Pinecone.from_documents(texts, embeddings, index_name=\"chatbot\")"
   ]
  },
  {
   "cell_type": "code",
   "execution_count": 15,
   "id": "5f9282f5",
   "metadata": {},
   "outputs": [],
   "source": [
    "# completion llm\n",
    "llm = ChatOpenAI(\n",
    "    openai_api_key=api_key,\n",
    "    model_name='gpt-3.5-turbo',\n",
    "    temperature=0.0\n",
    ")\n",
    "\n",
    "qa = RetrievalQA.from_chain_type(\n",
    "    llm=llm,\n",
    "    chain_type=\"stuff\",\n",
    "    retriever=docsearch.as_retriever()\n",
    ")"
   ]
  },
  {
   "cell_type": "code",
   "execution_count": 16,
   "id": "9c9001b7",
   "metadata": {},
   "outputs": [],
   "source": [
    "query = \"how long will i be in the desert for?\""
   ]
  },
  {
   "cell_type": "code",
   "execution_count": 21,
   "id": "290ea462",
   "metadata": {},
   "outputs": [
    {
     "name": "stdout",
     "output_type": "stream",
     "text": [
      "You will be in the desert for one night. On Day 4 of the itinerary, you will embark on a camel ride into the dunes to watch the sunset. Afterward, you will head back to your hotel for a night of entertainment under the stars. The next morning, on Day 5, you will rise early to watch the sunrise before continuing with the rest of the itinerary.\n"
     ]
    }
   ],
   "source": [
    "answer = qa.run(query)\n",
    "print(answer)"
   ]
  },
  {
   "cell_type": "code",
   "execution_count": 18,
   "id": "d68bcc00",
   "metadata": {},
   "outputs": [
    {
     "data": {
      "text/plain": [
       "datetime.datetime(2023, 10, 27, 11, 58, 11, 327242)"
      ]
     },
     "execution_count": 18,
     "metadata": {},
     "output_type": "execute_result"
    }
   ],
   "source": [
    "then = datetime.datetime.now()\n",
    "then"
   ]
  },
  {
   "cell_type": "code",
   "execution_count": 19,
   "id": "ec93e4db",
   "metadata": {},
   "outputs": [
    {
     "data": {
      "text/plain": [
       "datetime.timedelta(seconds=5, microseconds=627443)"
      ]
     },
     "execution_count": 19,
     "metadata": {},
     "output_type": "execute_result"
    }
   ],
   "source": [
    "then - now"
   ]
  },
  {
   "cell_type": "code",
   "execution_count": 20,
   "id": "5371f93a",
   "metadata": {},
   "outputs": [],
   "source": [
    "# pinecone.delete_index(\"chatbot\")"
   ]
  },
  {
   "cell_type": "code",
   "execution_count": null,
   "id": "6384541a",
   "metadata": {},
   "outputs": [],
   "source": []
  }
 ],
 "metadata": {
  "kernelspec": {
   "display_name": "Python 3 (ipykernel)",
   "language": "python",
   "name": "python3"
  },
  "language_info": {
   "codemirror_mode": {
    "name": "ipython",
    "version": 3
   },
   "file_extension": ".py",
   "mimetype": "text/x-python",
   "name": "python",
   "nbconvert_exporter": "python",
   "pygments_lexer": "ipython3",
   "version": "3.10.6"
  },
  "toc": {
   "base_numbering": 1,
   "nav_menu": {},
   "number_sections": true,
   "sideBar": true,
   "skip_h1_title": false,
   "title_cell": "Table of Contents",
   "title_sidebar": "Contents",
   "toc_cell": false,
   "toc_position": {},
   "toc_section_display": true,
   "toc_window_display": false
  }
 },
 "nbformat": 4,
 "nbformat_minor": 5
}
