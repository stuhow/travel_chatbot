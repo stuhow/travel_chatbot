{
 "cells": [
  {
   "cell_type": "code",
   "execution_count": 43,
   "id": "57ea462e",
   "metadata": {},
   "outputs": [],
   "source": [
    "from langchain.chat_models import ChatOpenAI\n",
    "from langchain.document_loaders import WebBaseLoader\n",
    "from langchain.chains.summarize import load_summarize_chain\n",
    "from langchain.chains.mapreduce import MapReduceChain\n",
    "from langchain.text_splitter import CharacterTextSplitter\n",
    "from langchain.chains import ReduceDocumentsChain, MapReduceDocumentsChain\n",
    "from langchain.chains.llm import LLMChain\n",
    "from langchain.prompts import PromptTemplate\n",
    "from langchain.chains.combine_documents.stuff import StuffDocumentsChain\n",
    "from langchain.document_loaders import TextLoader\n"
   ]
  },
  {
   "cell_type": "code",
   "execution_count": 44,
   "id": "00338c59",
   "metadata": {},
   "outputs": [],
   "source": [
    "from dotenv import load_dotenv\n",
    "import os\n",
    "\n",
    "# Load the environment variables from the .env file\n",
    "load_dotenv()\n",
    "\n",
    "# Access environment variables\n",
    "api_key = os.getenv(\"OPENAI_KEY\")\n",
    "\n",
    "# loader = WebBaseLoader(\"https://www.gadventures.com/terms-conditions/booking-terms/\")\n",
    "itinerary1 = \"raw_data/itinerary_text/Highlights of Morocco .txt\"\n",
    "itinerary2 = \"raw_data/itinerary_text/Coastal Morocco: Waves & Market Stalls .txt\"\n",
    "\n",
    "llm = ChatOpenAI(temperature=0, model_name=\"gpt-3.5-turbo-16k\", openai_api_key=api_key)"
   ]
  },
  {
   "cell_type": "code",
   "execution_count": 45,
   "id": "89b0e91f",
   "metadata": {},
   "outputs": [],
   "source": [
    "# Map\n",
    "map_template = \"\"\"The following is a set of documents\n",
    "{docs}\n",
    "Based on this list of docs, please identify the main themes. Also include the itinerary name and this list of interests: Surfing.\n",
    "If one or more of the interests is not mentioned this include this in the answer.\n",
    "Helpful Answer:\"\"\"\n",
    "map_prompt = PromptTemplate.from_template(map_template)\n",
    "map_chain = LLMChain(llm=llm, prompt=map_prompt)"
   ]
  },
  {
   "cell_type": "code",
   "execution_count": 46,
   "id": "33c016af",
   "metadata": {},
   "outputs": [],
   "source": [
    "# Map\n",
    "map_template = \"\"\"The following is a set of documents\n",
    "{docs}\n",
    "Based on this list of docs, please identify the itinerary name, tour length, travel style, physical grading, an summary of the itinerary and this list of interests: Surfing.\n",
    "If one or more of the interests is not mentioned this include this in the answer.\n",
    "Helpful Answer:\"\"\"\n",
    "map_prompt = PromptTemplate.from_template(map_template)\n",
    "map_chain = LLMChain(llm=llm, prompt=map_prompt)"
   ]
  },
  {
   "cell_type": "code",
   "execution_count": null,
   "id": "781f700c",
   "metadata": {},
   "outputs": [],
   "source": [
    "####### here ##########"
   ]
  },
  {
   "cell_type": "code",
   "execution_count": 74,
   "id": "5c0a1237",
   "metadata": {},
   "outputs": [
    {
     "data": {
      "text/plain": [
       "PromptTemplate(input_variables=['docs'], output_parser=None, partial_variables={}, template='The following is a set of documents\\n{docs}\\nBased on this list of docs, please identify the itinerary name, tour length, travel style, physical grading, an summary of the itinerary and this list of interests: surfing.\\nIf one or more of the interests is not mentioned this include this in the answer.\\nHelpful Answer:', template_format='f-string', validate_template=True)"
      ]
     },
     "execution_count": 74,
     "metadata": {},
     "output_type": "execute_result"
    }
   ],
   "source": [
    "interests_list = ['surfing']\n",
    "interests = \", \".join(interests_list)\n",
    "\n",
    "intermediate_template = f\"\"\"Based on this list of docs, please identify the itinerary name, tour length, travel style, physical grading, an summary of the itinerary and this list of interests: {interests}.\n",
    "If one or more of the interests is not mentioned this include this in the answer.\n",
    "Helpful Answer:\"\"\"\n",
    "\n",
    "map_template = \"\"\"The following is a set of documents\n",
    "{docs}\n",
    "\"\"\"\n",
    "map_template += intermediate_template\n",
    "\n",
    "map_prompt = PromptTemplate.from_template(map_template)\n",
    "map_prompt"
   ]
  },
  {
   "cell_type": "code",
   "execution_count": null,
   "id": "5373d9ea",
   "metadata": {},
   "outputs": [],
   "source": [
    "##### here ######"
   ]
  },
  {
   "cell_type": "code",
   "execution_count": 48,
   "id": "adc694de",
   "metadata": {},
   "outputs": [],
   "source": [
    "map_chain = LLMChain(llm=llm, prompt=map_prompt())"
   ]
  },
  {
   "cell_type": "code",
   "execution_count": 49,
   "id": "b62c4a88",
   "metadata": {},
   "outputs": [],
   "source": [
    "# Reduce\n",
    "reduce_template = \"\"\"The following is set of summaries:\n",
    "{doc_summaries}\n",
    "Take these and distill it into a final, consolidated summary of the main themes. \n",
    "Helpful Answer:\"\"\"\n",
    "reduce_prompt = PromptTemplate.from_template(reduce_template)"
   ]
  },
  {
   "cell_type": "code",
   "execution_count": 50,
   "id": "4b599f09",
   "metadata": {},
   "outputs": [],
   "source": [
    "# Run chain\n",
    "reduce_chain = LLMChain(llm=llm, prompt=reduce_prompt)"
   ]
  },
  {
   "cell_type": "code",
   "execution_count": 51,
   "id": "5b10d3f4",
   "metadata": {},
   "outputs": [],
   "source": [
    "# Takes a list of documents, combines them into a single string, and passes this to an LLMChain\n",
    "combine_documents_chain = StuffDocumentsChain(\n",
    "    llm_chain=reduce_chain, document_variable_name=\"doc_summaries\"\n",
    ")\n"
   ]
  },
  {
   "cell_type": "code",
   "execution_count": 52,
   "id": "feb49e2f",
   "metadata": {},
   "outputs": [],
   "source": [
    "# Combines and iteravely reduces the mapped documents\n",
    "reduce_documents_chain = ReduceDocumentsChain(\n",
    "    # This is final chain that is called.\n",
    "    combine_documents_chain=combine_documents_chain,\n",
    "    # If documents exceed context for `StuffDocumentsChain`\n",
    "    collapse_documents_chain=combine_documents_chain,\n",
    "    # The maximum number of tokens to group documents into.\n",
    "    token_max=4000,\n",
    ")"
   ]
  },
  {
   "cell_type": "code",
   "execution_count": 53,
   "id": "690f5bb9",
   "metadata": {},
   "outputs": [],
   "source": [
    "# Combining documents by mapping a chain over them, then combining results\n",
    "map_reduce_chain = MapReduceDocumentsChain(\n",
    "    # Map chain\n",
    "    llm_chain=map_chain,\n",
    "    # Reduce chain\n",
    "    reduce_documents_chain=reduce_documents_chain, #_documents\n",
    "    # The variable name in the llm_chain to put the documents in\n",
    "    document_variable_name=\"docs\",\n",
    "    # Return the results of the map steps in the output\n",
    "    return_intermediate_steps=False,\n",
    ")\n",
    "\n"
   ]
  },
  {
   "cell_type": "code",
   "execution_count": 54,
   "id": "7f1b78b5",
   "metadata": {},
   "outputs": [],
   "source": [
    "loader = TextLoader(itinerary1)\n",
    "docs = loader.load()\n",
    "itinerary_1_summary = map_reduce_chain.run(docs)"
   ]
  },
  {
   "cell_type": "code",
   "execution_count": 55,
   "id": "7c19b48b",
   "metadata": {},
   "outputs": [],
   "source": [
    "loader = TextLoader(itinerary2)\n",
    "docs = loader.load()\n",
    "itinerary_2_summary = map_reduce_chain.run(docs)"
   ]
  },
  {
   "cell_type": "code",
   "execution_count": 56,
   "id": "a6140734",
   "metadata": {},
   "outputs": [],
   "source": [
    "from langchain.docstore.document import Document\n",
    "\n",
    "doc1 = Document(page_content=itinerary_1_summary)\n",
    "doc2 = Document(page_content=itinerary_2_summary)"
   ]
  },
  {
   "cell_type": "code",
   "execution_count": 57,
   "id": "318152ce",
   "metadata": {},
   "outputs": [],
   "source": [
    "text_vars = [doc1, doc2] "
   ]
  },
  {
   "cell_type": "code",
   "execution_count": 58,
   "id": "196afefc",
   "metadata": {},
   "outputs": [],
   "source": [
    "# Reduce\n",
    "reduce_template = \"\"\"\n",
    "You are an AI travel agent speaking to a user. The following is set of summaries that fits the users basic travel needs:\n",
    "{doc_summaries}\n",
    "Take these and rank them based on the following user interests: Surfing.\n",
    "Return the origional summary along with a reason for ranking each itinerary based on their interests.\n",
    "Refer to the user as - you.\n",
    "Helpful Answer:\"\"\"\n",
    "reduce_prompt = PromptTemplate.from_template(reduce_template)"
   ]
  },
  {
   "cell_type": "code",
   "execution_count": 59,
   "id": "93022008",
   "metadata": {},
   "outputs": [],
   "source": [
    "reduce_chain = LLMChain(llm=llm, prompt=reduce_prompt)"
   ]
  },
  {
   "cell_type": "code",
   "execution_count": 60,
   "id": "99e62f02",
   "metadata": {},
   "outputs": [],
   "source": [
    "combine_chain = StuffDocumentsChain(llm_chain=reduce_chain,\n",
    "                                    document_variable_name=\"doc_summaries\")"
   ]
  },
  {
   "cell_type": "code",
   "execution_count": 61,
   "id": "51f9ae29",
   "metadata": {},
   "outputs": [],
   "source": [
    "reduce_chain = ReduceDocumentsChain(\n",
    "    combine_documents_chain=combine_chain\n",
    ")"
   ]
  },
  {
   "cell_type": "code",
   "execution_count": 62,
   "id": "56ad5591",
   "metadata": {},
   "outputs": [],
   "source": [
    "reduced = reduce_chain.run(text_vars)"
   ]
  },
  {
   "cell_type": "code",
   "execution_count": 63,
   "id": "dd15e7b0",
   "metadata": {},
   "outputs": [
    {
     "name": "stdout",
     "output_type": "stream",
     "text": [
      "The 15-day Highlights of Morocco tour offers a classic travel experience at a great price. Suitable for most fitness levels, the itinerary includes visits to Tangier, Chefchaouen, Fès, Marrakech, the Sahara Desert, and Essaouira. Guided tours of medinas, ancient ruins, camel rides, hikes in the Atlas Mountains, and free time for exploration and relaxation are included. Surfing is not mentioned as an interest.\n"
     ]
    }
   ],
   "source": [
    "print(itinerary_1_summary)"
   ]
  },
  {
   "cell_type": "code",
   "execution_count": 64,
   "id": "b10f9a0e",
   "metadata": {},
   "outputs": [
    {
     "name": "stdout",
     "output_type": "stream",
     "text": [
      "Coastal Morocco: Waves & Market Stalls is a 5-day tour designed for young, budget-minded travelers. The itinerary includes light walking and hiking suitable for most fitness levels. The tour starts in Marrakech and offers opportunities to explore the city and get to know fellow travelers. Highlights include visiting the market town of Taroudant, the fishing village of Taghazout for surfing, and the city of Essaouira for beach activities. The tour concludes with a return to Marrakech.\n"
     ]
    }
   ],
   "source": [
    "print(itinerary_2_summary)"
   ]
  },
  {
   "cell_type": "code",
   "execution_count": 25,
   "id": "6113ede6",
   "metadata": {},
   "outputs": [
    {
     "name": "stdout",
     "output_type": "stream",
     "text": [
      "Based on your interest in surfing, here is the ranking of the itineraries:\n",
      "\n",
      "1. Coastal Morocco: Waves & Market Stalls - This itinerary is ranked first because it specifically focuses on surfing. It offers young and budget-minded travelers the opportunity to explore the coastal regions of Morocco while engaging in surfing activities. The itinerary is designed for those interested in catching waves and includes light physical activities suitable for most fitness levels.\n",
      "\n",
      "2. Highlights of Morocco - This itinerary is ranked second because although it does not specifically mention surfing as an activity, it offers a classic travel experience with access to culture and memorable experiences. While it may not cater directly to your interest in surfing, it does provide comfortable accommodations and a mix of public and private transport for a well-rounded travel experience.\n",
      "\n",
      "Reason for ranking:\n",
      "The Coastal Morocco itinerary is ranked first because it explicitly mentions surfing as a focus and offers activities suitable for surfers. On the other hand, the Highlights of Morocco itinerary does not mention surfing as an interest, making it less suitable for someone specifically looking for a surfing experience.\n"
     ]
    }
   ],
   "source": [
    "print(reduced)"
   ]
  },
  {
   "cell_type": "code",
   "execution_count": null,
   "id": "cce2bfee",
   "metadata": {},
   "outputs": [],
   "source": []
  }
 ],
 "metadata": {
  "kernelspec": {
   "display_name": "Python 3 (ipykernel)",
   "language": "python",
   "name": "python3"
  },
  "language_info": {
   "codemirror_mode": {
    "name": "ipython",
    "version": 3
   },
   "file_extension": ".py",
   "mimetype": "text/x-python",
   "name": "python",
   "nbconvert_exporter": "python",
   "pygments_lexer": "ipython3",
   "version": "3.10.6"
  },
  "toc": {
   "base_numbering": 1,
   "nav_menu": {},
   "number_sections": true,
   "sideBar": true,
   "skip_h1_title": false,
   "title_cell": "Table of Contents",
   "title_sidebar": "Contents",
   "toc_cell": false,
   "toc_position": {},
   "toc_section_display": true,
   "toc_window_display": false
  }
 },
 "nbformat": 4,
 "nbformat_minor": 5
}
