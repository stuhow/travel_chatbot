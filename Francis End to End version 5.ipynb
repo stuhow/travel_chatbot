{
 "cells": [
  {
   "cell_type": "code",
   "execution_count": 1,
   "id": "5a74b426-5d2c-476f-a538-24260be719bb",
   "metadata": {},
   "outputs": [],
   "source": [
    "## Details QA"
   ]
  },
  {
   "cell_type": "code",
   "execution_count": 2,
   "id": "7b96ce50-8a39-481f-b724-52e92f462111",
   "metadata": {},
   "outputs": [],
   "source": [
    "from langchain.text_splitter import CharacterTextSplitter\n",
    "from langchain.llms import OpenAI\n",
    "from langchain.embeddings.openai import OpenAIEmbeddings\n",
    "from langchain.chains import RetrievalQA\n",
    "from langchain.vectorstores import Chroma\n",
    "from langchain.chains import create_tagging_chain_pydantic\n",
    "from langchain.document_loaders import TextLoader\n",
    "from langchain.vectorstores import FAISS\n",
    "from langchain.agents.agent_toolkits import create_pandas_dataframe_agent\n",
    "from langchain.agents.agent_types import AgentType\n",
    "from langchain.chains.llm import LLMChain\n",
    "from langchain.prompts import PromptTemplate\n",
    "from langchain.chains.combine_documents.stuff import StuffDocumentsChain\n",
    "from langchain.document_loaders import TextLoader\n",
    "from langchain.chains import ReduceDocumentsChain, MapReduceDocumentsChain\n",
    "from langchain.docstore.document import Document\n",
    "\n",
    "import pandas as pd"
   ]
  },
  {
   "cell_type": "code",
   "execution_count": 3,
   "id": "36bbe172-3ce5-4ae1-b9d9-d568b1560a0c",
   "metadata": {},
   "outputs": [],
   "source": [
    "__import__('pysqlite3')\n",
    "import sys\n",
    "sys.modules['sqlite3'] = sys.modules.pop('pysqlite3')"
   ]
  },
  {
   "cell_type": "code",
   "execution_count": 4,
   "id": "6a00abee-9260-49d8-a2e8-d08ee7aac156",
   "metadata": {},
   "outputs": [],
   "source": [
    "# import re\n",
    "from dotenv import load_dotenv\n",
    "import os\n",
    "\n",
    "# Load the environment variables from the .env file\n",
    "load_dotenv()\n",
    "\n",
    "# Access environment variables\n",
    "api_key = os.getenv(\"OPENAI_KEY\")"
   ]
  },
  {
   "cell_type": "code",
   "execution_count": 5,
   "id": "b2e0a59c-87f5-4808-b9c1-f6b430cad781",
   "metadata": {},
   "outputs": [],
   "source": [
    "from langchain.chat_models import ChatOpenAI\n",
    "\n",
    "llm = ChatOpenAI(temperature=0, model=\"gpt-3.5-turbo\", openai_api_key=api_key)"
   ]
  },
  {
   "cell_type": "code",
   "execution_count": 6,
   "id": "ed0aa117",
   "metadata": {},
   "outputs": [],
   "source": [
    "df = pd.read_csv(\"raw_data/one_day_test.csv\")\n",
    "all_available_countries = df['visited_countries'].unique()"
   ]
  },
  {
   "cell_type": "markdown",
   "id": "7ff3a15c-bd79-4097-843a-cd1172ea2853",
   "metadata": {},
   "source": [
    "# stage analysis"
   ]
  },
  {
   "cell_type": "markdown",
   "id": "587f994d",
   "metadata": {},
   "source": [
    "## interest extraction and sorting"
   ]
  },
  {
   "cell_type": "code",
   "execution_count": 7,
   "id": "61bdd330",
   "metadata": {},
   "outputs": [],
   "source": [
    "from typing import Optional\n",
    "from pydantic import BaseModel, Field\n",
    "\n",
    "class user_interests(BaseModel):\n",
    "    interest: Optional[str] = Field(\n",
    "        None,\n",
    "        description=\"Any experiances, interests, places or activities the user has expressed an interest in. Leave blank if none are mentioned\",\n",
    "    )"
   ]
  },
  {
   "cell_type": "code",
   "execution_count": 8,
   "id": "fd029553",
   "metadata": {},
   "outputs": [],
   "source": [
    "# summarise the found itineraries using map-reduce and then reduce the resulting summaries to rank \n",
    "# how well they relate to the user interests"
   ]
  },
  {
   "cell_type": "code",
   "execution_count": 9,
   "id": "8454f403",
   "metadata": {},
   "outputs": [],
   "source": [
    "# map prompt\n",
    "def map_prompt(interests):\n",
    "    interests = \", \".join(interests)\n",
    "\n",
    "    intermediate_template = f\"\"\"Based on this list of docs, please identify the itinerary name, tour length, travel style, physical grading, an summary of the itinerary and this list of interests: {interests}.\n",
    "    If one or more of the interests is not mentioned this include this in the answer.\n",
    "    Helpful Answer:\"\"\"\n",
    "\n",
    "    map_template = \"\"\"The following is a set of documents\n",
    "    {docs}\n",
    "    \"\"\"\n",
    "    map_template += intermediate_template\n",
    "\n",
    "    map_prompt = PromptTemplate.from_template(map_template)\n",
    "    return map_prompt\n",
    "\n",
    "# first reduce prompt\n",
    "def first_reduce_prompt():\n",
    "    # Reduce\n",
    "    reduce_template = \"\"\"The following is set of summaries:\n",
    "    {doc_summaries}\n",
    "    Take these and distill it into a final, consolidated summary of the main themes. \n",
    "    Helpful Answer:\"\"\"\n",
    "    reduce_prompt = PromptTemplate.from_template(reduce_template)\n",
    "    return reduce_prompt\n",
    "\n",
    "# second reduce prompt\n",
    "def second_reduce_prompt(interests):\n",
    "    interests = \", \".join(interests)\n",
    "\n",
    "    intermediate_template = f\"\"\"Take these and rank them based on the following user interests: {interests}.\n",
    "    Return the origional summary along with a reason for ranking each itinerary based on their interests.\n",
    "    Refer to the user as - you.\n",
    "    Helpful Answer:\"\"\"\n",
    "    \n",
    "    reduce_template = \"\"\"\n",
    "    You are an AI travel agent speaking to a user. The following is set of summaries that fits the users basic travel needs:\n",
    "    {doc_summaries}\n",
    "    \"\"\"\n",
    "    reduce_template += intermediate_template\n",
    "    \n",
    "    reduce_prompt = PromptTemplate.from_template(reduce_template)\n",
    "    return reduce_prompt"
   ]
  },
  {
   "cell_type": "code",
   "execution_count": 10,
   "id": "99bb1e97",
   "metadata": {},
   "outputs": [],
   "source": [
    "def solution_presentation_prompt(found_itineraries, interests):\n",
    "    # Map\n",
    "    map_chain = LLMChain(llm=llm, prompt=map_prompt(interests))\n",
    "\n",
    "    # Run chain\n",
    "    reduce_chain = LLMChain(llm=llm, prompt=first_reduce_prompt())\n",
    "\n",
    "    # Takes a list of documents, combines them into a single string, and passes this to an LLMChain\n",
    "    combine_documents_chain = StuffDocumentsChain(\n",
    "        llm_chain=reduce_chain, document_variable_name=\"doc_summaries\"\n",
    "    )\n",
    "\n",
    "    # Combines and iteravely reduces the mapped documents\n",
    "    reduce_documents_chain = ReduceDocumentsChain(\n",
    "        # This is final chain that is called.\n",
    "        combine_documents_chain=combine_documents_chain,\n",
    "        # If documents exceed context for `StuffDocumentsChain`\n",
    "        collapse_documents_chain=combine_documents_chain,\n",
    "        # The maximum number of tokens to group documents into.\n",
    "        token_max=4000,\n",
    "    )\n",
    "\n",
    "    # Combining documents by mapping a chain over them, then combining results\n",
    "    map_reduce_chain = MapReduceDocumentsChain(\n",
    "        # Map chain\n",
    "        llm_chain=map_chain,\n",
    "        # Reduce chain\n",
    "        reduce_documents_chain=reduce_documents_chain, #_documents\n",
    "        # The variable name in the llm_chain to put the documents in\n",
    "        document_variable_name=\"docs\",\n",
    "        # Return the results of the map steps in the output\n",
    "        return_intermediate_steps=False,\n",
    "    )\n",
    "\n",
    "    # list initial itinerary summaries\n",
    "    text_vars = []\n",
    "\n",
    "    for itinerary in found_itineraries[:]:\n",
    "        itinerary_path = f\"raw_data/itinerary_text/{itinerary}.txt\"\n",
    "        loader = TextLoader(itinerary_path)\n",
    "        docs = loader.load()\n",
    "        itinerary_summary = map_reduce_chain.run(docs)\n",
    "        itinerary_document = Document(page_content=itinerary_summary)\n",
    "        text_vars.append(itinerary_document)\n",
    "\n",
    "    # Reduce\n",
    "    # final Reduce chain\n",
    "    reduce_chain = LLMChain(llm=llm, prompt=second_reduce_prompt(interests))\n",
    "\n",
    "    # Takes a list of documents, combines them into a single string, and passes this to an LLMChain\n",
    "    combine_documents_chain = StuffDocumentsChain(\n",
    "        llm_chain=reduce_chain, document_variable_name=\"doc_summaries\"\n",
    "    )\n",
    "\n",
    "    # Combines and iteravely reduces the mapped documents\n",
    "    reduce_documents_chain = ReduceDocumentsChain(\n",
    "        # This is final chain that is called.\n",
    "        combine_documents_chain=combine_documents_chain,\n",
    "        # If documents exceed context for `StuffDocumentsChain`\n",
    "        collapse_documents_chain=combine_documents_chain,\n",
    "        # The maximum number of tokens to group documents into.\n",
    "        token_max=4000,\n",
    "    )\n",
    "\n",
    "\n",
    "    reduced = reduce_documents_chain.run(text_vars)\n",
    "    \n",
    "    conversation_stage = f\"\"\"You are at the solution presentation stage of you conversation.\n",
    "    You have gathered the basic information you need from the client along with their interests. \n",
    "    Using this information you have found and ranked the itineraries that best fit the users needs.\n",
    "    Present the solution, found between the two sets of == below, to the client.\n",
    "    ==\n",
    "    {reduced}\n",
    "    ==\n",
    "    \"\"\"\n",
    "    \n",
    "    return conversation_stage\n",
    "    "
   ]
  },
  {
   "cell_type": "markdown",
   "id": "9688c348",
   "metadata": {},
   "source": [
    "## final stage analyser"
   ]
  },
  {
   "cell_type": "code",
   "execution_count": 11,
   "id": "ff197d79-e492-4555-8613-da68ab2e9b47",
   "metadata": {},
   "outputs": [],
   "source": [
    "class TravelDetails(BaseModel):\n",
    "    introduction: Optional[bool] = Field(\n",
    "        False,\n",
    "        description=\"Has francis introducted himself and asked if the user is interested in a group tour.\",\n",
    "    )\n",
    "    qualification: Optional[str] = Field(\n",
    "        ...,\n",
    "        description=\"Did the user confirm they are looking for a group tour or answer positivley when asked. If the user asks about a trip assume the answer is yes\",\n",
    "        enum=[\"Yes\", \"No\", \"Unsure\"]\n",
    "    )\n",
    "    country: Optional[str] = Field(\n",
    "        \"\",\n",
    "        description=\"This is the name of the country the user is wanting to visit. If they name a place within a country always return the country\",\n",
    "        enum=[\"Cambodia\", \"Vietnam\", \"Morocco\", \"USA\"]\n",
    "    )\n",
    "    \n",
    "    departing_after: Optional[str] = Field(\n",
    "        \"\",\n",
    "        description=\"This is the first date from which the user can depart. If the user gives a month assume this is the first of the month. If not year if given return 2023. In the format '%Y-%m-%d'\",\n",
    "    )\n",
    "    departing_before: Optional[str] = Field(\n",
    "        \"\",\n",
    "        description=\"This is the last date from which the user can depart. If the user gives a month assume this is the last day of the month. If not year if given return 2023. In the format '%Y-%m-%d'\",\n",
    "    )\n",
    "    max_budget: Optional[int] = Field(\n",
    "        0,\n",
    "        description=\"This is the maximun amount of money the user is looking to spend on their trip.\",\n",
    "    )\n",
    "    max_duration: Optional[int] = Field(\n",
    "        None,\n",
    "        description=\"This is the maximum duration of their trip.\"\n",
    "    )\n",
    "    min_duration: Optional[int] = Field(\n",
    "        None,\n",
    "        description=\"This is the minimum duration of their trip.\",\n",
    "    )\n",
    "        \n",
    "        \n",
    "    "
   ]
  },
  {
   "cell_type": "code",
   "execution_count": 12,
   "id": "69de78ba-1c58-433f-864c-03653cf31487",
   "metadata": {},
   "outputs": [],
   "source": [
    "ask_for_dict = {\"country\":\"what country are you looking to travel to?\",\n",
    "                \"max_budget\":\"how much are you looking to spend?\",\n",
    "                \"departing_after\":\"when are you looking to travel?\",\n",
    "                \"departing_before\":\"when are you looking to travel?\",\n",
    "                \"max_duration\":\"how long do you want your trip to be?\",\n",
    "                \"min_duration\":\"how long do you want your trip to be?\"\n",
    "               }"
   ]
  },
  {
   "cell_type": "code",
   "execution_count": 13,
   "id": "d877fa78-435b-4627-a4f4-bbc916b006c7",
   "metadata": {},
   "outputs": [],
   "source": [
    "#check what is empty\n",
    "# ask for country and then for a budget\n",
    "def check_what_is_empty(user_travel_details):\n",
    "    ask_for = []\n",
    "    # Check if fields are empty\n",
    "    for field, value in user_travel_details.dict().items():\n",
    "        if value in [None, \"\", 0]:  # You can add other 'empty' conditions as per your requirements\n",
    "            ask_for.append(ask_for_dict[field])\n",
    "    \n",
    "    if 'what country are you looking to travel to?' in ask_for:\n",
    "        ask_for.remove('what country are you looking to travel to?')\n",
    "        ask_for.insert(0, 'what country are you looking to travel to?')\n",
    "    elif 'how much are you looking to spend?' in ask_for:\n",
    "        ask_for.remove('how much are you looking to spend?')\n",
    "        ask_for.insert(0, 'how much are you looking to spend?')\n",
    "\n",
    "    \n",
    "    return ask_for"
   ]
  },
  {
   "cell_type": "code",
   "execution_count": 14,
   "id": "2b4a599e-ebe3-4c75-a65f-adbb83cd4862",
   "metadata": {},
   "outputs": [],
   "source": [
    "## checking the response and adding it\n",
    "def add_non_empty_details(current_details: TravelDetails, new_details: TravelDetails):\n",
    "    non_empty_details = {k: v for k, v in new_details.dict().items() if v not in [False, None, \"\"]}\n",
    "    updated_details = current_details.copy(update=non_empty_details)\n",
    "    return updated_details"
   ]
  },
  {
   "cell_type": "code",
   "execution_count": 15,
   "id": "88a27b37",
   "metadata": {},
   "outputs": [],
   "source": [
    "# Define a custom function to find the first non-null value in columns 9 to the end of the df \n",
    "# used for finding the costs\n",
    "def find_first_non_null(row):\n",
    "    for value in row[12:]:  # Slice from the 9th column to the end\n",
    "        if not pd.isna(value):\n",
    "            return value\n",
    "    return None"
   ]
  },
  {
   "cell_type": "code",
   "execution_count": 16,
   "id": "a717df4f-854e-449e-aaec-0989caef0f6d",
   "metadata": {},
   "outputs": [],
   "source": [
    "def get_filtered_df(df, user_travel_details):\n",
    "    trip_details_dict = user_travel_details.dict()\n",
    "    filled_out_dictionary = {k: v for k, v in user_travel_details.dict().items() if v not in [False, None, \"\",0]}\n",
    "\n",
    "    # convert dates to datetime format\n",
    "    df['duration'] = df['duration'].str.replace(' days', '').astype(int)\n",
    "    df['start_date'] = pd.to_datetime(df['start_date'], format='%Y-%m-%d')\n",
    "    \n",
    "    # Apply the custom function to each row to find cost\n",
    "    df['first_non_null'] = df.apply(find_first_non_null, axis=1)\n",
    "\n",
    "    # Filtering the DataFrame\n",
    "    filtered_df = df.copy()  # Make a copy of the original DataFrame to keep it intact\n",
    "    \n",
    "    # Iterate through the list of potential inputs\n",
    "    for input_column in filled_out_dictionary.keys():\n",
    "        if input_column == 'country':\n",
    "            filtered_df = filtered_df[filtered_df['visited_countries'] == trip_details_dict[\"country\"]]\n",
    "        elif input_column == 'max_budget':\n",
    "            filtered_df = filtered_df[filtered_df['first_non_null'] <= trip_details_dict[\"max_budget\"]]\n",
    "        elif input_column == 'min_budget':\n",
    "            filtered_df = filtered_df[filtered_df['first_non_null'] >= trip_details_dict[\"min_budget\"]]\n",
    "        elif input_column == 'departing_after':\n",
    "            filtered_df = filtered_df[filtered_df['start_date'] >= trip_details_dict[\"departing_after\"]]\n",
    "        elif input_column == 'departing_before':\n",
    "            filtered_df = filtered_df[filtered_df['start_date'] <= trip_details_dict[\"departing_before\"]]\n",
    "        elif input_column == 'max_duration':\n",
    "            filtered_df = filtered_df[filtered_df['duration'] <= trip_details_dict[\"max_duration\"]]\n",
    "        elif input_column == 'min_duration':\n",
    "            filtered_df = filtered_df[filtered_df['duration'] >= trip_details_dict[\"min_duration\"]]\n",
    "\n",
    "    return filtered_df"
   ]
  },
  {
   "cell_type": "code",
   "execution_count": 17,
   "id": "4b9b11f3",
   "metadata": {},
   "outputs": [],
   "source": [
    "# helper function that can be used in the info gathering prompt\n",
    "# still being worked on to present a more conversational approach to gathering info\n",
    "# it can also be used to guide the user on things like budget\n",
    "def prompt_amendments(ask_for, filtered_df, found_itineraries):\n",
    "    if ask_for[0] == 'how much are you looking to spend?':\n",
    "        min_budget = filtered_df['first_non_null'].min()\n",
    "        mean_budget = filtered_df['first_non_null'].mean()\n",
    "        return f'In your answer tell the user there are {len(found_itineraries)} itineraries that fit their needs.\\\n",
    "        The minimim trip cost is {min_budget} and the average tripcost is {mean_budget} to their destination.'\n",
    "    if ask_for[0] == 'when are you looking to travel?':\n",
    "         print('The question is about when to travel')\n",
    "    if ask_for[0] == 'how long do you want your trip to be?':\n",
    "         print('The question is about the duration')\n",
    "    if ask_for[0] == 'what country are you looking to travel to?':\n",
    "         print('The question is about where they want to travel to')\n",
    "    \n",
    "    "
   ]
  },
  {
   "cell_type": "code",
   "execution_count": null,
   "id": "1f5102c5",
   "metadata": {},
   "outputs": [],
   "source": []
  },
  {
   "cell_type": "code",
   "execution_count": 18,
   "id": "bdb5f0b2",
   "metadata": {},
   "outputs": [],
   "source": [
    "# introduction prompt for francis to introduce himself\n",
    "def introduction_prompt():\n",
    "    conversation_stage = \"\"\"Start the conversation by introducing yourself and what you do. Ask the user if they are interested in a group tour.\n",
    "        Be polite and respectful while keeping the tone of the conversation professional.\"\"\"  \n",
    "    return conversation_stage\n",
    "\n",
    "\n",
    "# Qualification stage prompts to make sure the user is interested in a group tour\n",
    "def qualifiaction_prompt(new_user_travel_details):\n",
    "    \n",
    "    conversation_stage = None\n",
    "    if new_user_travel_details.dict()['qualification'] == 'No':\n",
    "        conversation_stage = \"\"\"The user is not interested in a group tour so politely end the conversation. \n",
    "        Ask them to come back if they ever are\"\"\"\n",
    "    elif new_user_travel_details.dict()['qualification'] == 'Unsure':\n",
    "        conversation_stage = \"\"\"Explain what a group tour is. \n",
    "        End your response by asking the user if they are interested in a group tour?\"\"\"\n",
    "    return conversation_stage\n",
    "\n",
    "# Info gathering stage when there are still trip details to ask for\n",
    "def info_gathering_prompt(ask_for, found_itineraries, filtered_df):\n",
    "    if len(ask_for) == 6:\n",
    "        PROMPT_TEMPLATE = f\"\"\"You are currently in the detail gathering phase of the conversation and are trying to get detail of the users trip to help find the the perfect trip. \n",
    "            If the user has just asked a follow up question in the conversation history, answer it.\n",
    "            Once you have answered their question ALWAYS ask the user the following question to gather the required information.\n",
    "            Follow up question:\n",
    "            {ask_for[0]}\"\"\"\n",
    "    else:\n",
    "        PROMPT_TEMPLATE = f\"\"\"You are currently in the trip detail phase of the conversation and are trying to get detail of the users trip to help find the the perfect trip. \n",
    "            If the user has just asked a follow up question in the conversation history, answer it.\n",
    "            Once you have answered their question ALWAYS ask the user the following question to gather the required information.\n",
    "            Follow up question:\n",
    "            {ask_for[0]}\n",
    "            \"\"\"\n",
    "        # {prompt_amendments(ask_for, filtered_df, found_itineraries)} \n",
    "    return PROMPT_TEMPLATE\n",
    "\n",
    "# Info gathering stage when there are still trip details to ask for\n",
    "def interest_gathering_prompt(found_itineraries, new_user_travel_details, list_of_interests):\n",
    "    if len(list_of_interests) == 0:\n",
    "        PROMPT_TEMPLATE = f\"\"\"You have gathered all the basic information you need from the user: \n",
    "        - destination: {user_travel_details.dict()['country']}\n",
    "        - budget\n",
    "        - when they're looking to travel\n",
    "        - How long they want to travel for\n",
    "        You now need to learn more about the users interests to recommend to most suitable trip.\n",
    "        Ask questions around why they want to visit {user_travel_details.dict()['country']} \n",
    "        \"\"\"\n",
    "    else:\n",
    "        PROMPT_TEMPLATE = f\"\"\"You have gathered all the basic information you need from the user: \n",
    "        - destination: {user_travel_details.dict()['country']}\n",
    "        - budget\n",
    "        - when they're looking to travel\n",
    "        - How long they want to travel for\n",
    "        The following itineraries are available: {found_itineraries}\n",
    "        You now need to learn more about the users interests to recommend to most suitable trip.\n",
    "        This is a list of places & interests they have already expressed an interest in: {list_of_interests}\n",
    "        Ask questions around why they choose the destination \n",
    "        \"\"\"\n",
    "    return PROMPT_TEMPLATE\n",
    "    \n",
    "# still in the info gathering stage but there are no available itineraries based on preferences\n",
    "def no_results_prompt(user_travel_details, new_user_travel_details):\n",
    "    old_keys = new_user_travel_details.dict().keys()\n",
    "    new_keys = new_user_travel_details.dict().keys()\n",
    "    last_question = [x for x in new_keys if x not in old_keys]\n",
    "    conversation_stage = f\"\"\"\n",
    "        The user has provided details of their trip but unfortunatley there are no itineraries that match their needs. \n",
    "        Explain this to the user and higlight they need to look at alternate: {\", \".join(last_question)}\"\"\"\n",
    "    return conversation_stage\n",
    "\n",
    "# All the details are gathered and we're presenting a solution, list of available itineraries\n",
    "# def solution_presentation_prompt(found_itineraries, df):\n",
    "#     summary = \"\"\n",
    "#     for itinerary in found_itineraries:\n",
    "#         filtered_df = df[df['tour_name'] == itinerary]\n",
    "#         summary += f'Itinerary: {filtered_df[\"tour_name\"].values[0]}\\n'\n",
    "#         summary += f'Tour description: {filtered_df[\"tour_description\"].values[0]}\\n'\n",
    "#         summary += f'Link: {filtered_df[\"url\"].values[0]}\\n\\n'\n",
    "    \n",
    "#     conversation_stage = f\"\"\"Thank the user for providing the details. \n",
    "#         Based on all the users needs here is the list of itineraries and a summary that fit their needs:\\n{summary} \n",
    "#         Present the itinerary or itineraries to the user. \n",
    "#         \"\"\"\n",
    "#     # text summarisation needed for the above\n",
    "#     return conversation_stage\n",
    "\n",
    "# follow up questions prompt about the trip and the company!\n",
    "# a prompt to answer questions about the tours once solutions have been presented\n",
    "\n",
    "\n",
    "\n",
    "\n",
    "\n",
    "\n"
   ]
  },
  {
   "cell_type": "code",
   "execution_count": 19,
   "id": "57b23452-7d55-4a00-8434-224cb58ca164",
   "metadata": {},
   "outputs": [],
   "source": [
    "def check_conversation_stage(conversation_history_list, user_travel_details, user_interests, list_of_interests, interest_asked):\n",
    "\n",
    "    # start conversation\n",
    "#     if user_travel_details.dict()['introduction'] == False:\n",
    "#         conversation_stage = introduction_prompt()                        \n",
    "#         return conversation_stage, user_travel_details\n",
    "    \n",
    "    conversation_history = \"\\n\".join(conversation_history_list)\n",
    "\n",
    "    # extract travel details chain\n",
    "    chain = create_tagging_chain_pydantic(TravelDetails, llm)\n",
    "    res = chain.run(conversation_history)\n",
    "    new_user_travel_details = add_non_empty_details(user_travel_details, res)\n",
    "    \n",
    "    # start conversation\n",
    "    if new_user_travel_details.dict()['introduction'] == False:\n",
    "        conversation_stage = introduction_prompt()                        \n",
    "        return conversation_stage, user_travel_details\n",
    "    \n",
    "    # check what needs to be asked\n",
    "    ask_for = check_what_is_empty(new_user_travel_details)\n",
    "    \n",
    "    # extract intrests chain\n",
    "    chain = create_tagging_chain_pydantic(user_interests, llm)\n",
    "    interest = chain.run(conversation_history_list[-1])\n",
    "    if interest.dict()['interest'] != None:\n",
    "        list_of_interests.append(interest.dict()['interest'])\n",
    "        \n",
    "    # and remove country from the list\n",
    "    if new_user_travel_details.dict()['country'] in list_of_interests:\n",
    "        list_of_interests.remove(new_user_travel_details.dict()['country'])\n",
    "\n",
    "    #load df\n",
    "    df = pd.read_csv(\"raw_data/one_day_test.csv\")\n",
    "    \n",
    "    # Filter df and gather available itineraries\n",
    "    filtered_df = get_filtered_df(df, new_user_travel_details)\n",
    "    found_itineraries = filtered_df['tour_name'].unique()\n",
    "    \n",
    "    \n",
    "    # if there are no itineraries that fit the users needs we need to tell them\n",
    "    if len(filtered_df) == 0:\n",
    "        conversation_stage = no_results_prompt(user_travel_details, new_user_travel_details)                        \n",
    "        return conversation_stage, new_user_travel_details\n",
    "\n",
    "    # if we have all the validated details we need to ask for a clients interests\n",
    "    elif len(ask_for) == 0 and len(found_itineraries) > 0 and len(interest_asked) == 0:\n",
    "        print(\"All details gathered! Ask about interests...\")\n",
    "        conversation_stage = interest_gathering_prompt(found_itineraries, new_user_travel_details, list_of_interests)\n",
    "        interest_asked.append(1)\n",
    "        return conversation_stage, new_user_travel_details\n",
    "\n",
    "    # if we have all the validated details we need to present the list of itineraries rank by relevance to interests\n",
    "    elif len(ask_for) == 0 and len(found_itineraries) > 0:\n",
    "        print(\"All details gathered! summarise the itineraries...\")\n",
    "        # conversation_stage = solution_presentation_prompt(found_itineraries, df) #  \n",
    "        conversation_stage = solution_presentation_prompt(found_itineraries, list_of_interests)\n",
    "        return conversation_stage, new_user_travel_details\n",
    "    \n",
    "    # if the user has not been qualified\n",
    "    elif new_user_travel_details.dict()['qualification'] == \"\" or new_user_travel_details.dict()['qualification'] != \"Yes\":\n",
    "        conversation_stage = qualifiaction_prompt(new_user_travel_details)   \n",
    "        return conversation_stage, new_user_travel_details\n",
    "    \n",
    "    # if the user is interested in a group tour gather required info\n",
    "    else:\n",
    "        conversation_stage = info_gathering_prompt(ask_for, found_itineraries, filtered_df)\n",
    "        asked_for.append(ask_for[0])\n",
    "        return conversation_stage, new_user_travel_details"
   ]
  },
  {
   "cell_type": "markdown",
   "id": "6d2a6846-d3fd-414a-a29d-b9c2546980e4",
   "metadata": {
    "jp-MarkdownHeadingCollapsed": true
   },
   "source": [
    "# tools"
   ]
  },
  {
   "cell_type": "code",
   "execution_count": 20,
   "id": "b929bb9f",
   "metadata": {},
   "outputs": [],
   "source": [
    "def sumarization_tool(input=\"\"):\n",
    "    return 'a 15 day itinerary through morocco.'"
   ]
  },
  {
   "cell_type": "code",
   "execution_count": 21,
   "id": "7f4ca2e1",
   "metadata": {},
   "outputs": [],
   "source": [
    "from langchain.tools import PythonAstREPLTool\n",
    "df = pd.read_csv(\"raw_data/one_day_test.csv\")\n",
    "\n",
    "class PythonInputs(BaseModel):\n",
    "    query: str = Field(description=\"code snippet to run\")\n",
    "        \n",
    "repl = PythonAstREPLTool(locals={\"df\": df}, \n",
    "                         name=\"multi_county_query\",\n",
    "                         description=\"useful for answering questions about multiple country costs e.g. average trip cost to peru\",\n",
    "                         args_schema=PythonInputs)"
   ]
  },
  {
   "cell_type": "code",
   "execution_count": 22,
   "id": "e854c418",
   "metadata": {},
   "outputs": [],
   "source": [
    "import glob\n",
    "def get_tools():          \n",
    "    #tru start\n",
    "    class DocumentInput(BaseModel):\n",
    "        question: str = Field()\n",
    "\n",
    "\n",
    "    llm = ChatOpenAI(temperature=0, model=\"gpt-3.5-turbo\", openai_api_key=api_key)\n",
    "\n",
    "    tools = []\n",
    "    \n",
    "    files = []\n",
    "    for file in glob.glob('raw_data/itinerary_text/*'):\n",
    "        file_dict = {'name': file.split(\"/\")[-1].replace('.txt','').replace('& ','').replace(':','').replace(' ','_'),\n",
    "                    \"path\": file}\n",
    "        files.append(file_dict)\n",
    "\n",
    "    for file in files[:10]:\n",
    "        loader = TextLoader(file[\"path\"])\n",
    "        pages = loader.load_and_split()\n",
    "        text_splitter = CharacterTextSplitter(chunk_size=500, chunk_overlap=50)\n",
    "        docs = text_splitter.split_documents(pages)\n",
    "        embeddings = OpenAIEmbeddings(openai_api_key=api_key)\n",
    "        retriever = FAISS.from_documents(docs, embeddings).as_retriever()\n",
    "\n",
    "        # Wrap retrievers in a Tool\n",
    "        tools.append(\n",
    "            Tool(\n",
    "                args_schema=DocumentInput,\n",
    "                name=file[\"name\"],\n",
    "                description=f\"needed when you want to answer questions about {file['name']} itinerary\",\n",
    "                func=RetrievalQA.from_chain_type(llm=llm, retriever=retriever),\n",
    "            )\n",
    "        )\n",
    "        \n",
    "#     tools.append(PythonAstREPLTool(locals={\"df\": df}, \n",
    "#                          name=\"multi_county_query\",\n",
    "#                          description=\"useful for answering questions about multiple country costs e.g. average trip cost to peru\",\n",
    "#                          args_schema=PythonInputs))\n",
    "        \n",
    "    return tools"
   ]
  },
  {
   "cell_type": "markdown",
   "id": "26eb63c7-562a-49d5-aa52-f1d0de09915d",
   "metadata": {},
   "source": [
    "# Sales Agent"
   ]
  },
  {
   "cell_type": "code",
   "execution_count": 23,
   "id": "f340dfd2-c7db-439c-9afa-aaa341b25c95",
   "metadata": {},
   "outputs": [],
   "source": [
    "from langchain.agents import OpenAIFunctionsAgent, AgentExecutor\n",
    "from langchain.agents import Tool\n",
    "from langchain.schema.messages import SystemMessage"
   ]
  },
  {
   "cell_type": "code",
   "execution_count": 24,
   "id": "f5a47031-84b8-421a-a564-93e196bfb5c0",
   "metadata": {},
   "outputs": [],
   "source": [
    "SALES_AGENT_TOOLS_PROMPT = \"\"\"\n",
    "Never forget your name is Francis. You work as a Travel Agent.\n",
    "You work at company named Francis. Francis's business is the following: Francis is a context aware AI travel agent that works on finding users their dream group tour holiday.\n",
    "You are contacting a potential prospect in order to find them a group toup holiday.\n",
    "Your means of contacting the prospect is live chat.\n",
    "\n",
    "Keep your responses in short length to retain the user's attention. Never produce lists, just answers.\n",
    "\n",
    "Always think about the following conversation stage you are at before answering:\n",
    "\n",
    " - {conversation_stage}\n",
    "\n",
    "You MUST respond according to the previous conversation history and the stage of the conversation you are at.\n",
    "If you get asked about an itinerary use the tools available to you, do not make up an answer. If you do not know the answer tell the user.\n",
    "Only generate one response at a time and act as Francis only!\n",
    "Do not add Francis: to your output.\n",
    "\n",
    "Previous conversation history:\n",
    "{conversation_history}\n",
    "\n",
    "Begin!\n",
    "\"\"\"\n",
    "\n",
    "                                 "
   ]
  },
  {
   "cell_type": "code",
   "execution_count": 25,
   "id": "66d6c897-0d66-40f8-b23d-23f48643bb80",
   "metadata": {},
   "outputs": [],
   "source": [
    "def customize_prompt(conversation_history, conversation_stage, SALES_AGENT_TOOLS_PROMPT):\n",
    "\n",
    "    conversation_history = \"\\n\".join(conversation_history)\n",
    "    \n",
    "    \n",
    "    from langchain import LLMChain, PromptTemplate\n",
    "    prompt = PromptTemplate(\n",
    "                template=SALES_AGENT_TOOLS_PROMPT,\n",
    "                input_variables=[\n",
    "                    \"conversation_stage\",\n",
    "                    \"conversation_history\"\n",
    "                ],\n",
    "            )\n",
    "    \n",
    "    SALES_AGENT_TOOLS_PROMPT = prompt.format(conversation_stage=conversation_stage, \n",
    "                                     conversation_history=conversation_history)\n",
    "    \n",
    "    system_message = SystemMessage(\n",
    "            content=(SALES_AGENT_TOOLS_PROMPT\n",
    "            )\n",
    "    )\n",
    "    \n",
    "    prompt = OpenAIFunctionsAgent.create_prompt(\n",
    "            system_message=system_message\n",
    "    )\n",
    "\n",
    "    return prompt\n",
    "# print(prompt.messages[0].content)"
   ]
  },
  {
   "cell_type": "code",
   "execution_count": 26,
   "id": "928fde58-12ae-49ff-a833-51645d0987bb",
   "metadata": {},
   "outputs": [
    {
     "name": "stderr",
     "output_type": "stream",
     "text": [
      "Created a chunk of size 917, which is longer than the specified 500\n",
      "Created a chunk of size 830, which is longer than the specified 500\n",
      "Created a chunk of size 771, which is longer than the specified 500\n",
      "Created a chunk of size 559, which is longer than the specified 500\n",
      "Created a chunk of size 800, which is longer than the specified 500\n",
      "Created a chunk of size 710, which is longer than the specified 500\n",
      "Created a chunk of size 724, which is longer than the specified 500\n",
      "Created a chunk of size 902, which is longer than the specified 500\n",
      "Created a chunk of size 759, which is longer than the specified 500\n",
      "Created a chunk of size 762, which is longer than the specified 500\n"
     ]
    }
   ],
   "source": [
    "# Define the tools\n",
    "tools = get_tools()"
   ]
  },
  {
   "cell_type": "code",
   "execution_count": 27,
   "id": "9d9be55b",
   "metadata": {},
   "outputs": [],
   "source": [
    "from langchain.agents import OpenAIMultiFunctionsAgent\n",
    "def run_francis(input, conversation_history, user_travel_details, list_of_interests, interest_asked):\n",
    "    llm = ChatOpenAI(temperature=0.9, model=\"gpt-3.5-turbo\", openai_api_key=api_key)\n",
    "\n",
    "    user_input = f\"User: {input}\"\n",
    "\n",
    "    conversation_history.append(user_input)\n",
    "\n",
    "    conversation_stage, user_travel_details = check_conversation_stage(conversation_history, \n",
    "                                                                       user_travel_details,\n",
    "                                                                       user_interests, \n",
    "                                                                       list_of_interests, interest_asked)\n",
    "    \n",
    "    final_prompt = customize_prompt(conversation_history, conversation_stage, SALES_AGENT_TOOLS_PROMPT)\n",
    "    \n",
    "    # Create the agent\n",
    "    agent = OpenAIFunctionsAgent(llm=llm, tools=tools, prompt=final_prompt)\n",
    "    # agent = OpenAIMultiFunctionsAgent(llm=llm, tools=tools, prompt=final_prompt)\n",
    "    \n",
    "    # Run the agent with the actions\n",
    "    agent_executor = AgentExecutor(agent=agent, tools=tools, verbose=False, max_iterations=5)\n",
    "    \n",
    "    francis = agent_executor.run(input)\n",
    "    francis1 = f\"Francis: {francis}\"\n",
    "    conversation_history.append(francis1)\n",
    "\n",
    "    return francis, user_travel_details"
   ]
  },
  {
   "cell_type": "code",
   "execution_count": 28,
   "id": "e18bc7fc",
   "metadata": {},
   "outputs": [
    {
     "ename": "NameError",
     "evalue": "name 'ad' is not defined",
     "output_type": "error",
     "traceback": [
      "\u001b[0;31m---------------------------------------------------------------------------\u001b[0m",
      "\u001b[0;31mNameError\u001b[0m                                 Traceback (most recent call last)",
      "Cell \u001b[0;32mIn [28], line 1\u001b[0m\n\u001b[0;32m----> 1\u001b[0m ad\n",
      "\u001b[0;31mNameError\u001b[0m: name 'ad' is not defined"
     ]
    }
   ],
   "source": [
    "ad"
   ]
  },
  {
   "cell_type": "markdown",
   "id": "6e9e0249-c67e-4c2e-8255-21d5194e5a77",
   "metadata": {},
   "source": [
    "# conversation"
   ]
  },
  {
   "cell_type": "code",
   "execution_count": 29,
   "id": "d04585d0",
   "metadata": {},
   "outputs": [],
   "source": [
    "import langchain\n",
    "langchain.debug = False"
   ]
  },
  {
   "cell_type": "code",
   "execution_count": 30,
   "id": "d7c880d1",
   "metadata": {},
   "outputs": [],
   "source": [
    "user_travel_details = TravelDetails(introduction=False,\n",
    "                                qualification=\"\",\n",
    "                                country=\"\",\n",
    "                                departing_after=None,\n",
    "                                departing_before=None,\n",
    "                                max_budget=None,\n",
    "                                max_duration=None,\n",
    "                                min_duration=None,\n",
    "                                   )"
   ]
  },
  {
   "cell_type": "code",
   "execution_count": 31,
   "id": "3cc7f8c3",
   "metadata": {},
   "outputs": [],
   "source": [
    "list_of_interests = []"
   ]
  },
  {
   "cell_type": "code",
   "execution_count": 32,
   "id": "0ebd1d7e",
   "metadata": {},
   "outputs": [],
   "source": [
    "interest_asked = []"
   ]
  },
  {
   "cell_type": "code",
   "execution_count": 33,
   "id": "79d0143d",
   "metadata": {},
   "outputs": [],
   "source": [
    "asked_for = []"
   ]
  },
  {
   "cell_type": "code",
   "execution_count": 34,
   "id": "0021a233-91d4-42c4-9b4c-af45f336c33a",
   "metadata": {},
   "outputs": [],
   "source": [
    "# conversation_history = [\"Francis:  Hello, this is Francis from Francis Travel. Can i help you find a group tour today?\"]\n",
    "conversation_history = []"
   ]
  },
  {
   "cell_type": "code",
   "execution_count": 35,
   "id": "94c276b3",
   "metadata": {},
   "outputs": [
    {
     "name": "stdout",
     "output_type": "stream",
     "text": [
      "Hello! My name is Francis and I work as a Travel Agent at Francis. Are you interested in a group tour?\n"
     ]
    }
   ],
   "source": [
    "human_input = \"\"\n",
    "francis_output, user_travel_details = run_francis(human_input, conversation_history, user_travel_details, list_of_interests, interest_asked)\n",
    "print(francis_output)"
   ]
  },
  {
   "cell_type": "code",
   "execution_count": 36,
   "id": "5281ee56",
   "metadata": {},
   "outputs": [
    {
     "name": "stdout",
     "output_type": "stream",
     "text": [
      "Great! I can help you find the perfect group tour. What country are you looking to travel to?\n"
     ]
    }
   ],
   "source": [
    "human_input = \"yes\"\n",
    "francis_output, user_travel_details = run_francis(human_input, conversation_history, user_travel_details, list_of_interests, interest_asked)\n",
    "print(francis_output)"
   ]
  },
  {
   "cell_type": "code",
   "execution_count": 37,
   "id": "33c348cf-fa3f-4f67-9c24-11695dacfdf6",
   "metadata": {
    "scrolled": true
   },
   "outputs": [
    {
     "name": "stdout",
     "output_type": "stream",
     "text": [
      "That's great! Morocco is a beautiful country with a rich history and diverse landscapes. How long are you planning to stay in Morocco?\n"
     ]
    }
   ],
   "source": [
    "human_input = \"I want to go to Morocco\"\n",
    "francis_output, user_travel_details = run_francis(human_input, conversation_history, user_travel_details, list_of_interests, interest_asked)\n",
    "print(francis_output)"
   ]
  },
  {
   "cell_type": "code",
   "execution_count": 38,
   "id": "1111ba04",
   "metadata": {
    "scrolled": true
   },
   "outputs": [
    {
     "name": "stdout",
     "output_type": "stream",
     "text": [
      "I'm sorry, but I need to clarify. Are you looking to provide a budget for your trip to Morocco or are you referring to something else?\n"
     ]
    }
   ],
   "source": [
    "human_input = \"£2000\"\n",
    "francis_output, user_travel_details = run_francis(human_input, conversation_history, user_travel_details, list_of_interests, interest_asked)\n",
    "print(francis_output)"
   ]
  },
  {
   "cell_type": "code",
   "execution_count": 39,
   "id": "926c5ae0-442e-4b92-8e37-61aac6694190",
   "metadata": {},
   "outputs": [
    {
     "name": "stdout",
     "output_type": "stream",
     "text": [
      "Got it! In April 2024, how long do you want your trip to be?\n"
     ]
    }
   ],
   "source": [
    "human_input = \"april 2024\"\n",
    "francis_output, user_travel_details = run_francis(human_input, conversation_history, user_travel_details, list_of_interests, interest_asked)\n",
    "print(francis_output)"
   ]
  },
  {
   "cell_type": "code",
   "execution_count": 40,
   "id": "4e68eb99",
   "metadata": {},
   "outputs": [
    {
     "name": "stdout",
     "output_type": "stream",
     "text": [
      "All details gathered! Ask about interests...\n",
      "Great! Now I would like to know more about your interests and what you would like to experience in Morocco. Are you interested in exploring the historical sites, experiencing the local culture, or enjoying outdoor activities?\n"
     ]
    }
   ],
   "source": [
    "human_input = \"between 5 and 15 days\"\n",
    "francis_output, user_travel_details = run_francis(human_input, conversation_history, user_travel_details, list_of_interests, interest_asked)\n",
    "print(francis_output)"
   ]
  },
  {
   "cell_type": "code",
   "execution_count": 41,
   "id": "c150a427",
   "metadata": {},
   "outputs": [
    {
     "name": "stdout",
     "output_type": "stream",
     "text": [
      "All details gathered! summarise the itineraries...\n",
      "Based on your interest in surfing, I have ranked the itineraries for you:\n",
      "\n",
      "1. \"Coastal Morocco: Waves & Market Stalls\" (5-day itinerary): This itinerary is ranked first because it specifically focuses on surfing and beach activities. It offers a morning surfing lesson, free time for various activities like paddle-boarding, and even a bonfire on the beach. If you are primarily interested in surfing and beach-related experiences, this itinerary would be the best fit for you.\n",
      "\n",
      "2. \"Highlights of Morocco\" (15-day classic itinerary): Although surfing is not mentioned in this itinerary, it offers a diverse range of experiences and opportunities to explore the beauty of Morocco. While it may not be the primary focus, you can still enjoy the culture, highlights, and access to the country. If you are open to exploring other aspects of Morocco while also having the chance to relax and enjoy the scenery, this itinerary would be a good choice.\n",
      "\n",
      "Reason for ranking:\n",
      "I ranked the itineraries based on your interest in surfing. The \"Coastal Morocco: Waves & Market Stalls\" itinerary is specifically designed for young, budget-minded travelers who want to focus on surfing and beach activities. On the other hand, the \"Highlights of Morocco\" itinerary offers a more comprehensive experience of the country, but does not specifically mention surfing.\n"
     ]
    }
   ],
   "source": [
    "human_input = \"I want to go surfing\"\n",
    "francis_output, user_travel_details = run_francis(human_input, conversation_history, user_travel_details, list_of_interests, interest_asked)\n",
    "print(francis_output)"
   ]
  },
  {
   "cell_type": "code",
   "execution_count": null,
   "id": "0fa96c12",
   "metadata": {},
   "outputs": [],
   "source": []
  }
 ],
 "metadata": {
  "kernelspec": {
   "display_name": "Python 3 (ipykernel)",
   "language": "python",
   "name": "python3"
  },
  "language_info": {
   "codemirror_mode": {
    "name": "ipython",
    "version": 3
   },
   "file_extension": ".py",
   "mimetype": "text/x-python",
   "name": "python",
   "nbconvert_exporter": "python",
   "pygments_lexer": "ipython3",
   "version": "3.10.6"
  },
  "toc": {
   "base_numbering": 1,
   "nav_menu": {},
   "number_sections": true,
   "sideBar": true,
   "skip_h1_title": false,
   "title_cell": "Table of Contents",
   "title_sidebar": "Contents",
   "toc_cell": false,
   "toc_position": {},
   "toc_section_display": true,
   "toc_window_display": false
  }
 },
 "nbformat": 4,
 "nbformat_minor": 5
}
