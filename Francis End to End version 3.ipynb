{
 "cells": [
  {
   "cell_type": "code",
   "execution_count": 1,
   "id": "5a74b426-5d2c-476f-a538-24260be719bb",
   "metadata": {},
   "outputs": [],
   "source": [
    "## Details QA"
   ]
  },
  {
   "cell_type": "code",
   "execution_count": 2,
   "id": "7b96ce50-8a39-481f-b724-52e92f462111",
   "metadata": {},
   "outputs": [],
   "source": [
    "from langchain.text_splitter import CharacterTextSplitter\n",
    "from langchain.llms import OpenAI\n",
    "from langchain.embeddings.openai import OpenAIEmbeddings\n",
    "from langchain.chains import RetrievalQA\n",
    "from langchain.vectorstores import Chroma\n",
    "from langchain.chains import create_tagging_chain_pydantic\n",
    "from langchain.document_loaders import TextLoader\n",
    "from langchain.vectorstores import FAISS\n",
    "\n",
    "import pandas as pd"
   ]
  },
  {
   "cell_type": "code",
   "execution_count": 3,
   "id": "36bbe172-3ce5-4ae1-b9d9-d568b1560a0c",
   "metadata": {},
   "outputs": [],
   "source": [
    "__import__('pysqlite3')\n",
    "import sys\n",
    "sys.modules['sqlite3'] = sys.modules.pop('pysqlite3')"
   ]
  },
  {
   "cell_type": "code",
   "execution_count": 4,
   "id": "ab7e8653-5866-4832-84af-c614d56857ce",
   "metadata": {},
   "outputs": [],
   "source": [
    "conversation_history = ['Francis:  Hello, this is Francis from Francis Travel. Can i help you find a group tour today?',\n",
    " \"User: Yes\", \n",
    "                \n",
    "               ]\n",
    "# \"Francis: Great! I'm here to help you find the perfect group tour. Can you please let me know what country you are looking to travel to?\", \n",
    "# \"User: India in April.\",\n",
    "# \"Francis: That's great! India is a beautiful country to visit in April. How long do you want your trip to be?\",\n",
    "# \"User: Why do you need to know?\"\n",
    "\n",
    "# , \"Francis:  Where are you looking to travel to?\", \"User: India in April.\","
   ]
  },
  {
   "cell_type": "code",
   "execution_count": 5,
   "id": "6a00abee-9260-49d8-a2e8-d08ee7aac156",
   "metadata": {},
   "outputs": [],
   "source": [
    "import re\n",
    "from dotenv import load_dotenv\n",
    "import os\n",
    "\n",
    "# Load the environment variables from the .env file\n",
    "load_dotenv()\n",
    "\n",
    "# Access environment variables\n",
    "api_key = os.getenv(\"OPENAI_KEY\")"
   ]
  },
  {
   "cell_type": "code",
   "execution_count": 6,
   "id": "b2e0a59c-87f5-4808-b9c1-f6b430cad781",
   "metadata": {},
   "outputs": [],
   "source": [
    "from langchain.chat_models import ChatOpenAI\n",
    "\n",
    "llm = ChatOpenAI(temperature=0, model=\"gpt-3.5-turbo\", openai_api_key=api_key)"
   ]
  },
  {
   "cell_type": "markdown",
   "id": "7ff3a15c-bd79-4097-843a-cd1172ea2853",
   "metadata": {},
   "source": [
    "# stage analysis"
   ]
  },
  {
   "cell_type": "code",
   "execution_count": 7,
   "id": "ff197d79-e492-4555-8613-da68ab2e9b47",
   "metadata": {},
   "outputs": [],
   "source": [
    "from typing import Optional\n",
    "from pydantic import BaseModel, Field\n",
    "\n",
    "class TravelDetails(BaseModel):\n",
    "    introduction: Optional[bool] = Field(\n",
    "        False,\n",
    "        description=\"Has francis introducted himself and asked if the user is interested in a group tour.\",\n",
    "    )\n",
    "#     qualification: Optional[str] = Field(\n",
    "#         ...,\n",
    "#         description=\"Did the user confirm they are looking for a group tour or answer positivley when asked. If the user asks about a trip assume the answer is yes\",\n",
    "#         enum=[\"Yes\", \"No\", \"Unsure\"]\n",
    "#     )\n",
    "    country: Optional[str] = Field(\n",
    "        \"\",\n",
    "        description=\"This is the name of the country the user is wanting to visit. If they name a place within a country always return the country\",\n",
    "        enum=[\"Cambodia\", \"Vietnam\", \"Thailand\"]\n",
    "    )\n",
    "    departing_after: Optional[str] = Field(\n",
    "        \"\",\n",
    "        description=\"This is the first date from which the user can depart. If the user gives a month assume this is the first of the month. If not year if given return 2023. In the format '%d/%m/%Y'\",\n",
    "    )\n",
    "    departing_before: Optional[str] = Field(\n",
    "        \"\",\n",
    "        description=\"This is the last date from which the user can depart. If the user gives a month assume this is the last day of the month. If not year if given return 2023. In the format '%d/%m/%Y'\",\n",
    "    )\n",
    "    max_budget: Optional[int] = Field(\n",
    "        0,\n",
    "        description=\"This is the maximun amount of money the user is looking to spend on their trip.\",\n",
    "    )\n",
    "    max_duration: Optional[int] = Field(\n",
    "        None,\n",
    "        description=\"This is the maximum duration of their trip.\"\n",
    "    )\n",
    "    min_duration: Optional[int] = Field(\n",
    "        None,\n",
    "        description=\"This is the minimum duration of their trip.\",\n",
    "    )"
   ]
  },
  {
   "cell_type": "code",
   "execution_count": 8,
   "id": "9c4f1bc4-3ebf-40d3-b948-a9a8d4468d11",
   "metadata": {},
   "outputs": [],
   "source": [
    "user_travel_details = TravelDetails(introduction=False,\n",
    "                                # qualification=\"\",\n",
    "                                country=\"\",\n",
    "                                departing_after=\"\",\n",
    "                                departing_before=\"\",\n",
    "                                max_budget=None,\n",
    "                                max_duration=None,\n",
    "                                min_duration=None)"
   ]
  },
  {
   "cell_type": "code",
   "execution_count": 9,
   "id": "69de78ba-1c58-433f-864c-03653cf31487",
   "metadata": {},
   "outputs": [],
   "source": [
    "ask_for_dict = {\"country\":\"what country are you looking to travel to?\",\n",
    "                \"departing_after\":\"when are you looking to travel?\",\n",
    "                \"departing_before\":\"when are you looking to travel?\",\n",
    "                \"max_budget\":\"how much are you looking to spend?\",\n",
    "                \"max_duration\":\"how long do you want your trip to be?\",\n",
    "                \"min_duration\":\"how long do you want your trip to be?\"\n",
    "               }"
   ]
  },
  {
   "cell_type": "code",
   "execution_count": 10,
   "id": "d877fa78-435b-4627-a4f4-bbc916b006c7",
   "metadata": {},
   "outputs": [],
   "source": [
    "def check_what_is_empty(user_travel_details):\n",
    "    ask_for = []\n",
    "    # Check if fields are empty\n",
    "    for field, value in user_travel_details.dict().items():\n",
    "        if value in [None, \"\", 0]:  # You can add other 'empty' conditions as per your requirements\n",
    "            ask_for.append(ask_for_dict[field])\n",
    "    return ask_for"
   ]
  },
  {
   "cell_type": "code",
   "execution_count": 11,
   "id": "2b4a599e-ebe3-4c75-a65f-adbb83cd4862",
   "metadata": {},
   "outputs": [],
   "source": [
    "## checking the response and adding it\n",
    "def add_non_empty_details(current_details: TravelDetails, new_details: TravelDetails):\n",
    "    non_empty_details = {k: v for k, v in new_details.dict().items() if v not in [False, None, \"\"]}\n",
    "    updated_details = current_details.copy(update=non_empty_details)\n",
    "    return updated_details"
   ]
  },
  {
   "cell_type": "code",
   "execution_count": 12,
   "id": "d23c0bf3-0d03-469c-87c5-c2fae1740a1d",
   "metadata": {},
   "outputs": [],
   "source": [
    "# conversation_history = \"\\n\".join(conversation_history)\n",
    "\n",
    "# chain = create_tagging_chain_pydantic(TravelDetails, llm)\n",
    "# res = chain.run(conversation_history)\n",
    "# user_travel_details = add_non_empty_details(user_travel_details, res)\n",
    "# ask_for = check_what_is_empty(user_travel_details)"
   ]
  },
  {
   "cell_type": "code",
   "execution_count": 13,
   "id": "1c10d3bc-efe0-4c8e-81ec-4ce840f24376",
   "metadata": {},
   "outputs": [],
   "source": [
    "# PROMPT_TEMPLATE = f\"\"\"You are currently in the trip detail phase of the conversation and are trying to get detail of the users trip to help find the the perfect trip. \n",
    "# You need to ask the user the following question to gather the required information:\n",
    "# {ask_for[0]}\"\"\""
   ]
  },
  {
   "cell_type": "code",
   "execution_count": 14,
   "id": "6f00bf55-f061-4e67-8a8e-bce34167a382",
   "metadata": {},
   "outputs": [],
   "source": [
    "# if user_travel_details.dict()['qualification'] == 'no':\n",
    "#     conversation_stage = \"The user is not interested in a group tour so politely end the conversation. Ask them to come back if they ever are\"\n",
    "# elif user_travel_details.dict()['qualification'] == 'Unsure':\n",
    "#     conversation_stage = \"Explain what a group tour is. End by asking if they have any other questions?\"\n",
    "# else:\n",
    "#     conversation_stage = PROMPT_TEMPLATE"
   ]
  },
  {
   "cell_type": "code",
   "execution_count": 15,
   "id": "a717df4f-854e-449e-aaec-0989caef0f6d",
   "metadata": {},
   "outputs": [],
   "source": [
    "def get_filtered_df(df, user_travel_details):\n",
    "    trip_details_dict = user_travel_details.dict()\n",
    "    filled_out_dictionary = {k: v for k, v in user_travel_details.dict().items() if v not in [False, None, \"\",0]}\n",
    "\n",
    "    # convert dates to datetime format\n",
    "    departing_after = pd.to_datetime(trip_details_dict[\"departing_after\"], format='%d/%m/%Y')\n",
    "    departing_before = pd.to_datetime(trip_details_dict[\"departing_before\"], format='%d/%m/%Y')\n",
    "\n",
    "    # Filtering the DataFrame\n",
    "    filtered_df = df.copy()  # Make a copy of the original DataFrame to keep it intact\n",
    "    \n",
    "    # Iterate through the list of potential inputs\n",
    "    for input_column in filled_out_dictionary.keys():\n",
    "        if input_column == 'destination':\n",
    "            filtered_df = filtered_df[filtered_df['countries'] == trip_details_dict[\"country\"]]\n",
    "        elif input_column == 'max_budget':\n",
    "            filtered_df = filtered_df[filtered_df['cost'] <= trip_details_dict[\"max_budget\"]]\n",
    "        elif input_column == 'min_budget':\n",
    "            filtered_df = filtered_df[filtered_df['cost'] >= trip_details_dict[\"min_budget\"]]\n",
    "        elif input_column == 'departing_after':\n",
    "            filtered_df = filtered_df[filtered_df['start_date'] >= trip_details_dict[\"departing_after\"]]\n",
    "        elif input_column == 'departing_before':\n",
    "            filtered_df = filtered_df[filtered_df['start_date'] <= trip_details_dict[\"departing_before\"]]\n",
    "        elif input_column == 'max_duration':\n",
    "            filtered_df = filtered_df[filtered_df['duration'] <= trip_details_dict[\"max_duration\"]]\n",
    "        elif input_column == 'min_duration':\n",
    "            filtered_df = filtered_df[filtered_df['duration'] >= trip_details_dict[\"min_duration\"]]\n",
    "\n",
    "    return filtered_df"
   ]
  },
  {
   "cell_type": "code",
   "execution_count": 16,
   "id": "ebb7794c-9d35-4641-942b-a93cbf292799",
   "metadata": {},
   "outputs": [],
   "source": [
    "class ItineraryDetails(BaseModel):\n",
    "    itinerary_name: Optional[str] = Field(\n",
    "        ...,\n",
    "        description=\"The name of the itinerary the user has decided to take not the country\",\n",
    "    )\n",
    "    itinerary_start_date: Optional[str] = Field(\n",
    "        ...,\n",
    "        description=\"The start date of the itinerary the user has decided to take. This is an exact date\",\n",
    "    )"
   ]
  },
  {
   "cell_type": "code",
   "execution_count": 17,
   "id": "cc1ae1bf-1048-48a2-811c-95d3f853b5d8",
   "metadata": {},
   "outputs": [],
   "source": [
    "user_itinerary_details = ItineraryDetails(itinerary_name=\"\",\n",
    "                                itinerary_start_date=\"\")"
   ]
  },
  {
   "cell_type": "code",
   "execution_count": 18,
   "id": "e0b65c7f-efe9-437d-9ef9-781502b9d16e",
   "metadata": {},
   "outputs": [],
   "source": [
    "found_itineraries = [\"Best_of_Cambodia_Northern_Thailand\",\"Cambodia_to_Vietnam_Night_Markets_Noodle-Making\"]"
   ]
  },
  {
   "cell_type": "code",
   "execution_count": 19,
   "id": "307ed380-488d-4d0e-a427-ee75434897f5",
   "metadata": {},
   "outputs": [],
   "source": [
    "available_dates = [\"06/04/2023\",\"13/04/2023\",\"20/04/2023\"]"
   ]
  },
  {
   "cell_type": "code",
   "execution_count": 20,
   "id": "73ba535b-41fe-4878-8327-006324af7c8e",
   "metadata": {},
   "outputs": [],
   "source": [
    "URL = \"www.affiliate_link_to_website.com\""
   ]
  },
  {
   "cell_type": "code",
   "execution_count": 21,
   "id": "0cdfc3fa-a10d-4f9e-9465-47e16dae4f6c",
   "metadata": {},
   "outputs": [],
   "source": [
    "asked_for = []"
   ]
  },
  {
   "cell_type": "code",
   "execution_count": 22,
   "id": "57b23452-7d55-4a00-8434-224cb58ca164",
   "metadata": {},
   "outputs": [],
   "source": [
    "def check_conversation_stage(conversation_history, user_travel_details, user_itinerary_details):\n",
    "\n",
    "    conversation_history = \"\\n\".join(conversation_history)\n",
    "\n",
    "    # extract travel details chain\n",
    "    chain = create_tagging_chain_pydantic(TravelDetails, llm)\n",
    "    res = chain.run(conversation_history)\n",
    "    user_travel_details = add_non_empty_details(user_travel_details, res)\n",
    "    ask_for = check_what_is_empty(user_travel_details)\n",
    "\n",
    "    #load df\n",
    "    df = pd.read_csv(\"test_travel_data.csv\")\n",
    "    \n",
    "    # check number of unique itineraries\n",
    "#     filtered_df = get_filtered_df(df, user_travel_details)\n",
    "#     found_itineraries = filtered_df['itinerary_name'].unique()\n",
    "    # available_dates = filtered_df['start_date'].unique()\n",
    "    # URL = filtered_df['start_date'].unique()\n",
    "    # print(available_dates)\n",
    "\n",
    "    # if the number of itineraries is 0 give them alternatives e.g. different country/duration/time of year/budget\n",
    "    # print(filtered_df['itinerary_name'].unique())\n",
    "\n",
    "    if len(ask_for) == 0:\n",
    "        # extract itinerary details chain\n",
    "        chain = create_tagging_chain_pydantic(ItineraryDetails, llm)\n",
    "        res = chain.run(conversation_history)\n",
    "        user_itinerary_details = add_non_empty_details(user_itinerary_details, res)\n",
    "\n",
    "    # # check if we have all validated details and if we have an itinerary from the user. \n",
    "    # # We then need present the list of dates and have the client decide\n",
    "    if len(ask_for) == 0 and user_itinerary_details.itinerary_name in found_itineraries and user_itinerary_details.itinerary_start_date in available_dates:\n",
    "        print('all details gathered, itinerary decided and date sorted')\n",
    "        conversation_stage = f\"\"\"\n",
    "        The user now has an itinerary and the dates they want to travel. \n",
    "        You are not booking the trip for the user, just share the companies url: {URL}\"\"\"\n",
    "                                 \n",
    "        return conversation_stage, user_travel_details\n",
    "\n",
    "\n",
    "    # # check if we have all validated details and if we have an itinerary from the user. \n",
    "    # # We then need present the list of dates and have the client decide\n",
    "    elif len(ask_for) == 0 and user_itinerary_details.itinerary_name in found_itineraries:\n",
    "        dates_text = \"\\n\".join(available_dates)\n",
    "        conversation_stage = f\"\"\"\n",
    "        The user has now decided on on the itinerary would like. We now need to check what dates they would like to travel on. The following dates are availab: \n",
    "        {dates_text}.\n",
    "        Ask the user to pick a desired departure date.\"\"\"\n",
    "                                 \n",
    "        return conversation_stage, user_travel_details\n",
    "\n",
    "    # if we have all the validated details we need to present the list of itineraries and have the client decide\n",
    "    elif len(ask_for) == 0 and len(found_itineraries) > 1:\n",
    "        # all details gathered, check which itinerary the user wants\n",
    "        print(\"all details gathered\")\n",
    "        conversation_stage = f\"\"\"Thank the user for providing the details. \n",
    "        Based on all the users needs, not just the answer to the last question, here is the list of itineraries that fit their needs: {found_itineraries}.\n",
    "        Using the tools available provide a summeray of each itinerary.\n",
    "        Ask the user to pick an itinerary so .\"\"\"\n",
    "                                 \n",
    "        return conversation_stage, user_travel_details\n",
    "\n",
    "\n",
    "    # gather all the details we need from the client\n",
    "    PROMPT_TEMPLATE = f\"\"\"You are currently in the trip detail phase of the conversation and are trying to get detail of the users trip to help find the the perfect trip. \n",
    "    If the user has just asked a follow up question in the conversation history, answer it.\n",
    "    Once you have answered their question ALWAYS ask the user the following question to gather the required information.\n",
    "    Follow up question:\n",
    "    {ask_for[0]}\"\"\"\n",
    "    \n",
    "    # if user_travel_details.dict()['qualification'] == 'no':\n",
    "    #     conversation_stage = \"The user is not interested in a group tour so politely end the conversation. Ask them to come back if they ever are\"\n",
    "    # elif user_travel_details.dict()['qualification'] == 'Unsure':\n",
    "    #     conversation_stage = \"Explain what a group tour is. End by asking if they have any other questions?\"\n",
    "    # else:\n",
    "    conversation_stage = PROMPT_TEMPLATE\n",
    "    asked_for.append(ask_for[0])\n",
    "\n",
    "    return conversation_stage, user_travel_details"
   ]
  },
  {
   "cell_type": "code",
   "execution_count": 23,
   "id": "a4fcdcf2-f823-4e64-ba8b-d51c8d6e3f20",
   "metadata": {},
   "outputs": [],
   "source": [
    "# conversation_stage, user_travel_details = check_conversation_stage(conversation_history, user_travel_details)"
   ]
  },
  {
   "cell_type": "code",
   "execution_count": 24,
   "id": "07a31582-f7af-4791-80ac-efefbb30c4a9",
   "metadata": {},
   "outputs": [],
   "source": [
    "# conversation_stage"
   ]
  },
  {
   "cell_type": "code",
   "execution_count": 25,
   "id": "7a1ab525-f48b-456e-afb2-24b966bbc38c",
   "metadata": {},
   "outputs": [],
   "source": [
    "# user_travel_details"
   ]
  },
  {
   "cell_type": "markdown",
   "id": "6d2a6846-d3fd-414a-a29d-b9c2546980e4",
   "metadata": {
    "jp-MarkdownHeadingCollapsed": true
   },
   "source": [
    "# tools"
   ]
  },
  {
   "cell_type": "code",
   "execution_count": 26,
   "id": "133cc0ac",
   "metadata": {},
   "outputs": [],
   "source": [
    "# let's set up a dummy product catalog:\n",
    "sample_product_catalog = \"\"\"\n",
    "Sleep Haven product 1: Luxury Cloud-Comfort Memory Foam Mattress\n",
    "Experience the epitome of opulence with our Luxury Cloud-Comfort Memory Foam Mattress. Designed with an innovative, temperature-sensitive memory foam layer, this mattress embraces your body shape, offering personalized support and unparalleled comfort. The mattress is completed with a high-density foam base that ensures longevity, maintaining its form and resilience for years. With the incorporation of cooling gel-infused particles, it regulates your body temperature throughout the night, providing a perfect cool slumbering environment. The breathable, hypoallergenic cover, exquisitely embroidered with silver threads, not only adds a touch of elegance to your bedroom but also keeps allergens at bay. For a restful night and a refreshed morning, invest in the Luxury Cloud-Comfort Memory Foam Mattress.\n",
    "Price: $999\n",
    "Sizes available for this product: Twin, Queen, King\n",
    "\n",
    "Sleep Haven product 2: Classic Harmony Spring Mattress\n",
    "A perfect blend of traditional craftsmanship and modern comfort, the Classic Harmony Spring Mattress is designed to give you restful, uninterrupted sleep. It features a robust inner spring construction, complemented by layers of plush padding that offers the perfect balance of support and comfort. The quilted top layer is soft to the touch, adding an extra level of luxury to your sleeping experience. Reinforced edges prevent sagging, ensuring durability and a consistent sleeping surface, while the natural cotton cover wicks away moisture, keeping you dry and comfortable throughout the night. The Classic Harmony Spring Mattress is a timeless choice for those who appreciate the perfect fusion of support and plush comfort.\n",
    "Price: $1,299\n",
    "Sizes available for this product: Queen, King\n",
    "\n",
    "Sleep Haven product 3: EcoGreen Hybrid Latex Mattress\n",
    "The EcoGreen Hybrid Latex Mattress is a testament to sustainable luxury. Made from 100% natural latex harvested from eco-friendly plantations, this mattress offers a responsive, bouncy feel combined with the benefits of pressure relief. It is layered over a core of individually pocketed coils, ensuring minimal motion transfer, perfect for those sharing their bed. The mattress is wrapped in a certified organic cotton cover, offering a soft, breathable surface that enhances your comfort. Furthermore, the natural antimicrobial and hypoallergenic properties of latex make this mattress a great choice for allergy sufferers. Embrace a green lifestyle without compromising on comfort with the EcoGreen Hybrid Latex Mattress.\n",
    "Price: $1,599\n",
    "Sizes available for this product: Twin, Full\n",
    "\n",
    "Sleep Haven product 4: Plush Serenity Bamboo Mattress\n",
    "The Plush Serenity Bamboo Mattress takes the concept of sleep to new heights of comfort and environmental responsibility. The mattress features a layer of plush, adaptive foam that molds to your body's unique shape, providing tailored support for each sleeper. Underneath, a base of high-resilience support foam adds longevity and prevents sagging. The crowning glory of this mattress is its bamboo-infused top layer - this sustainable material is not only gentle on the planet, but also creates a remarkably soft, cool sleeping surface. Bamboo's natural breathability and moisture-wicking properties make it excellent for temperature regulation, helping to keep you cool and dry all night long. Encased in a silky, removable bamboo cover that's easy to clean and maintain, the Plush Serenity Bamboo Mattress offers a luxurious and eco-friendly sleeping experience.\n",
    "Price: $2,599\n",
    "Sizes available for this product: King\n",
    "\"\"\"\n",
    "with open(\"sample_product_catalog.txt\", \"w\") as f:\n",
    "    f.write(sample_product_catalog)\n",
    "\n",
    "product_catalog = \"sample_product_catalog.txt\""
   ]
  },
  {
   "cell_type": "code",
   "execution_count": 27,
   "id": "4ea956d3-fa1f-4732-9974-d93a92989879",
   "metadata": {},
   "outputs": [],
   "source": [
    "# Set up a knowledge base\n",
    "def setup_knowledge_base(product_catalog: str = None):\n",
    "    \"\"\"\n",
    "    We assume that the product knowledge base is simply a text file.\n",
    "    \"\"\"\n",
    "    # load product catalog\n",
    "    with open(product_catalog, \"r\") as f:\n",
    "        product_catalog = f.read()\n",
    "\n",
    "    text_splitter = CharacterTextSplitter(chunk_size=10, chunk_overlap=0)\n",
    "    texts = text_splitter.split_text(product_catalog)\n",
    "\n",
    "    llm = OpenAI(temperature=0, openai_api_key=api_key)\n",
    "    embeddings = OpenAIEmbeddings(openai_api_key=api_key)\n",
    "    docsearch = Chroma.from_texts(\n",
    "        texts, embeddings, collection_name=\"product-knowledge-base\"\n",
    "    )\n",
    "\n",
    "    knowledge_base = RetrievalQA.from_chain_type(\n",
    "        llm=llm, chain_type=\"stuff\", retriever=docsearch.as_retriever()\n",
    "    )\n",
    "    return knowledge_base\n",
    "\n",
    "\n",
    "def get_tools(product_catalog):\n",
    "    # query to get_tools can be used to be embedded and relevant tools found\n",
    "    # see here: https://langchain-langchain.vercel.app/docs/use_cases/agents/custom_agent_with_plugin_retrieval#tool-retriever\n",
    "\n",
    "    # we only use one tool for now, but this is highly extensible!\n",
    "    knowledge_base = setup_knowledge_base(product_catalog)\n",
    "    tools = [\n",
    "        Tool(\n",
    "            name=\"ProductSearch\",\n",
    "            func=knowledge_base.run,\n",
    "            description=\"useful for when you need to answer questions about product information\",\n",
    "        )\n",
    "    ]\n",
    "\n",
    "    return tools"
   ]
  },
  {
   "cell_type": "code",
   "execution_count": 28,
   "id": "e854c418",
   "metadata": {},
   "outputs": [],
   "source": [
    "def get_tools():\n",
    "    class DocumentInput(BaseModel):\n",
    "        question: str = Field()\n",
    "\n",
    "\n",
    "    llm = ChatOpenAI(temperature=0, model=\"gpt-3.5-turbo\", openai_api_key=api_key)\n",
    "    # Highlights_of_Morocco \n",
    "    tools = []\n",
    "    files = [\n",
    "        # https://abc.xyz/investor/static/pdf/2023Q1_alphabet_earnings_release.pdf\n",
    "        {\n",
    "            \"name\": \"Best_of_Cambodia_Northern_Thailand\",\n",
    "            \"path\": \"Best_of_Cambodia_Northern_Thailand.txt\",\n",
    "        },\n",
    "        # https://digitalassets.tesla.com/tesla-contents/image/upload/IR/TSLA-Q1-2023-Update\n",
    "        {\n",
    "            \"name\": \"Cambodia_to_Vietnam_Night_Markets_Noodle-Making\",\n",
    "            \"path\": \"Cambodia_to_Vietnam_Night_Markets_Noodle-Making.txt\",\n",
    "        },\n",
    "        {\n",
    "            \"name\": \"Highlights_of_Morocco\",\n",
    "            \"path\": \"Highlights_of_Morocco.txt\",\n",
    "        },\n",
    "    ]\n",
    "\n",
    "    for file in files:\n",
    "        loader = TextLoader(file[\"path\"])\n",
    "        pages = loader.load_and_split()\n",
    "        text_splitter = CharacterTextSplitter(chunk_size=500, chunk_overlap=50)\n",
    "        docs = text_splitter.split_documents(pages)\n",
    "        embeddings = OpenAIEmbeddings(openai_api_key=api_key)\n",
    "        retriever = FAISS.from_documents(docs, embeddings).as_retriever()\n",
    "\n",
    "        # Wrap retrievers in a Tool\n",
    "        tools.append(\n",
    "            Tool(\n",
    "                args_schema=DocumentInput,\n",
    "                name=file[\"name\"],\n",
    "                description=f\"useful when you want to answer questions about {file['name']} itinerary\",\n",
    "                func=RetrievalQA.from_chain_type(llm=llm, retriever=retriever),\n",
    "            )\n",
    "        )\n",
    "    return tools"
   ]
  },
  {
   "cell_type": "markdown",
   "id": "26eb63c7-562a-49d5-aa52-f1d0de09915d",
   "metadata": {},
   "source": [
    "# testing"
   ]
  },
  {
   "cell_type": "code",
   "execution_count": 29,
   "id": "f340dfd2-c7db-439c-9afa-aaa341b25c95",
   "metadata": {},
   "outputs": [],
   "source": [
    "from langchain.agents import OpenAIFunctionsAgent, AgentExecutor\n",
    "from langchain.agents import Tool\n",
    "from langchain.schema.messages import SystemMessage"
   ]
  },
  {
   "cell_type": "code",
   "execution_count": 30,
   "id": "f5a47031-84b8-421a-a564-93e196bfb5c0",
   "metadata": {},
   "outputs": [],
   "source": [
    "SALES_AGENT_TOOLS_PROMPT = \"\"\"\n",
    "Never forget your name is Francis. You work as a Travel Agent.\n",
    "You work at company named Francis. Francis's business is the following: Francis is a context aware AI travel agent that works on finding users their dream group tour holiday.\n",
    "You are contacting a potential prospect in order to find them a group toup holiday.\n",
    "Your means of contacting the prospect is live chat.\n",
    "\n",
    "Keep your responses in short length to retain the user's attention. Never produce lists, just answers.\n",
    "\n",
    "Always think about the following conversation stage you are at before answering:\n",
    "\n",
    " - {conversation_stage}\n",
    "\n",
    "You MUST respond according to the previous conversation history and the stage of the conversation you are at.\n",
    "If you get asked about an itinerary use the tools available to you, do not make up an answer. If you do not know the answer tell the user.\n",
    "Only generate one response at a time and act as Francis only!\n",
    "Do not add Francis: to your output.\n",
    "\n",
    "Previous conversation history:\n",
    "{conversation_history}\n",
    "\n",
    "Begin!\n",
    "\"\"\"\n",
    "\n",
    "                                 "
   ]
  },
  {
   "cell_type": "code",
   "execution_count": 31,
   "id": "66d6c897-0d66-40f8-b23d-23f48643bb80",
   "metadata": {},
   "outputs": [],
   "source": [
    "def customize_prompt(conversation_history, conversation_stage, SALES_AGENT_TOOLS_PROMPT):\n",
    "\n",
    "    conversation_history = \"\\n\".join(conversation_history)\n",
    "    \n",
    "    \n",
    "    from langchain import LLMChain, PromptTemplate\n",
    "    prompt = PromptTemplate(\n",
    "                template=SALES_AGENT_TOOLS_PROMPT,\n",
    "                input_variables=[\n",
    "                    \"conversation_stage\",\n",
    "                    \"conversation_history\"\n",
    "                ],\n",
    "            )\n",
    "    \n",
    "    SALES_AGENT_TOOLS_PROMPT = prompt.format(conversation_stage=conversation_stage, \n",
    "                                     conversation_history=conversation_history)\n",
    "    \n",
    "    system_message = SystemMessage(\n",
    "            content=(SALES_AGENT_TOOLS_PROMPT\n",
    "            )\n",
    "    )\n",
    "    \n",
    "    prompt = OpenAIFunctionsAgent.create_prompt(\n",
    "            system_message=system_message\n",
    "    )\n",
    "\n",
    "    return prompt\n",
    "# print(prompt.messages[0].content)"
   ]
  },
  {
   "cell_type": "code",
   "execution_count": 32,
   "id": "928fde58-12ae-49ff-a833-51645d0987bb",
   "metadata": {},
   "outputs": [],
   "source": [
    "# Define the tools\n",
    "# tools = get_tools(\"sample_product_catalog.txt\")\n",
    "tools = get_tools()"
   ]
  },
  {
   "cell_type": "code",
   "execution_count": 33,
   "id": "40c633aa-d090-4780-9e19-eb8fbbd3f0f5",
   "metadata": {},
   "outputs": [],
   "source": [
    "# final_prompt = customize_prompt(conversation_history, conversation_stage, SALES_AGENT_TOOLS_PROMPT)\n",
    "# # print(final_prompt.messages[0].content)"
   ]
  },
  {
   "cell_type": "code",
   "execution_count": null,
   "id": "d54197c5-b001-4779-9faa-d811a6c1eedc",
   "metadata": {},
   "outputs": [],
   "source": []
  },
  {
   "cell_type": "markdown",
   "id": "6e9e0249-c67e-4c2e-8255-21d5194e5a77",
   "metadata": {},
   "source": [
    "# conversation"
   ]
  },
  {
   "cell_type": "code",
   "execution_count": 50,
   "id": "d7c880d1",
   "metadata": {},
   "outputs": [],
   "source": [
    "user_travel_details = TravelDetails(introduction=False,\n",
    "                                # qualification=\"\",\n",
    "                                country=\"\",\n",
    "                                departing_after=\"\",\n",
    "                                departing_before=\"\",\n",
    "                                max_budget=None,\n",
    "                                max_duration=None,\n",
    "                                min_duration=None)"
   ]
  },
  {
   "cell_type": "code",
   "execution_count": 51,
   "id": "3efeac25",
   "metadata": {},
   "outputs": [],
   "source": [
    "user_itinerary_details = ItineraryDetails(itinerary_name=\"\",\n",
    "                                itinerary_start_date=\"\")"
   ]
  },
  {
   "cell_type": "code",
   "execution_count": 52,
   "id": "0021a233-91d4-42c4-9b4c-af45f336c33a",
   "metadata": {},
   "outputs": [],
   "source": [
    "conversation_history = [\"Francis:  Hello, this is Francis from Francis Travel. Can i help you find a group tour today?\"]"
   ]
  },
  {
   "cell_type": "code",
   "execution_count": 53,
   "id": "b24912b9-8b30-4482-a424-3b93454595fb",
   "metadata": {},
   "outputs": [],
   "source": [
    "from langchain.agents import OpenAIMultiFunctionsAgent\n",
    "def run_francis(input, conversation_history, user_travel_details, user_itinerary_details):\n",
    "    user_input = f\"User: {input}\"\n",
    "\n",
    "    conversation_history.append(user_input)\n",
    "\n",
    "    conversation_stage, user_travel_details = check_conversation_stage(conversation_history, user_travel_details, user_itinerary_details)\n",
    "    \n",
    "    final_prompt = customize_prompt(conversation_history, conversation_stage, SALES_AGENT_TOOLS_PROMPT)\n",
    "    \n",
    "    # Create the agent\n",
    "    # agent = OpenAIFunctionsAgent(llm=llm, tools=tools, prompt=final_prompt)\n",
    "    agent = OpenAIMultiFunctionsAgent(llm=llm, tools=tools, prompt=final_prompt)\n",
    "    \n",
    "    # Run the agent with the actions\n",
    "    agent_executor = AgentExecutor(agent=agent, tools=tools, verbose=False, max_iterations=5)\n",
    "    #output = agent_executor.run(\"\")\n",
    "    \n",
    "    francis = agent_executor.run(input)\n",
    "    francis1 = f\"Francis: {francis}\"\n",
    "    conversation_history.append(francis1)\n",
    "\n",
    "    return francis, user_travel_details"
   ]
  },
  {
   "cell_type": "code",
   "execution_count": 54,
   "id": "33c348cf-fa3f-4f67-9c24-11695dacfdf6",
   "metadata": {},
   "outputs": [
    {
     "name": "stdout",
     "output_type": "stream",
     "text": [
      "That's a great choice! Angkor Wat is a magnificent temple complex in Cambodia. When are you looking to travel?\n"
     ]
    }
   ],
   "source": [
    "human_input = \"I want visit  Angkor Wat\"\n",
    "francis_output, user_travel_details = run_francis(human_input, conversation_history, user_travel_details, user_itinerary_details)\n",
    "print(francis_output)"
   ]
  },
  {
   "cell_type": "code",
   "execution_count": 55,
   "id": "11f03f8a-d1be-4ea5-9805-fad0920dbb72",
   "metadata": {},
   "outputs": [
    {
     "name": "stdout",
     "output_type": "stream",
     "text": [
      "Great! April is a wonderful time to visit Angkor Wat. How long are you planning to stay there?\n"
     ]
    }
   ],
   "source": [
    "human_input = \"April\"\n",
    "francis_output, user_travel_details = run_francis(human_input, conversation_history, user_travel_details, user_itinerary_details)\n",
    "print(francis_output)"
   ]
  },
  {
   "cell_type": "code",
   "execution_count": 57,
   "id": "926c5ae0-442e-4b92-8e37-61aac6694190",
   "metadata": {},
   "outputs": [
    {
     "name": "stdout",
     "output_type": "stream",
     "text": [
      "That's a flexible travel duration! Are you interested in exploring multiple destinations or just focusing on Angkor Wat?\n"
     ]
    }
   ],
   "source": [
    "human_input = \"between 7 and 30 days\"\n",
    "francis_output, user_travel_details = run_francis(human_input, conversation_history, user_travel_details, user_itinerary_details)\n",
    "print(francis_output)"
   ]
  },
  {
   "cell_type": "code",
   "execution_count": 58,
   "id": "91a5861b",
   "metadata": {},
   "outputs": [
    {
     "name": "stdout",
     "output_type": "stream",
     "text": [
      "That sounds like a fantastic plan! Exploring Angkor Wat and other Southeast Asian countries will give you a diverse and enriching travel experience. To help me find the perfect trip for you, could you please let me know which specific countries you are interested in visiting?\n"
     ]
    }
   ],
   "source": [
    "human_input = \"Angkor Wat and time through other south east asian countries\"\n",
    "francis_output, user_travel_details = run_francis(human_input, conversation_history, user_travel_details, user_itinerary_details)\n",
    "print(francis_output)"
   ]
  },
  {
   "cell_type": "code",
   "execution_count": 60,
   "id": "c314bbb6",
   "metadata": {},
   "outputs": [
    {
     "name": "stdout",
     "output_type": "stream",
     "text": [
      "Great! Cambodia, Vietnam, and Thailand are all amazing destinations in Southeast Asia. To help me find the perfect trip for you, could you please let me know how much you are looking to spend?\n"
     ]
    }
   ],
   "source": [
    "human_input = \"Cambodia, Vietnam, thailand\"\n",
    "francis_output, user_travel_details = run_francis(human_input, conversation_history, user_travel_details, user_itinerary_details)\n",
    "print(francis_output)"
   ]
  },
  {
   "cell_type": "code",
   "execution_count": 61,
   "id": "a9f266e0",
   "metadata": {},
   "outputs": [
    {
     "data": {
      "text/plain": [
       "TravelDetails(introduction=True, country='Cambodia', departing_after='01/04/2023', departing_before='30/04/2023', max_budget=None, max_duration=30, min_duration=7)"
      ]
     },
     "execution_count": 61,
     "metadata": {},
     "output_type": "execute_result"
    }
   ],
   "source": [
    "user_travel_details"
   ]
  },
  {
   "cell_type": "code",
   "execution_count": 62,
   "id": "1fcbd144-15a0-4d0f-94ef-6746a2cc2b4e",
   "metadata": {},
   "outputs": [
    {
     "name": "stdout",
     "output_type": "stream",
     "text": [
      "all details gathered\n",
      "Thank you for providing your budget of £10000. Based on your budget and preferences, I have found two itineraries that may interest you:\n",
      "\n",
      "1. Best of Cambodia & Northern Thailand: This itinerary includes visits to Angkor Wat in Cambodia and explores the highlights of Northern Thailand. You will have the opportunity to experience the rich history and culture of both countries.\n",
      "\n",
      "2. Cambodia to Vietnam: Night Markets & Noodle-Making: This itinerary takes you from Cambodia to Vietnam, allowing you to explore the vibrant night markets and learn how to make traditional noodles. It's a great way to immerse yourself in the local culture.\n",
      "\n",
      "Please let me know which itinerary you would like more information about or if you have any other questions.\n"
     ]
    }
   ],
   "source": [
    "human_input = \"£10000\"\n",
    "francis_output, user_travel_details = run_francis(human_input, conversation_history, user_travel_details, user_itinerary_details)\n",
    "print(francis_output)"
   ]
  },
  {
   "cell_type": "code",
   "execution_count": 65,
   "id": "fbf2b8ee",
   "metadata": {},
   "outputs": [
    {
     "name": "stdout",
     "output_type": "stream",
     "text": [
      "all details gathered\n",
      "Certainly! Here is a more detailed breakdown of the Best of Cambodia & Northern Thailand itinerary:\n",
      "\n",
      "Day 1: Arrive at any time.\n",
      "Day 2: Start your adventure with a boat cruise through the villages, islands, and markets of the Mekong Delta. You'll also have the opportunity to visit traditional candy factories.\n",
      "Day 3: Travel from Vietnam to Cambodia, crossing the border. Enjoy a cyclo tour through the city.\n",
      "Day 4: Take a guided tour of the Tuol Sleng Museum (S-21 Prison) and Choeung Ek (Killing Fields). You can also choose to visit the Royal Palace, the National Museum, or the Central Market.\n",
      "Day 5: Drive from Phnom Penh to Siem Reap, the home base for exploring the incredible Angkor Wat.\n",
      "Day 6: Witness the stunning sunrise over the massive Angkor temple complex with a guided tour. You can also opt to visit the Tonlé Sap floating village and the Angkor National Museum. In the evening, enjoy a traditional meal of Khmer food at a G Adventures for Good-supported project.\n",
      "Day 7: Spend another day in Siem Reap, exploring more temples of Angkor or venturing further afield.\n",
      "Day 8: Cross the border into Thailand and continue on to the bustling metropolis of Bangkok.\n",
      "Day 9: Explore all that Bangkok has to offer, from its vibrant markets to its stunning temples.\n",
      "Day 10: Take a klong boat tour of Bangkok, including a visit to Wat Pho. Then, travel to Kanchanaburi and head to your floating rafthouse accommodation. Enjoy free time to explore.\n",
      "Day 11: Enjoy a day of sightseeing at Erawan Falls and the Bridge on the River Kwai.\n",
      "Day 12: Explore the Allied War Cemetery and the Thai-Burmese Railway Centre to learn more about the area's history. Travel to Ayutthaya and visit the historical sites of the old capital city. In the evening, board an overnight train to Chiang Mai.\n",
      "Day 13: Arrive in Chiang Mai and explore the city. Visit Doi Suthep in the afternoon.\n",
      "Day 14: Take a full free day to relax or explore the countryside of northern Thailand.\n",
      "Day 15: Depart at any time.\n",
      "\n",
      "Please note that this itinerary is subject to change and may vary slightly depending on the departure date. Let me know if you have any other questions or if there's anything else I can assist you with!\n"
     ]
    }
   ],
   "source": [
    "human_input = \"Could you give me some more details in the best of cambodia trip?\"\n",
    "francis_output, user_travel_details = run_francis(human_input, conversation_history, user_travel_details, user_itinerary_details)\n",
    "print(francis_output)"
   ]
  },
  {
   "cell_type": "code",
   "execution_count": 66,
   "id": "93131ef4",
   "metadata": {},
   "outputs": [
    {
     "name": "stdout",
     "output_type": "stream",
     "text": [
      "all details gathered\n",
      "The price for the Best of Cambodia & Northern Thailand itinerary starts at £1500 per person. Please note that prices may vary depending on the departure date and any additional options or upgrades you choose. Let me know if you have any other questions or if there's anything else I can assist you with!\n"
     ]
    }
   ],
   "source": [
    "human_input = \"How much is it?\"\n",
    "francis_output, user_travel_details = run_francis(human_input, conversation_history, user_travel_details, user_itinerary_details)\n",
    "print(francis_output)"
   ]
  },
  {
   "cell_type": "code",
   "execution_count": 64,
   "id": "fccc8f66-8b37-4e01-97d9-b7fb8e1ffba1",
   "metadata": {},
   "outputs": [
    {
     "name": "stdout",
     "output_type": "stream",
     "text": [
      "Francis:  Hello, this is Francis from Francis Travel. Can i help you find a group tour today?\n",
      "User: I want visit  Angkor Wat\n",
      "Francis: That's a great choice! Angkor Wat is a magnificent temple complex in Cambodia. When are you looking to travel?\n",
      "User: April\n",
      "Francis: Great! April is a wonderful time to visit Angkor Wat. How long are you planning to stay there?\n",
      "User: between 7 and 30 days\n",
      "Francis: That's a flexible travel duration! Are you interested in exploring multiple destinations or just focusing on Angkor Wat?\n",
      "User: Angkor Wat and time through other south east asian countries\n",
      "Francis: That sounds like a fantastic plan! Exploring Angkor Wat and other Southeast Asian countries will give you a diverse and enriching travel experience. To help me find the perfect trip for you, could you please let me know which specific countries you are interested in visiting?\n",
      "User: Cambodia, Vietnam, thailand\n",
      "Francis: Great! Cambodia, Vietnam, and Thailand are all amazing destinations in Southeast Asia. To help me find the perfect trip for you, could you please let me know how much you are looking to spend?\n",
      "User: £10000\n",
      "Francis: Thank you for providing your budget of £10000. Based on your budget and preferences, I have found two itineraries that may interest you:\n",
      "\n",
      "1. Best of Cambodia & Northern Thailand: This itinerary includes visits to Angkor Wat in Cambodia and explores the highlights of Northern Thailand. You will have the opportunity to experience the rich history and culture of both countries.\n",
      "\n",
      "2. Cambodia to Vietnam: Night Markets & Noodle-Making: This itinerary takes you from Cambodia to Vietnam, allowing you to explore the vibrant night markets and learn how to make traditional noodles. It's a great way to immerse yourself in the local culture.\n",
      "\n",
      "Please let me know which itinerary you would like more information about or if you have any other questions.\n"
     ]
    }
   ],
   "source": [
    "for i in conversation_history:\n",
    "    print(i)"
   ]
  },
  {
   "cell_type": "code",
   "execution_count": null,
   "id": "7a4ae1d1",
   "metadata": {},
   "outputs": [],
   "source": []
  }
 ],
 "metadata": {
  "kernelspec": {
   "display_name": "Python 3 (ipykernel)",
   "language": "python",
   "name": "python3"
  },
  "language_info": {
   "codemirror_mode": {
    "name": "ipython",
    "version": 3
   },
   "file_extension": ".py",
   "mimetype": "text/x-python",
   "name": "python",
   "nbconvert_exporter": "python",
   "pygments_lexer": "ipython3",
   "version": "3.10.6"
  },
  "toc": {
   "base_numbering": 1,
   "nav_menu": {},
   "number_sections": true,
   "sideBar": true,
   "skip_h1_title": false,
   "title_cell": "Table of Contents",
   "title_sidebar": "Contents",
   "toc_cell": false,
   "toc_position": {},
   "toc_section_display": true,
   "toc_window_display": false
  }
 },
 "nbformat": 4,
 "nbformat_minor": 5
}
