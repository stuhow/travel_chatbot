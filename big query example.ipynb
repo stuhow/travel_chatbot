{
 "cells": [
  {
   "cell_type": "code",
   "execution_count": 3,
   "id": "2f4f9640",
   "metadata": {},
   "outputs": [],
   "source": [
    "from google.cloud import bigquery\n",
    "\n",
    "PROJECT = \"wagon-bootcamp-377120\"\n",
    "DATASET = \"g_adventures_dataset\"\n",
    "TABLE = \"one_day\"\n",
    "\n",
    "query = f\"\"\"       \n",
    "    SELECT *\n",
    "    FROM {PROJECT}.{DATASET}.{TABLE}\n",
    "    \"\"\"\n",
    "\n",
    "query = f\"\"\"\n",
    "    SELECT COUNT(*) AS table_length\n",
    "    FROM {PROJECT}.{DATASET}.{TABLE}\n",
    "    \"\"\"\n",
    "\n",
    "client = bigquery.Client(project=\"wagon-bootcamp-377120\")\n",
    "query_job = client.query(query)\n",
    "result = query_job.result()\n",
    "df = result.to_dataframe()"
   ]
  },
  {
   "cell_type": "code",
   "execution_count": 4,
   "id": "98c81309",
   "metadata": {},
   "outputs": [
    {
     "data": {
      "text/html": [
       "<div>\n",
       "<style scoped>\n",
       "    .dataframe tbody tr th:only-of-type {\n",
       "        vertical-align: middle;\n",
       "    }\n",
       "\n",
       "    .dataframe tbody tr th {\n",
       "        vertical-align: top;\n",
       "    }\n",
       "\n",
       "    .dataframe thead th {\n",
       "        text-align: right;\n",
       "    }\n",
       "</style>\n",
       "<table border=\"1\" class=\"dataframe\">\n",
       "  <thead>\n",
       "    <tr style=\"text-align: right;\">\n",
       "      <th></th>\n",
       "      <th>table_length</th>\n",
       "    </tr>\n",
       "  </thead>\n",
       "  <tbody>\n",
       "    <tr>\n",
       "      <th>0</th>\n",
       "      <td>62</td>\n",
       "    </tr>\n",
       "  </tbody>\n",
       "</table>\n",
       "</div>"
      ],
      "text/plain": [
       "   table_length\n",
       "0            62"
      ]
     },
     "execution_count": 4,
     "metadata": {},
     "output_type": "execute_result"
    }
   ],
   "source": [
    "df"
   ]
  },
  {
   "cell_type": "code",
   "execution_count": 5,
   "id": "3c70e890",
   "metadata": {},
   "outputs": [],
   "source": [
    "from google.cloud import bigquery\n",
    "\n",
    "PROJECT = \"wagon-bootcamp-377120\"\n",
    "DATASET = \"g_adventures_dataset\"\n",
    "TABLE = \"one_day\"\n",
    "\n",
    "query = f\"\"\"\n",
    "    SELECT *\n",
    "    FROM {PROJECT}.{DATASET}.{TABLE}\n",
    "    WHERE tour_name = 'Highlights of Jordan'\n",
    "    \"\"\"\n",
    "\n",
    "client = bigquery.Client(project=\"wagon-bootcamp-377120\")\n",
    "query_job = client.query(query)\n",
    "result = query_job.result()\n",
    "df = result.to_dataframe()\n",
    "df"
   ]
  },
  {
   "cell_type": "code",
   "execution_count": null,
   "id": "b62117d9",
   "metadata": {},
   "outputs": [],
   "source": []
  }
 ],
 "metadata": {
  "kernelspec": {
   "display_name": "Python 3 (ipykernel)",
   "language": "python",
   "name": "python3"
  },
  "language_info": {
   "codemirror_mode": {
    "name": "ipython",
    "version": 3
   },
   "file_extension": ".py",
   "mimetype": "text/x-python",
   "name": "python",
   "nbconvert_exporter": "python",
   "pygments_lexer": "ipython3",
   "version": "3.10.6"
  },
  "toc": {
   "base_numbering": 1,
   "nav_menu": {},
   "number_sections": true,
   "sideBar": true,
   "skip_h1_title": false,
   "title_cell": "Table of Contents",
   "title_sidebar": "Contents",
   "toc_cell": false,
   "toc_position": {},
   "toc_section_display": true,
   "toc_window_display": false
  }
 },
 "nbformat": 4,
 "nbformat_minor": 5
}
