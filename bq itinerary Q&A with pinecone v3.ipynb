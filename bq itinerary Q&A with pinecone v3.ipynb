{
 "cells": [
  {
   "cell_type": "code",
   "execution_count": 1,
   "id": "9bc0fab0",
   "metadata": {},
   "outputs": [],
   "source": [
    "# there are too many itineraries to have a tool for each itinerary. I need to have a single\n",
    "# Q&A that will check the which itinerary to look up\n",
    "# pip install \"langchain>=0.0.27\""
   ]
  },
  {
   "cell_type": "code",
   "execution_count": 2,
   "id": "ba257b6f",
   "metadata": {},
   "outputs": [
    {
     "name": "stderr",
     "output_type": "stream",
     "text": [
      "/home/stuart/.pyenv/versions/3.10.6/envs/lewagon/lib/python3.10/site-packages/pinecone/index.py:4: TqdmExperimentalWarning: Using `tqdm.autonotebook.tqdm` in notebook mode. Use `tqdm.tqdm` instead to force console mode (e.g. in jupyter console)\n",
      "  from tqdm.autonotebook import tqdm\n"
     ]
    }
   ],
   "source": [
    "import pinecone\n",
    "from google.cloud import bigquery\n",
    "from langchain.embeddings.openai import OpenAIEmbeddings\n",
    "from langchain.text_splitter import CharacterTextSplitter\n",
    "from langchain.vectorstores import Pinecone\n",
    "from langchain.chat_models import ChatOpenAI\n",
    "from langchain.chains import RetrievalQA\n",
    "from langchain.document_loaders import BigQueryLoader\n",
    "from pydantic import BaseModel\n",
    "from langchain.agents import initialize_agent, Tool\n",
    "from langchain.agents import AgentType\n",
    "from typing import Type\n",
    "from pydantic import BaseModel, Field\n",
    "from langchain.tools import BaseTool\n",
    "\n",
    "from dotenv import load_dotenv\n",
    "\n",
    "import os\n",
    "\n",
    "# Load the environment variables from the .env file\n",
    "load_dotenv()\n",
    "\n",
    "# Access environment variables\n",
    "api_key = os.getenv(\"OPENAI_KEY\")\n",
    "pinecone_key = os.getenv('PINECONE_API_KEY')\n",
    "pinecone_env = os.getenv('PINECONE_ENV')"
   ]
  },
  {
   "cell_type": "code",
   "execution_count": 3,
   "id": "bd74c580",
   "metadata": {},
   "outputs": [],
   "source": [
    "embeddings = OpenAIEmbeddings(openai_api_key=api_key)"
   ]
  },
  {
   "cell_type": "code",
   "execution_count": 4,
   "id": "381a6357",
   "metadata": {},
   "outputs": [],
   "source": [
    "\n",
    "pinecone.init(api_key=pinecone_key,\n",
    "              environment=pinecone_env)\n",
    "# pinecone.create_index(\"chatbot\", dimension=1536)"
   ]
  },
  {
   "cell_type": "code",
   "execution_count": 5,
   "id": "be998cd1",
   "metadata": {},
   "outputs": [],
   "source": [
    "PROJECT = \"wagon-bootcamp-377120\"\n",
    "DATASET = \"g_adventures_dataset\"\n",
    "TABLE = \"one_month\"\n",
    "\n",
    "query = f\"\"\"\n",
    "    SELECT \n",
    "      DISTINCT tour_name\n",
    "    FROM {PROJECT}.{DATASET}.{TABLE}\n",
    "    \"\"\"\n",
    "\n",
    "client = bigquery.Client(project=\"wagon-bootcamp-377120\")\n",
    "query_job = client.query(query)\n",
    "result = query_job.result()\n",
    "df = result.to_dataframe()"
   ]
  },
  {
   "cell_type": "code",
   "execution_count": 6,
   "id": "6a3624a5",
   "metadata": {},
   "outputs": [],
   "source": [
    "tour_name_list = df['tour_name']"
   ]
  },
  {
   "cell_type": "code",
   "execution_count": null,
   "id": "13e27e1b",
   "metadata": {},
   "outputs": [],
   "source": []
  },
  {
   "cell_type": "code",
   "execution_count": 7,
   "id": "f63d94ea",
   "metadata": {},
   "outputs": [],
   "source": [
    "from langchain.agents.agent_toolkits import create_retriever_tool\n",
    "from langchain.embeddings.openai import OpenAIEmbeddings\n",
    "from langchain.vectorstores import FAISS\n",
    "\n",
    "\n",
    "embeddings = OpenAIEmbeddings(openai_api_key=api_key)\n",
    "vector_db = FAISS.from_texts(tour_name_list, embeddings)\n",
    "retriever = vector_db.as_retriever(k=1)\n",
    "\n",
    "retriever_tool = create_retriever_tool(\n",
    "        retriever,\n",
    "        name='itinerary_name_search',\n",
    "        description='use to learn the correct spelling of an itinerary name'\n",
    "    )\n",
    "\n"
   ]
  },
  {
   "cell_type": "code",
   "execution_count": 8,
   "id": "7b87fb60",
   "metadata": {},
   "outputs": [],
   "source": [
    "def question_function(att: str, question: str):\n",
    "    \n",
    "    embeddings = OpenAIEmbeddings(openai_api_key=api_key)\n",
    "    \n",
    "    pinecone_index = pinecone.Index(\"chatbot\")\n",
    "    vectorstore = Pinecone(pinecone_index, embeddings.embed_query, \"text\")\n",
    "    \n",
    "    filters = {\"tour_name\": att}\n",
    "\n",
    "    qa = RetrievalQA.from_chain_type(\n",
    "        llm=llm,\n",
    "        chain_type=\"stuff\",\n",
    "        retriever=vectorstore.as_retriever(search_kwargs={'filter': filters})\n",
    "    )\n",
    "\n",
    "    response = qa.run(question)\n",
    "    return response\n",
    "\n",
    "\n",
    "class Itineraryname(BaseModel):\n",
    "    \"\"\"Inputs for my_profile function\"\"\"\n",
    "    itinerary_name: str = Field(description=\"the correct spelling of an itinerary name\")\n",
    "    question: str = Field(description=\"the question to be passed to the model\")\n",
    "\n",
    "class ItineraryQuestions(BaseTool):\n",
    "    name = \"itinerary_question\"\n",
    "    description = \"\"\"\n",
    "        Needed when you want to ask a question about an itinerary.\n",
    "        Use this tool once you have used the retriever_tool to get the correct name\n",
    "        \"\"\"\n",
    "    args_schema: Type[BaseModel] = Itineraryname\n",
    "\n",
    "    def _run(self, itinerary_name: str, question: str):\n",
    "        profile_detail_attribute = question_function(itinerary_name, question)\n",
    "        return profile_detail_attribute\n",
    "\n",
    "    def _arun(self, itinerary_name: str):\n",
    "        raise NotImplementedError(\n",
    "            \"itinerary_question does not support async calls\")"
   ]
  },
  {
   "cell_type": "code",
   "execution_count": 10,
   "id": "7a14e1cc",
   "metadata": {},
   "outputs": [],
   "source": [
    "custom_tool_list = [retriever_tool, ItineraryQuestions()]"
   ]
  },
  {
   "cell_type": "code",
   "execution_count": 11,
   "id": "b748cc6e",
   "metadata": {},
   "outputs": [],
   "source": [
    "llm = ChatOpenAI(\n",
    "    openai_api_key=api_key,\n",
    "    model_name='gpt-3.5-turbo',\n",
    "    temperature=0.0\n",
    ")"
   ]
  },
  {
   "cell_type": "code",
   "execution_count": 12,
   "id": "5fd159f0",
   "metadata": {},
   "outputs": [],
   "source": [
    "from langchain.prompts import PromptTemplate\n",
    "from langchain.prompts import ChatPromptTemplate, MessagesPlaceholder\n",
    "\n",
    "SALES_AGENT_TOOLS_PROMPT = \"\"\"You are being asked a question about an itinerary.\n",
    "The first thing you need to do is to get the correct itinerary name using the itinerary_name_search tool.\n",
    "Once you hvae the correct itinerary name use the itinerary_question tool to answer the question.\n",
    "\n",
    "\"\"\"\n",
    "\n",
    "final_prompt = ChatPromptTemplate.from_messages([\n",
    "  (\"system\", SALES_AGENT_TOOLS_PROMPT),\n",
    "  (\"user\", \"{input}\"),\n",
    "  MessagesPlaceholder(variable_name=\"agent_scratchpad\"),\n",
    "  #MessagesPlaceholder(variable_name=\"chat_history\")  \n",
    "])"
   ]
  },
  {
   "cell_type": "code",
   "execution_count": 16,
   "id": "c6552383",
   "metadata": {},
   "outputs": [],
   "source": [
    "from langchain.agents import OpenAIFunctionsAgent, AgentExecutor\n",
    "\n",
    "# Create the agent\n",
    "agent = OpenAIFunctionsAgent(llm=llm,\n",
    "                             tools=custom_tool_list,\n",
    "                             prompt=final_prompt\n",
    "                            )\n",
    "\n",
    "\n",
    "# Run the agent with the actions\n",
    "agent_executor = AgentExecutor(agent=agent,\n",
    "                               tools=custom_tool_list,\n",
    "                               verbose=True,\n",
    "                               max_iterations=5)\n"
   ]
  },
  {
   "cell_type": "code",
   "execution_count": 17,
   "id": "2a4cacd4",
   "metadata": {},
   "outputs": [],
   "source": [
    "# %%time\n",
    "# response = agent_executor.run(\"how long is the Kenya & Uganda Gorilla Overland itinerary?\")\n",
    "# response"
   ]
  },
  {
   "cell_type": "code",
   "execution_count": 18,
   "id": "05e84fb0",
   "metadata": {},
   "outputs": [
    {
     "name": "stdout",
     "output_type": "stream",
     "text": [
      "\n",
      "\n",
      "\u001b[1m> Entering new AgentExecutor chain...\u001b[0m\n",
      "\u001b[32;1m\u001b[1;3m\n",
      "Invoking: `itinerary_name_search` with `{'query': 'highlights of madagascar'}`\n",
      "\n",
      "\n",
      "\u001b[0m\u001b[36;1m\u001b[1;3m[Document(page_content='Highlights of Madagascar'), Document(page_content='Southern Africa Highlights'), Document(page_content='Highlights of Morocco'), Document(page_content='Highlights of New Zealand')]\u001b[0m\u001b[32;1m\u001b[1;3m\n",
      "Invoking: `itinerary_name_search` with `{'query': 'wonders of namibia'}`\n",
      "\n",
      "\n",
      "\u001b[0m\u001b[36;1m\u001b[1;3m[Document(page_content='Wonders of Namibia'), Document(page_content='Discover Namibia & Victoria Falls'), Document(page_content='Discover Kruger & Namibia'), Document(page_content='Wonders of Bhutan')]\u001b[0m\u001b[32;1m\u001b[1;3m\n",
      "Invoking: `itinerary_question` with `{'itinerary_name': 'Highlights of Madagascar', 'question': 'How long is the Highlights of Madagascar itinerary?'}`\n",
      "\n",
      "\n",
      "\u001b[0m"
     ]
    },
    {
     "name": "stderr",
     "output_type": "stream",
     "text": [
      "/home/stuart/.pyenv/versions/3.10.6/envs/lewagon/lib/python3.10/site-packages/langchain/vectorstores/pinecone.py:59: UserWarning: Passing in `embedding` as a Callable is deprecated. Please pass in an Embeddings object instead.\n",
      "  warnings.warn(\n"
     ]
    },
    {
     "name": "stdout",
     "output_type": "stream",
     "text": [
      "\u001b[33;1m\u001b[1;3mThe Highlights of Madagascar itinerary is 14 days long.\u001b[0m\u001b[32;1m\u001b[1;3m\n",
      "Invoking: `itinerary_question` with `{'itinerary_name': 'Wonders of Namibia', 'question': 'How long is the Wonders of Namibia itinerary?'}`\n",
      "\n",
      "\n",
      "\u001b[0m"
     ]
    },
    {
     "name": "stderr",
     "output_type": "stream",
     "text": [
      "/home/stuart/.pyenv/versions/3.10.6/envs/lewagon/lib/python3.10/site-packages/langchain/vectorstores/pinecone.py:59: UserWarning: Passing in `embedding` as a Callable is deprecated. Please pass in an Embeddings object instead.\n",
      "  warnings.warn(\n"
     ]
    },
    {
     "name": "stdout",
     "output_type": "stream",
     "text": [
      "\u001b[33;1m\u001b[1;3mThe Wonders of Namibia itinerary is 10 days long.\u001b[0m\u001b[32;1m\u001b[1;3mThe Highlights of Madagascar itinerary is longer than the Wonders of Namibia itinerary. The Highlights of Madagascar itinerary is 14 days long, while the Wonders of Namibia itinerary is 10 days long.\u001b[0m\n",
      "\n",
      "\u001b[1m> Finished chain.\u001b[0m\n",
      "CPU times: user 241 ms, sys: 0 ns, total: 241 ms\n",
      "Wall time: 18.6 s\n"
     ]
    },
    {
     "data": {
      "text/plain": [
       "'The Highlights of Madagascar itinerary is longer than the Wonders of Namibia itinerary. The Highlights of Madagascar itinerary is 14 days long, while the Wonders of Namibia itinerary is 10 days long.'"
      ]
     },
     "execution_count": 18,
     "metadata": {},
     "output_type": "execute_result"
    }
   ],
   "source": [
    "%%time\n",
    "response = agent_executor.run(\"which itinerary is longer the highlights of madagascar or the wonders of namibia?\")\n",
    "response"
   ]
  },
  {
   "cell_type": "code",
   "execution_count": null,
   "id": "382efdba",
   "metadata": {},
   "outputs": [],
   "source": []
  },
  {
   "cell_type": "code",
   "execution_count": null,
   "id": "fe4a746e",
   "metadata": {},
   "outputs": [],
   "source": []
  },
  {
   "cell_type": "code",
   "execution_count": null,
   "id": "ae439331",
   "metadata": {},
   "outputs": [],
   "source": []
  }
 ],
 "metadata": {
  "kernelspec": {
   "display_name": "Python 3 (ipykernel)",
   "language": "python",
   "name": "python3"
  },
  "language_info": {
   "codemirror_mode": {
    "name": "ipython",
    "version": 3
   },
   "file_extension": ".py",
   "mimetype": "text/x-python",
   "name": "python",
   "nbconvert_exporter": "python",
   "pygments_lexer": "ipython3",
   "version": "3.10.6"
  },
  "toc": {
   "base_numbering": 1,
   "nav_menu": {},
   "number_sections": true,
   "sideBar": true,
   "skip_h1_title": false,
   "title_cell": "Table of Contents",
   "title_sidebar": "Contents",
   "toc_cell": false,
   "toc_position": {},
   "toc_section_display": true,
   "toc_window_display": false
  }
 },
 "nbformat": 4,
 "nbformat_minor": 5
}
