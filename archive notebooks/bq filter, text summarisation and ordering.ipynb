{
 "cells": [
  {
   "cell_type": "code",
   "execution_count": 1,
   "id": "ea72532f",
   "metadata": {},
   "outputs": [],
   "source": [
    "import pandas as pd\n",
    "from langchain.chains import LLMChain, ReduceDocumentsChain\n",
    "from langchain.llms import OpenAI\n",
    "from langchain.prompts import PromptTemplate\n",
    "from langchain.text_splitter import CharacterTextSplitter\n",
    "from langchain.llms import OpenAI\n",
    "from langchain.embeddings.openai import OpenAIEmbeddings\n",
    "from langchain.chains import RetrievalQA\n",
    "from langchain.vectorstores import Chroma\n",
    "from langchain.chains import create_tagging_chain_pydantic\n",
    "from langchain.document_loaders import TextLoader\n",
    "from langchain.vectorstores import FAISS\n",
    "from langchain.agents.agent_toolkits import create_pandas_dataframe_agent\n",
    "from langchain.agents.agent_types import AgentType\n",
    "from langchain.chains.llm import LLMChain\n",
    "from langchain.prompts import PromptTemplate\n",
    "from langchain.chains.combine_documents.stuff import StuffDocumentsChain\n",
    "from langchain.document_loaders import TextLoader\n",
    "from langchain.chains import ReduceDocumentsChain, MapReduceDocumentsChain\n",
    "from langchain.docstore.document import Document\n",
    "from langchain.document_loaders.csv_loader import CSVLoader\n",
    "import pandas as pd\n",
    "from langchain.document_loaders import BigQueryLoader\n",
    "from langchain.chains.llm import LLMChain\n",
    "from langchain.prompts import PromptTemplate\n",
    "from langchain.chains.combine_documents.stuff import StuffDocumentsChain\n",
    "from google.cloud import bigquery\n",
    "from pydantic import BaseModel"
   ]
  },
  {
   "cell_type": "code",
   "execution_count": 2,
   "id": "bbe60bcb",
   "metadata": {},
   "outputs": [],
   "source": [
    "from dotenv import load_dotenv\n",
    "import os\n",
    "\n",
    "# Load the environment variables from the .env file\n",
    "load_dotenv()\n",
    "\n",
    "# Access environment variables\n",
    "api_key = os.getenv(\"OPENAI_KEY\")"
   ]
  },
  {
   "cell_type": "code",
   "execution_count": 3,
   "id": "bcef3b1c",
   "metadata": {},
   "outputs": [],
   "source": [
    "from langchain.chat_models import ChatOpenAI\n",
    "\n",
    "llm = ChatOpenAI(temperature=0, model=\"gpt-3.5-turbo\", openai_api_key=api_key)"
   ]
  },
  {
   "cell_type": "code",
   "execution_count": 4,
   "id": "8fd55e91",
   "metadata": {},
   "outputs": [],
   "source": [
    "PROJECT = \"wagon-bootcamp-377120\"\n",
    "DATASET = \"g_adventures_dataset\"\n",
    "TABLE = \"one_month\""
   ]
  },
  {
   "cell_type": "code",
   "execution_count": 5,
   "id": "8b90b677",
   "metadata": {},
   "outputs": [],
   "source": [
    "class UserTravelDetails(BaseModel):\n",
    "    country: str\n",
    "    max_budget: float\n",
    "    min_budget: float\n",
    "    departing_after: str\n",
    "    departing_before: str\n",
    "    max_duration: int\n",
    "    min_duration: int"
   ]
  },
  {
   "cell_type": "code",
   "execution_count": 6,
   "id": "9e350e48",
   "metadata": {},
   "outputs": [],
   "source": [
    "# Example usage:\n",
    "user_travel_details = UserTravelDetails(\n",
    "    country=\"Morocco\",\n",
    "    max_budget=1000,\n",
    "    min_budget=0,\n",
    "    departing_after=\"2024-04-02\",\n",
    "    departing_before=\"2024-04-10\",\n",
    "    max_duration=10,\n",
    "    min_duration=5\n",
    ")"
   ]
  },
  {
   "cell_type": "code",
   "execution_count": 8,
   "id": "9dc96efe",
   "metadata": {},
   "outputs": [],
   "source": [
    "def list_all_column_names():\n",
    "    client = bigquery.Client(project=PROJECT)\n",
    "    dataset_ref = client.dataset(DATASET)\n",
    "    table_ref = dataset_ref.table(TABLE)\n",
    "\n",
    "    # Get the table schema\n",
    "    table = client.get_table(table_ref)\n",
    "\n",
    "    # Extract and return the column names\n",
    "    column_names = [field.name for field in table.schema]\n",
    "\n",
    "    return column_names"
   ]
  },
  {
   "cell_type": "code",
   "execution_count": 9,
   "id": "6f95f4c7",
   "metadata": {},
   "outputs": [],
   "source": [
    "# room_categories = list_column_names()\n",
    "# all_columns = list_all_column_names()"
   ]
  },
  {
   "cell_type": "code",
   "execution_count": 10,
   "id": "e90e11e0",
   "metadata": {},
   "outputs": [],
   "source": [
    "found_itineraries = ['Morocco Kasbahs & Desert', 'Moroccan Desert Adventure: River Canyons & Camels']"
   ]
  },
  {
   "cell_type": "code",
   "execution_count": null,
   "id": "32bd8cef",
   "metadata": {},
   "outputs": [],
   "source": []
  },
  {
   "cell_type": "code",
   "execution_count": 11,
   "id": "5c4d1ec4",
   "metadata": {},
   "outputs": [],
   "source": [
    "found_itineraries_string = ', '.join([\"'\" + item + \"'\" for item in found_itineraries])"
   ]
  },
  {
   "cell_type": "code",
   "execution_count": 12,
   "id": "df23a7de",
   "metadata": {},
   "outputs": [],
   "source": [
    "def generate_sql_query(user_travel_details, found_itineraries):\n",
    "    \n",
    "    all_columns = list_all_column_names()\n",
    "    all_columns_str = \",\\n\".join(all_columns)\n",
    "    all_columns_str = all_columns_str + \",\"\n",
    "    \n",
    "    room_categories = [category for category in all_columns if \"Adult\" in category and \"Promotion Description\" not in category]\n",
    "    \n",
    "    category_cases = []\n",
    "\n",
    "    for category in room_categories:\n",
    "        category_case = f\"CASE WHEN {category} > 0 THEN {category} ELSE 1000000 END\"\n",
    "        category_cases.append(category_case)\n",
    "\n",
    "    category_cases_str = \",\\n\".join(category_cases)\n",
    "\n",
    "    query = f\"\"\"\n",
    "    SELECT\n",
    "        MAX(tour_operator) AS tour_operator,\n",
    "        tour_name,\n",
    "        itinerary_name,\n",
    "        MAX(visited_countries) AS visited_countries,\n",
    "        MAX(currency) AS currency,\n",
    "        ARRAY_AGG(DISTINCT cost) AS Costs,\n",
    "        MAX(duration) AS duration,\n",
    "        ARRAY_AGG(CAST(start_date AS STRING) ORDER BY start_date) AS start_dates,\n",
    "        MAX(Travel_Style) AS Travel_Style,\n",
    "        MAX(Service_Level) AS Service_Level,\n",
    "        MAX(Physical_Grading) AS Physical_Grading,\n",
    "        MAX(Merchandising) AS Merchandising,\n",
    "        MAX(Trip_Type) AS Trip_Type,\n",
    "        MAX(itinerary) AS itinerary,\n",
    "        MAX(url) AS url\n",
    "    FROM (\n",
    "        SELECT\n",
    "            {all_columns_str}\n",
    "            LEAST(\n",
    "                {category_cases_str}\n",
    "            ) AS cost\n",
    "        FROM {PROJECT}.{DATASET}.{TABLE}\n",
    "    ) AS subquery\n",
    "        WHERE 1 = 1\n",
    "        \"\"\"\n",
    "\n",
    "    \n",
    "    # Iterate through the provided filter criteria and add them to the query\n",
    "    if user_travel_details.max_budget:\n",
    "        query += f\" AND cost <= {user_travel_details.max_budget}\"\n",
    "\n",
    "    if user_travel_details.departing_after:\n",
    "        query += f\" AND start_date >= '{user_travel_details.departing_after}'\"\n",
    "\n",
    "    if user_travel_details.departing_before:\n",
    "        query += f\" AND start_date <= '{user_travel_details.departing_before}'\"\n",
    "\n",
    "    query += f\"\"\" AND tour_name in ({found_itineraries_string})\n",
    "    GROUP BY\n",
    "        tour_name, itinerary_name;\"\"\"\n",
    "    \n",
    "    return query"
   ]
  },
  {
   "cell_type": "code",
   "execution_count": 13,
   "id": "60f7bd0f",
   "metadata": {},
   "outputs": [],
   "source": [
    "combined_query = generate_sql_query(user_travel_details, found_itineraries)"
   ]
  },
  {
   "cell_type": "code",
   "execution_count": 14,
   "id": "960d2bcd",
   "metadata": {},
   "outputs": [],
   "source": [
    "# client = bigquery.Client(project=\"wagon-bootcamp-377120\")\n",
    "# query_job = client.query(combined_query)\n",
    "# result = query_job.result()\n",
    "# df = result.to_dataframe()\n",
    "# df"
   ]
  },
  {
   "cell_type": "code",
   "execution_count": 18,
   "id": "55fb792b",
   "metadata": {},
   "outputs": [],
   "source": [
    "from langchain.prompts import PromptTemplate\n",
    "from langchain.chains import ReduceDocumentsChain, MapReduceDocumentsChain\n",
    "\n",
    "interests = [\"camels\"]\n",
    "valid_interests = [interest for interest in interests if interest is not None]\n",
    "interests = \", \".join(valid_interests)\n",
    "    \n",
    "\n",
    "map_prompt = f\"\"\"Write a summary and only include the itinerary name, tour length, list departure dates, summary of costs, travel style, physical grading, a summary of the itinerary and present the url to the user.\n",
    "Include a mention of any potential interests: {interests}.\n",
    "\"\"\"\n",
    "map_prompt += \"\"\"\"\n",
    "{docs}\"\n",
    "Produce a summary paragraph not a list or bullet points.\n",
    "CONCISE SUMMARY:\"\"\"\n",
    "map_prompt = PromptTemplate.from_template(map_prompt)\n",
    "\n",
    "\n",
    "\n",
    "\n",
    "reduce_template = \"\"\"\n",
    "You are an AI travel agent speaking to a user. The following is set of summaries that fits the users basic travel needs:\n",
    "{doc_summaries}\n",
    "\"\"\"\n",
    "intermediate_template = f\"\"\"Take these and rank them based on the following user interests: {interests}.\n",
    "Return the ranked itineraries as a summary paragraph and only include the itinerary name, tour length, departure dates, summary of costs, travel style, physical grading, a summary of the itinerary and present the url to the user.\n",
    "Refer to the user as - you.\n",
    "Helpful Answer:\"\"\"\n",
    "reduce_template += intermediate_template\n",
    "\n",
    "reduce_prompt = PromptTemplate.from_template(reduce_template)\n",
    "    \n",
    "    \n",
    "# Map\n",
    "map_chain = LLMChain(llm=llm, prompt=map_prompt)\n",
    "\n",
    "# Run chain\n",
    "reduce_chain = LLMChain(llm=llm, prompt=reduce_prompt)\n",
    "\n",
    "# Takes a list of documents, combines them into a single string, and passes this to an LLMChain\n",
    "combine_documents_chain = StuffDocumentsChain(\n",
    "    llm_chain=reduce_chain, document_variable_name=\"doc_summaries\"\n",
    ")\n",
    "\n",
    "# Combines and iteravely reduces the mapped documents\n",
    "reduce_documents_chain = ReduceDocumentsChain(\n",
    "    # This is final chain that is called.\n",
    "    combine_documents_chain=combine_documents_chain,\n",
    "    # If documents exceed context for `StuffDocumentsChain`\n",
    "    collapse_documents_chain=combine_documents_chain,\n",
    "    # The maximum number of tokens to group documents into.\n",
    "    token_max=4000,\n",
    ")\n",
    "\n",
    "# Combining documents by mapping a chain over them, then combining results\n",
    "map_reduce_chain = MapReduceDocumentsChain(\n",
    "    # Map chain\n",
    "    llm_chain=map_chain,\n",
    "    # Reduce chain\n",
    "    reduce_documents_chain=reduce_documents_chain, #_documents\n",
    "    # The variable name in the llm_chain to put the documents in\n",
    "    document_variable_name=\"docs\",\n",
    "    # Return the results of the map steps in the output\n",
    "    return_intermediate_steps=False,\n",
    ")\n",
    "\n",
    "\n",
    "# loader = BigQueryLoader(combined_query)\n",
    "# docs = loader.load()\n",
    "# itinerary_summary = map_reduce_chain.run(docs)\n",
    "       "
   ]
  },
  {
   "cell_type": "code",
   "execution_count": null,
   "id": "a35550a0",
   "metadata": {},
   "outputs": [],
   "source": []
  },
  {
   "cell_type": "code",
   "execution_count": 19,
   "id": "eddd8e08",
   "metadata": {},
   "outputs": [
    {
     "name": "stdout",
     "output_type": "stream",
     "text": [
      "CPU times: user 190 ms, sys: 7.03 ms, total: 197 ms\n",
      "Wall time: 1min 3s\n"
     ]
    }
   ],
   "source": [
    "%%time\n",
    "loader = BigQueryLoader(combined_query)\n",
    "docs = loader.load()\n",
    "itinerary_summary = map_reduce_chain.run(docs)"
   ]
  },
  {
   "cell_type": "code",
   "execution_count": 20,
   "id": "5714f074",
   "metadata": {},
   "outputs": [
    {
     "name": "stdout",
     "output_type": "stream",
     "text": [
      "Based on your interest in camels, I have ranked the itineraries for you:\n",
      "\n",
      "1. The Morocco Kasbahs & Desert tour by G Adventures is an 8-day trip that offers camel rides in the desert. Departure dates are available on April 2nd, 4th, and 6th, 2024. The tour costs between £649.0 and £699.0. The travel style is Classic, offering a great price for all the cultural highlights and memorable experiences. The physical grading is 2, suitable for most fitness levels with light walking and hiking. The itinerary includes visits to ancient Roman ruins, the Fès medina, the Todra Gorge, and the Aït Ben Haddou Kasbah. The tour concludes with a guided visit to Marrakech. For more information, you can visit [https://www.gadventures.com/trips/morocco-kasbahs-and-desert/DCKD/](https://www.gadventures.com/trips/morocco-kasbahs-and-desert/DCKD/).\n",
      "\n",
      "2. The Moroccan Desert Adventure: River Canyons & Camels tour by G Adventures is a 7-day trip that includes camel rides. Departing on April 6, 2024, this tour is designed for young, budget-minded travelers and offers light physical activities suitable for most fitness levels. The itinerary includes visits to Marrakech, Tinghir, Todra Gorge, the desert, Ait Ben Haddou, the High Atlas Mountains, and Marrakech again. The cost for this tour is £569. For more information and to book, you can visit the G Adventures website at [https://www.gadventures.com/trips/morocco-desert-tour/DCKK/](https://www.gadventures.com/trips/morocco-desert-tour/DCKK/).\n",
      "\n",
      "I hope this helps you in choosing the right itinerary for your camel adventure in Morocco!\n"
     ]
    }
   ],
   "source": [
    "print(itinerary_summary)"
   ]
  },
  {
   "cell_type": "code",
   "execution_count": null,
   "id": "636cdfdc",
   "metadata": {},
   "outputs": [],
   "source": []
  }
 ],
 "metadata": {
  "kernelspec": {
   "display_name": "Python 3 (ipykernel)",
   "language": "python",
   "name": "python3"
  },
  "language_info": {
   "codemirror_mode": {
    "name": "ipython",
    "version": 3
   },
   "file_extension": ".py",
   "mimetype": "text/x-python",
   "name": "python",
   "nbconvert_exporter": "python",
   "pygments_lexer": "ipython3",
   "version": "3.10.6"
  },
  "toc": {
   "base_numbering": 1,
   "nav_menu": {},
   "number_sections": true,
   "sideBar": true,
   "skip_h1_title": false,
   "title_cell": "Table of Contents",
   "title_sidebar": "Contents",
   "toc_cell": false,
   "toc_position": {},
   "toc_section_display": true,
   "toc_window_display": false
  }
 },
 "nbformat": 4,
 "nbformat_minor": 5
}
