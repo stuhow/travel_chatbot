{
 "cells": [
  {
   "cell_type": "code",
   "execution_count": 1,
   "id": "ea72532f",
   "metadata": {},
   "outputs": [],
   "source": [
    "import pandas as pd\n",
    "from langchain.chains import LLMChain, ReduceDocumentsChain\n",
    "from langchain.llms import OpenAI\n",
    "from langchain.prompts import PromptTemplate\n",
    "from langchain.text_splitter import CharacterTextSplitter\n",
    "from langchain.llms import OpenAI\n",
    "from langchain.embeddings.openai import OpenAIEmbeddings\n",
    "from langchain.chains import RetrievalQA\n",
    "from langchain.vectorstores import Chroma\n",
    "from langchain.chains import create_tagging_chain_pydantic\n",
    "from langchain.document_loaders import TextLoader\n",
    "from langchain.vectorstores import FAISS\n",
    "from langchain.agents.agent_toolkits import create_pandas_dataframe_agent\n",
    "from langchain.agents.agent_types import AgentType\n",
    "from langchain.chains.llm import LLMChain\n",
    "from langchain.prompts import PromptTemplate\n",
    "from langchain.chains.combine_documents.stuff import StuffDocumentsChain\n",
    "from langchain.document_loaders import TextLoader\n",
    "from langchain.chains import ReduceDocumentsChain, MapReduceDocumentsChain\n",
    "from langchain.docstore.document import Document\n",
    "from langchain.document_loaders.csv_loader import CSVLoader\n",
    "import pandas as pd"
   ]
  },
  {
   "cell_type": "code",
   "execution_count": 2,
   "id": "bbe60bcb",
   "metadata": {},
   "outputs": [],
   "source": [
    "from dotenv import load_dotenv\n",
    "import os\n",
    "\n",
    "# Load the environment variables from the .env file\n",
    "load_dotenv()\n",
    "\n",
    "# Access environment variables\n",
    "api_key = os.getenv(\"OPENAI_KEY\")"
   ]
  },
  {
   "cell_type": "code",
   "execution_count": 3,
   "id": "bcef3b1c",
   "metadata": {},
   "outputs": [],
   "source": [
    "from langchain.chat_models import ChatOpenAI\n",
    "\n",
    "llm = ChatOpenAI(temperature=0, model=\"gpt-3.5-turbo\", openai_api_key=api_key)"
   ]
  },
  {
   "cell_type": "code",
   "execution_count": 4,
   "id": "a09b5b6d",
   "metadata": {},
   "outputs": [],
   "source": [
    "# map prompt\n",
    "def map_prompt():\n",
    "#    If one or more of the interests is not mentioned include this in the answer.\n",
    "    intermediate_template = f\"\"\"Based on this list of docs, please identify the tour opperator, itinerary name, web address, tour length, cost, departure date, travel style, physical grading and a summary of the itinerary.\n",
    "    Helpful Answer:\"\"\"\n",
    "\n",
    "    map_template = \"\"\"The following is a set of documents\n",
    "    {docs}\n",
    "    \"\"\"\n",
    "    map_template += intermediate_template\n",
    "\n",
    "    map_prompt = PromptTemplate.from_template(map_template)\n",
    "    return map_prompt\n",
    "\n",
    "# first reduce prompt\n",
    "def first_reduce_prompt():\n",
    "    # Reduce\n",
    "    reduce_template = \"\"\"The following is set of summaries:\n",
    "    {doc_summaries}\n",
    "    Take these and distill it into a final, consolidated summary of the the itinerary name, web address, tour length, travel style, physical grading and a summary of the itinerary. After the name also include the range of costs and the departure dates.\n",
    "    Return a single paragraph rather than bullet points. \n",
    "    Helpful Answer:\"\"\"\n",
    "    reduce_prompt = PromptTemplate.from_template(reduce_template)\n",
    "    return reduce_prompt"
   ]
  },
  {
   "cell_type": "code",
   "execution_count": 5,
   "id": "ebc8fe8f",
   "metadata": {},
   "outputs": [],
   "source": [
    "map_chain = LLMChain(llm=llm, prompt=map_prompt())\n",
    "\n",
    "# Run chain\n",
    "reduce_chain = LLMChain(llm=llm, prompt=first_reduce_prompt())\n",
    "\n",
    "# Takes a list of documents, combines them into a single string, and passes this to an LLMChain\n",
    "combine_documents_chain = StuffDocumentsChain(\n",
    "    llm_chain=reduce_chain, document_variable_name=\"doc_summaries\"\n",
    ")\n",
    "\n",
    "# Combines and iteravely reduces the mapped documents\n",
    "reduce_documents_chain = ReduceDocumentsChain(\n",
    "    # This is final chain that is called.\n",
    "    combine_documents_chain=combine_documents_chain,\n",
    "    # If documents exceed context for `StuffDocumentsChain`\n",
    "    collapse_documents_chain=combine_documents_chain,\n",
    "    # The maximum number of tokens to group documents into.\n",
    "    token_max=4000,\n",
    ")\n",
    "\n",
    "# Combining documents by mapping a chain over them, then combining results\n",
    "map_reduce_chain = MapReduceDocumentsChain(\n",
    "    # Map chain\n",
    "    llm_chain=map_chain,\n",
    "    # Reduce chain\n",
    "    reduce_documents_chain=reduce_documents_chain, #_documents\n",
    "    # The variable name in the llm_chain to put the documents in\n",
    "    document_variable_name=\"docs\",\n",
    "    # Return the results of the map steps in the output\n",
    "    return_intermediate_steps=False,\n",
    ")\n",
    "\n"
   ]
  },
  {
   "cell_type": "code",
   "execution_count": 6,
   "id": "df23a7de",
   "metadata": {},
   "outputs": [],
   "source": [
    "from langchain.document_loaders import BigQueryLoader\n",
    "\n",
    "PROJECT = \"wagon-bootcamp-377120\"\n",
    "DATASET = \"g_adventures_dataset\"\n",
    "TABLE = \"one_month\"\n",
    "\n",
    "BASE_QUERY = f\"\"\"\n",
    "    SELECT *\n",
    "    FROM {PROJECT}.{DATASET}.{TABLE}\n",
    "    WHERE tour_name = 'Highlights of Jordan'\n",
    "    \"\"\"\n",
    "\n"
   ]
  },
  {
   "cell_type": "code",
   "execution_count": 7,
   "id": "224efea5",
   "metadata": {},
   "outputs": [],
   "source": [
    "# %%time\n",
    "# loader = BigQueryLoader(BASE_QUERY)\n",
    "# docs = loader.load()\n",
    "# itinerary_summary = map_reduce_chain.run(docs)"
   ]
  },
  {
   "cell_type": "code",
   "execution_count": 8,
   "id": "68ddfb18",
   "metadata": {},
   "outputs": [],
   "source": [
    "# print(itinerary_summary)"
   ]
  },
  {
   "cell_type": "code",
   "execution_count": 15,
   "id": "41ea6da3",
   "metadata": {},
   "outputs": [],
   "source": [
    "from langchain.document_loaders import BigQueryLoader\n",
    "\n",
    "PROJECT = \"wagon-bootcamp-377120\"\n",
    "DATASET = \"g_adventures_dataset\"\n",
    "TABLE = \"one_month\"\n",
    "\n",
    "BASE_QUERY = query = f\"\"\"\n",
    "    SELECT\n",
    "      MAX(tour_operator) AS tour_operator,\n",
    "      tour_name,\n",
    "      itinerary_name,\n",
    "      MAX(visited_countries) AS visited_countries,\n",
    "      MAX(currency) AS currency,\n",
    "      ARRAY_AGG(DISTINCT Standard___Adult) AS Costs,\n",
    "      MAX(duration) AS duration,\n",
    "      ARRAY_AGG(CAST(start_date AS STRING) ORDER BY start_date) AS start_dates,\n",
    "      MAX(Travel_Style) AS Travel_Style,\n",
    "      MAX(Service_Level) AS Service_Level,\n",
    "      MAX(Physical_Grading) AS Physical_Grading,\n",
    "      MAX(Merchandising) AS Merchandising,\n",
    "      MAX(Trip_Type) AS Trip_Type,\n",
    "      MAX(itinerary) AS itinerary,\n",
    "      MAX(url) AS url\n",
    "    FROM\n",
    "      {PROJECT}.{DATASET}.{TABLE}\n",
    "    WHERE \n",
    "      tour_name = 'Peru Panorama'\n",
    "    GROUP BY\n",
    "      tour_name, itinerary_name;\n",
    "    \"\"\"\n"
   ]
  },
  {
   "cell_type": "code",
   "execution_count": 10,
   "id": "444eb9ac",
   "metadata": {},
   "outputs": [
    {
     "name": "stdout",
     "output_type": "stream",
     "text": [
      "CPU times: user 490 ms, sys: 43.7 ms, total: 533 ms\n",
      "Wall time: 50.5 s\n"
     ]
    }
   ],
   "source": [
    "%%time\n",
    "loader = BigQueryLoader(BASE_QUERY)\n",
    "docs = loader.load()\n",
    "itinerary_summary = map_reduce_chain.run(docs)"
   ]
  },
  {
   "cell_type": "code",
   "execution_count": 11,
   "id": "497cdd63",
   "metadata": {},
   "outputs": [
    {
     "name": "stdout",
     "output_type": "stream",
     "text": [
      "The tour operator G Adventures offers a 5-day tour of Coastal Morocco, with a cost of £469.0. The tour is designed for young, budget-minded travelers and falls under the travel style of 18-to-Thirtysomethings. The physical grading is light, suitable for most fitness levels. The itinerary includes arriving in Marrakech and enjoying drinks at a rooftop bar, traveling through the High Atlas Mountains to Taroudant and Taghazout, having a surf lesson and free time for various activities in Taghazout, exploring Essaouira with optional Traditional Hammam Experience, and returning to Marrakech where the trip ends. The departure dates for this tour are 2024-04-12 and 2024-04-19. For more information and booking, visit the website at https://www.gadventures.com/trips/tour-coastal-morocco/DCKE/.\n"
     ]
    }
   ],
   "source": [
    "print(itinerary_summary)"
   ]
  },
  {
   "cell_type": "code",
   "execution_count": 16,
   "id": "352717fa",
   "metadata": {},
   "outputs": [],
   "source": [
    "from langchain.chains.llm import LLMChain\n",
    "from langchain.prompts import PromptTemplate\n",
    "from langchain.chains.combine_documents.stuff import StuffDocumentsChain\n",
    "\n",
    "# Define prompt\n",
    "prompt_template = \"\"\"Write a summary and only include the itinerary name, tour length, a summary of departure dates, summary of costs, travel style, physical grading, a summary of the itinerary and present the url to the user.\n",
    "Include a mention of any potential interests: surfing.\n",
    "\"{text}\"\n",
    "Produce a summary paragraph not a list or bullet points.\n",
    "CONCISE SUMMARY:\"\"\"\n",
    "prompt = PromptTemplate.from_template(prompt_template)\n",
    "\n",
    "# Define LLM chain\n",
    "llm = ChatOpenAI(temperature=0, model_name=\"gpt-3.5-turbo\")\n",
    "llm_chain = LLMChain(llm=llm, prompt=prompt)\n",
    "\n",
    "# Define StuffDocumentsChain\n",
    "stuff_chain = StuffDocumentsChain(\n",
    "    llm_chain=llm_chain, document_variable_name=\"text\"\n",
    ")\n"
   ]
  },
  {
   "cell_type": "code",
   "execution_count": 17,
   "id": "0a205770",
   "metadata": {},
   "outputs": [
    {
     "name": "stdout",
     "output_type": "stream",
     "text": [
      "CPU times: user 117 ms, sys: 4.33 ms, total: 121 ms\n",
      "Wall time: 43.1 s\n"
     ]
    }
   ],
   "source": [
    "%%time\n",
    "loader = BigQueryLoader(BASE_QUERY)\n",
    "docs = loader.load()\n",
    "itinerary_summary = stuff_chain.run(docs)"
   ]
  },
  {
   "cell_type": "code",
   "execution_count": 18,
   "id": "5427e2db",
   "metadata": {},
   "outputs": [
    {
     "name": "stdout",
     "output_type": "stream",
     "text": [
      "G Adventures offers the Peru Panorama tour, which has three different itineraries to choose from: Lares Trek, Cusco Stay, and Inca Trail. The tour lasts for 15 days and visits Peru. The departure dates for the tour are April 6, 8, 13, and 15 in 2024. The cost of the tour is £2769. The travel style is Classic, offering all the highlights and cultural experiences at a great price. The physical grading is 4, meaning it includes some high-altitude hikes and strenuous activities but is accessible to most healthy travelers. \n",
      "\n",
      "For the Lares Trek itinerary, the tour starts with a visit to Puno and Lake Titicaca, followed by a guided tour and homestay in a small village. The tour then continues to Cusco, where a full-day guided tour of the Sacred Valley is included. The highlight of this itinerary is the Lares Trek, a demanding hike that takes travelers through scenic landscapes and ancient ruins, culminating in a visit to Machu Picchu. The tour ends with a visit to Puerto Maldonado and the G Lodge Amazon.\n",
      "\n",
      "For the Cusco Stay itinerary, the tour follows a similar route, with visits to Puno, Lake Titicaca, and Cusco. The highlight of this itinerary is a guided tour of Cusco's colonial side, including visits to the Sapantiana waterfalls and the Ollantaytambo ruins. The tour also includes a visit to Machu Picchu and a stay at the G Lodge Amazon.\n",
      "\n",
      "For the Inca Trail itinerary, the tour includes visits to Puno, Lake Titicaca, and Cusco. The highlight of this itinerary is the iconic Inca Trail hike, which takes travelers through stunning Andean scenery and ancient Incan ruins, leading to a breathtaking view of Machu Picchu. The tour also includes a visit to Puerto Maldonado and the G Lodge Amazon.\n",
      "\n",
      "All three itineraries offer a small group experience, with an average of 12 travelers per departure. The tour is suitable for most healthy travelers, but it does involve demanding physical activities. By booking this tour, travelers also support local communities and sustainable tourism initiatives. For more information and to book the tour, visit the G Adventures website at [https://www.gadventures.com/trips/peru-panorama/PPP/](https://www.gadventures.com/trips/peru-panorama/PPP/).\n"
     ]
    }
   ],
   "source": [
    "print(itinerary_summary)"
   ]
  },
  {
   "cell_type": "code",
   "execution_count": null,
   "id": "8c0bdadc",
   "metadata": {},
   "outputs": [],
   "source": []
  }
 ],
 "metadata": {
  "kernelspec": {
   "display_name": "Python 3 (ipykernel)",
   "language": "python",
   "name": "python3"
  },
  "language_info": {
   "codemirror_mode": {
    "name": "ipython",
    "version": 3
   },
   "file_extension": ".py",
   "mimetype": "text/x-python",
   "name": "python",
   "nbconvert_exporter": "python",
   "pygments_lexer": "ipython3",
   "version": "3.10.6"
  },
  "toc": {
   "base_numbering": 1,
   "nav_menu": {},
   "number_sections": true,
   "sideBar": true,
   "skip_h1_title": false,
   "title_cell": "Table of Contents",
   "title_sidebar": "Contents",
   "toc_cell": false,
   "toc_position": {},
   "toc_section_display": true,
   "toc_window_display": false
  }
 },
 "nbformat": 4,
 "nbformat_minor": 5
}
