{
 "cells": [
  {
   "cell_type": "code",
   "execution_count": 1,
   "id": "9bc0fab0",
   "metadata": {},
   "outputs": [
    {
     "name": "stderr",
     "output_type": "stream",
     "text": [
      "/home/stuart/.pyenv/versions/3.10.6/envs/lewagon/lib/python3.10/site-packages/pinecone/index.py:4: TqdmExperimentalWarning: Using `tqdm.autonotebook.tqdm` in notebook mode. Use `tqdm.tqdm` instead to force console mode (e.g. in jupyter console)\n",
      "  from tqdm.autonotebook import tqdm\n"
     ]
    }
   ],
   "source": [
    "import pinecone\n",
    "from google.cloud import bigquery\n",
    "from langchain.embeddings.openai import OpenAIEmbeddings\n",
    "from langchain.text_splitter import CharacterTextSplitter\n",
    "from langchain.vectorstores import Pinecone\n",
    "from langchain.chat_models import ChatOpenAI\n",
    "from langchain.chains import RetrievalQA\n",
    "from langchain.document_loaders import BigQueryLoader\n",
    "from pydantic import BaseModel\n",
    "from langchain.agents import initialize_agent, Tool\n",
    "from langchain.agents import AgentType\n",
    "from dotenv import load_dotenv\n",
    "import os\n",
    "\n",
    "# Load the environment variables from the .env file\n",
    "load_dotenv()\n",
    "\n",
    "# Access environment variables\n",
    "api_key = os.getenv(\"OPENAI_KEY\")\n",
    "pinecone_key = os.getenv('PINECONE_API_KEY')\n",
    "pinecone_env = os.getenv('PINECONE_ENV')"
   ]
  },
  {
   "cell_type": "code",
   "execution_count": 2,
   "id": "bd74c580",
   "metadata": {},
   "outputs": [],
   "source": [
    "embeddings = OpenAIEmbeddings(openai_api_key=api_key)"
   ]
  },
  {
   "cell_type": "code",
   "execution_count": 3,
   "id": "381a6357",
   "metadata": {},
   "outputs": [],
   "source": [
    "\n",
    "pinecone.init(api_key=pinecone_key,\n",
    "              environment=pinecone_env)\n",
    "# pinecone.create_index(\"chatbot\", dimension=1536)"
   ]
  },
  {
   "cell_type": "code",
   "execution_count": 4,
   "id": "c1a2360c",
   "metadata": {},
   "outputs": [],
   "source": [
    "PROJECT = \"wagon-bootcamp-377120\"\n",
    "DATASET = \"g_adventures_dataset\"\n",
    "TABLE = \"one_month\""
   ]
  },
  {
   "cell_type": "code",
   "execution_count": 5,
   "id": "d010c204",
   "metadata": {},
   "outputs": [],
   "source": [
    "found_itineraries = ['Morocco Kasbahs & Desert', 'Coastal Morocco: Waves & Market Stalls']"
   ]
  },
  {
   "cell_type": "code",
   "execution_count": 6,
   "id": "a57a4243",
   "metadata": {},
   "outputs": [
    {
     "name": "stderr",
     "output_type": "stream",
     "text": [
      "/home/stuart/.pyenv/versions/3.10.6/envs/lewagon/lib/python3.10/site-packages/langchain/vectorstores/pinecone.py:61: UserWarning: Passing in `embedding` as a Callable is deprecated. Please pass in an Embeddings object instead.\n",
      "  warnings.warn(\n"
     ]
    }
   ],
   "source": [
    "tools = []\n",
    "\n",
    "for file in found_itineraries:\n",
    "    \n",
    "    pinecone_index = pinecone.Index(\"chatbot\")\n",
    "    vectorstore = Pinecone(pinecone_index, embeddings.embed_query, \"text\")\n",
    "    \n",
    "    filters = {\"tour_name\": file}\n",
    "\n",
    "    # completion llm\n",
    "    llm = ChatOpenAI(\n",
    "        openai_api_key=api_key,\n",
    "        model_name='gpt-3.5-turbo',\n",
    "        temperature=0.0\n",
    "    )\n",
    "\n",
    "    qa = RetrievalQA.from_chain_type(\n",
    "        llm=llm,\n",
    "        chain_type=\"stuff\",\n",
    "        retriever=vectorstore.as_retriever(search_kwargs={'filter': filters})\n",
    "    )\n",
    "\n",
    "    # Wrap retrievers in a Tool\n",
    "    tools.append(\n",
    "        Tool(\n",
    "            name=file.replace(\" \", \"_\").replace(\"&\", \"_\").replace(\":\", \"_\"),\n",
    "            description=f\"useful when you want to answer questions about {file}\",\n",
    "            func=RetrievalQA.from_chain_type(llm=llm, retriever=vectorstore.as_retriever(search_kwargs={'filter': filters})),\n",
    "        )\n",
    "    )"
   ]
  },
  {
   "cell_type": "code",
   "execution_count": 7,
   "id": "39a8fb62",
   "metadata": {},
   "outputs": [],
   "source": [
    "agent = initialize_agent(\n",
    "    agent=AgentType.OPENAI_FUNCTIONS,\n",
    "    tools=tools,\n",
    "    llm=llm,\n",
    "    verbose=True,\n",
    "    max_iterations=5,\n",
    "    early_stopping_method=\"generate\",\n",
    ")\n",
    "\n"
   ]
  },
  {
   "cell_type": "code",
   "execution_count": 13,
   "id": "7e4c8b74",
   "metadata": {},
   "outputs": [
    {
     "name": "stdout",
     "output_type": "stream",
     "text": [
      "\n",
      "\n",
      "\u001b[1m> Entering new AgentExecutor chain...\u001b[0m\n",
      "\u001b[32;1m\u001b[1;3m\n",
      "Invoking: `Morocco_Kasbahs___Desert` with `camel riding`\n",
      "\n",
      "\n",
      "\u001b[0m\u001b[36;1m\u001b[1;3m{'query': 'camel riding', 'result': \"Yes, camel riding is included in the itinerary of the Morocco Kasbahs & Desert tour with G Adventures. On Day 4 of the tour, you will drive south towards the desert and embark on a camel ride into the dunes to watch the sunset. It's a unique and memorable experience!\"}\u001b[0m\u001b[32;1m\u001b[1;3mYes, camel riding is included in the itinerary of the Morocco Kasbahs & Desert tour. On Day 4 of the tour, you will drive south towards the desert and embark on a camel ride into the dunes to watch the sunset. It's a unique and memorable experience!\u001b[0m\n",
      "\n",
      "\u001b[1m> Finished chain.\u001b[0m\n"
     ]
    },
    {
     "data": {
      "text/plain": [
       "\"Yes, camel riding is included in the itinerary of the Morocco Kasbahs & Desert tour. On Day 4 of the tour, you will drive south towards the desert and embark on a camel ride into the dunes to watch the sunset. It's a unique and memorable experience!\""
      ]
     },
     "execution_count": 13,
     "metadata": {},
     "output_type": "execute_result"
    }
   ],
   "source": [
    "response = agent({\"input\": \"can i ride a camel in the Kasbahs & Desert itinerary?\"})\n",
    "response['output']"
   ]
  },
  {
   "cell_type": "code",
   "execution_count": null,
   "id": "fe82633a",
   "metadata": {},
   "outputs": [],
   "source": []
  },
  {
   "cell_type": "code",
   "execution_count": null,
   "id": "2205be3d",
   "metadata": {},
   "outputs": [],
   "source": []
  },
  {
   "cell_type": "code",
   "execution_count": null,
   "id": "49e45964",
   "metadata": {},
   "outputs": [],
   "source": []
  },
  {
   "cell_type": "code",
   "execution_count": null,
   "id": "09b9b304",
   "metadata": {},
   "outputs": [],
   "source": []
  },
  {
   "cell_type": "code",
   "execution_count": null,
   "id": "83e48359",
   "metadata": {},
   "outputs": [],
   "source": []
  },
  {
   "cell_type": "code",
   "execution_count": 9,
   "id": "5f9282f5",
   "metadata": {},
   "outputs": [
    {
     "ename": "NameError",
     "evalue": "name 'docsearch' is not defined",
     "output_type": "error",
     "traceback": [
      "\u001b[0;31m---------------------------------------------------------------------------\u001b[0m",
      "\u001b[0;31mNameError\u001b[0m                                 Traceback (most recent call last)",
      "Cell \u001b[0;32mIn [9], line 11\u001b[0m\n\u001b[1;32m      1\u001b[0m \u001b[38;5;66;03m# completion llm\u001b[39;00m\n\u001b[1;32m      2\u001b[0m llm \u001b[38;5;241m=\u001b[39m ChatOpenAI(\n\u001b[1;32m      3\u001b[0m     openai_api_key\u001b[38;5;241m=\u001b[39mapi_key,\n\u001b[1;32m      4\u001b[0m     model_name\u001b[38;5;241m=\u001b[39m\u001b[38;5;124m'\u001b[39m\u001b[38;5;124mgpt-3.5-turbo\u001b[39m\u001b[38;5;124m'\u001b[39m,\n\u001b[1;32m      5\u001b[0m     temperature\u001b[38;5;241m=\u001b[39m\u001b[38;5;241m0.0\u001b[39m\n\u001b[1;32m      6\u001b[0m )\n\u001b[1;32m      8\u001b[0m qa \u001b[38;5;241m=\u001b[39m RetrievalQA\u001b[38;5;241m.\u001b[39mfrom_chain_type(\n\u001b[1;32m      9\u001b[0m     llm\u001b[38;5;241m=\u001b[39mllm,\n\u001b[1;32m     10\u001b[0m     chain_type\u001b[38;5;241m=\u001b[39m\u001b[38;5;124m\"\u001b[39m\u001b[38;5;124mstuff\u001b[39m\u001b[38;5;124m\"\u001b[39m,\n\u001b[0;32m---> 11\u001b[0m     retriever\u001b[38;5;241m=\u001b[39mdocsearch\u001b[38;5;241m.\u001b[39mas_retriever()\n\u001b[1;32m     12\u001b[0m )\n",
      "\u001b[0;31mNameError\u001b[0m: name 'docsearch' is not defined"
     ]
    }
   ],
   "source": [
    "# completion llm\n",
    "llm = ChatOpenAI(\n",
    "    openai_api_key=api_key,\n",
    "    model_name='gpt-3.5-turbo',\n",
    "    temperature=0.0\n",
    ")\n",
    "\n",
    "qa = RetrievalQA.from_chain_type(\n",
    "    llm=llm,\n",
    "    chain_type=\"stuff\",\n",
    "    retriever=docsearch.as_retriever()\n",
    ")"
   ]
  },
  {
   "cell_type": "code",
   "execution_count": null,
   "id": "9c9001b7",
   "metadata": {},
   "outputs": [],
   "source": [
    "query = \"how long will i be in the desert for?\""
   ]
  },
  {
   "cell_type": "code",
   "execution_count": null,
   "id": "290ea462",
   "metadata": {},
   "outputs": [],
   "source": [
    "answer = qa.run(query)\n",
    "print(answer)"
   ]
  },
  {
   "cell_type": "code",
   "execution_count": null,
   "id": "d68bcc00",
   "metadata": {},
   "outputs": [],
   "source": [
    "then = datetime.datetime.now()\n",
    "then"
   ]
  },
  {
   "cell_type": "code",
   "execution_count": null,
   "id": "ec93e4db",
   "metadata": {},
   "outputs": [],
   "source": [
    "then - now"
   ]
  },
  {
   "cell_type": "code",
   "execution_count": null,
   "id": "5371f93a",
   "metadata": {},
   "outputs": [],
   "source": [
    "# pinecone.delete_index(\"chatbot\")"
   ]
  },
  {
   "cell_type": "code",
   "execution_count": null,
   "id": "6384541a",
   "metadata": {},
   "outputs": [],
   "source": []
  }
 ],
 "metadata": {
  "kernelspec": {
   "display_name": "Python 3 (ipykernel)",
   "language": "python",
   "name": "python3"
  },
  "language_info": {
   "codemirror_mode": {
    "name": "ipython",
    "version": 3
   },
   "file_extension": ".py",
   "mimetype": "text/x-python",
   "name": "python",
   "nbconvert_exporter": "python",
   "pygments_lexer": "ipython3",
   "version": "3.10.6"
  },
  "toc": {
   "base_numbering": 1,
   "nav_menu": {},
   "number_sections": true,
   "sideBar": true,
   "skip_h1_title": false,
   "title_cell": "Table of Contents",
   "title_sidebar": "Contents",
   "toc_cell": false,
   "toc_position": {},
   "toc_section_display": true,
   "toc_window_display": false
  }
 },
 "nbformat": 4,
 "nbformat_minor": 5
}
