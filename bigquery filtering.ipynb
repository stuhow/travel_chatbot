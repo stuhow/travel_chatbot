{
 "cells": [
  {
   "cell_type": "code",
   "execution_count": 1,
   "id": "40c2e8f8",
   "metadata": {},
   "outputs": [],
   "source": [
    "from pydantic import BaseModel\n",
    "from sqlalchemy import create_engine\n",
    "import pandas as pd\n",
    "from google.cloud import bigquery\n",
    "\n",
    "\n",
    "\n",
    "\n",
    "class UserTravelDetails(BaseModel):\n",
    "    country: str\n",
    "    max_budget: float\n",
    "    min_budget: float\n",
    "    departing_after: str\n",
    "    departing_before: str\n",
    "    max_duration: int\n",
    "    min_duration: int\n",
    "\n",
    "def big_query_filter(user_travel_details: UserTravelDetails):\n",
    "\n",
    "    PROJECT = \"wagon-bootcamp-377120\"\n",
    "    DATASET = \"g_adventures_dataset\"\n",
    "    TABLE = \"one_month\"\n",
    "    \n",
    "    query = f\"SELECT DISTINCT tour_name FROM {PROJECT}.{DATASET}.{TABLE} WHERE 1 = 1\"\n",
    "\n",
    "    # Iterate through the provided filter criteria and add them to the query\n",
    "    if user_travel_details.country:\n",
    "        query += f\" AND visited_countries LIKE '%{user_travel_details.country}%'\"\n",
    "\n",
    "    if user_travel_details.max_budget:\n",
    "        query += f\" AND Standard___Adult <= {user_travel_details.max_budget}\"\n",
    "\n",
    "    if user_travel_details.min_budget:\n",
    "        query += f\" AND Standard___Adult >= {user_travel_details.min_budget}\"\n",
    "\n",
    "    if user_travel_details.departing_after:\n",
    "        query += f\" AND start_date >= '{user_travel_details.departing_after}'\"\n",
    "\n",
    "    if user_travel_details.departing_before:\n",
    "        query += f\" AND start_date <= '{user_travel_details.departing_before}'\"\n",
    "\n",
    "    if user_travel_details.max_duration:\n",
    "        query += f\" AND duration <= {user_travel_details.max_duration}\"\n",
    "\n",
    "    if user_travel_details.min_duration:\n",
    "        query += f\" AND duration >= {user_travel_details.min_duration}\"\n",
    "        \n",
    "    client = bigquery.Client(project=PROJECT)\n",
    "    query_job = client.query(query)\n",
    "    result = query_job.result()\n",
    "    df = result.to_dataframe()\n",
    "\n",
    "    return list(df[\"tour_name\"])\n",
    "\n",
    "\n",
    "\n"
   ]
  },
  {
   "cell_type": "code",
   "execution_count": 2,
   "id": "f128ae13",
   "metadata": {},
   "outputs": [],
   "source": [
    "# Example usage:\n",
    "user_travel_details = UserTravelDetails(\n",
    "    country=\"Argentina\",\n",
    "    max_budget=2000,\n",
    "    min_budget=0,\n",
    "    departing_after=\"2024-04-15\",\n",
    "    departing_before=\"2024-04-30\",\n",
    "    max_duration=10,\n",
    "    min_duration=7\n",
    ")"
   ]
  },
  {
   "cell_type": "code",
   "execution_count": 3,
   "id": "d073eb80",
   "metadata": {},
   "outputs": [],
   "source": [
    "df = big_query_filter(user_travel_details)"
   ]
  },
  {
   "cell_type": "code",
   "execution_count": 4,
   "id": "c662dfa0",
   "metadata": {},
   "outputs": [
    {
     "data": {
      "text/plain": [
       "['Highlights of Chile & Argentina', 'Iguassu & Beyond']"
      ]
     },
     "execution_count": 4,
     "metadata": {},
     "output_type": "execute_result"
    }
   ],
   "source": [
    "df"
   ]
  },
  {
   "cell_type": "code",
   "execution_count": null,
   "id": "22cdd1de",
   "metadata": {},
   "outputs": [],
   "source": []
  }
 ],
 "metadata": {
  "kernelspec": {
   "display_name": "Python 3 (ipykernel)",
   "language": "python",
   "name": "python3"
  },
  "language_info": {
   "codemirror_mode": {
    "name": "ipython",
    "version": 3
   },
   "file_extension": ".py",
   "mimetype": "text/x-python",
   "name": "python",
   "nbconvert_exporter": "python",
   "pygments_lexer": "ipython3",
   "version": "3.10.6"
  },
  "toc": {
   "base_numbering": 1,
   "nav_menu": {},
   "number_sections": true,
   "sideBar": true,
   "skip_h1_title": false,
   "title_cell": "Table of Contents",
   "title_sidebar": "Contents",
   "toc_cell": false,
   "toc_position": {},
   "toc_section_display": true,
   "toc_window_display": false
  }
 },
 "nbformat": 4,
 "nbformat_minor": 5
}
