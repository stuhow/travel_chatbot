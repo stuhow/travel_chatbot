{
 "cells": [
  {
   "cell_type": "code",
   "execution_count": 18,
   "id": "81ae17b1",
   "metadata": {},
   "outputs": [],
   "source": [
    "import pinecone\n",
    "\n",
    "from google.cloud import bigquery\n",
    "\n",
    "from langchain.embeddings.openai import OpenAIEmbeddings\n",
    "from langchain.text_splitter import CharacterTextSplitter\n",
    "from langchain.vectorstores import Pinecone\n",
    "from langchain.chat_models import ChatOpenAI\n",
    "from langchain.chains import RetrievalQA\n",
    "from langchain.document_loaders import BigQueryLoader\n",
    "\n",
    "from dotenv import load_dotenv\n",
    "import os\n",
    "\n",
    "# Load the environment variables from the .env file\n",
    "load_dotenv()\n",
    "\n",
    "# Access environment variables\n",
    "api_key = os.getenv(\"OPENAI_KEY\")\n",
    "pinecone_key = os.getenv('PINECONE_API_KEY')\n",
    "pinecone_env = os.getenv('PINECONE_ENV')"
   ]
  },
  {
   "cell_type": "code",
   "execution_count": 19,
   "id": "bdf405fa",
   "metadata": {},
   "outputs": [],
   "source": [
    "pinecone.init(api_key=pinecone_key,\n",
    "              environment=pinecone_env)"
   ]
  },
  {
   "cell_type": "code",
   "execution_count": 20,
   "id": "0f969a6e",
   "metadata": {},
   "outputs": [],
   "source": [
    "# one itinerary"
   ]
  },
  {
   "cell_type": "code",
   "execution_count": 21,
   "id": "14b7d499",
   "metadata": {},
   "outputs": [],
   "source": [
    " # Peru Panorama"
   ]
  },
  {
   "cell_type": "code",
   "execution_count": 22,
   "id": "b2213dc0",
   "metadata": {},
   "outputs": [],
   "source": [
    "# query = \"\"\"\n",
    "#     SELECT \n",
    "#         MAX(tour_operator) AS tour_operator,\n",
    "#         tour_name,\n",
    "#         itinerary_name,\n",
    "#         MAX(visited_countries) AS visited_countries,\n",
    "#         MAX(duration) AS duration,\n",
    "#         MAX(Travel_Style) AS Travel_Style,\n",
    "#         MAX(Service_Level) AS Service_Level,\n",
    "#         MAX(Physical_Grading) AS Physical_Grading,\n",
    "#         MAX(Merchandising) AS Merchandising,\n",
    "#         MAX(Trip_Type) AS Trip_Type,\n",
    "#         MAX(itinerary) AS itinerary,\n",
    "#         MAX(url) AS url\n",
    "#     FROM {PROJECT}.{DATASET}.{TABLE}\n",
    "#     WHERE \n",
    "#       tour_name = 'Morocco Kasbahs & Desert'\n",
    "#     GROUP BY\n",
    "#       tour_name, itinerary_name;\n",
    "#     \"\"\"\n"
   ]
  },
  {
   "cell_type": "code",
   "execution_count": 23,
   "id": "7c4d78c9",
   "metadata": {},
   "outputs": [],
   "source": [
    "# # Create index if it doesn't exist already\n",
    "# if \"chatbot\" not in pinecone.list_indexes():\n",
    "#     pinecone.create_index(\n",
    "#         name=\"chatbot\",\n",
    "#         dimension=1536, \n",
    "#         metric=\"cosine\" \n",
    "#     )\n",
    "\n",
    "# # Load embeddings model  \n",
    "# embeddings = OpenAIEmbeddings(openai_api_key=api_key)\n",
    "\n",
    "# # Load texts\n",
    "# loader = BigQueryLoader(query, metadata_columns=[\"tour_name\"])\n",
    "\n",
    "# docs = loader.load()\n",
    "\n",
    "# text_splitter = CharacterTextSplitter(chunk_size=500, chunk_overlap=50)\n",
    "\n",
    "# texts = text_splitter.split_documents(docs)\n",
    "\n"
   ]
  },
  {
   "cell_type": "code",
   "execution_count": 24,
   "id": "e1d5ee18",
   "metadata": {},
   "outputs": [],
   "source": [
    "# # Create Pinecone index instance\n",
    "# index = pinecone.Index(\"chatbot\")\n",
    "\n",
    "# # Upsert texts into index\n",
    "# docsearch = Pinecone.from_documents(texts, embeddings, index_name=\"chatbot\")"
   ]
  },
  {
   "cell_type": "code",
   "execution_count": 25,
   "id": "c41f22e7",
   "metadata": {},
   "outputs": [],
   "source": [
    "# 2 itienraries"
   ]
  },
  {
   "cell_type": "code",
   "execution_count": 26,
   "id": "b9853b24",
   "metadata": {},
   "outputs": [],
   "source": [
    "# found_itineraries = ['Morocco Kasbahs & Desert', 'Coastal Morocco: Waves & Market Stalls']"
   ]
  },
  {
   "cell_type": "code",
   "execution_count": 27,
   "id": "c6da2270",
   "metadata": {},
   "outputs": [],
   "source": [
    "# # Create index if it doesn't exist already\n",
    "# if \"chatbot\" not in pinecone.list_indexes():\n",
    "#     pinecone.create_index(\n",
    "#         name=\"chatbot\",\n",
    "#         dimension=1536, \n",
    "#         metric=\"cosine\" \n",
    "#     )\n",
    "\n",
    "# for itinerary in found_itineraries:\n",
    "#     query = f\"\"\"\n",
    "#     SELECT \n",
    "#         MAX(tour_operator) AS tour_operator,\n",
    "#         tour_name,\n",
    "#         itinerary_name,\n",
    "#         MAX(visited_countries) AS visited_countries,\n",
    "#         MAX(duration) AS duration,\n",
    "#         MAX(Travel_Style) AS Travel_Style,\n",
    "#         MAX(Service_Level) AS Service_Level,\n",
    "#         MAX(Physical_Grading) AS Physical_Grading,\n",
    "#         MAX(Merchandising) AS Merchandising,\n",
    "#         MAX(Trip_Type) AS Trip_Type,\n",
    "#         MAX(itinerary) AS itinerary,\n",
    "#         MAX(url) AS url\n",
    "#     FROM {PROJECT}.{DATASET}.{TABLE}\n",
    "#     WHERE \n",
    "#       tour_name = '{itinerary}'\n",
    "#     GROUP BY\n",
    "#       tour_name, itinerary_name;\n",
    "#     \"\"\"\n",
    "    \n",
    "#     # Load embeddings model  \n",
    "#     embeddings = OpenAIEmbeddings(openai_api_key=api_key)\n",
    "\n",
    "#     # Load texts\n",
    "#     loader = BigQueryLoader(query, metadata_columns=[\"tour_name\"])\n",
    "\n",
    "#     docs = loader.load()\n",
    "\n",
    "#     text_splitter = CharacterTextSplitter(chunk_size=500, chunk_overlap=50)\n",
    "\n",
    "#     texts = text_splitter.split_documents(docs)\n",
    "\n",
    "#     # Create Pinecone index instance\n",
    "#     index = pinecone.Index(\"chatbot\")\n",
    "\n",
    "#     # Upsert texts into index\n",
    "#     docsearch = Pinecone.from_documents(texts, embeddings, index_name=\"chatbot\")\n",
    "#     print('Done')"
   ]
  },
  {
   "cell_type": "code",
   "execution_count": 28,
   "id": "1a1db8f4",
   "metadata": {},
   "outputs": [],
   "source": [
    "# all itineraries"
   ]
  },
  {
   "cell_type": "code",
   "execution_count": 29,
   "id": "6ef26c15",
   "metadata": {},
   "outputs": [],
   "source": [
    "\n",
    "PROJECT = \"wagon-bootcamp-377120\"\n",
    "DATASET = \"g_adventures_dataset\"\n",
    "TABLE = \"one_month\"\n",
    "\n",
    "query = f\"\"\"\n",
    "    SELECT \n",
    "      DISTINCT tour_name\n",
    "    FROM {PROJECT}.{DATASET}.{TABLE}\n",
    "    \"\"\"\n",
    "\n",
    "client = bigquery.Client(project=\"wagon-bootcamp-377120\")\n",
    "query_job = client.query(query)\n",
    "result = query_job.result()\n",
    "df = result.to_dataframe()"
   ]
  },
  {
   "cell_type": "code",
   "execution_count": 30,
   "id": "7e918d72",
   "metadata": {},
   "outputs": [],
   "source": [
    "tour_name_list = df['tour_name']"
   ]
  },
  {
   "cell_type": "code",
   "execution_count": 31,
   "id": "d32b6b46",
   "metadata": {},
   "outputs": [
    {
     "data": {
      "text/plain": [
       "351"
      ]
     },
     "execution_count": 31,
     "metadata": {},
     "output_type": "execute_result"
    }
   ],
   "source": [
    "len(tour_name_list)"
   ]
  },
  {
   "cell_type": "code",
   "execution_count": 32,
   "id": "c87b8bca",
   "metadata": {},
   "outputs": [
    {
     "data": {
      "text/plain": [
       "0      Western and Central Europe: Venice, the Alps &...\n",
       "1       Costa Rica: Volcanoes, Cloud Forests & Zip-Lines\n",
       "2      Cancún Escape: Beaches, Cenotes, & Crystal-Cle...\n",
       "3      Yucatan & Cancún: Merida, Mayan Ruins, & Beach...\n",
       "4      Inca Adventure: Cusco, Machu Picchu & the Best...\n",
       "                             ...                        \n",
       "346                      Explore Kruger & Victoria Falls\n",
       "347    Morocco Family Journey: Ancient Souks to the S...\n",
       "348           Beijing to Tokyo: The Great Wall & Mt Fuji\n",
       "349                                        Wellness Bali\n",
       "350                                  Wellness Costa Rica\n",
       "Name: tour_name, Length: 351, dtype: object"
      ]
     },
     "execution_count": 32,
     "metadata": {},
     "output_type": "execute_result"
    }
   ],
   "source": [
    "tour_name_list"
   ]
  },
  {
   "cell_type": "code",
   "execution_count": 33,
   "id": "c07a3a88",
   "metadata": {
    "scrolled": true
   },
   "outputs": [
    {
     "name": "stdout",
     "output_type": "stream",
     "text": [
      "Started: Western and Central Europe: Venice, the Alps & the Flavours of Rome\n"
     ]
    },
    {
     "name": "stderr",
     "output_type": "stream",
     "text": [
      "Created a chunk of size 1490, which is longer than the specified 500\n",
      "Created a chunk of size 573, which is longer than the specified 500\n",
      "Created a chunk of size 587, which is longer than the specified 500\n",
      "Created a chunk of size 1885, which is longer than the specified 500\n"
     ]
    },
    {
     "name": "stdout",
     "output_type": "stream",
     "text": [
      "Done: Western and Central Europe: Venice, the Alps & the Flavours of Rome\n",
      "Started: Costa Rica: Volcanoes, Cloud Forests & Zip-Lines\n",
      "Done: Costa Rica: Volcanoes, Cloud Forests & Zip-Lines\n",
      "Started: Cancún Escape: Beaches, Cenotes, & Crystal-Clear Water\n",
      "Done: Cancún Escape: Beaches, Cenotes, & Crystal-Clear Water\n",
      "Started: Yucatan & Cancún: Merida, Mayan Ruins, & Beachside Livin'\n",
      "Done: Yucatan & Cancún: Merida, Mayan Ruins, & Beachside Livin'\n",
      "Started: Inca Adventure: Cusco, Machu Picchu & the Best Views Ever\n",
      "Done: Inca Adventure: Cusco, Machu Picchu & the Best Views Ever\n",
      "Started: Essential Western Europe: Amsterdam, Berlin & Epic Views\n"
     ]
    },
    {
     "name": "stderr",
     "output_type": "stream",
     "text": [
      "Created a chunk of size 1513, which is longer than the specified 500\n",
      "Created a chunk of size 709, which is longer than the specified 500\n",
      "Created a chunk of size 1943, which is longer than the specified 500\n",
      "Created a chunk of size 527, which is longer than the specified 500\n",
      "Created a chunk of size 814, which is longer than the specified 500\n",
      "Created a chunk of size 751, which is longer than the specified 500\n"
     ]
    },
    {
     "name": "stdout",
     "output_type": "stream",
     "text": [
      "Done: Essential Western Europe: Amsterdam, Berlin & Epic Views\n",
      "Started: Ultimate Vietnam: Big Cities, Beaches & The Best Views Ever\n",
      "Done: Ultimate Vietnam: Big Cities, Beaches & The Best Views Ever\n",
      "Started: Epic Vietnam: Hanoi, Ho Chi Minh City & Handmade Noodles\n",
      "Done: Epic Vietnam: Hanoi, Ho Chi Minh City & Handmade Noodles\n",
      "Started: North & Central Vietnam: Hanoi, Hoi An & Countryside Adventures\n",
      "Done: North & Central Vietnam: Hanoi, Hoi An & Countryside Adventures\n",
      "Started: Cambodia to Bangkok: Phnom Penh, Siem Reap & Khao San Road Hangouts\n",
      "Done: Cambodia to Bangkok: Phnom Penh, Siem Reap & Khao San Road Hangouts\n",
      "Started: Costa Rica: Beaches, Wildlife & Wild Times\n",
      "Done: Costa Rica: Beaches, Wildlife & Wild Times\n",
      "Started: Epic Costa Rica: Craters, Rainforests & Hanging-10\n",
      "Done: Epic Costa Rica: Craters, Rainforests & Hanging-10\n",
      "Started: Central Mexico & Yucatan: Mexico City, Oaxaca, Oh Yeah\n",
      "Done: Central Mexico & Yucatan: Mexico City, Oaxaca, Oh Yeah\n",
      "Started: The Total Peru Package: Cities, Deserts & Inca Ruins\n",
      "Done: The Total Peru Package: Cities, Deserts & Inca Ruins\n",
      "Started: Hanoi Escape: Night Life, City Vibes & Bia Hoi Corner\n",
      "Done: Hanoi Escape: Night Life, City Vibes & Bia Hoi Corner\n",
      "Started: Yucatan Adventure: Merida, Tulum & Jungle Swims\n",
      "Done: Yucatan Adventure: Merida, Tulum & Jungle Swims\n",
      "Started: Vietnam and Cambodia: Mekong, Local Markets & Secluded Islands\n",
      "Done: Vietnam and Cambodia: Mekong, Local Markets & Secluded Islands\n",
      "Started: Central Mexico: Puerto Escondido, Mexico City & Epic Mountain Views\n",
      "Done: Central Mexico: Puerto Escondido, Mexico City & Epic Mountain Views\n",
      "Started: The Peruvian Coast: Seafood, Sandboarding & Dune Buggies\n",
      "Done: The Peruvian Coast: Seafood, Sandboarding & Dune Buggies\n",
      "Started: Gotta-See Europe: Germany, Austria, Italy\n"
     ]
    },
    {
     "name": "stderr",
     "output_type": "stream",
     "text": [
      "Created a chunk of size 1505, which is longer than the specified 500\n",
      "Created a chunk of size 709, which is longer than the specified 500\n",
      "Created a chunk of size 1943, which is longer than the specified 500\n",
      "Created a chunk of size 527, which is longer than the specified 500\n",
      "Created a chunk of size 814, which is longer than the specified 500\n",
      "Created a chunk of size 751, which is longer than the specified 500\n",
      "Created a chunk of size 1244, which is longer than the specified 500\n",
      "Created a chunk of size 574, which is longer than the specified 500\n",
      "Created a chunk of size 588, which is longer than the specified 500\n",
      "Created a chunk of size 1888, which is longer than the specified 500\n"
     ]
    },
    {
     "name": "stdout",
     "output_type": "stream",
     "text": [
      "Done: Gotta-See Europe: Germany, Austria, Italy\n",
      "Started: Thailand Adventure: Bangkok, Chiang Mai & Street Food Crawls\n",
      "Done: Thailand Adventure: Bangkok, Chiang Mai & Street Food Crawls\n",
      "Started: Bangkok to Hanoi: Chiang Mai, Night Markets & Streetside Bars\n",
      "Done: Bangkok to Hanoi: Chiang Mai, Night Markets & Streetside Bars\n",
      "Started: Southeast Asia Trifecta: Cambodia, Vietnam & Bangkok Vibes\n",
      "Done: Southeast Asia Trifecta: Cambodia, Vietnam & Bangkok Vibes\n",
      "Started: Vietnam Adventure: Hoi An, Beaches & Ho Chi Minh City\n",
      "Done: Vietnam Adventure: Hoi An, Beaches & Ho Chi Minh City\n",
      "Started: The Most Mexico: Central Mexico, Yucatan & Cancún\n",
      "Done: The Most Mexico: Central Mexico, Yucatan & Cancún\n",
      "Started: Galápagos — North, West & Central Islands aboard the Yolita\n"
     ]
    },
    {
     "name": "stderr",
     "output_type": "stream",
     "text": [
      "Created a chunk of size 2371, which is longer than the specified 500\n"
     ]
    },
    {
     "name": "stdout",
     "output_type": "stream",
     "text": [
      "Done: Galápagos — North, West & Central Islands aboard the Yolita\n",
      "Started: Galápagos – Central and East Islands aboard the Reina Silvia Voyager\n",
      "Done: Galápagos – Central and East Islands aboard the Reina Silvia Voyager\n",
      "Started: Galápagos – West and Central Islands aboard the Reina Silvia Voyager\n",
      "Done: Galápagos – West and Central Islands aboard the Reina Silvia Voyager\n",
      "Started: Sailing Thailand - Phuket to Ko Phi Phi\n",
      "Done: Sailing Thailand - Phuket to Ko Phi Phi\n",
      "Started: Galápagos — Central, South & East Islands aboard the Yolita\n",
      "Done: Galápagos — Central, South & East Islands aboard the Yolita\n",
      "Started: Montenegro Sailing - Dubrovnik to Dubrovnik\n",
      "Done: Montenegro Sailing - Dubrovnik to Dubrovnik\n",
      "Started: Sailing the Canary Islands\n",
      "Done: Sailing the Canary Islands\n",
      "Started: Maldives Dhoni Explorer\n"
     ]
    },
    {
     "name": "stderr",
     "output_type": "stream",
     "text": [
      "Created a chunk of size 1292, which is longer than the specified 500\n",
      "Created a chunk of size 550, which is longer than the specified 500\n",
      "Created a chunk of size 550, which is longer than the specified 500\n",
      "Created a chunk of size 550, which is longer than the specified 500\n",
      "Created a chunk of size 550, which is longer than the specified 500\n"
     ]
    },
    {
     "name": "stdout",
     "output_type": "stream",
     "text": [
      "Done: Maldives Dhoni Explorer\n",
      "Started: Maldives Dhoni Cruise\n"
     ]
    },
    {
     "name": "stderr",
     "output_type": "stream",
     "text": [
      "Created a chunk of size 1290, which is longer than the specified 500\n",
      "Created a chunk of size 550, which is longer than the specified 500\n",
      "Created a chunk of size 550, which is longer than the specified 500\n",
      "Created a chunk of size 550, which is longer than the specified 500\n",
      "Created a chunk of size 550, which is longer than the specified 500\n"
     ]
    },
    {
     "name": "stdout",
     "output_type": "stream",
     "text": [
      "Done: Maldives Dhoni Cruise\n",
      "Started: Galápagos Land & Sea — Central & South Islands aboard the Yolita\n",
      "Done: Galápagos Land & Sea — Central & South Islands aboard the Yolita\n",
      "Started: Galápagos — West & Central Islands aboard the Eden\n"
     ]
    },
    {
     "name": "stderr",
     "output_type": "stream",
     "text": [
      "Created a chunk of size 2370, which is longer than the specified 500\n"
     ]
    },
    {
     "name": "stdout",
     "output_type": "stream",
     "text": [
      "Done: Galápagos — West & Central Islands aboard the Eden\n",
      "Started: Amazon Riverboat Adventure In Depth\n",
      "Done: Amazon Riverboat Adventure In Depth\n",
      "Started: Complete Galápagos - Eden\n"
     ]
    },
    {
     "name": "stderr",
     "output_type": "stream",
     "text": [
      "Created a chunk of size 4142, which is longer than the specified 500\n"
     ]
    },
    {
     "name": "stdout",
     "output_type": "stream",
     "text": [
      "Done: Complete Galápagos - Eden\n",
      "Started: Galápagos — North & Central Islands aboard the Eden\n",
      "Done: Galápagos — North & Central Islands aboard the Eden\n",
      "Started: Galápagos — South & East Islands aboard the Yolita\n"
     ]
    },
    {
     "name": "stderr",
     "output_type": "stream",
     "text": [
      "Created a chunk of size 1925, which is longer than the specified 500\n"
     ]
    },
    {
     "name": "stdout",
     "output_type": "stream",
     "text": [
      "Done: Galápagos — South & East Islands aboard the Yolita\n",
      "Started: Galápagos — East, Central, & West Islands aboard the Eden\n"
     ]
    },
    {
     "name": "stderr",
     "output_type": "stream",
     "text": [
      "Created a chunk of size 941, which is longer than the specified 500\n",
      "Created a chunk of size 1740, which is longer than the specified 500\n"
     ]
    },
    {
     "name": "stdout",
     "output_type": "stream",
     "text": [
      "Done: Galápagos — East, Central, & West Islands aboard the Eden\n",
      "Started: Complete Galápagos - Yolita\n"
     ]
    },
    {
     "name": "stderr",
     "output_type": "stream",
     "text": [
      "Created a chunk of size 2339, which is longer than the specified 500\n"
     ]
    },
    {
     "name": "stdout",
     "output_type": "stream",
     "text": [
      "Done: Complete Galápagos - Yolita\n",
      "Started: Sailing Croatia - Dubrovnik to Split\n"
     ]
    },
    {
     "name": "stderr",
     "output_type": "stream",
     "text": [
      "Created a chunk of size 5181, which is longer than the specified 500\n"
     ]
    },
    {
     "name": "stdout",
     "output_type": "stream",
     "text": [
      "Done: Sailing Croatia - Dubrovnik to Split\n",
      "Started: Galápagos — North, Central, & South Islands aboard the Eden\n",
      "Done: Galápagos — North, Central, & South Islands aboard the Eden\n",
      "Started: Galápagos – Central and East Islands aboard the Reina Silvia Voyager (Cruise Only)\n",
      "Done: Galápagos – Central and East Islands aboard the Reina Silvia Voyager (Cruise Only)\n",
      "Started: Galápagos – West and Central Islands aboard the Reina Silvia Voyager (Cruise Only)\n",
      "Done: Galápagos – West and Central Islands aboard the Reina Silvia Voyager (Cruise Only)\n",
      "Started: Sailing Thailand - Phuket to Phuket\n",
      "Done: Sailing Thailand - Phuket to Phuket\n",
      "Started: Sailing Thailand - Ko Phi Phi to Phuket\n",
      "Done: Sailing Thailand - Ko Phi Phi to Phuket\n",
      "Started: Galápagos — South & East Islands aboard the Eden\n",
      "Done: Galápagos — South & East Islands aboard the Eden\n",
      "Started: Salkantay Trek & Machu Picchu\n",
      "Done: Salkantay Trek & Machu Picchu\n",
      "Started: Biking Cuba\n"
     ]
    },
    {
     "name": "stderr",
     "output_type": "stream",
     "text": [
      "Created a chunk of size 1983, which is longer than the specified 500\n"
     ]
    },
    {
     "name": "stdout",
     "output_type": "stream",
     "text": [
      "Done: Biking Cuba\n",
      "Started: Northern Thailand Hilltribes Trek\n",
      "Done: Northern Thailand Hilltribes Trek\n",
      "Started: The Inca Trail\n",
      "Done: The Inca Trail\n",
      "Started: The Lares Trek\n",
      "Done: The Lares Trek\n",
      "Started: Corfu Trail Hiking Highlights\n",
      "Done: Corfu Trail Hiking Highlights\n",
      "Started: Costa Rica Active Adventure\n",
      "Done: Costa Rica Active Adventure\n",
      "Started: Torres del Paine - The W Trek\n",
      "Done: Torres del Paine - The W Trek\n",
      "Started: Inca Discovery Plus\n",
      "Done: Inca Discovery Plus\n",
      "Started: Choquequirao to Machu Picchu Express\n",
      "Done: Choquequirao to Machu Picchu Express\n",
      "Started: Trekking the Inca Trail: 5D/4N\n"
     ]
    },
    {
     "name": "stderr",
     "output_type": "stream",
     "text": [
      "Created a chunk of size 2138, which is longer than the specified 500\n"
     ]
    },
    {
     "name": "stdout",
     "output_type": "stream",
     "text": [
      "Done: Trekking the Inca Trail: 5D/4N\n",
      "Started: Peru Multisport\n",
      "Done: Peru Multisport\n",
      "Started: Trekking the Inca Trail: 4D/3N\n"
     ]
    },
    {
     "name": "stderr",
     "output_type": "stream",
     "text": [
      "Created a chunk of size 2111, which is longer than the specified 500\n"
     ]
    },
    {
     "name": "stdout",
     "output_type": "stream",
     "text": [
      "Done: Trekking the Inca Trail: 4D/3N\n",
      "Started: Jordan Multisport\n",
      "Done: Jordan Multisport\n",
      "Started: New Zealand – North Island Multisport\n",
      "Done: New Zealand – North Island Multisport\n",
      "Started: Thailand Hike, Bike & Kayak\n",
      "Done: Thailand Hike, Bike & Kayak\n",
      "Started: Trek Mt Kinabalu\n"
     ]
    },
    {
     "name": "stderr",
     "output_type": "stream",
     "text": [
      "Created a chunk of size 1384, which is longer than the specified 500\n"
     ]
    },
    {
     "name": "stdout",
     "output_type": "stream",
     "text": [
      "Done: Trek Mt Kinabalu\n",
      "Started: The Lares Trek with One-Day Inca Trail\n",
      "Done: The Lares Trek with One-Day Inca Trail\n",
      "Started: Walk the Camino de Santiago\n",
      "Done: Walk the Camino de Santiago\n",
      "Started: Hiking Southern Spain: Authentic Andalusia\n",
      "Done: Hiking Southern Spain: Authentic Andalusia\n",
      "Started: Everest Base Camp Trek\n"
     ]
    },
    {
     "name": "stderr",
     "output_type": "stream",
     "text": [
      "Created a chunk of size 1630, which is longer than the specified 500\n"
     ]
    },
    {
     "name": "stdout",
     "output_type": "stream",
     "text": [
      "Done: Everest Base Camp Trek\n",
      "Started: New Zealand – South Island Multisport\n",
      "Done: New Zealand – South Island Multisport\n",
      "Started: Hiking the Canary Islands: Tenerife, Anaga, and Beyond\n",
      "Done: Hiking the Canary Islands: Tenerife, Anaga, and Beyond\n",
      "Started: Vietnam Hike, Bike & Kayak\n",
      "Done: Vietnam Hike, Bike & Kayak\n",
      "Started: Highlights of the Trans Bhutan Trail\n"
     ]
    },
    {
     "name": "stderr",
     "output_type": "stream",
     "text": [
      "Created a chunk of size 2547, which is longer than the specified 500\n",
      "Created a chunk of size 962, which is longer than the specified 500\n",
      "Created a chunk of size 599, which is longer than the specified 500\n",
      "Created a chunk of size 1907, which is longer than the specified 500\n",
      "Created a chunk of size 696, which is longer than the specified 500\n",
      "Created a chunk of size 1435, which is longer than the specified 500\n"
     ]
    },
    {
     "name": "stdout",
     "output_type": "stream",
     "text": [
      "Done: Highlights of the Trans Bhutan Trail\n",
      "Started: Trek Hidden Costa Rica\n",
      "Done: Trek Hidden Costa Rica\n",
      "Started: Inca Discovery\n",
      "Done: Inca Discovery\n",
      "Started: Camino de Santiago Encompassed\n",
      "Done: Camino de Santiago Encompassed\n",
      "Started: Hiking the Azores\n",
      "Done: Hiking the Azores\n",
      "Started: Hiking in Madeira\n",
      "Done: Hiking in Madeira\n",
      "Started: Colombia -  Lost City Trekking\n",
      "Done: Colombia -  Lost City Trekking\n",
      "Started: Galápagos Multisport with Quito\n",
      "Done: Galápagos Multisport with Quito\n",
      "Started: Vietnam Family Adventure\n",
      "Done: Vietnam Family Adventure\n",
      "Started: Costa Rica Family Experience\n",
      "Done: Costa Rica Family Experience\n",
      "Started: Peru Family Experience\n",
      "Done: Peru Family Experience\n",
      "Started: Local Living Italy—Sorrento\n",
      "Done: Local Living Italy—Sorrento\n",
      "Started: Local Living Italy—Amalfi Coast\n",
      "Done: Local Living Italy—Amalfi Coast\n",
      "Started: Local Living Italy—Tuscany San Gimignano\n",
      "Done: Local Living Italy—Tuscany San Gimignano\n",
      "Started: Local Living Ecuador—Amazon Jungle\n",
      "Done: Local Living Ecuador—Amazon Jungle\n",
      "Started: Peru Panorama\n"
     ]
    },
    {
     "name": "stderr",
     "output_type": "stream",
     "text": [
      "Created a chunk of size 1580, which is longer than the specified 500\n",
      "Created a chunk of size 1580, which is longer than the specified 500\n",
      "Created a chunk of size 1580, which is longer than the specified 500\n"
     ]
    },
    {
     "name": "stdout",
     "output_type": "stream",
     "text": [
      "Done: Peru Panorama\n",
      "Started: Highlights of Portugal\n"
     ]
    },
    {
     "name": "stderr",
     "output_type": "stream",
     "text": [
      "Created a chunk of size 1018, which is longer than the specified 500\n"
     ]
    },
    {
     "name": "stdout",
     "output_type": "stream",
     "text": [
      "Done: Highlights of Portugal\n",
      "Started: Mayan Discovery\n",
      "Done: Mayan Discovery\n",
      "Started: Delhi to Kathmandu Adventure\n",
      "Done: Delhi to Kathmandu Adventure\n",
      "Started: Thailand and Laos Adventure\n",
      "Done: Thailand and Laos Adventure\n",
      "Started: Best of Southern India\n"
     ]
    },
    {
     "name": "stderr",
     "output_type": "stream",
     "text": [
      "Created a chunk of size 1245, which is longer than the specified 500\n"
     ]
    },
    {
     "name": "stdout",
     "output_type": "stream",
     "text": [
      "Done: Best of Southern India\n",
      "Started: Explore Southern Sicily\n",
      "Done: Explore Southern Sicily\n",
      "Started: Highlights of Chile & Argentina\n",
      "Done: Highlights of Chile & Argentina\n",
      "Started: Masai Mara & Gorilla Adventure\n",
      "Done: Masai Mara & Gorilla Adventure\n",
      "Started: Zion to San Francisco Adventure\n"
     ]
    },
    {
     "name": "stderr",
     "output_type": "stream",
     "text": [
      "Created a chunk of size 1244, which is longer than the specified 500\n",
      "Created a chunk of size 888, which is longer than the specified 500\n",
      "Created a chunk of size 613, which is longer than the specified 500\n",
      "Created a chunk of size 2693, which is longer than the specified 500\n"
     ]
    },
    {
     "name": "stdout",
     "output_type": "stream",
     "text": [
      "Done: Zion to San Francisco Adventure\n",
      "Started: Egypt & Jordan Adventure\n",
      "Done: Egypt & Jordan Adventure\n",
      "Started: Machu Picchu Adventure\n",
      "Done: Machu Picchu Adventure\n",
      "Started: Discover Japan\n",
      "Done: Discover Japan\n",
      "Started: Moroccan Coast Explorer\n"
     ]
    },
    {
     "name": "stderr",
     "output_type": "stream",
     "text": [
      "Created a chunk of size 2771, which is longer than the specified 500\n"
     ]
    },
    {
     "name": "stdout",
     "output_type": "stream",
     "text": [
      "Done: Moroccan Coast Explorer\n",
      "Started: Costa Rica Adventure\n",
      "Done: Costa Rica Adventure\n",
      "Started: Classic Bali\n",
      "Done: Classic Bali\n",
      "Started: Best of Spain & Portugal\n"
     ]
    },
    {
     "name": "stderr",
     "output_type": "stream",
     "text": [
      "Created a chunk of size 1048, which is longer than the specified 500\n"
     ]
    },
    {
     "name": "stdout",
     "output_type": "stream",
     "text": [
      "Done: Best of Spain & Portugal\n",
      "Started: Japan Express: Osaka to Tokyo\n",
      "Done: Japan Express: Osaka to Tokyo\n",
      "Started: Classic Cambodia and Thai Islands – West Coast\n",
      "Done: Classic Cambodia and Thai Islands – West Coast\n",
      "Started: Andes, Iguassu & Beyond\n",
      "Done: Andes, Iguassu & Beyond\n",
      "Started: Sri Lanka & Maldives Adventure\n"
     ]
    },
    {
     "name": "stderr",
     "output_type": "stream",
     "text": [
      "Created a chunk of size 2809, which is longer than the specified 500\n",
      "Created a chunk of size 551, which is longer than the specified 500\n",
      "Created a chunk of size 551, which is longer than the specified 500\n",
      "Created a chunk of size 551, which is longer than the specified 500\n",
      "Created a chunk of size 551, which is longer than the specified 500\n"
     ]
    },
    {
     "name": "stdout",
     "output_type": "stream",
     "text": [
      "Done: Sri Lanka & Maldives Adventure\n",
      "Started: Thailand Island Hopping – West Coast\n",
      "Done: Thailand Island Hopping – West Coast\n",
      "Started: Classic Peru\n"
     ]
    },
    {
     "name": "stderr",
     "output_type": "stream",
     "text": [
      "Created a chunk of size 1579, which is longer than the specified 500\n",
      "Created a chunk of size 1579, which is longer than the specified 500\n",
      "Created a chunk of size 1579, which is longer than the specified 500\n"
     ]
    },
    {
     "name": "stdout",
     "output_type": "stream",
     "text": [
      "Done: Classic Peru\n",
      "Started: Ultimate Spain & Portugal\n"
     ]
    },
    {
     "name": "stderr",
     "output_type": "stream",
     "text": [
      "Created a chunk of size 803, which is longer than the specified 500\n"
     ]
    },
    {
     "name": "stdout",
     "output_type": "stream",
     "text": [
      "Done: Ultimate Spain & Portugal\n",
      "Started: Highlights of Sabah & Mt Kinabalu\n"
     ]
    },
    {
     "name": "stderr",
     "output_type": "stream",
     "text": [
      "Created a chunk of size 3138, which is longer than the specified 500\n"
     ]
    },
    {
     "name": "stdout",
     "output_type": "stream",
     "text": [
      "Done: Highlights of Sabah & Mt Kinabalu\n",
      "Started: Masai Mara Camping Safari\n",
      "Done: Masai Mara Camping Safari\n",
      "Started: Classic Thailand - West Coast\n",
      "Done: Classic Thailand - West Coast\n",
      "Started: The Many Sides of Mexico: Puerto Vallarta to Oaxaca\n",
      "Done: The Many Sides of Mexico: Puerto Vallarta to Oaxaca\n",
      "Started: Classic Belize & Tikal\n",
      "Done: Classic Belize & Tikal\n",
      "Started: Indonesia Java, Bali & Lombok\n",
      "Done: Indonesia Java, Bali & Lombok\n",
      "Started: Best of Uzbekistan and Turkmenistan\n",
      "Done: Best of Uzbekistan and Turkmenistan\n",
      "Started: The Best of India & Bhutan\n",
      "Done: The Best of India & Bhutan\n",
      "Started: Golden Triangle\n",
      "Done: Golden Triangle\n",
      "Started: Ultimate Cambodian Adventure\n",
      "Done: Ultimate Cambodian Adventure\n",
      "Started: Classic Lombok\n",
      "Done: Classic Lombok\n",
      "Started: Highlights of New Zealand\n",
      "Done: Highlights of New Zealand\n",
      "Started: Iceland Northern Lights & Golden Circle\n",
      "Done: Iceland Northern Lights & Golden Circle\n",
      "Started: Cuba Explorer\n",
      "Done: Cuba Explorer\n",
      "Started: Morocco: Marrakech & The Sahara\n"
     ]
    },
    {
     "name": "stderr",
     "output_type": "stream",
     "text": [
      "Created a chunk of size 2448, which is longer than the specified 500\n",
      "Created a chunk of size 529, which is longer than the specified 500\n"
     ]
    },
    {
     "name": "stdout",
     "output_type": "stream",
     "text": [
      "Done: Morocco: Marrakech & The Sahara\n",
      "Started: Best of Egypt\n",
      "Done: Best of Egypt\n",
      "Started: Bolivia Discovery\n",
      "Done: Bolivia Discovery\n",
      "Started: Exploring the Amalfi Coast\n",
      "Done: Exploring the Amalfi Coast\n",
      "Started: Best of Italy: Tuscany, Cinque Terre & The Amalfi Coast\n",
      "Done: Best of Italy: Tuscany, Cinque Terre & The Amalfi Coast\n",
      "Started: Costa Rica Quest\n",
      "Done: Costa Rica Quest\n",
      "Started: Upgraded Land Galapagos with Quito\n",
      "Done: Upgraded Land Galapagos with Quito\n",
      "Started: Highlands of Ecuador\n",
      "Done: Highlands of Ecuador\n",
      "Started: Inca Empire\n",
      "Done: Inca Empire\n",
      "Started: Highlights of Uzbekistan\n",
      "Done: Highlights of Uzbekistan\n",
      "Started: Botswana & Victoria Falls Adventure\n",
      "Done: Botswana & Victoria Falls Adventure\n",
      "Started: Treasures of Cuba\n",
      "Done: Treasures of Cuba\n",
      "Started: South Australia, Melbourne & the Great Ocean Road\n",
      "Done: South Australia, Melbourne & the Great Ocean Road\n",
      "Started: Mayan Adventure: Mexico, Belize & Guatemala\n",
      "Done: Mayan Adventure: Mexico, Belize & Guatemala\n",
      "Started: Thailand, Laos & Vietnam Adventure\n",
      "Done: Thailand, Laos & Vietnam Adventure\n",
      "Started: Tuscany to Cinque Terre: Wines, Villages & Unforgettable Walks\n",
      "Done: Tuscany to Cinque Terre: Wines, Villages & Unforgettable Walks\n",
      "Started: Croatia and the Balkans\n",
      "Done: Croatia and the Balkans\n",
      "Started: Highlights of Nepal\n"
     ]
    },
    {
     "name": "stderr",
     "output_type": "stream",
     "text": [
      "Created a chunk of size 1836, which is longer than the specified 500\n"
     ]
    },
    {
     "name": "stdout",
     "output_type": "stream",
     "text": [
      "Done: Highlights of Nepal\n",
      "Started: Classic Mexico Adventure\n",
      "Done: Classic Mexico Adventure\n",
      "Started: Three Days in Iceland: Reykjavik & Snæfellsnes Peninsula\n",
      "Done: Three Days in Iceland: Reykjavik & Snæfellsnes Peninsula\n",
      "Started: Ultimate Italy\n",
      "Done: Ultimate Italy\n",
      "Started: Classic Colombia\n",
      "Done: Classic Colombia\n",
      "Started: Colombia's Caribbean Coast & Lost City\n",
      "Done: Colombia's Caribbean Coast & Lost City\n",
      "Started: Caribbean Colombia Express\n",
      "Done: Caribbean Colombia Express\n",
      "Started: Oahu and Maui Adventure\n",
      "Done: Oahu and Maui Adventure\n",
      "Started: Costa Rica: Monteverde and La Fortuna\n",
      "Done: Costa Rica: Monteverde and La Fortuna\n",
      "Started: Best of Iceland\n",
      "Done: Best of Iceland\n",
      "Started: Nepal Adventure\n",
      "Done: Nepal Adventure\n",
      "Started: Highlights of Oman\n",
      "Done: Highlights of Oman\n",
      "Started: Four Days in Marrakech\n"
     ]
    },
    {
     "name": "stderr",
     "output_type": "stream",
     "text": [
      "Created a chunk of size 963, which is longer than the specified 500\n",
      "Created a chunk of size 529, which is longer than the specified 500\n"
     ]
    },
    {
     "name": "stdout",
     "output_type": "stream",
     "text": [
      "Done: Four Days in Marrakech\n",
      "Started: Highlights of Egypt\n",
      "Done: Highlights of Egypt\n",
      "Started: Southern Divide\n",
      "Done: Southern Divide\n",
      "Started: Jordan and Israel Adventure\n",
      "Done: Jordan and Israel Adventure\n",
      "Started: Southern Morocco: The Sahara, The Coast & Marrakech\n"
     ]
    },
    {
     "name": "stderr",
     "output_type": "stream",
     "text": [
      "Created a chunk of size 2477, which is longer than the specified 500\n",
      "Created a chunk of size 529, which is longer than the specified 500\n",
      "Created a chunk of size 2710, which is longer than the specified 500\n"
     ]
    },
    {
     "name": "stdout",
     "output_type": "stream",
     "text": [
      "Done: Southern Morocco: The Sahara, The Coast & Marrakech\n",
      "Started: Essential Central Mexico\n",
      "Done: Essential Central Mexico\n",
      "Started: Sri Lanka Express\n",
      "Done: Sri Lanka Express\n",
      "Started: Morocco Kasbahs & Desert\n",
      "Done: Morocco Kasbahs & Desert\n",
      "Started: Absolute Turkey\n",
      "Done: Absolute Turkey\n",
      "Started: Galápagos Island Hopping with Quito\n",
      "Done: Galápagos Island Hopping with Quito\n",
      "Started: Classic Vietnam: Hanoi to Ho Chi Minh City\n",
      "Done: Classic Vietnam: Hanoi to Ho Chi Minh City\n",
      "Started: Highlights of the Yucatan\n",
      "Done: Highlights of the Yucatan\n",
      "Started: Moroccan Sahara Discovery\n",
      "Done: Moroccan Sahara Discovery\n",
      "Started: Israel Explorer\n",
      "Done: Israel Explorer\n",
      "Started: The Inca Journey\n",
      "Done: The Inca Journey\n",
      "Started: Northern Sicily: Islands & Volcanoes\n",
      "Done: Northern Sicily: Islands & Volcanoes\n",
      "Started: California National Park Discovery\n"
     ]
    },
    {
     "name": "stderr",
     "output_type": "stream",
     "text": [
      "Created a chunk of size 2769, which is longer than the specified 500\n"
     ]
    },
    {
     "name": "stdout",
     "output_type": "stream",
     "text": [
      "Done: California National Park Discovery\n",
      "Started: Mayan Encounter\n",
      "Done: Mayan Encounter\n",
      "Started: Uganda to Rwanda: Gorilla Treks & Safari Drives\n",
      "Done: Uganda to Rwanda: Gorilla Treks & Safari Drives\n",
      "Started: Sri Lanka Encompassed\n"
     ]
    },
    {
     "name": "stderr",
     "output_type": "stream",
     "text": [
      "Created a chunk of size 1350, which is longer than the specified 500\n"
     ]
    },
    {
     "name": "stdout",
     "output_type": "stream",
     "text": [
      "Done: Sri Lanka Encompassed\n",
      "Started: The Best of Eastern Europe\n",
      "Done: The Best of Eastern Europe\n",
      "Started: Best of Iceland: Golden Circle & Snæfellsnes Peninsula\n",
      "Done: Best of Iceland: Golden Circle & Snæfellsnes Peninsula\n",
      "Started: Spirit of Bhutan\n",
      "Done: Spirit of Bhutan\n",
      "Started: Classic Bali & Lombok\n",
      "Done: Classic Bali & Lombok\n",
      "Started: Best of Utah & Arizona National Parks\n"
     ]
    },
    {
     "name": "stderr",
     "output_type": "stream",
     "text": [
      "Created a chunk of size 1249, which is longer than the specified 500\n",
      "Created a chunk of size 888, which is longer than the specified 500\n",
      "Created a chunk of size 613, which is longer than the specified 500\n",
      "Created a chunk of size 710, which is longer than the specified 500\n"
     ]
    },
    {
     "name": "stdout",
     "output_type": "stream",
     "text": [
      "Done: Best of Utah & Arizona National Parks\n",
      "Started: Highlights of Madagascar\n",
      "Done: Highlights of Madagascar\n",
      "Started: Egypt Upgraded\n",
      "Done: Egypt Upgraded\n",
      "Started: India & Nepal Adventure\n"
     ]
    },
    {
     "name": "stderr",
     "output_type": "stream",
     "text": [
      "Created a chunk of size 3464, which is longer than the specified 500\n"
     ]
    },
    {
     "name": "stdout",
     "output_type": "stream",
     "text": [
      "Done: India & Nepal Adventure\n",
      "Started: Best of Java\n",
      "Done: Best of Java\n",
      "Started: Colombia Express\n",
      "Done: Colombia Express\n",
      "Started: The Moroccan Coast & Marrakech\n"
     ]
    },
    {
     "name": "stderr",
     "output_type": "stream",
     "text": [
      "Created a chunk of size 971, which is longer than the specified 500\n",
      "Created a chunk of size 529, which is longer than the specified 500\n",
      "Created a chunk of size 2707, which is longer than the specified 500\n"
     ]
    },
    {
     "name": "stdout",
     "output_type": "stream",
     "text": [
      "Done: The Moroccan Coast & Marrakech\n",
      "Started: Mexico City to Oaxaca: Pottery & Aztec Pyramids\n",
      "Done: Mexico City to Oaxaca: Pottery & Aztec Pyramids\n",
      "Started: Amazon to the Andes\n",
      "Done: Amazon to the Andes\n",
      "Started: Mayan Trail\n",
      "Done: Mayan Trail\n",
      "Started: Essential India\n",
      "Done: Essential India\n",
      "Started: Iguassu & Beyond\n",
      "Done: Iguassu & Beyond\n",
      "Started: Best of South Korea\n",
      "Done: Best of South Korea\n",
      "Started: Highlights of Jordan\n",
      "Done: Highlights of Jordan\n",
      "Started: Best of Cambodia & Northern Thailand\n",
      "Done: Best of Cambodia & Northern Thailand\n",
      "Started: Rajasthan Adventure\n",
      "Done: Rajasthan Adventure\n",
      "Started: Northern Thailand Adventure\n",
      "Done: Northern Thailand Adventure\n",
      "Started: Highlights of Morocco\n",
      "Done: Highlights of Morocco\n",
      "Started: Highlights of Cuba\n",
      "Done: Highlights of Cuba\n",
      "Started: Ecuador Quest\n",
      "Done: Ecuador Quest\n",
      "Started: Best of Northern Spain\n",
      "Done: Best of Northern Spain\n",
      "Started: Cambodia Experience\n",
      "Done: Cambodia Experience\n",
      "Started: China Express\n",
      "Done: China Express\n",
      "Started: Best of Southern Spain\n",
      "Done: Best of Southern Spain\n",
      "Started: Absolute Peru\n",
      "Done: Absolute Peru\n",
      "Started: Bangkok to Chiang Mai Express\n",
      "Done: Bangkok to Chiang Mai Express\n",
      "Started: Kruger in Depth\n",
      "Done: Kruger in Depth\n",
      "Started: Cape Town, Kruger & Zimbabwe\n",
      "Done: Cape Town, Kruger & Zimbabwe\n",
      "Started: Classic Spain\n",
      "Done: Classic Spain\n",
      "Started: Back Roads of Japan\n",
      "Done: Back Roads of Japan\n",
      "Started: Essential Vietnam & Cambodia\n",
      "Done: Essential Vietnam & Cambodia\n",
      "Started: Spain, Portugal, and Morocco Adventure\n",
      "Done: Spain, Portugal, and Morocco Adventure\n",
      "Started: Mexico Coast-to-Coast: Puerto Vallarta to the Mayan Riviera\n",
      "Done: Mexico Coast-to-Coast: Puerto Vallarta to the Mayan Riviera\n",
      "Started: Borneo – East Sabah Adventure\n",
      "Done: Borneo – East Sabah Adventure\n",
      "Started: Inland & Amazon\n",
      "Done: Inland & Amazon\n",
      "Started: Nepal & Bhutan Explorer\n"
     ]
    },
    {
     "name": "stderr",
     "output_type": "stream",
     "text": [
      "Created a chunk of size 1849, which is longer than the specified 500\n"
     ]
    },
    {
     "name": "stdout",
     "output_type": "stream",
     "text": [
      "Done: Nepal & Bhutan Explorer\n",
      "Started: Highlights of Sicily\n",
      "Done: Highlights of Sicily\n",
      "Started: Berlin to Paris: Bike Rides & Big Nights\n"
     ]
    },
    {
     "name": "stderr",
     "output_type": "stream",
     "text": [
      "Created a chunk of size 843, which is longer than the specified 500\n"
     ]
    },
    {
     "name": "stdout",
     "output_type": "stream",
     "text": [
      "Done: Berlin to Paris: Bike Rides & Big Nights\n",
      "Started: Budapest to Paris: Bike Tours & Belgian Waffles\n"
     ]
    },
    {
     "name": "stderr",
     "output_type": "stream",
     "text": [
      "Created a chunk of size 898, which is longer than the specified 500\n"
     ]
    },
    {
     "name": "stdout",
     "output_type": "stream",
     "text": [
      "Done: Budapest to Paris: Bike Tours & Belgian Waffles\n",
      "Started: Buenos Aires to Rio de Janeiro: Falls & Footy\n"
     ]
    },
    {
     "name": "stderr",
     "output_type": "stream",
     "text": [
      "Created a chunk of size 1265, which is longer than the specified 500\n",
      "Created a chunk of size 3224, which is longer than the specified 500\n"
     ]
    },
    {
     "name": "stdout",
     "output_type": "stream",
     "text": [
      "Done: Buenos Aires to Rio de Janeiro: Falls & Footy\n",
      "Started: Galápagos Adventure: Snorkelling & Sea Lions\n",
      "Done: Galápagos Adventure: Snorkelling & Sea Lions\n",
      "Started: Mayan Sun Southbound: Boat Rides & Ruins\n",
      "Done: Mayan Sun Southbound: Boat Rides & Ruins\n",
      "Started: Botswana and Falls Overland: Wildlife Walks & Safari Drives\n"
     ]
    },
    {
     "name": "stderr",
     "output_type": "stream",
     "text": [
      "Created a chunk of size 889, which is longer than the specified 500\n",
      "Created a chunk of size 1136, which is longer than the specified 500\n",
      "Created a chunk of size 596, which is longer than the specified 500\n",
      "Created a chunk of size 1540, which is longer than the specified 500\n",
      "Created a chunk of size 559, which is longer than the specified 500\n"
     ]
    },
    {
     "name": "stdout",
     "output_type": "stream",
     "text": [
      "Done: Botswana and Falls Overland: Wildlife Walks & Safari Drives\n",
      "Started: Sri Lanka: Spice Gardens & Seasides\n"
     ]
    },
    {
     "name": "stderr",
     "output_type": "stream",
     "text": [
      "Created a chunk of size 918, which is longer than the specified 500\n"
     ]
    },
    {
     "name": "stdout",
     "output_type": "stream",
     "text": [
      "Done: Sri Lanka: Spice Gardens & Seasides\n",
      "Started: Spain & Portugal: Flamenco & Tapas\n"
     ]
    },
    {
     "name": "stderr",
     "output_type": "stream",
     "text": [
      "Created a chunk of size 816, which is longer than the specified 500\n"
     ]
    },
    {
     "name": "stdout",
     "output_type": "stream",
     "text": [
      "Done: Spain & Portugal: Flamenco & Tapas\n",
      "Started: Rajasthan: Laneways & Local Villages\n"
     ]
    },
    {
     "name": "stderr",
     "output_type": "stream",
     "text": [
      "Created a chunk of size 946, which is longer than the specified 500\n"
     ]
    },
    {
     "name": "stdout",
     "output_type": "stream",
     "text": [
      "Done: Rajasthan: Laneways & Local Villages\n",
      "Started: Nepal: Mountains and Temples\n",
      "Done: Nepal: Mountains and Temples\n",
      "Started: Lima to La Paz: Sandboarding & Sunsets\n",
      "Done: Lima to La Paz: Sandboarding & Sunsets\n",
      "Started: Northern Thailand: Back Roads Bangkok to Chiang Mai\n",
      "Done: Northern Thailand: Back Roads Bangkok to Chiang Mai\n",
      "Started: Kruger, Falls & Zimbabwe: Mineral Pools & National Parks\n"
     ]
    },
    {
     "name": "stderr",
     "output_type": "stream",
     "text": [
      "Created a chunk of size 895, which is longer than the specified 500\n",
      "Created a chunk of size 852, which is longer than the specified 500\n",
      "Created a chunk of size 957, which is longer than the specified 500\n",
      "Created a chunk of size 757, which is longer than the specified 500\n",
      "Created a chunk of size 531, which is longer than the specified 500\n"
     ]
    },
    {
     "name": "stdout",
     "output_type": "stream",
     "text": [
      "Done: Kruger, Falls & Zimbabwe: Mineral Pools & National Parks\n",
      "Started: Morocco: Deserts & Beaches\n"
     ]
    },
    {
     "name": "stderr",
     "output_type": "stream",
     "text": [
      "Created a chunk of size 801, which is longer than the specified 500\n"
     ]
    },
    {
     "name": "stdout",
     "output_type": "stream",
     "text": [
      "Done: Morocco: Deserts & Beaches\n",
      "Started: Quito to Lima: Surf Towns & Hot Springs\n",
      "Done: Quito to Lima: Surf Towns & Hot Springs\n",
      "Started: Israel & Jordan: Ancient Sites & Epic Nights\n"
     ]
    },
    {
     "name": "stderr",
     "output_type": "stream",
     "text": [
      "Created a chunk of size 838, which is longer than the specified 500\n"
     ]
    },
    {
     "name": "stdout",
     "output_type": "stream",
     "text": [
      "Done: Israel & Jordan: Ancient Sites & Epic Nights\n",
      "Started: Sydney to Brisbane Experience: Bushwalks & Surfing\n"
     ]
    },
    {
     "name": "stderr",
     "output_type": "stream",
     "text": [
      "Created a chunk of size 833, which is longer than the specified 500\n",
      "Created a chunk of size 1405, which is longer than the specified 500\n",
      "Created a chunk of size 1161, which is longer than the specified 500\n",
      "Created a chunk of size 816, which is longer than the specified 500\n"
     ]
    },
    {
     "name": "stdout",
     "output_type": "stream",
     "text": [
      "Done: Sydney to Brisbane Experience: Bushwalks & Surfing\n",
      "Started: Victoria Falls & Serengeti Overland: Lakes & Landos\n"
     ]
    },
    {
     "name": "stderr",
     "output_type": "stream",
     "text": [
      "Created a chunk of size 891, which is longer than the specified 500\n",
      "Created a chunk of size 622, which is longer than the specified 500\n",
      "Created a chunk of size 2076, which is longer than the specified 500\n",
      "Created a chunk of size 1705, which is longer than the specified 500\n",
      "Created a chunk of size 1658, which is longer than the specified 500\n",
      "Created a chunk of size 861, which is longer than the specified 500\n",
      "Created a chunk of size 1414, which is longer than the specified 500\n",
      "Created a chunk of size 524, which is longer than the specified 500\n",
      "Created a chunk of size 675, which is longer than the specified 500\n",
      "Created a chunk of size 533, which is longer than the specified 500\n"
     ]
    },
    {
     "name": "stdout",
     "output_type": "stream",
     "text": [
      "Done: Victoria Falls & Serengeti Overland: Lakes & Landos\n",
      "Started: Southern Africa Encompassed: Bush Camps & Wildlife Spotting\n"
     ]
    },
    {
     "name": "stderr",
     "output_type": "stream",
     "text": [
      "Created a chunk of size 902, which is longer than the specified 500\n",
      "Created a chunk of size 1136, which is longer than the specified 500\n",
      "Created a chunk of size 596, which is longer than the specified 500\n",
      "Created a chunk of size 1540, which is longer than the specified 500\n",
      "Created a chunk of size 879, which is longer than the specified 500\n",
      "Created a chunk of size 711, which is longer than the specified 500\n",
      "Created a chunk of size 959, which is longer than the specified 500\n",
      "Created a chunk of size 758, which is longer than the specified 500\n",
      "Created a chunk of size 533, which is longer than the specified 500\n"
     ]
    },
    {
     "name": "stdout",
     "output_type": "stream",
     "text": [
      "Done: Southern Africa Encompassed: Bush Camps & Wildlife Spotting\n",
      "Started: Morocco: Markets & Mountains\n"
     ]
    },
    {
     "name": "stderr",
     "output_type": "stream",
     "text": [
      "Created a chunk of size 803, which is longer than the specified 500\n"
     ]
    },
    {
     "name": "stdout",
     "output_type": "stream",
     "text": [
      "Done: Morocco: Markets & Mountains\n",
      "Started: Indonesia Adventure: Java & Bali\n"
     ]
    },
    {
     "name": "stderr",
     "output_type": "stream",
     "text": [
      "Created a chunk of size 830, which is longer than the specified 500\n",
      "Created a chunk of size 1669, which is longer than the specified 500\n",
      "Created a chunk of size 667, which is longer than the specified 500\n",
      "Created a chunk of size 1141, which is longer than the specified 500\n",
      "Created a chunk of size 1027, which is longer than the specified 500\n"
     ]
    },
    {
     "name": "stdout",
     "output_type": "stream",
     "text": [
      "Done: Indonesia Adventure: Java & Bali\n",
      "Started: Vietnam: Historic Cities & Halong Bay Cruising\n"
     ]
    },
    {
     "name": "stderr",
     "output_type": "stream",
     "text": [
      "Created a chunk of size 912, which is longer than the specified 500\n"
     ]
    },
    {
     "name": "stdout",
     "output_type": "stream",
     "text": [
      "Done: Vietnam: Historic Cities & Halong Bay Cruising\n",
      "Started: Delhi to Kathmandu: River Walks & Epic Wildlife\n"
     ]
    },
    {
     "name": "stderr",
     "output_type": "stream",
     "text": [
      "Created a chunk of size 888, which is longer than the specified 500\n"
     ]
    },
    {
     "name": "stdout",
     "output_type": "stream",
     "text": [
      "Done: Delhi to Kathmandu: River Walks & Epic Wildlife\n",
      "Started: Volcano Trail: Waves & Local Ways\n",
      "Done: Volcano Trail: Waves & Local Ways\n",
      "Started: Maldives Cruise: Indian Ocean Dhoni Life\n"
     ]
    },
    {
     "name": "stderr",
     "output_type": "stream",
     "text": [
      "Created a chunk of size 1394, which is longer than the specified 500\n",
      "Created a chunk of size 598, which is longer than the specified 500\n",
      "Created a chunk of size 598, which is longer than the specified 500\n",
      "Created a chunk of size 598, which is longer than the specified 500\n",
      "Created a chunk of size 598, which is longer than the specified 500\n"
     ]
    },
    {
     "name": "stdout",
     "output_type": "stream",
     "text": [
      "Done: Maldives Cruise: Indian Ocean Dhoni Life\n",
      "Started: Nairobi to Zanzibar: Serengeti & Sunsets\n"
     ]
    },
    {
     "name": "stderr",
     "output_type": "stream",
     "text": [
      "Created a chunk of size 836, which is longer than the specified 500\n",
      "Created a chunk of size 832, which is longer than the specified 500\n",
      "Created a chunk of size 771, which is longer than the specified 500\n",
      "Created a chunk of size 550, which is longer than the specified 500\n",
      "Created a chunk of size 676, which is longer than the specified 500\n",
      "Created a chunk of size 540, which is longer than the specified 500\n"
     ]
    },
    {
     "name": "stdout",
     "output_type": "stream",
     "text": [
      "Done: Nairobi to Zanzibar: Serengeti & Sunsets\n",
      "Started: Peru: Inca Jungle & Rainbow Mountain Trek\n",
      "Done: Peru: Inca Jungle & Rainbow Mountain Trek\n",
      "Started: La Paz to Buenos Aires: Andes & the Atacama Desert\n",
      "Done: La Paz to Buenos Aires: Andes & the Atacama Desert\n",
      "Started: New Zealand: Best of the North Island\n"
     ]
    },
    {
     "name": "stderr",
     "output_type": "stream",
     "text": [
      "Created a chunk of size 877, which is longer than the specified 500\n",
      "Created a chunk of size 2584, which is longer than the specified 500\n"
     ]
    },
    {
     "name": "stdout",
     "output_type": "stream",
     "text": [
      "Done: New Zealand: Best of the North Island\n",
      "Started: Peru: Ancient Cities & the Andes\n",
      "Done: Peru: Ancient Cities & the Andes\n",
      "Started: Tanzania to Zanzibar: White Sands & the Wilderness\n"
     ]
    },
    {
     "name": "stderr",
     "output_type": "stream",
     "text": [
      "Created a chunk of size 838, which is longer than the specified 500\n",
      "Created a chunk of size 604, which is longer than the specified 500\n",
      "Created a chunk of size 771, which is longer than the specified 500\n",
      "Created a chunk of size 550, which is longer than the specified 500\n",
      "Created a chunk of size 676, which is longer than the specified 500\n",
      "Created a chunk of size 539, which is longer than the specified 500\n"
     ]
    },
    {
     "name": "stdout",
     "output_type": "stream",
     "text": [
      "Done: Tanzania to Zanzibar: White Sands & the Wilderness\n",
      "Started: Rome to Paris: Cobblestones & Cuisine\n"
     ]
    },
    {
     "name": "stderr",
     "output_type": "stream",
     "text": [
      "Created a chunk of size 915, which is longer than the specified 500\n"
     ]
    },
    {
     "name": "stdout",
     "output_type": "stream",
     "text": [
      "Done: Rome to Paris: Cobblestones & Cuisine\n",
      "Started: Budapest to Berlin: Graffiti Walls & Market Halls\n"
     ]
    },
    {
     "name": "stderr",
     "output_type": "stream",
     "text": [
      "Created a chunk of size 869, which is longer than the specified 500\n"
     ]
    },
    {
     "name": "stdout",
     "output_type": "stream",
     "text": [
      "Done: Budapest to Berlin: Graffiti Walls & Market Halls\n",
      "Started: Galápagos Express Adventure: Wilderness & Wildlife\n",
      "Done: Galápagos Express Adventure: Wilderness & Wildlife\n",
      "Started: Southern Thailand Sojourn: Nightlife & National Parks\n"
     ]
    },
    {
     "name": "stderr",
     "output_type": "stream",
     "text": [
      "Created a chunk of size 827, which is longer than the specified 500\n",
      "Created a chunk of size 1001, which is longer than the specified 500\n"
     ]
    },
    {
     "name": "stdout",
     "output_type": "stream",
     "text": [
      "Done: Southern Thailand Sojourn: Nightlife & National Parks\n",
      "Started: Southern Africa Overland: Canoes & Camp-Outs\n"
     ]
    },
    {
     "name": "stderr",
     "output_type": "stream",
     "text": [
      "Created a chunk of size 875, which is longer than the specified 500\n",
      "Created a chunk of size 852, which is longer than the specified 500\n",
      "Created a chunk of size 957, which is longer than the specified 500\n",
      "Created a chunk of size 757, which is longer than the specified 500\n",
      "Created a chunk of size 1718, which is longer than the specified 500\n",
      "Created a chunk of size 597, which is longer than the specified 500\n",
      "Created a chunk of size 1542, which is longer than the specified 500\n",
      "Created a chunk of size 560, which is longer than the specified 500\n"
     ]
    },
    {
     "name": "stdout",
     "output_type": "stream",
     "text": [
      "Done: Southern Africa Overland: Canoes & Camp-Outs\n",
      "Started: Discover Kerala & Sri Lanka: Islands & Ruins\n"
     ]
    },
    {
     "name": "stderr",
     "output_type": "stream",
     "text": [
      "Created a chunk of size 954, which is longer than the specified 500\n"
     ]
    },
    {
     "name": "stdout",
     "output_type": "stream",
     "text": [
      "Done: Discover Kerala & Sri Lanka: Islands & Ruins\n",
      "Started: New Zealand: South Island Encompassed\n"
     ]
    },
    {
     "name": "stderr",
     "output_type": "stream",
     "text": [
      "Created a chunk of size 829, which is longer than the specified 500\n",
      "Created a chunk of size 885, which is longer than the specified 500\n",
      "Created a chunk of size 1195, which is longer than the specified 500\n",
      "Created a chunk of size 963, which is longer than the specified 500\n"
     ]
    },
    {
     "name": "stdout",
     "output_type": "stream",
     "text": [
      "Done: New Zealand: South Island Encompassed\n",
      "Started: Rajasthan and Varanasi: Bike Tours & the Taj Mahal\n"
     ]
    },
    {
     "name": "stderr",
     "output_type": "stream",
     "text": [
      "Created a chunk of size 896, which is longer than the specified 500\n"
     ]
    },
    {
     "name": "stdout",
     "output_type": "stream",
     "text": [
      "Done: Rajasthan and Varanasi: Bike Tours & the Taj Mahal\n",
      "Started: Uganda Overland: Gorillas & Chimps\n"
     ]
    },
    {
     "name": "stderr",
     "output_type": "stream",
     "text": [
      "Created a chunk of size 848, which is longer than the specified 500\n",
      "Created a chunk of size 650, which is longer than the specified 500\n",
      "Created a chunk of size 951, which is longer than the specified 500\n",
      "Created a chunk of size 867, which is longer than the specified 500\n",
      "Created a chunk of size 574, which is longer than the specified 500\n"
     ]
    },
    {
     "name": "stdout",
     "output_type": "stream",
     "text": [
      "Done: Uganda Overland: Gorillas & Chimps\n",
      "Started: Cuban Rhythms: Beachfronts & Havana Vibes\n",
      "Done: Cuban Rhythms: Beachfronts & Havana Vibes\n",
      "Started: Mediterranean Express: Rivieras & Railroads\n"
     ]
    },
    {
     "name": "stderr",
     "output_type": "stream",
     "text": [
      "Created a chunk of size 852, which is longer than the specified 500\n"
     ]
    },
    {
     "name": "stdout",
     "output_type": "stream",
     "text": [
      "Done: Mediterranean Express: Rivieras & Railroads\n",
      "Started: Cambodia: Ancient Ruins & Boat Rides\n"
     ]
    },
    {
     "name": "stderr",
     "output_type": "stream",
     "text": [
      "Created a chunk of size 909, which is longer than the specified 500\n"
     ]
    },
    {
     "name": "stdout",
     "output_type": "stream",
     "text": [
      "Done: Cambodia: Ancient Ruins & Boat Rides\n",
      "Started: Laos to Thailand: Night Markets & Mekong Cruising\n"
     ]
    },
    {
     "name": "stderr",
     "output_type": "stream",
     "text": [
      "Created a chunk of size 894, which is longer than the specified 500\n",
      "Created a chunk of size 1561, which is longer than the specified 500\n"
     ]
    },
    {
     "name": "stdout",
     "output_type": "stream",
     "text": [
      "Done: Laos to Thailand: Night Markets & Mekong Cruising\n",
      "Started: Cape & Dunes Northbound: Wildlife & Starry Night Skies\n"
     ]
    },
    {
     "name": "stderr",
     "output_type": "stream",
     "text": [
      "Created a chunk of size 874, which is longer than the specified 500\n",
      "Created a chunk of size 616, which is longer than the specified 500\n",
      "Created a chunk of size 846, which is longer than the specified 500\n",
      "Created a chunk of size 590, which is longer than the specified 500\n",
      "Created a chunk of size 1015, which is longer than the specified 500\n",
      "Created a chunk of size 734, which is longer than the specified 500\n",
      "Created a chunk of size 1260, which is longer than the specified 500\n"
     ]
    },
    {
     "name": "stdout",
     "output_type": "stream",
     "text": [
      "Done: Cape & Dunes Northbound: Wildlife & Starry Night Skies\n",
      "Started: Laos: Sunrises & Street Food\n"
     ]
    },
    {
     "name": "stderr",
     "output_type": "stream",
     "text": [
      "Created a chunk of size 872, which is longer than the specified 500\n",
      "Created a chunk of size 1561, which is longer than the specified 500\n"
     ]
    },
    {
     "name": "stdout",
     "output_type": "stream",
     "text": [
      "Done: Laos: Sunrises & Street Food\n",
      "Started: Laos to Northern Thailand: Treks & Trails\n"
     ]
    },
    {
     "name": "stderr",
     "output_type": "stream",
     "text": [
      "Created a chunk of size 894, which is longer than the specified 500\n",
      "Created a chunk of size 1561, which is longer than the specified 500\n",
      "Created a chunk of size 2148, which is longer than the specified 500\n"
     ]
    },
    {
     "name": "stdout",
     "output_type": "stream",
     "text": [
      "Done: Laos to Northern Thailand: Treks & Trails\n",
      "Started: Rome to Budapest: Canals & Capitals\n"
     ]
    },
    {
     "name": "stderr",
     "output_type": "stream",
     "text": [
      "Created a chunk of size 849, which is longer than the specified 500\n"
     ]
    },
    {
     "name": "stdout",
     "output_type": "stream",
     "text": [
      "Done: Rome to Budapest: Canals & Capitals\n",
      "Started: Basic Costa Rica: Coastlines & Cloud Forests\n",
      "Done: Basic Costa Rica: Coastlines & Cloud Forests\n",
      "Started: Rome to Berlin: Piazzas, Prague & the Past\n"
     ]
    },
    {
     "name": "stderr",
     "output_type": "stream",
     "text": [
      "Created a chunk of size 890, which is longer than the specified 500\n"
     ]
    },
    {
     "name": "stdout",
     "output_type": "stream",
     "text": [
      "Done: Rome to Berlin: Piazzas, Prague & the Past\n",
      "Started: North to South India: The Taj Mahal & Goa Good Times\n"
     ]
    },
    {
     "name": "stderr",
     "output_type": "stream",
     "text": [
      "Created a chunk of size 886, which is longer than the specified 500\n"
     ]
    },
    {
     "name": "stdout",
     "output_type": "stream",
     "text": [
      "Done: North to South India: The Taj Mahal & Goa Good Times\n",
      "Started: Viva Mexico: Ancient Ruins & the Mayan Riviera\n",
      "Done: Viva Mexico: Ancient Ruins & the Mayan Riviera\n",
      "Started: Kerala: Beaches & Backwaters\n"
     ]
    },
    {
     "name": "stderr",
     "output_type": "stream",
     "text": [
      "Created a chunk of size 918, which is longer than the specified 500\n"
     ]
    },
    {
     "name": "stdout",
     "output_type": "stream",
     "text": [
      "Done: Kerala: Beaches & Backwaters\n",
      "Started: Caribbean Adventure: the Lost City trek & Medellín\n",
      "Done: Caribbean Adventure: the Lost City trek & Medellín\n",
      "Started: Brisbane to Cairns Experience: Sand Dunes & the Whitsundays\n"
     ]
    },
    {
     "name": "stderr",
     "output_type": "stream",
     "text": [
      "Created a chunk of size 869, which is longer than the specified 500\n",
      "Created a chunk of size 4211, which is longer than the specified 500\n"
     ]
    },
    {
     "name": "stdout",
     "output_type": "stream",
     "text": [
      "Done: Brisbane to Cairns Experience: Sand Dunes & the Whitsundays\n",
      "Started: Cambodia to Vietnam: Night Markets & Noodle-Making\n"
     ]
    },
    {
     "name": "stderr",
     "output_type": "stream",
     "text": [
      "Created a chunk of size 911, which is longer than the specified 500\n"
     ]
    },
    {
     "name": "stdout",
     "output_type": "stream",
     "text": [
      "Done: Cambodia to Vietnam: Night Markets & Noodle-Making\n",
      "Started: Northern Thailand: Hilltribes & Villages\n"
     ]
    },
    {
     "name": "stderr",
     "output_type": "stream",
     "text": [
      "Created a chunk of size 1127, which is longer than the specified 500\n",
      "Created a chunk of size 1699, which is longer than the specified 500\n"
     ]
    },
    {
     "name": "stdout",
     "output_type": "stream",
     "text": [
      "Done: Northern Thailand: Hilltribes & Villages\n",
      "Started: Coastal Morocco: Waves & Market Stalls\n"
     ]
    },
    {
     "name": "stderr",
     "output_type": "stream",
     "text": [
      "Created a chunk of size 812, which is longer than the specified 500\n"
     ]
    },
    {
     "name": "stdout",
     "output_type": "stream",
     "text": [
      "Done: Coastal Morocco: Waves & Market Stalls\n",
      "Started: Paris to Barcelona: Tapas & Train Rides\n"
     ]
    },
    {
     "name": "stderr",
     "output_type": "stream",
     "text": [
      "Created a chunk of size 861, which is longer than the specified 500\n"
     ]
    },
    {
     "name": "stdout",
     "output_type": "stream",
     "text": [
      "Done: Paris to Barcelona: Tapas & Train Rides\n",
      "Started: Vietnam: Roadtrip Hanoi to Ho Chi Minh City\n",
      "Done: Vietnam: Roadtrip Hanoi to Ho Chi Minh City\n",
      "Started: Bangkok to Singapore: Jungle Hikes & Island Nights\n"
     ]
    },
    {
     "name": "stderr",
     "output_type": "stream",
     "text": [
      "Created a chunk of size 923, which is longer than the specified 500\n",
      "Created a chunk of size 1001, which is longer than the specified 500\n",
      "Created a chunk of size 1734, which is longer than the specified 500\n"
     ]
    },
    {
     "name": "stdout",
     "output_type": "stream",
     "text": [
      "Done: Bangkok to Singapore: Jungle Hikes & Island Nights\n",
      "Started: Most of the Coast: Sydney to Cairns\n"
     ]
    },
    {
     "name": "stderr",
     "output_type": "stream",
     "text": [
      "Created a chunk of size 833, which is longer than the specified 500\n",
      "Created a chunk of size 1405, which is longer than the specified 500\n",
      "Created a chunk of size 1161, which is longer than the specified 500\n",
      "Created a chunk of size 4965, which is longer than the specified 500\n"
     ]
    },
    {
     "name": "stdout",
     "output_type": "stream",
     "text": [
      "Done: Most of the Coast: Sydney to Cairns\n",
      "Started: Thailand: Night Markets & Blue Waters\n"
     ]
    },
    {
     "name": "stderr",
     "output_type": "stream",
     "text": [
      "Created a chunk of size 1145, which is longer than the specified 500\n",
      "Created a chunk of size 1699, which is longer than the specified 500\n",
      "Created a chunk of size 1629, which is longer than the specified 500\n"
     ]
    },
    {
     "name": "stdout",
     "output_type": "stream",
     "text": [
      "Done: Thailand: Night Markets & Blue Waters\n",
      "Started: Costa Rica: Ocean Waves & Sunsets\n",
      "Done: Costa Rica: Ocean Waves & Sunsets\n",
      "Started: Delta & Falls Westbound: Natural Wonders & Wildlife\n"
     ]
    },
    {
     "name": "stderr",
     "output_type": "stream",
     "text": [
      "Created a chunk of size 862, which is longer than the specified 500\n",
      "Created a chunk of size 629, which is longer than the specified 500\n",
      "Created a chunk of size 1083, which is longer than the specified 500\n",
      "Created a chunk of size 1622, which is longer than the specified 500\n",
      "Created a chunk of size 1020, which is longer than the specified 500\n"
     ]
    },
    {
     "name": "stdout",
     "output_type": "stream",
     "text": [
      "Done: Delta & Falls Westbound: Natural Wonders & Wildlife\n",
      "Started: Paris to Budapest: Famous Sites & Tasty Bites\n"
     ]
    },
    {
     "name": "stderr",
     "output_type": "stream",
     "text": [
      "Created a chunk of size 880, which is longer than the specified 500\n"
     ]
    },
    {
     "name": "stdout",
     "output_type": "stream",
     "text": [
      "Done: Paris to Budapest: Famous Sites & Tasty Bites\n",
      "Started: Northern Morocco: Blue Cities & Bustling Marrakech\n"
     ]
    },
    {
     "name": "stderr",
     "output_type": "stream",
     "text": [
      "Created a chunk of size 824, which is longer than the specified 500\n"
     ]
    },
    {
     "name": "stdout",
     "output_type": "stream",
     "text": [
      "Done: Northern Morocco: Blue Cities & Bustling Marrakech\n",
      "Started: Japan: Tokyo Nights & Kyoto Temples\n",
      "Done: Japan: Tokyo Nights & Kyoto Temples\n",
      "Started: Paris to Berlin: Art & the Alps\n"
     ]
    },
    {
     "name": "stderr",
     "output_type": "stream",
     "text": [
      "Created a chunk of size 899, which is longer than the specified 500\n"
     ]
    },
    {
     "name": "stdout",
     "output_type": "stream",
     "text": [
      "Done: Paris to Berlin: Art & the Alps\n",
      "Started: Paris to Rome: Picnics & Pizza\n"
     ]
    },
    {
     "name": "stderr",
     "output_type": "stream",
     "text": [
      "Created a chunk of size 828, which is longer than the specified 500\n"
     ]
    },
    {
     "name": "stdout",
     "output_type": "stream",
     "text": [
      "Done: Paris to Rome: Picnics & Pizza\n",
      "Started: Kenya & Uganda Gorilla Overland: Forests & Wildlife Spotting\n"
     ]
    },
    {
     "name": "stderr",
     "output_type": "stream",
     "text": [
      "Created a chunk of size 882, which is longer than the specified 500\n",
      "Created a chunk of size 851, which is longer than the specified 500\n",
      "Created a chunk of size 1028, which is longer than the specified 500\n",
      "Created a chunk of size 951, which is longer than the specified 500\n",
      "Created a chunk of size 868, which is longer than the specified 500\n",
      "Created a chunk of size 575, which is longer than the specified 500\n",
      "Created a chunk of size 593, which is longer than the specified 500\n"
     ]
    },
    {
     "name": "stdout",
     "output_type": "stream",
     "text": [
      "Done: Kenya & Uganda Gorilla Overland: Forests & Wildlife Spotting\n",
      "Started: Southeast Asia: Hilltribes & Street Food\n"
     ]
    },
    {
     "name": "stderr",
     "output_type": "stream",
     "text": [
      "Created a chunk of size 897, which is longer than the specified 500\n",
      "Created a chunk of size 1699, which is longer than the specified 500\n",
      "Created a chunk of size 1629, which is longer than the specified 500\n",
      "Created a chunk of size 1740, which is longer than the specified 500\n"
     ]
    },
    {
     "name": "stdout",
     "output_type": "stream",
     "text": [
      "Done: Southeast Asia: Hilltribes & Street Food\n",
      "Started: Uncover India: High Deserts & Markets\n"
     ]
    },
    {
     "name": "stderr",
     "output_type": "stream",
     "text": [
      "Created a chunk of size 863, which is longer than the specified 500\n"
     ]
    },
    {
     "name": "stdout",
     "output_type": "stream",
     "text": [
      "Done: Uncover India: High Deserts & Markets\n",
      "Started: Japan: Castles & Cuisine\n"
     ]
    },
    {
     "name": "stderr",
     "output_type": "stream",
     "text": [
      "Created a chunk of size 852, which is longer than the specified 500\n"
     ]
    },
    {
     "name": "stdout",
     "output_type": "stream",
     "text": [
      "Done: Japan: Castles & Cuisine\n",
      "Started: Kenya Overland: Safari Drives & National Reserves\n"
     ]
    },
    {
     "name": "stderr",
     "output_type": "stream",
     "text": [
      "Created a chunk of size 860, which is longer than the specified 500\n",
      "Created a chunk of size 851, which is longer than the specified 500\n",
      "Created a chunk of size 755, which is longer than the specified 500\n"
     ]
    },
    {
     "name": "stdout",
     "output_type": "stream",
     "text": [
      "Done: Kenya Overland: Safari Drives & National Reserves\n",
      "Started: Indonesia: Hammocks & Hikes\n"
     ]
    },
    {
     "name": "stderr",
     "output_type": "stream",
     "text": [
      "Created a chunk of size 825, which is longer than the specified 500\n",
      "Created a chunk of size 1669, which is longer than the specified 500\n",
      "Created a chunk of size 667, which is longer than the specified 500\n"
     ]
    },
    {
     "name": "stdout",
     "output_type": "stream",
     "text": [
      "Done: Indonesia: Hammocks & Hikes\n",
      "Started: Delta & Falls Eastbound: Baobab Trees & River Views\n"
     ]
    },
    {
     "name": "stderr",
     "output_type": "stream",
     "text": [
      "Created a chunk of size 1647, which is longer than the specified 500\n",
      "Created a chunk of size 541, which is longer than the specified 500\n",
      "Created a chunk of size 881, which is longer than the specified 500\n",
      "Created a chunk of size 1466, which is longer than the specified 500\n"
     ]
    },
    {
     "name": "stdout",
     "output_type": "stream",
     "text": [
      "Done: Delta & Falls Eastbound: Baobab Trees & River Views\n",
      "Started: Vietnam, Laos & Thailand: Riversides & Railways\n"
     ]
    },
    {
     "name": "stderr",
     "output_type": "stream",
     "text": [
      "Created a chunk of size 929, which is longer than the specified 500\n",
      "Created a chunk of size 3035, which is longer than the specified 500\n",
      "Created a chunk of size 1661, which is longer than the specified 500\n"
     ]
    },
    {
     "name": "stdout",
     "output_type": "stream",
     "text": [
      "Done: Vietnam, Laos & Thailand: Riversides & Railways\n",
      "Started: Epic Japan: Speed Trains & Street Food\n",
      "Done: Epic Japan: Speed Trains & Street Food\n",
      "Started: Bali: Beaches & Boat Rides\n"
     ]
    },
    {
     "name": "stderr",
     "output_type": "stream",
     "text": [
      "Created a chunk of size 828, which is longer than the specified 500\n",
      "Created a chunk of size 1023, which is longer than the specified 500\n"
     ]
    },
    {
     "name": "stdout",
     "output_type": "stream",
     "text": [
      "Done: Bali: Beaches & Boat Rides\n",
      "Started: Moroccan Desert Adventure: River Canyons & Camels\n"
     ]
    },
    {
     "name": "stderr",
     "output_type": "stream",
     "text": [
      "Created a chunk of size 823, which is longer than the specified 500\n"
     ]
    },
    {
     "name": "stdout",
     "output_type": "stream",
     "text": [
      "Done: Moroccan Desert Adventure: River Canyons & Camels\n",
      "Started: Morocco Adventure: Culture & Colour\n"
     ]
    },
    {
     "name": "stderr",
     "output_type": "stream",
     "text": [
      "Created a chunk of size 810, which is longer than the specified 500\n"
     ]
    },
    {
     "name": "stdout",
     "output_type": "stream",
     "text": [
      "Done: Morocco Adventure: Culture & Colour\n",
      "Started: Discover Sri Lanka\n",
      "Done: Discover Sri Lanka\n",
      "Started: Explore Jordan\n",
      "Done: Explore Jordan\n",
      "Started: Morocco: Sahara & Beyond\n",
      "Done: Morocco: Sahara & Beyond\n",
      "Started: Iconic Japan\n"
     ]
    },
    {
     "name": "stderr",
     "output_type": "stream",
     "text": [
      "Created a chunk of size 1588, which is longer than the specified 500\n"
     ]
    },
    {
     "name": "stdout",
     "output_type": "stream",
     "text": [
      "Done: Iconic Japan\n",
      "Started: Discover Australia\n",
      "Done: Discover Australia\n",
      "Started: Thailand Journey\n",
      "Done: Thailand Journey\n",
      "Started: Explore India & Nepal\n",
      "Done: Explore India & Nepal\n",
      "Started: Explore Kruger National Park\n",
      "Done: Explore Kruger National Park\n",
      "Started: Discover India\n",
      "Done: Discover India\n",
      "Started: New Zealand Journey\n",
      "Done: New Zealand Journey\n",
      "Started: Machu Picchu and the Amazon\n",
      "Done: Machu Picchu and the Amazon\n",
      "Started: Inca Explorer\n",
      "Done: Inca Explorer\n",
      "Started: Natural Highlights of Costa Rica\n",
      "Done: Natural Highlights of Costa Rica\n",
      "Started: Iconic Peru\n",
      "Done: Iconic Peru\n",
      "Started: Safari in Kenya & Tanzania\n",
      "Done: Safari in Kenya & Tanzania\n",
      "Started: Discover Moorish Spain\n",
      "Done: Discover Moorish Spain\n",
      "Started: Cultural Wonders of Mexico\n",
      "Done: Cultural Wonders of Mexico\n",
      "Started: Iconic Australia and New Zealand\n",
      "Done: Iconic Australia and New Zealand\n",
      "Started: Paris & Normandy Highlights\n",
      "Done: Paris & Normandy Highlights\n",
      "Started: North India Highlights\n",
      "Done: North India Highlights\n",
      "Started: Israel and Beyond\n",
      "Done: Israel and Beyond\n",
      "Started: Discover Portugal\n",
      "Done: Discover Portugal\n",
      "Started: Southern Africa Highlights\n",
      "Done: Southern Africa Highlights\n",
      "Started: Ecuador: Amazon, Hot Springs & Volcanoes\n",
      "Done: Ecuador: Amazon, Hot Springs & Volcanoes\n",
      "Started: Cape Town, Kruger & Namibia\n",
      "Done: Cape Town, Kruger & Namibia\n",
      "Started: Discover Namibia & Victoria Falls\n",
      "Done: Discover Namibia & Victoria Falls\n",
      "Started: Wonders of Namibia\n",
      "Done: Wonders of Namibia\n",
      "Started: Tanzania Safari Experience\n",
      "Done: Tanzania Safari Experience\n",
      "Started: Explore Costa Rica\n",
      "Done: Explore Costa Rica\n",
      "Started: Explore Iceland\n",
      "Done: Explore Iceland\n",
      "Started: Botswana & Zimbabwe Safari\n",
      "Done: Botswana & Zimbabwe Safari\n",
      "Started: Highlights of Bolivia\n",
      "Done: Highlights of Bolivia\n",
      "Started: Explore Southern Africa\n",
      "Done: Explore Southern Africa\n",
      "Started: Kenya Safari Experience\n",
      "Done: Kenya Safari Experience\n",
      "Started: Explore Israel & Jordan\n",
      "Done: Explore Israel & Jordan\n",
      "Started: Nepal: Himalaya Highlights\n",
      "Done: Nepal: Himalaya Highlights\n",
      "Started: Best of Borneo\n",
      "Done: Best of Borneo\n",
      "Started: Explore Vietnam\n",
      "Done: Explore Vietnam\n",
      "Started: Explore Cape Town & Kruger National Park\n",
      "Done: Explore Cape Town & Kruger National Park\n",
      "Started: Kruger, Victoria Falls & Namibia\n",
      "Done: Kruger, Victoria Falls & Namibia\n",
      "Started: Discover Kruger & Namibia\n",
      "Done: Discover Kruger & Namibia\n",
      "Started: Explore Machu Picchu\n",
      "Done: Explore Machu Picchu\n",
      "Started: Iconic Portugal & Spain\n",
      "Done: Iconic Portugal & Spain\n",
      "Started: Colombia Journey\n",
      "Done: Colombia Journey\n",
      "Started: Morocco Journey\n",
      "Done: Morocco Journey\n",
      "Started: Wild Encounters in Rwanda\n",
      "Done: Wild Encounters in Rwanda\n",
      "Started: Explore Central Europe\n",
      "Done: Explore Central Europe\n",
      "Started: Wonders of Bhutan\n",
      "Done: Wonders of Bhutan\n",
      "Started: Explore Kruger & Victoria Falls\n",
      "Done: Explore Kruger & Victoria Falls\n",
      "Started: Morocco Family Journey: Ancient Souks to the Sahara\n",
      "Done: Morocco Family Journey: Ancient Souks to the Sahara\n",
      "Started: Beijing to Tokyo: The Great Wall & Mt Fuji\n",
      "Done: Beijing to Tokyo: The Great Wall & Mt Fuji\n",
      "Started: Wellness Bali\n",
      "Done: Wellness Bali\n",
      "Started: Wellness Costa Rica\n",
      "Done: Wellness Costa Rica\n"
     ]
    }
   ],
   "source": [
    "import time\n",
    "\n",
    "# Create index if it doesn't exist already\n",
    "if \"chatbot\" not in pinecone.list_indexes():\n",
    "    pinecone.create_index(\n",
    "        name=\"chatbot\",\n",
    "        dimension=1536, \n",
    "        metric=\"cosine\" \n",
    "    )\n",
    "\n",
    "for itinerary in tour_name_list:\n",
    "    print(f'Started: {itinerary}')\n",
    "    query = f\"\"\"\n",
    "    SELECT \n",
    "        MAX(tour_operator) AS tour_operator,\n",
    "        tour_name,\n",
    "        itinerary_name,\n",
    "        MAX(visited_countries) AS visited_countries,\n",
    "        MAX(duration) AS duration,\n",
    "        MAX(Travel_Style) AS Travel_Style,\n",
    "        MAX(Service_Level) AS Service_Level,\n",
    "        MAX(Physical_Grading) AS Physical_Grading,\n",
    "        MAX(Merchandising) AS Merchandising,\n",
    "        MAX(Trip_Type) AS Trip_Type,\n",
    "        MAX(itinerary) AS itinerary,\n",
    "        MAX(url) AS url\n",
    "    FROM {PROJECT}.{DATASET}.{TABLE}\n",
    "    WHERE \n",
    "      tour_name = \"{itinerary}\"\n",
    "    GROUP BY\n",
    "      tour_name, itinerary_name;\n",
    "    \"\"\"\n",
    "    \n",
    "    # Load embeddings model  \n",
    "    embeddings = OpenAIEmbeddings(openai_api_key=api_key)\n",
    "\n",
    "    # Load texts\n",
    "    loader = BigQueryLoader(query, metadata_columns=[\"tour_name\"])\n",
    "\n",
    "    docs = loader.load()\n",
    "\n",
    "    text_splitter = CharacterTextSplitter(chunk_size=500, chunk_overlap=50)\n",
    "\n",
    "    texts = text_splitter.split_documents(docs)\n",
    "\n",
    "    # Create Pinecone index instance\n",
    "    index = pinecone.Index(\"chatbot\")\n",
    "\n",
    "    # Upsert texts into index\n",
    "    docsearch = Pinecone.from_documents(texts, embeddings, index_name=\"chatbot\")\n",
    "    time.sleep(1)\n",
    "    print(f'Done: {itinerary}')"
   ]
  },
  {
   "cell_type": "code",
   "execution_count": null,
   "id": "5c4f65cb",
   "metadata": {},
   "outputs": [],
   "source": []
  },
  {
   "cell_type": "code",
   "execution_count": null,
   "id": "82f12766",
   "metadata": {},
   "outputs": [],
   "source": []
  },
  {
   "cell_type": "code",
   "execution_count": null,
   "id": "5ee2e333",
   "metadata": {},
   "outputs": [],
   "source": []
  },
  {
   "cell_type": "code",
   "execution_count": null,
   "id": "bccc7499",
   "metadata": {},
   "outputs": [],
   "source": []
  },
  {
   "cell_type": "code",
   "execution_count": null,
   "id": "c318d57a",
   "metadata": {},
   "outputs": [],
   "source": [
    "saa"
   ]
  },
  {
   "cell_type": "code",
   "execution_count": null,
   "id": "96c10cfc",
   "metadata": {},
   "outputs": [],
   "source": [
    "# ingestion complete - test Q&A"
   ]
  },
  {
   "cell_type": "code",
   "execution_count": null,
   "id": "9b290f6c",
   "metadata": {},
   "outputs": [],
   "source": [
    "pinecone_index = pinecone.Index(\"chatbot\")\n",
    "vectorstore = Pinecone(pinecone_index, embeddings.embed_query, \"text\")"
   ]
  },
  {
   "cell_type": "code",
   "execution_count": null,
   "id": "426a4d57",
   "metadata": {},
   "outputs": [],
   "source": [
    "filters = {\"tour_name\": \"Coastal Morocco: Waves & Market Stalls\"}\n",
    "\n",
    "# completion llm\n",
    "llm = ChatOpenAI(\n",
    "    openai_api_key=api_key,\n",
    "    model_name='gpt-3.5-turbo',\n",
    "    temperature=0.0\n",
    ")\n",
    "\n",
    "qa = RetrievalQA.from_chain_type(\n",
    "    llm=llm,\n",
    "    chain_type=\"stuff\",\n",
    "    retriever=vectorstore.as_retriever(search_kwargs={'filter': filters})\n",
    ")"
   ]
  },
  {
   "cell_type": "code",
   "execution_count": null,
   "id": "3f20c27f",
   "metadata": {},
   "outputs": [],
   "source": [
    "answer = qa.run('what surfing oppertunities are there?')\n",
    "print(answer)"
   ]
  },
  {
   "cell_type": "code",
   "execution_count": 17,
   "id": "dcb8a7ad",
   "metadata": {},
   "outputs": [],
   "source": [
    "pinecone.delete_index(\"chatbot\")"
   ]
  },
  {
   "cell_type": "code",
   "execution_count": null,
   "id": "d22fe770",
   "metadata": {},
   "outputs": [],
   "source": []
  }
 ],
 "metadata": {
  "kernelspec": {
   "display_name": "Python 3 (ipykernel)",
   "language": "python",
   "name": "python3"
  },
  "language_info": {
   "codemirror_mode": {
    "name": "ipython",
    "version": 3
   },
   "file_extension": ".py",
   "mimetype": "text/x-python",
   "name": "python",
   "nbconvert_exporter": "python",
   "pygments_lexer": "ipython3",
   "version": "3.10.6"
  },
  "toc": {
   "base_numbering": 1,
   "nav_menu": {},
   "number_sections": true,
   "sideBar": true,
   "skip_h1_title": false,
   "title_cell": "Table of Contents",
   "title_sidebar": "Contents",
   "toc_cell": false,
   "toc_position": {},
   "toc_section_display": true,
   "toc_window_display": false
  }
 },
 "nbformat": 4,
 "nbformat_minor": 5
}
