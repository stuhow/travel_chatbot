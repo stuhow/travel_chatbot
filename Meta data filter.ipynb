{
 "cells": [
  {
   "cell_type": "code",
   "execution_count": 1,
   "id": "07bbfee6",
   "metadata": {},
   "outputs": [],
   "source": [
    "import pandas as pd"
   ]
  },
  {
   "cell_type": "code",
   "execution_count": null,
   "id": "98fc4055",
   "metadata": {},
   "outputs": [],
   "source": []
  },
  {
   "cell_type": "code",
   "execution_count": 2,
   "id": "53fb35fa",
   "metadata": {},
   "outputs": [],
   "source": [
    "from typing import Optional\n",
    "from pydantic import BaseModel, Field\n",
    "\n",
    "class TravelDetails(BaseModel):\n",
    "    introduction: Optional[bool] = Field(\n",
    "        False,\n",
    "        description=\"Has francis introducted himself and asked if the user is interested in a group tour.\",\n",
    "    )\n",
    "#     qualification: Optional[str] = Field(\n",
    "#         ...,\n",
    "#         description=\"Did the user confirm they are looking for a group tour or answer positivley when asked. If the user asks about a trip assume the answer is yes\",\n",
    "#         enum=[\"Yes\", \"No\", \"Unsure\"]\n",
    "#     )\n",
    "    country: Optional[str] = Field(\n",
    "        \"\",\n",
    "        description=\"This is the name of the country the user is wanting to visit. If they name a place within a country always return the country\",\n",
    "        enum=[\"Cambodia\", \"Vietnam\", \"Thailand\"]\n",
    "    )\n",
    "    departing_after: Optional[str] = Field(\n",
    "        \"\",\n",
    "        description=\"This is the first date from which the user can depart. If the user gives a month assume this is the first of the month. If not year if given return 2023. In the format '%d/%m/%Y'\",\n",
    "    )\n",
    "    departing_before: Optional[str] = Field(\n",
    "        \"\",\n",
    "        description=\"This is the last date from which the user can depart. If the user gives a month assume this is the last day of the month. If not year if given return 2023. In the format '%d/%m/%Y'\",\n",
    "    )\n",
    "    max_budget: Optional[int] = Field(\n",
    "        0,\n",
    "        description=\"This is the maximun amount of money the user is looking to spend on their trip.\",\n",
    "    )\n",
    "    max_duration: Optional[int] = Field(\n",
    "        None,\n",
    "        description=\"This is the maximum duration of their trip.\"\n",
    "    )\n",
    "    min_duration: Optional[int] = Field(\n",
    "        None,\n",
    "        description=\"This is the minimum duration of their trip.\",\n",
    "    )"
   ]
  },
  {
   "cell_type": "code",
   "execution_count": 91,
   "id": "a2c694e5",
   "metadata": {},
   "outputs": [],
   "source": [
    "user_travel_details = TravelDetails(introduction=False,\n",
    "                                # qualification=\"\",\n",
    "                                country=\"Morocco\",\n",
    "                                departing_after=\"2024-03-19\",\n",
    "                                departing_before=\"2024-04-30\",\n",
    "                                max_budget=None,\n",
    "                                max_duration=None,\n",
    "                                min_duration=None)"
   ]
  },
  {
   "cell_type": "code",
   "execution_count": 92,
   "id": "88ba848d",
   "metadata": {},
   "outputs": [],
   "source": [
    "# Define a custom function to find the first non-null value in columns 9 to the end\n",
    "def find_first_non_null(row):\n",
    "    for value in row[11:]:  # Slice from the 9th column to the end\n",
    "        if not pd.isna(value):\n",
    "            return value\n",
    "    return None\n"
   ]
  },
  {
   "cell_type": "code",
   "execution_count": 93,
   "id": "3f0548ac",
   "metadata": {},
   "outputs": [],
   "source": [
    "def get_filtered_df(df, user_travel_details):\n",
    "    trip_details_dict = user_travel_details.dict()\n",
    "    filled_out_dictionary = {k: v for k, v in user_travel_details.dict().items() if v not in [False, None, \"\",0]}\n",
    "    # print(filled_out_dictionary)\n",
    "    # convert dates to datetime format\n",
    "    df['duration'] = df['duration'].str.replace(' days', '').astype(int)\n",
    "    df['start_date'] = pd.to_datetime(df['start_date'], format='%Y-%m-%d')\n",
    "    \n",
    "    # Apply the custom function to each row to find cost\n",
    "    df['first_non_null'] = df.apply(find_first_non_null, axis=1)\n",
    "\n",
    "    # Filtering the DataFrame\n",
    "    filtered_df = df.copy()  # Make a copy of the original DataFrame to keep it intact\n",
    "    \n",
    "    # Iterate through the list of potential inputs\n",
    "    for input_column in filled_out_dictionary.keys():\n",
    "        if input_column == 'country':\n",
    "            filtered_df = filtered_df[filtered_df['visited_countries'] == trip_details_dict[\"country\"]]\n",
    "        elif input_column == 'max_budget':\n",
    "            filtered_df = filtered_df[filtered_df['first_non_null'] <= trip_details_dict[\"max_budget\"]]\n",
    "        elif input_column == 'min_budget':\n",
    "            filtered_df = filtered_df[filtered_df['first_non_null'] >= trip_details_dict[\"min_budget\"]]\n",
    "        elif input_column == 'departing_after':\n",
    "            filtered_df = filtered_df[filtered_df['start_date'] >= trip_details_dict[\"departing_after\"]]\n",
    "        elif input_column == 'departing_before':\n",
    "            filtered_df = filtered_df[filtered_df['start_date'] <= trip_details_dict[\"departing_before\"]]\n",
    "        elif input_column == 'max_duration':\n",
    "            filtered_df = filtered_df[filtered_df['duration'] <= trip_details_dict[\"max_duration\"]]\n",
    "        elif input_column == 'min_duration':\n",
    "            filtered_df = filtered_df[filtered_df['duration'] >= trip_details_dict[\"min_duration\"]]\n",
    "\n",
    "    return filtered_df"
   ]
  },
  {
   "cell_type": "code",
   "execution_count": 94,
   "id": "d7728a39",
   "metadata": {},
   "outputs": [],
   "source": [
    "df = pd.read_csv(\"raw_data/one_day_test.csv\")"
   ]
  },
  {
   "cell_type": "code",
   "execution_count": 95,
   "id": "936a1dc2",
   "metadata": {},
   "outputs": [],
   "source": [
    "filtered_df = get_filtered_df(df, user_travel_details)"
   ]
  },
  {
   "cell_type": "code",
   "execution_count": 96,
   "id": "5205aa98",
   "metadata": {},
   "outputs": [
    {
     "data": {
      "text/html": [
       "<div>\n",
       "<style scoped>\n",
       "    .dataframe tbody tr th:only-of-type {\n",
       "        vertical-align: middle;\n",
       "    }\n",
       "\n",
       "    .dataframe tbody tr th {\n",
       "        vertical-align: top;\n",
       "    }\n",
       "\n",
       "    .dataframe thead th {\n",
       "        text-align: right;\n",
       "    }\n",
       "</style>\n",
       "<table border=\"1\" class=\"dataframe\">\n",
       "  <thead>\n",
       "    <tr style=\"text-align: right;\">\n",
       "      <th></th>\n",
       "      <th>tour_name</th>\n",
       "      <th>itinerary_name</th>\n",
       "      <th>visited_countries</th>\n",
       "      <th>start_date</th>\n",
       "      <th>duration</th>\n",
       "      <th>url</th>\n",
       "      <th>Travel Style</th>\n",
       "      <th>Service Level</th>\n",
       "      <th>Physical Grading</th>\n",
       "      <th>Merchandising</th>\n",
       "      <th>Trip Type</th>\n",
       "      <th>Standard - Adult</th>\n",
       "      <th>Standard - Double - D - Adult</th>\n",
       "      <th>Standard - Twin - D - Adult</th>\n",
       "      <th>first_non_null</th>\n",
       "    </tr>\n",
       "  </thead>\n",
       "  <tbody>\n",
       "    <tr>\n",
       "      <th>16</th>\n",
       "      <td>Highlights of Morocco</td>\n",
       "      <td>NaN</td>\n",
       "      <td>Morocco</td>\n",
       "      <td>2024-04-19</td>\n",
       "      <td>15</td>\n",
       "      <td>https://www.gadventures.com/trips/highlights-o...</td>\n",
       "      <td>Classic</td>\n",
       "      <td>Standard</td>\n",
       "      <td>2 - Light</td>\n",
       "      <td>Planeterra Project Book Your Bubble</td>\n",
       "      <td>Small Group</td>\n",
       "      <td>1119.0</td>\n",
       "      <td>NaN</td>\n",
       "      <td>NaN</td>\n",
       "      <td>1119.0</td>\n",
       "    </tr>\n",
       "    <tr>\n",
       "      <th>17</th>\n",
       "      <td>Coastal Morocco: Waves &amp; Market Stalls</td>\n",
       "      <td>NaN</td>\n",
       "      <td>Morocco</td>\n",
       "      <td>2024-04-19</td>\n",
       "      <td>5</td>\n",
       "      <td>https://www.gadventures.com/trips/tour-coastal...</td>\n",
       "      <td>18-to-Thirtysomethings</td>\n",
       "      <td>Basic</td>\n",
       "      <td>2 - Light</td>\n",
       "      <td>NaN</td>\n",
       "      <td>Small Group</td>\n",
       "      <td>469.0</td>\n",
       "      <td>NaN</td>\n",
       "      <td>NaN</td>\n",
       "      <td>469.0</td>\n",
       "    </tr>\n",
       "  </tbody>\n",
       "</table>\n",
       "</div>"
      ],
      "text/plain": [
       "                                 tour_name itinerary_name visited_countries  \\\n",
       "16                   Highlights of Morocco            NaN           Morocco   \n",
       "17  Coastal Morocco: Waves & Market Stalls            NaN           Morocco   \n",
       "\n",
       "   start_date  duration                                                url  \\\n",
       "16 2024-04-19        15  https://www.gadventures.com/trips/highlights-o...   \n",
       "17 2024-04-19         5  https://www.gadventures.com/trips/tour-coastal...   \n",
       "\n",
       "              Travel Style Service Level Physical Grading  \\\n",
       "16                 Classic      Standard        2 - Light   \n",
       "17  18-to-Thirtysomethings         Basic        2 - Light   \n",
       "\n",
       "                          Merchandising    Trip Type  Standard - Adult  \\\n",
       "16  Planeterra Project Book Your Bubble  Small Group            1119.0   \n",
       "17                                  NaN  Small Group             469.0   \n",
       "\n",
       "    Standard - Double - D - Adult  Standard - Twin - D - Adult  first_non_null  \n",
       "16                            NaN                          NaN          1119.0  \n",
       "17                            NaN                          NaN           469.0  "
      ]
     },
     "execution_count": 96,
     "metadata": {},
     "output_type": "execute_result"
    }
   ],
   "source": [
    "filtered_df.head()"
   ]
  },
  {
   "cell_type": "code",
   "execution_count": 64,
   "id": "68ba0135",
   "metadata": {},
   "outputs": [],
   "source": [
    "trip_details_dict = user_travel_details.dict()\n",
    "filled_out_dictionary = {k: v for k, v in user_travel_details.dict().items() if v not in [False, None, \"\",0]}"
   ]
  },
  {
   "cell_type": "code",
   "execution_count": 65,
   "id": "faecb452",
   "metadata": {},
   "outputs": [
    {
     "data": {
      "text/plain": [
       "{'country': 'Jordan',\n",
       " 'departing_after': '2024-03-19',\n",
       " 'departing_before': '2024-04-11'}"
      ]
     },
     "execution_count": 65,
     "metadata": {},
     "output_type": "execute_result"
    }
   ],
   "source": [
    "filled_out_dictionary"
   ]
  },
  {
   "cell_type": "code",
   "execution_count": 66,
   "id": "d0d7ba20",
   "metadata": {},
   "outputs": [],
   "source": [
    "country_filtered_df = df[df['visited_countries'] == trip_details_dict[\"country\"]]"
   ]
  },
  {
   "cell_type": "code",
   "execution_count": 79,
   "id": "0efd5ac7",
   "metadata": {},
   "outputs": [],
   "source": [
    "# country suggestions\n",
    "alternate_destinations = filtered_df['visited_countries'].unique()"
   ]
  },
  {
   "cell_type": "code",
   "execution_count": 80,
   "id": "92ea8286",
   "metadata": {},
   "outputs": [
    {
     "name": "stderr",
     "output_type": "stream",
     "text": [
      "/tmp/ipykernel_13758/4004721552.py:5: RuntimeWarning: invalid value encountered in scalar divide\n",
      "  average_cost_per_day = round(filtered_df['first_non_null'].sum() / filtered_df['duration'].sum(),0)\n"
     ]
    }
   ],
   "source": [
    "# budget suggestions\n",
    "min_budget = filtered_df['first_non_null'].min()\n",
    "mean_budget = filtered_df['first_non_null'].mean()\n",
    "max_budget = filtered_df['first_non_null'].max()\n",
    "average_cost_per_day = round(filtered_df['first_non_null'].sum() / filtered_df['duration'].sum(),0)"
   ]
  },
  {
   "cell_type": "code",
   "execution_count": 81,
   "id": "8f4d8466",
   "metadata": {},
   "outputs": [],
   "source": [
    "# duration suggestions\n",
    "min_duration = filtered_df['duration'].min()\n",
    "mean_duration = filtered_df['duration'].mean()\n",
    "max_duration = filtered_df['duration'].max()"
   ]
  },
  {
   "cell_type": "code",
   "execution_count": 82,
   "id": "07f37cd6",
   "metadata": {},
   "outputs": [],
   "source": [
    "# start_date suggestions\n",
    "later_start_date = filtered_df[filtered_df['start_date'] > trip_details_dict['departing_before']]\n",
    "earlier_start_date = filtered_df[filtered_df['start_date'] < trip_details_dict['departing_before']]"
   ]
  },
  {
   "cell_type": "code",
   "execution_count": null,
   "id": "c87f44ef",
   "metadata": {},
   "outputs": [],
   "source": []
  },
  {
   "cell_type": "code",
   "execution_count": 83,
   "id": "7f3d589b",
   "metadata": {},
   "outputs": [
    {
     "name": "stdout",
     "output_type": "stream",
     "text": [
      "No results found for the given criteria. Consider the following alternate suggestions:\n",
      "{'budget': [nan, nan, nan], 'duration': [nan, nan, nan], 'start_date': {'later_start_date': Empty DataFrame\n",
      "Columns: [tour_name, itinerary_name, visited_countries, start_date, duration, url, Travel Style, Service Level, Physical Grading, Merchandising, Trip Type, Standard - Adult, Standard - Double - D - Adult, Standard - Twin - D - Adult, first_non_null]\n",
      "Index: [], 'earlier_start_date': Empty DataFrame\n",
      "Columns: [tour_name, itinerary_name, visited_countries, start_date, duration, url, Travel Style, Service Level, Physical Grading, Merchandising, Trip Type, Standard - Adult, Standard - Double - D - Adult, Standard - Twin - D - Adult, first_non_null]\n",
      "Index: []}}\n"
     ]
    }
   ],
   "source": [
    "trip_details_dict = user_travel_details.dict()\n",
    "filled_out_dictionary = {k: v for k, v in user_travel_details.dict().items() if v not in [False, None, \"\",0]}\n",
    "\n",
    "# Check if the resulting DataFrame is empty\n",
    "if len(filtered_df) == 0:\n",
    "    # Provide alternate suggestions based on user criteria\n",
    "    alternate_suggestions = {}\n",
    "    \n",
    "    # For the 'country' filter\n",
    "    if 'country' not in filled_out_dictionary:\n",
    "        alternate_suggestions['country'] = df['visited_countries'].unique()\n",
    "    \n",
    "    # For the 'budget' filter\n",
    "    if 'budget' not in filled_out_dictionary:\n",
    "        alternate_suggestions['budget'] = [min_budget, mean_budget, max_budget]\n",
    "    \n",
    "    # For the 'duration' filter\n",
    "    if 'duration' not in filled_out_dictionary:\n",
    "        alternate_suggestions['duration'] = [min_duration, mean_duration, max_duration]\n",
    "    \n",
    "    # For the 'start_date' filter\n",
    "    if 'start_date' not in filled_out_dictionary:\n",
    "        alternate_suggestions['start_date'] = {\n",
    "            'later_start_date': later_start_date,\n",
    "            'earlier_start_date': earlier_start_date\n",
    "        }\n",
    "    \n",
    "    print(\"No results found for the given criteria. Consider the following alternate suggestions:\")\n",
    "    print(alternate_suggestions)\n",
    "else:\n",
    "    print(\"Results based on user criteria:\")\n",
    "    print(suggested_df)\n"
   ]
  },
  {
   "cell_type": "code",
   "execution_count": 84,
   "id": "39a76d80",
   "metadata": {},
   "outputs": [
    {
     "data": {
      "text/plain": [
       "{'budget': [nan, nan, nan],\n",
       " 'duration': [nan, nan, nan],\n",
       " 'start_date': {'later_start_date': Empty DataFrame\n",
       "  Columns: [tour_name, itinerary_name, visited_countries, start_date, duration, url, Travel Style, Service Level, Physical Grading, Merchandising, Trip Type, Standard - Adult, Standard - Double - D - Adult, Standard - Twin - D - Adult, first_non_null]\n",
       "  Index: [],\n",
       "  'earlier_start_date': Empty DataFrame\n",
       "  Columns: [tour_name, itinerary_name, visited_countries, start_date, duration, url, Travel Style, Service Level, Physical Grading, Merchandising, Trip Type, Standard - Adult, Standard - Double - D - Adult, Standard - Twin - D - Adult, first_non_null]\n",
       "  Index: []}}"
      ]
     },
     "execution_count": 84,
     "metadata": {},
     "output_type": "execute_result"
    }
   ],
   "source": [
    "alternate_suggestions"
   ]
  },
  {
   "cell_type": "code",
   "execution_count": null,
   "id": "67ff1103",
   "metadata": {},
   "outputs": [],
   "source": [
    "\n",
    "\n",
    "\n",
    "\n"
   ]
  }
 ],
 "metadata": {
  "kernelspec": {
   "display_name": "Python 3 (ipykernel)",
   "language": "python",
   "name": "python3"
  },
  "language_info": {
   "codemirror_mode": {
    "name": "ipython",
    "version": 3
   },
   "file_extension": ".py",
   "mimetype": "text/x-python",
   "name": "python",
   "nbconvert_exporter": "python",
   "pygments_lexer": "ipython3",
   "version": "3.10.6"
  },
  "toc": {
   "base_numbering": 1,
   "nav_menu": {},
   "number_sections": true,
   "sideBar": true,
   "skip_h1_title": false,
   "title_cell": "Table of Contents",
   "title_sidebar": "Contents",
   "toc_cell": false,
   "toc_position": {},
   "toc_section_display": true,
   "toc_window_display": false
  }
 },
 "nbformat": 4,
 "nbformat_minor": 5
}
