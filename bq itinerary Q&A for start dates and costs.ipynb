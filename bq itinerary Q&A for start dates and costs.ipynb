{
 "cells": [
  {
   "cell_type": "code",
   "execution_count": null,
   "id": "bc1faf58",
   "metadata": {},
   "outputs": [],
   "source": [
    "# we can use pinecone to run sematic search to answer questions about the itinerary\n",
    "# we need an sql agent to answer questions about the start dates and costs as these are dynamic"
   ]
  },
  {
   "cell_type": "code",
   "execution_count": 24,
   "id": "5378fae6",
   "metadata": {},
   "outputs": [],
   "source": [
    "from google.cloud import bigquery\n",
    "from sqlalchemy import *\n",
    "from sqlalchemy.engine import create_engine\n",
    "from sqlalchemy.schema import *\n",
    "import os\n",
    "from langchain.agents import create_sql_agent\n",
    "from langchain.agents.agent_toolkits import SQLDatabaseToolkit\n",
    "from langchain.sql_database import SQLDatabase\n",
    "from langchain.llms.openai import OpenAI\n",
    "from langchain.agents import AgentExecutor\n",
    "\n"
   ]
  },
  {
   "cell_type": "code",
   "execution_count": 42,
   "id": "845bc689",
   "metadata": {},
   "outputs": [],
   "source": [
    "from dotenv import load_dotenv\n",
    "import os\n",
    "\n",
    "# Load the environment variables from the .env file\n",
    "load_dotenv()\n",
    "\n",
    "# Access environment variables\n",
    "api_key = os.getenv(\"OPENAI_KEY\")"
   ]
  },
  {
   "cell_type": "code",
   "execution_count": 43,
   "id": "c8a23673",
   "metadata": {},
   "outputs": [],
   "source": [
    "service_account_file = \"/home/stuart/code/stuhow/gcp/wagon-bootcamp-377120-85e4244eae02.json\" # Change to where your service account key file is located"
   ]
  },
  {
   "cell_type": "code",
   "execution_count": 50,
   "id": "917de0de",
   "metadata": {},
   "outputs": [],
   "source": [
    "PROJECT = \"wagon-bootcamp-377120\"\n",
    "DATASET = \"g_adventures_dataset\"\n",
    "TABLE = \"one_month\"\n",
    "sqlalchemy_url = f'bigquery://{PROJECT}/{DATASET}?credentials_path={service_account_file}'"
   ]
  },
  {
   "cell_type": "code",
   "execution_count": 57,
   "id": "31959f4c",
   "metadata": {},
   "outputs": [],
   "source": [
    "db = SQLDatabase.from_uri(sqlalchemy_url, include_tables=[TABLE])\n",
    "llm = OpenAI(temperature=0, model=\"text-davinci-003\", openai_api_key=api_key)"
   ]
  },
  {
   "cell_type": "code",
   "execution_count": 52,
   "id": "39366dfd",
   "metadata": {},
   "outputs": [],
   "source": [
    "toolkit = SQLDatabaseToolkit(db=db, llm=llm)"
   ]
  },
  {
   "cell_type": "code",
   "execution_count": 55,
   "id": "059aaf37",
   "metadata": {},
   "outputs": [],
   "source": [
    "agent_executor = create_sql_agent(\n",
    "llm=llm,\n",
    "toolkit=toolkit,\n",
    "verbose=False,\n",
    "top_k=1000,\n",
    ")"
   ]
  },
  {
   "cell_type": "code",
   "execution_count": 56,
   "id": "8f1053b7",
   "metadata": {},
   "outputs": [
    {
     "data": {
      "text/plain": [
       "'The average duration is 9.55139442231075 days.'"
      ]
     },
     "execution_count": 56,
     "metadata": {},
     "output_type": "execute_result"
    }
   ],
   "source": [
    "agent_executor.run(\"what is the average duration?\")"
   ]
  },
  {
   "cell_type": "code",
   "execution_count": 58,
   "id": "4d18c370",
   "metadata": {},
   "outputs": [],
   "source": [
    "db = SQLDatabase.from_uri(sqlalchemy_url) # , include_tables=[TABLE]\n",
    "llm = OpenAI(temperature=0, model=\"text-davinci-003\", openai_api_key=api_key)"
   ]
  },
  {
   "cell_type": "code",
   "execution_count": 59,
   "id": "606bdb9b",
   "metadata": {},
   "outputs": [],
   "source": [
    "import ast\n",
    "import re\n",
    "\n",
    "def run_query_save_results(db, query):\n",
    "    res = db.run(query)\n",
    "    res = [el for sub in ast.literal_eval(res) for el in sub if el]\n",
    "    res = [re.sub(r'\\b\\d+\\b', '', string).strip() for string in res]\n",
    "    return res\n",
    "\n",
    "itinerary = run_query_save_results(db, \"SELECT DISTINCT tour_name FROM one_month\")"
   ]
  },
  {
   "cell_type": "code",
   "execution_count": 68,
   "id": "522168fa",
   "metadata": {},
   "outputs": [],
   "source": [
    "from langchain.agents.agent_toolkits import create_retriever_tool\n",
    "from langchain.embeddings.openai import OpenAIEmbeddings\n",
    "from langchain.vectorstores import FAISS\n",
    "\n",
    "\n",
    "embeddings = OpenAIEmbeddings()\n",
    "vector_db = FAISS.from_texts(itinerary, embeddings)\n",
    "retriever = vector_db.as_retriever()\n",
    "\n",
    "retriever_tool = create_retriever_tool(\n",
    "        retriever,\n",
    "        name='itinerary_search',\n",
    "        description='use to learn how an itinerary name is actually written'\n",
    "    )\n",
    "\n",
    "custom_tool_list = [retriever_tool]"
   ]
  },
  {
   "cell_type": "code",
   "execution_count": 74,
   "id": "d5681255",
   "metadata": {},
   "outputs": [],
   "source": [
    "from langchain.agents import create_sql_agent, AgentType\n",
    "from langchain.agents.agent_toolkits import SQLDatabaseToolkit\n",
    "from langchain.utilities import SQLDatabase\n",
    "from langchain.chat_models import ChatOpenAI\n",
    "\n",
    "db = SQLDatabase.from_uri(sqlalchemy_url, include_tables=[TABLE])\n",
    "llm = ChatOpenAI(model_name='gpt-4', temperature=0)\n",
    "\n",
    "toolkit = SQLDatabaseToolkit(db=db, llm=llm)\n",
    "\n",
    "custom_suffix = \"\"\"\n",
    "You should always first check the itinerary name spelling using the itinerary_search tool.\n",
    "\"\"\"\n",
    "\n",
    "agent = create_sql_agent(llm=llm,\n",
    "                         toolkit=toolkit,\n",
    "                         verbose=True,\n",
    "                         agent_type=AgentType.OPENAI_FUNCTIONS,\n",
    "                         extra_tools=custom_tool_list,\n",
    "                         suffix=custom_suffix\n",
    "                        )"
   ]
  },
  {
   "cell_type": "code",
   "execution_count": 76,
   "id": "31e70a76",
   "metadata": {},
   "outputs": [
    {
     "name": "stdout",
     "output_type": "stream",
     "text": [
      "\n",
      "\n",
      "\u001b[1m> Entering new AgentExecutor chain...\u001b[0m\n",
      "\u001b[32;1m\u001b[1;3m\n",
      "Invoking: `sql_db_list_tables` with ``\n",
      "\n",
      "\n",
      "\u001b[0m\u001b[38;5;200m\u001b[1;3mone_month\u001b[0m\u001b[32;1m\u001b[1;3m\n",
      "Invoking: `sql_db_schema` with `one_month`\n",
      "\n",
      "\n",
      "\u001b[0m\u001b[33;1m\u001b[1;3m\n",
      "CREATE TABLE `one_month` (\n",
      "\t`tour_operator` STRING, \n",
      "\t`tour_name` STRING, \n",
      "\t`itinerary_name` STRING, \n",
      "\t`visited_countries` STRING, \n",
      "\t`start_date` DATE, \n",
      "\t`duration` INT64, \n",
      "\t`url` STRING, \n",
      "\t`itinerary` STRING, \n",
      "\t`Travel_Style` STRING, \n",
      "\t`Service_Level` STRING, \n",
      "\t`Physical_Grading` STRING, \n",
      "\t`Merchandising` STRING, \n",
      "\t`Trip_Type` STRING, \n",
      "\t`currency` STRING, \n",
      "\t`Deluxe___Double___D___Adult` FLOAT64, \n",
      "\t`Standard___Twin___D___Adult` FLOAT64, \n",
      "\t`Standard___Adult` FLOAT64, \n",
      "\t`En_suite_bathroom___Twin___D___Adult` FLOAT64, \n",
      "\t`Shared_bathroom___Twin___D___Adult` FLOAT64, \n",
      "\t`En_suite_bathroom___Double___D___Adult` FLOAT64, \n",
      "\t`Upper_Deck_Balcony___Single___D___Adult` FLOAT64, \n",
      "\t`Main_Deck___Double___D___Adult` FLOAT64, \n",
      "\t`Upper_Deck_Balcony___Double_Twin___D___Adult` FLOAT64, \n",
      "\t`Main_Deck_Balcony___Double_Twin___D___Adult` FLOAT64, \n",
      "\t`Shared_bathroom___Female_only_dorm_____F___Adult` FLOAT64, \n",
      "\t`Shared_bathroom___Double_Twin___D___Adult` FLOAT64, \n",
      "\t`Shared_bathroom___Mixed_gender_dorm_____B___Adult` FLOAT64, \n",
      "\t`Standard___Double___D___Adult` FLOAT64, \n",
      "\t`Upper_Deck___Twin___D___Adult` FLOAT64, \n",
      "\t`Standard___Child` FLOAT64, \n",
      "\t`Non_View_En_suite_bathroom___Twin___D___Adult` FLOAT64, \n",
      "\t`View_En_suite_bathroom___Twin___D___Adult` FLOAT64, \n",
      "\t`Non_View_En_suite_bathroom___Double___D___Adult` FLOAT64, \n",
      "\t`Main_Deck___Twin___D___Adult` FLOAT64, \n",
      "\t`Lower_Deck___Twin___D___Adult` FLOAT64\n",
      ")\n",
      "\n",
      "/*\n",
      "3 rows from one_month table:\n",
      "tour_operator\ttour_name\titinerary_name\tvisited_countries\tstart_date\tduration\turl\titinerary\tTravel_Style\tService_Level\tPhysical_Grading\tMerchandising\tTrip_Type\tcurrency\tDeluxe___Double___D___Adult\tStandard___Twin___D___Adult\tStandard___Adult\tEn_suite_bathroom___Twin___D___Adult\tShared_bathroom___Twin___D___Adult\tEn_suite_bathroom___Double___D___Adult\tUpper_Deck_Balcony___Single___D___Adult\tMain_Deck___Double___D___Adult\tUpper_Deck_Balcony___Double_Twin___D___Adult\tMain_Deck_Balcony___Double_Twin___D___Adult\tShared_bathroom___Female_only_dorm_____F___Adult\tShared_bathroom___Double_Twin___D___Adult\tShared_bathroom___Mixed_gender_dorm_____B___Adult\tStandard___Double___D___Adult\tUpper_Deck___Twin___D___Adult\tStandard___Child\tNon_View_En_suite_bathroom___Twin___D___Adult\tView_En_suite_bathroom___Twin___D___Adult\tNon_View_En_suite_bathroom___Double___D___Adult\tMain_Deck___Twin___D___Adult\tLower_Deck___Twin___D___Adult\n",
      "G Adventures\tWestern and Central Europe: Venice, the Alps & the Flavours of Rome\tNone\tAustria, Italy, Germany\t2024-04-02\t8\thttps://www.gadventures.com/trips/western-and-central-europe-travel/EDMRHW/\t\"Day 1: Arrive at any time, find a comfy spot in the hostel to relax or go out to explore before mee\tRoamies by Hostelworld & G Adventures\tBasic - Simple and clean hotels and hostels; affordable public and private transport; lots of option\t2 - Light - Light walking and hiking suitable for most fitness levels. Nothing too challenging.\tNew Trips\tSmall Group - Group trips average 12 travellers per departure, depending on the adventure. The maxim\tGBP\tNone\tNone\tNone\tNone\tNone\tNone\tNone\tNone\tNone\tNone\t999.0\t1249.0\t999.0\tNone\tNone\tNone\tNone\tNone\tNone\tNone\tNone\n",
      "G Adventures\tWestern and Central Europe: Venice, the Alps & the Flavours of Rome\tNone\tAustria, Italy, Germany\t2024-04-16\t8\thttps://www.gadventures.com/trips/western-and-central-europe-travel/EDMRHW/\t\"Day 1: Arrive at any time, find a comfy spot in the hostel to relax or go out to explore before mee\tRoamies by Hostelworld & G Adventures\tBasic - Simple and clean hotels and hostels; affordable public and private transport; lots of option\t2 - Light - Light walking and hiking suitable for most fitness levels. Nothing too challenging.\tNew Trips\tSmall Group - Group trips average 12 travellers per departure, depending on the adventure. The maxim\tGBP\tNone\tNone\tNone\tNone\tNone\tNone\tNone\tNone\tNone\tNone\t999.0\t1249.0\t999.0\tNone\tNone\tNone\tNone\tNone\tNone\tNone\tNone\n",
      "G Adventures\tCosta Rica: Volcanoes, Cloud Forests & Zip-Lines\tNone\tCosta Rica\t2024-04-23\t6\thttps://www.gadventures.com/trips/costa-rica-san-jose-to-monteverde/CRSLHW/\t\"Day 1: Arrive at any time, and choose to kick back at the hostel, or head out to explore the city b\tRoamies by Hostelworld & G Adventures\tBasic - Simple and clean hotels and hostels; affordable public and private transport; lots of option\t2 - Light - Light walking and hiking suitable for most fitness levels. Nothing too challenging.\tNew Trips, Planeterra Project\tSmall Group - Group trips average 12 travellers per departure, depending on the adventure. The maxim\tGBP\tNone\tNone\tNone\tNone\tNone\tNone\tNone\tNone\tNone\tNone\t429.0\t569.0\t429.0\tNone\tNone\tNone\tNone\tNone\tNone\tNone\tNone\n",
      "*/\u001b[0m\u001b[32;1m\u001b[1;3m\n",
      "Invoking: `sql_db_query_checker` with `SELECT start_date FROM one_month WHERE itinerary_name LIKE '%Italy%' LIMIT 10`\n",
      "\n",
      "\n",
      "\u001b[0m\u001b[36;1m\u001b[1;3mSELECT start_date FROM one_month WHERE itinerary_name LIKE '%Italy%' LIMIT 10\u001b[0m\u001b[32;1m\u001b[1;3m\n",
      "Invoking: `sql_db_query` with `SELECT start_date FROM one_month WHERE itinerary_name LIKE '%Italy%' LIMIT 10`\n",
      "\n",
      "\n",
      "\u001b[0m\u001b[36;1m\u001b[1;3m\u001b[0m\u001b[32;1m\u001b[1;3mThe Italy itinerary has the following departure dates:\n",
      "\n",
      "1. 2024-04-02\n",
      "2. 2024-04-16\u001b[0m\n",
      "\n",
      "\u001b[1m> Finished chain.\u001b[0m\n"
     ]
    },
    {
     "data": {
      "text/plain": [
       "'The Italy itinerary has the following departure dates:\\n\\n1. 2024-04-02\\n2. 2024-04-16'"
      ]
     },
     "execution_count": 76,
     "metadata": {},
     "output_type": "execute_result"
    }
   ],
   "source": [
    "agent.run(\"what deperture dates does the italy itinerary have?\")"
   ]
  },
  {
   "cell_type": "code",
   "execution_count": null,
   "id": "cf703461",
   "metadata": {},
   "outputs": [],
   "source": []
  },
  {
   "cell_type": "code",
   "execution_count": null,
   "id": "66a372c9",
   "metadata": {},
   "outputs": [],
   "source": []
  },
  {
   "cell_type": "code",
   "execution_count": null,
   "id": "0faf7ec1",
   "metadata": {},
   "outputs": [],
   "source": []
  },
  {
   "cell_type": "code",
   "execution_count": null,
   "id": "73345ead",
   "metadata": {},
   "outputs": [],
   "source": []
  },
  {
   "cell_type": "code",
   "execution_count": null,
   "id": "824766ca",
   "metadata": {},
   "outputs": [],
   "source": []
  }
 ],
 "metadata": {
  "kernelspec": {
   "display_name": "Python 3 (ipykernel)",
   "language": "python",
   "name": "python3"
  },
  "language_info": {
   "codemirror_mode": {
    "name": "ipython",
    "version": 3
   },
   "file_extension": ".py",
   "mimetype": "text/x-python",
   "name": "python",
   "nbconvert_exporter": "python",
   "pygments_lexer": "ipython3",
   "version": "3.10.6"
  },
  "toc": {
   "base_numbering": 1,
   "nav_menu": {},
   "number_sections": true,
   "sideBar": true,
   "skip_h1_title": false,
   "title_cell": "Table of Contents",
   "title_sidebar": "Contents",
   "toc_cell": false,
   "toc_position": {},
   "toc_section_display": true,
   "toc_window_display": false
  }
 },
 "nbformat": 4,
 "nbformat_minor": 5
}
