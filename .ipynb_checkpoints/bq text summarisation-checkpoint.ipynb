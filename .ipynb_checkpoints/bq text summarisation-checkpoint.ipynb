{
 "cells": [
  {
   "cell_type": "code",
   "execution_count": 1,
   "id": "ea72532f",
   "metadata": {},
   "outputs": [],
   "source": [
    "import pandas as pd\n",
    "from langchain.chains import LLMChain, ReduceDocumentsChain\n",
    "from langchain.llms import OpenAI\n",
    "from langchain.prompts import PromptTemplate\n",
    "from langchain.text_splitter import CharacterTextSplitter\n",
    "from langchain.llms import OpenAI\n",
    "from langchain.embeddings.openai import OpenAIEmbeddings\n",
    "from langchain.chains import RetrievalQA\n",
    "from langchain.vectorstores import Chroma\n",
    "from langchain.chains import create_tagging_chain_pydantic\n",
    "from langchain.document_loaders import TextLoader\n",
    "from langchain.vectorstores import FAISS\n",
    "from langchain.agents.agent_toolkits import create_pandas_dataframe_agent\n",
    "from langchain.agents.agent_types import AgentType\n",
    "from langchain.chains.llm import LLMChain\n",
    "from langchain.prompts import PromptTemplate\n",
    "from langchain.chains.combine_documents.stuff import StuffDocumentsChain\n",
    "from langchain.document_loaders import TextLoader\n",
    "from langchain.chains import ReduceDocumentsChain, MapReduceDocumentsChain\n",
    "from langchain.docstore.document import Document\n",
    "from langchain.document_loaders.csv_loader import CSVLoader\n",
    "import pandas as pd"
   ]
  },
  {
   "cell_type": "code",
   "execution_count": 2,
   "id": "bbe60bcb",
   "metadata": {},
   "outputs": [],
   "source": [
    "from dotenv import load_dotenv\n",
    "import os\n",
    "\n",
    "# Load the environment variables from the .env file\n",
    "load_dotenv()\n",
    "\n",
    "# Access environment variables\n",
    "api_key = os.getenv(\"OPENAI_KEY\")"
   ]
  },
  {
   "cell_type": "code",
   "execution_count": 3,
   "id": "bcef3b1c",
   "metadata": {},
   "outputs": [],
   "source": [
    "from langchain.chat_models import ChatOpenAI\n",
    "\n",
    "llm = ChatOpenAI(temperature=0, model=\"gpt-3.5-turbo\", openai_api_key=api_key)"
   ]
  },
  {
   "cell_type": "code",
   "execution_count": 4,
   "id": "a09b5b6d",
   "metadata": {},
   "outputs": [],
   "source": [
    "# map prompt\n",
    "def map_prompt():\n",
    "\n",
    "    intermediate_template = f\"\"\"Based on this list of docs, please identify the itinerary name, web address, tour length, cost, departure date, travel style, physical grading and a summary of the itinerary.\n",
    "    If one or more of the interests is not mentioned include this in the answer.\n",
    "    Helpful Answer:\"\"\"\n",
    "\n",
    "    map_template = \"\"\"The following is a set of documents\n",
    "    {docs}\n",
    "    \"\"\"\n",
    "    map_template += intermediate_template\n",
    "\n",
    "    map_prompt = PromptTemplate.from_template(map_template)\n",
    "    return map_prompt\n",
    "\n",
    "# first reduce prompt\n",
    "def first_reduce_prompt():\n",
    "    # Reduce\n",
    "    reduce_template = \"\"\"The following is set of summaries:\n",
    "    {doc_summaries}\n",
    "    Take these and distill it into a final, consolidated summary of the the itinerary name, web address, tour length, travel style, physical grading and a summary of the itinerary. After the name also include the range of costs and the departure dates.\n",
    "    Return a single paragraph rather than bullet points\n",
    "    Helpful Answer:\"\"\"\n",
    "    reduce_prompt = PromptTemplate.from_template(reduce_template)\n",
    "    return reduce_prompt"
   ]
  },
  {
   "cell_type": "code",
   "execution_count": 5,
   "id": "ebc8fe8f",
   "metadata": {},
   "outputs": [],
   "source": [
    "map_chain = LLMChain(llm=llm, prompt=map_prompt())\n",
    "\n",
    "# Run chain\n",
    "reduce_chain = LLMChain(llm=llm, prompt=first_reduce_prompt())\n",
    "\n",
    "# Takes a list of documents, combines them into a single string, and passes this to an LLMChain\n",
    "combine_documents_chain = StuffDocumentsChain(\n",
    "    llm_chain=reduce_chain, document_variable_name=\"doc_summaries\"\n",
    ")\n",
    "\n",
    "# Combines and iteravely reduces the mapped documents\n",
    "reduce_documents_chain = ReduceDocumentsChain(\n",
    "    # This is final chain that is called.\n",
    "    combine_documents_chain=combine_documents_chain,\n",
    "    # If documents exceed context for `StuffDocumentsChain`\n",
    "    collapse_documents_chain=combine_documents_chain,\n",
    "    # The maximum number of tokens to group documents into.\n",
    "    token_max=4000,\n",
    ")\n",
    "\n",
    "# Combining documents by mapping a chain over them, then combining results\n",
    "map_reduce_chain = MapReduceDocumentsChain(\n",
    "    # Map chain\n",
    "    llm_chain=map_chain,\n",
    "    # Reduce chain\n",
    "    reduce_documents_chain=reduce_documents_chain, #_documents\n",
    "    # The variable name in the llm_chain to put the documents in\n",
    "    document_variable_name=\"docs\",\n",
    "    # Return the results of the map steps in the output\n",
    "    return_intermediate_steps=False,\n",
    ")\n",
    "\n"
   ]
  },
  {
   "cell_type": "code",
   "execution_count": 6,
   "id": "d9761cc9",
   "metadata": {},
   "outputs": [],
   "source": [
    "from langchain.document_loaders import BigQueryLoader\n",
    "\n",
    "PROJECT = \"wagon-bootcamp-377120\"\n",
    "DATASET = \"g_adventures_dataset\"\n",
    "TABLE = \"one_day\"\n",
    "\n",
    "BASE_QUERY = f\"\"\"\n",
    "    SELECT *\n",
    "    FROM {PROJECT}.{DATASET}.{TABLE}\n",
    "    WHERE tour_name = 'Highlights of Jordan'\n",
    "    \"\"\"\n",
    "\n",
    "loader = BigQueryLoader(BASE_QUERY)\n",
    "\n",
    "docs = loader.load()"
   ]
  },
  {
   "cell_type": "code",
   "execution_count": null,
   "id": "b40c2258",
   "metadata": {},
   "outputs": [],
   "source": [
    "itinerary_summary = map_reduce_chain.run(docs)"
   ]
  },
  {
   "cell_type": "code",
   "execution_count": null,
   "id": "68ddfb18",
   "metadata": {},
   "outputs": [],
   "source": [
    "print(itinerary_summary)"
   ]
  },
  {
   "cell_type": "code",
   "execution_count": null,
   "id": "e3b694f6",
   "metadata": {},
   "outputs": [],
   "source": [
    "# print(docs[0].page_content)"
   ]
  },
  {
   "cell_type": "code",
   "execution_count": null,
   "id": "1b98eb81",
   "metadata": {},
   "outputs": [],
   "source": []
  },
  {
   "cell_type": "code",
   "execution_count": null,
   "id": "41ea6da3",
   "metadata": {},
   "outputs": [],
   "source": []
  }
 ],
 "metadata": {
  "kernelspec": {
   "display_name": "Python 3 (ipykernel)",
   "language": "python",
   "name": "python3"
  },
  "language_info": {
   "codemirror_mode": {
    "name": "ipython",
    "version": 3
   },
   "file_extension": ".py",
   "mimetype": "text/x-python",
   "name": "python",
   "nbconvert_exporter": "python",
   "pygments_lexer": "ipython3",
   "version": "3.10.6"
  },
  "toc": {
   "base_numbering": 1,
   "nav_menu": {},
   "number_sections": true,
   "sideBar": true,
   "skip_h1_title": false,
   "title_cell": "Table of Contents",
   "title_sidebar": "Contents",
   "toc_cell": false,
   "toc_position": {},
   "toc_section_display": true,
   "toc_window_display": false
  }
 },
 "nbformat": 4,
 "nbformat_minor": 5
}
