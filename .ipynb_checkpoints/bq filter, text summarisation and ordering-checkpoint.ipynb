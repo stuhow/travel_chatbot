{
 "cells": [
  {
   "cell_type": "code",
   "execution_count": 1,
   "id": "ea72532f",
   "metadata": {},
   "outputs": [],
   "source": [
    "import pandas as pd\n",
    "from langchain.chains import LLMChain, ReduceDocumentsChain\n",
    "from langchain.llms import OpenAI\n",
    "from langchain.prompts import PromptTemplate\n",
    "from langchain.text_splitter import CharacterTextSplitter\n",
    "from langchain.llms import OpenAI\n",
    "from langchain.embeddings.openai import OpenAIEmbeddings\n",
    "from langchain.chains import RetrievalQA\n",
    "from langchain.vectorstores import Chroma\n",
    "from langchain.chains import create_tagging_chain_pydantic\n",
    "from langchain.document_loaders import TextLoader\n",
    "from langchain.vectorstores import FAISS\n",
    "from langchain.agents.agent_toolkits import create_pandas_dataframe_agent\n",
    "from langchain.agents.agent_types import AgentType\n",
    "from langchain.chains.llm import LLMChain\n",
    "from langchain.prompts import PromptTemplate\n",
    "from langchain.chains.combine_documents.stuff import StuffDocumentsChain\n",
    "from langchain.document_loaders import TextLoader\n",
    "from langchain.chains import ReduceDocumentsChain, MapReduceDocumentsChain\n",
    "from langchain.docstore.document import Document\n",
    "from langchain.document_loaders.csv_loader import CSVLoader\n",
    "import pandas as pd\n",
    "from langchain.document_loaders import BigQueryLoader\n",
    "from langchain.chains.llm import LLMChain\n",
    "from langchain.prompts import PromptTemplate\n",
    "from langchain.chains.combine_documents.stuff import StuffDocumentsChain\n",
    "from google.cloud import bigquery\n",
    "from pydantic import BaseModel"
   ]
  },
  {
   "cell_type": "code",
   "execution_count": 2,
   "id": "bbe60bcb",
   "metadata": {},
   "outputs": [],
   "source": [
    "from dotenv import load_dotenv\n",
    "import os\n",
    "\n",
    "# Load the environment variables from the .env file\n",
    "load_dotenv()\n",
    "\n",
    "# Access environment variables\n",
    "api_key = os.getenv(\"OPENAI_KEY\")"
   ]
  },
  {
   "cell_type": "code",
   "execution_count": 3,
   "id": "bcef3b1c",
   "metadata": {},
   "outputs": [],
   "source": [
    "from langchain.chat_models import ChatOpenAI\n",
    "\n",
    "llm = ChatOpenAI(temperature=0, model=\"gpt-3.5-turbo\", openai_api_key=api_key)"
   ]
  },
  {
   "cell_type": "code",
   "execution_count": 4,
   "id": "8fd55e91",
   "metadata": {},
   "outputs": [],
   "source": [
    "PROJECT = \"wagon-bootcamp-377120\"\n",
    "DATASET = \"g_adventures_dataset\"\n",
    "TABLE = \"one_month\""
   ]
  },
  {
   "cell_type": "code",
   "execution_count": 5,
   "id": "8b90b677",
   "metadata": {},
   "outputs": [],
   "source": [
    "class UserTravelDetails(BaseModel):\n",
    "    country: str\n",
    "    max_budget: float\n",
    "    min_budget: float\n",
    "    departing_after: str\n",
    "    departing_before: str\n",
    "    max_duration: int\n",
    "    min_duration: int"
   ]
  },
  {
   "cell_type": "code",
   "execution_count": 6,
   "id": "9e350e48",
   "metadata": {},
   "outputs": [],
   "source": [
    "# Example usage:\n",
    "user_travel_details = UserTravelDetails(\n",
    "    country=\"Morocco\",\n",
    "    max_budget=1000,\n",
    "    min_budget=0,\n",
    "    departing_after=\"2024-04-02\",\n",
    "    departing_before=\"2024-04-02\",\n",
    "    max_duration=10,\n",
    "    min_duration=5\n",
    ")"
   ]
  },
  {
   "cell_type": "code",
   "execution_count": 7,
   "id": "686e094d",
   "metadata": {},
   "outputs": [],
   "source": [
    "def list_column_names():\n",
    "    client = bigquery.Client(project=PROJECT)\n",
    "    dataset_ref = client.dataset(DATASET)\n",
    "    table_ref = dataset_ref.table(TABLE)\n",
    "\n",
    "    # Get the table schema\n",
    "    table = client.get_table(table_ref)\n",
    "\n",
    "    # Extract and return the column names\n",
    "    column_names = [field.name for field in table.schema]\n",
    "\n",
    "    filtered_categories = [category for category in column_names if \"Adult\" in category and \"Promotion Description\" not in category]\n",
    "\n",
    "    return filtered_categories"
   ]
  },
  {
   "cell_type": "code",
   "execution_count": 8,
   "id": "9dc96efe",
   "metadata": {},
   "outputs": [],
   "source": [
    "def list_all_column_names():\n",
    "    client = bigquery.Client(project=PROJECT)\n",
    "    dataset_ref = client.dataset(DATASET)\n",
    "    table_ref = dataset_ref.table(TABLE)\n",
    "\n",
    "    # Get the table schema\n",
    "    table = client.get_table(table_ref)\n",
    "\n",
    "    # Extract and return the column names\n",
    "    column_names = [field.name for field in table.schema]\n",
    "\n",
    "    return column_names"
   ]
  },
  {
   "cell_type": "code",
   "execution_count": 9,
   "id": "6f95f4c7",
   "metadata": {},
   "outputs": [],
   "source": [
    "# room_categories = list_column_names()\n",
    "# all_columns = list_all_column_names()"
   ]
  },
  {
   "cell_type": "code",
   "execution_count": 10,
   "id": "e90e11e0",
   "metadata": {},
   "outputs": [],
   "source": [
    "found_itineraries = ['Morocco Kasbahs & Desert']"
   ]
  },
  {
   "cell_type": "code",
   "execution_count": 11,
   "id": "df23a7de",
   "metadata": {},
   "outputs": [],
   "source": [
    "def generate_sql_query(user_travel_details, found_itineraries):\n",
    "    \n",
    "    all_columns = list_all_column_names()\n",
    "    all_columns_str = \",\\n\".join(all_columns)\n",
    "    all_columns_str = all_columns_str + \",\"\n",
    "    \n",
    "    room_categories = [category for category in all_columns if \"Adult\" in category and \"Promotion Description\" not in category]\n",
    "    \n",
    "    category_cases = []\n",
    "\n",
    "    for category in room_categories:\n",
    "        category_case = f\"CASE WHEN {category} > 0 THEN {category} ELSE 1000000 END\"\n",
    "        category_cases.append(category_case)\n",
    "\n",
    "    category_cases_str = \",\\n\".join(category_cases)\n",
    "\n",
    "    query = f\"\"\"\n",
    "    SELECT\n",
    "        MAX(tour_operator) AS tour_operator,\n",
    "        tour_name,\n",
    "        itinerary_name,\n",
    "        MAX(visited_countries) AS visited_countries,\n",
    "        MAX(currency) AS currency,\n",
    "        ARRAY_AGG(DISTINCT cost) AS Costs,\n",
    "        MAX(duration) AS duration,\n",
    "        ARRAY_AGG(CAST(start_date AS STRING) ORDER BY start_date) AS start_dates,\n",
    "        MAX(Travel_Style) AS Travel_Style,\n",
    "        MAX(Service_Level) AS Service_Level,\n",
    "        MAX(Physical_Grading) AS Physical_Grading,\n",
    "        MAX(Merchandising) AS Merchandising,\n",
    "        MAX(Trip_Type) AS Trip_Type,\n",
    "        MAX(itinerary) AS itinerary,\n",
    "        MAX(url) AS url\n",
    "FROM (\n",
    "    SELECT\n",
    "        {all_columns_str}\n",
    "        LEAST(\n",
    "            {category_cases_str}\n",
    "        ) AS cost\n",
    "    FROM {PROJECT}.{DATASET}.{TABLE}\n",
    ") AS subquery\n",
    "    WHERE 1 = 1\n",
    "    \"\"\"\n",
    "\n",
    "    \n",
    "    # Iterate through the provided filter criteria and add them to the query\n",
    "    if user_travel_details.max_budget:\n",
    "        query += f\" AND cost <= {user_travel_details.max_budget}\"\n",
    "\n",
    "    if user_travel_details.departing_after:\n",
    "        query += f\" AND start_date >= '{user_travel_details.departing_after}'\"\n",
    "\n",
    "    if user_travel_details.departing_before:\n",
    "        query += f\" AND start_date <= '{user_travel_details.departing_before}'\"\n",
    "\n",
    "    query += f\"\"\" AND tour_name in ('Morocco Kasbahs & Desert', 'Morocco: Sahara & Beyond')\n",
    "    GROUP BY\n",
    "        tour_name, itinerary_name;\"\"\"\n",
    "    \n",
    "    return query"
   ]
  },
  {
   "cell_type": "code",
   "execution_count": 12,
   "id": "60f7bd0f",
   "metadata": {},
   "outputs": [],
   "source": [
    "combined_query = generate_sql_query(user_travel_details, found_itineraries)"
   ]
  },
  {
   "cell_type": "code",
   "execution_count": 13,
   "id": "960d2bcd",
   "metadata": {},
   "outputs": [
    {
     "data": {
      "text/html": [
       "<div>\n",
       "<style scoped>\n",
       "    .dataframe tbody tr th:only-of-type {\n",
       "        vertical-align: middle;\n",
       "    }\n",
       "\n",
       "    .dataframe tbody tr th {\n",
       "        vertical-align: top;\n",
       "    }\n",
       "\n",
       "    .dataframe thead th {\n",
       "        text-align: right;\n",
       "    }\n",
       "</style>\n",
       "<table border=\"1\" class=\"dataframe\">\n",
       "  <thead>\n",
       "    <tr style=\"text-align: right;\">\n",
       "      <th></th>\n",
       "      <th>tour_operator</th>\n",
       "      <th>tour_name</th>\n",
       "      <th>itinerary_name</th>\n",
       "      <th>visited_countries</th>\n",
       "      <th>currency</th>\n",
       "      <th>Costs</th>\n",
       "      <th>duration</th>\n",
       "      <th>start_dates</th>\n",
       "      <th>Travel_Style</th>\n",
       "      <th>Service_Level</th>\n",
       "      <th>Physical_Grading</th>\n",
       "      <th>Merchandising</th>\n",
       "      <th>Trip_Type</th>\n",
       "      <th>itinerary</th>\n",
       "      <th>url</th>\n",
       "    </tr>\n",
       "  </thead>\n",
       "  <tbody>\n",
       "    <tr>\n",
       "      <th>0</th>\n",
       "      <td>G Adventures</td>\n",
       "      <td>Morocco Kasbahs &amp; Desert</td>\n",
       "      <td>None</td>\n",
       "      <td>Morocco</td>\n",
       "      <td>GBP</td>\n",
       "      <td>[649.0]</td>\n",
       "      <td>8</td>\n",
       "      <td>[2024-04-02]</td>\n",
       "      <td>Classic - All of the highlights, culture, acce...</td>\n",
       "      <td>Standard - Comfortable tourist-class accommoda...</td>\n",
       "      <td>2 - Light - Light walking and hiking suitable ...</td>\n",
       "      <td>Planeterra Project, Book Your Bubble - The Boo...</td>\n",
       "      <td>Small Group - Group trips average 12 traveller...</td>\n",
       "      <td>\"Day 1: Arrive at any time.\\nDay 2: Enjoy a G ...</td>\n",
       "      <td>https://www.gadventures.com/trips/morocco-kasb...</td>\n",
       "    </tr>\n",
       "  </tbody>\n",
       "</table>\n",
       "</div>"
      ],
      "text/plain": [
       "  tour_operator                 tour_name itinerary_name visited_countries  \\\n",
       "0  G Adventures  Morocco Kasbahs & Desert           None           Morocco   \n",
       "\n",
       "  currency    Costs  duration   start_dates  \\\n",
       "0      GBP  [649.0]         8  [2024-04-02]   \n",
       "\n",
       "                                        Travel_Style  \\\n",
       "0  Classic - All of the highlights, culture, acce...   \n",
       "\n",
       "                                       Service_Level  \\\n",
       "0  Standard - Comfortable tourist-class accommoda...   \n",
       "\n",
       "                                    Physical_Grading  \\\n",
       "0  2 - Light - Light walking and hiking suitable ...   \n",
       "\n",
       "                                       Merchandising  \\\n",
       "0  Planeterra Project, Book Your Bubble - The Boo...   \n",
       "\n",
       "                                           Trip_Type  \\\n",
       "0  Small Group - Group trips average 12 traveller...   \n",
       "\n",
       "                                           itinerary  \\\n",
       "0  \"Day 1: Arrive at any time.\\nDay 2: Enjoy a G ...   \n",
       "\n",
       "                                                 url  \n",
       "0  https://www.gadventures.com/trips/morocco-kasb...  "
      ]
     },
     "execution_count": 13,
     "metadata": {},
     "output_type": "execute_result"
    }
   ],
   "source": [
    "client = bigquery.Client(project=\"wagon-bootcamp-377120\")\n",
    "query_job = client.query(combined_query)\n",
    "result = query_job.result()\n",
    "df = result.to_dataframe()\n",
    "df"
   ]
  },
  {
   "cell_type": "code",
   "execution_count": 14,
   "id": "bd09b737",
   "metadata": {},
   "outputs": [],
   "source": [
    "# Define prompt\n",
    "prompt_template = \"\"\"Write a summary and only include the itinerary name, tour length, a summary of departure dates, summary of costs, travel style, physical grading, a summary of the itinerary and present the url to the user.\n",
    "Include a mention of any potential interests: [].\n",
    "\"{text}\"\n",
    "Produce a summary paragraph not a list or bullet points.\n",
    "CONCISE SUMMARY:\"\"\"\n",
    "prompt = PromptTemplate.from_template(prompt_template)\n",
    "\n",
    "# Define LLM chain\n",
    "llm = ChatOpenAI(temperature=0, model_name=\"gpt-3.5-turbo\")\n",
    "llm_chain = LLMChain(llm=llm, prompt=prompt)\n",
    "\n",
    "# Define StuffDocumentsChain\n",
    "stuff_chain = StuffDocumentsChain(\n",
    "    llm_chain=llm_chain, document_variable_name=\"text\"\n",
    ")\n"
   ]
  },
  {
   "cell_type": "code",
   "execution_count": 15,
   "id": "3a4f6449",
   "metadata": {},
   "outputs": [],
   "source": [
    "loader = BigQueryLoader(combined_query)\n",
    "docs = loader.load()\n",
    "itinerary_summary = stuff_chain.run(docs)"
   ]
  },
  {
   "cell_type": "code",
   "execution_count": 16,
   "id": "9ba32c71",
   "metadata": {},
   "outputs": [
    {
     "name": "stdout",
     "output_type": "stream",
     "text": [
      "The \"Morocco Kasbahs & Desert\" tour by G Adventures is an 8-day trip that explores the highlights of Morocco. The tour starts on April 2, 2024, and costs £649. It falls under the Classic travel style, offering a mix of public and private transport and comfortable tourist-class accommodations. The physical grading is light, suitable for most fitness levels. The itinerary includes visits to ancient Roman ruins, the Fès medina, camel rides in the desert, the Todra Gorge, the Aït Ben Haddou Kasbah, and a guided visit to Marrakech. The tour also offers the option to participate in a tagine cooking class and experience the vibrant Djemaa el Fna Square. The tour is part of the Book Your Bubble Collection, providing extra benefits for booking private travel. Interested travelers can find more information and book the tour at the following URL: [https://www.gadventures.com/trips/morocco-kasbahs-and-desert/DCKD/].\n"
     ]
    }
   ],
   "source": [
    "print(itinerary_summary)"
   ]
  },
  {
   "cell_type": "code",
   "execution_count": 17,
   "id": "19b363f9",
   "metadata": {},
   "outputs": [
    {
     "name": "stdout",
     "output_type": "stream",
     "text": [
      "\n",
      "    SELECT\n",
      "        MAX(tour_operator) AS tour_operator,\n",
      "        tour_name,\n",
      "        itinerary_name,\n",
      "        MAX(visited_countries) AS visited_countries,\n",
      "        MAX(currency) AS currency,\n",
      "        ARRAY_AGG(DISTINCT cost) AS Costs,\n",
      "        MAX(duration) AS duration,\n",
      "        ARRAY_AGG(CAST(start_date AS STRING) ORDER BY start_date) AS start_dates,\n",
      "        MAX(Travel_Style) AS Travel_Style,\n",
      "        MAX(Service_Level) AS Service_Level,\n",
      "        MAX(Physical_Grading) AS Physical_Grading,\n",
      "        MAX(Merchandising) AS Merchandising,\n",
      "        MAX(Trip_Type) AS Trip_Type,\n",
      "        MAX(itinerary) AS itinerary,\n",
      "        MAX(url) AS url\n",
      "FROM (\n",
      "    SELECT\n",
      "        tour_operator,\n",
      "tour_name,\n",
      "itinerary_name,\n",
      "visited_countries,\n",
      "start_date,\n",
      "duration,\n",
      "url,\n",
      "itinerary,\n",
      "Travel_Style,\n",
      "Service_Level,\n",
      "Physical_Grading,\n",
      "Merchandising,\n",
      "Trip_Type,\n",
      "currency,\n",
      "Deluxe___Double___D___Adult,\n",
      "Standard___Twin___D___Adult,\n",
      "Standard___Adult,\n",
      "En_suite_bathroom___Twin___D___Adult,\n",
      "Shared_bathroom___Twin___D___Adult,\n",
      "En_suite_bathroom___Double___D___Adult,\n",
      "Upper_Deck_Balcony___Single___D___Adult,\n",
      "Main_Deck___Double___D___Adult,\n",
      "Upper_Deck_Balcony___Double_Twin___D___Adult,\n",
      "Main_Deck_Balcony___Double_Twin___D___Adult,\n",
      "Shared_bathroom___Female_only_dorm_____F___Adult,\n",
      "Shared_bathroom___Double_Twin___D___Adult,\n",
      "Shared_bathroom___Mixed_gender_dorm_____B___Adult,\n",
      "Standard___Double___D___Adult,\n",
      "Upper_Deck___Twin___D___Adult,\n",
      "Standard___Child,\n",
      "Non_View_En_suite_bathroom___Twin___D___Adult,\n",
      "View_En_suite_bathroom___Twin___D___Adult,\n",
      "Non_View_En_suite_bathroom___Double___D___Adult,\n",
      "Main_Deck___Twin___D___Adult,\n",
      "Lower_Deck___Twin___D___Adult,\n",
      "        LEAST(\n",
      "            CASE WHEN Deluxe___Double___D___Adult > 0 THEN Deluxe___Double___D___Adult ELSE 1000000 END,\n",
      "CASE WHEN Standard___Twin___D___Adult > 0 THEN Standard___Twin___D___Adult ELSE 1000000 END,\n",
      "CASE WHEN Standard___Adult > 0 THEN Standard___Adult ELSE 1000000 END,\n",
      "CASE WHEN En_suite_bathroom___Twin___D___Adult > 0 THEN En_suite_bathroom___Twin___D___Adult ELSE 1000000 END,\n",
      "CASE WHEN Shared_bathroom___Twin___D___Adult > 0 THEN Shared_bathroom___Twin___D___Adult ELSE 1000000 END,\n",
      "CASE WHEN En_suite_bathroom___Double___D___Adult > 0 THEN En_suite_bathroom___Double___D___Adult ELSE 1000000 END,\n",
      "CASE WHEN Upper_Deck_Balcony___Single___D___Adult > 0 THEN Upper_Deck_Balcony___Single___D___Adult ELSE 1000000 END,\n",
      "CASE WHEN Main_Deck___Double___D___Adult > 0 THEN Main_Deck___Double___D___Adult ELSE 1000000 END,\n",
      "CASE WHEN Upper_Deck_Balcony___Double_Twin___D___Adult > 0 THEN Upper_Deck_Balcony___Double_Twin___D___Adult ELSE 1000000 END,\n",
      "CASE WHEN Main_Deck_Balcony___Double_Twin___D___Adult > 0 THEN Main_Deck_Balcony___Double_Twin___D___Adult ELSE 1000000 END,\n",
      "CASE WHEN Shared_bathroom___Female_only_dorm_____F___Adult > 0 THEN Shared_bathroom___Female_only_dorm_____F___Adult ELSE 1000000 END,\n",
      "CASE WHEN Shared_bathroom___Double_Twin___D___Adult > 0 THEN Shared_bathroom___Double_Twin___D___Adult ELSE 1000000 END,\n",
      "CASE WHEN Shared_bathroom___Mixed_gender_dorm_____B___Adult > 0 THEN Shared_bathroom___Mixed_gender_dorm_____B___Adult ELSE 1000000 END,\n",
      "CASE WHEN Standard___Double___D___Adult > 0 THEN Standard___Double___D___Adult ELSE 1000000 END,\n",
      "CASE WHEN Upper_Deck___Twin___D___Adult > 0 THEN Upper_Deck___Twin___D___Adult ELSE 1000000 END,\n",
      "CASE WHEN Non_View_En_suite_bathroom___Twin___D___Adult > 0 THEN Non_View_En_suite_bathroom___Twin___D___Adult ELSE 1000000 END,\n",
      "CASE WHEN View_En_suite_bathroom___Twin___D___Adult > 0 THEN View_En_suite_bathroom___Twin___D___Adult ELSE 1000000 END,\n",
      "CASE WHEN Non_View_En_suite_bathroom___Double___D___Adult > 0 THEN Non_View_En_suite_bathroom___Double___D___Adult ELSE 1000000 END,\n",
      "CASE WHEN Main_Deck___Twin___D___Adult > 0 THEN Main_Deck___Twin___D___Adult ELSE 1000000 END,\n",
      "CASE WHEN Lower_Deck___Twin___D___Adult > 0 THEN Lower_Deck___Twin___D___Adult ELSE 1000000 END\n",
      "        ) AS cost\n",
      "    FROM wagon-bootcamp-377120.g_adventures_dataset.one_month\n",
      ") AS subquery\n",
      "    WHERE 1 = 1\n",
      "     AND cost <= 1000.0 AND start_date >= '2024-04-02' AND start_date <= '2024-04-02' AND tour_name = 'Morocco Kasbahs & Desert'\n",
      "    GROUP BY\n",
      "        tour_name, itinerary_name;\n"
     ]
    }
   ],
   "source": [
    "print(combined_query)"
   ]
  },
  {
   "cell_type": "code",
   "execution_count": null,
   "id": "2fda5517",
   "metadata": {},
   "outputs": [],
   "source": []
  },
  {
   "cell_type": "code",
   "execution_count": null,
   "id": "24106627",
   "metadata": {},
   "outputs": [],
   "source": []
  },
  {
   "cell_type": "code",
   "execution_count": null,
   "id": "292f60ef",
   "metadata": {},
   "outputs": [],
   "source": []
  },
  {
   "cell_type": "code",
   "execution_count": null,
   "id": "fb65fc85",
   "metadata": {},
   "outputs": [],
   "source": []
  },
  {
   "cell_type": "code",
   "execution_count": null,
   "id": "813a9210",
   "metadata": {},
   "outputs": [],
   "source": []
  },
  {
   "cell_type": "code",
   "execution_count": null,
   "id": "2c8f6192",
   "metadata": {},
   "outputs": [],
   "source": []
  },
  {
   "cell_type": "code",
   "execution_count": null,
   "id": "1b105914",
   "metadata": {},
   "outputs": [],
   "source": []
  },
  {
   "cell_type": "code",
   "execution_count": 18,
   "id": "352717fa",
   "metadata": {},
   "outputs": [],
   "source": [
    "\n",
    "\n",
    "# Define prompt\n",
    "prompt_template = \"\"\"Write a summary and only include the itinerary name, tour length, a summary of departure dates, summary of costs, travel style, physical grading, a summary of the itinerary and present the url to the user.\n",
    "Include a mention of any potential interests: surfing.\n",
    "\"{text}\"\n",
    "Produce a summary paragraph not a list or bullet points.\n",
    "CONCISE SUMMARY:\"\"\"\n",
    "prompt = PromptTemplate.from_template(prompt_template)\n",
    "\n",
    "# Define LLM chain\n",
    "llm = ChatOpenAI(temperature=0, model_name=\"gpt-3.5-turbo\")\n",
    "llm_chain = LLMChain(llm=llm, prompt=prompt)\n",
    "\n",
    "# Define StuffDocumentsChain\n",
    "stuff_chain = StuffDocumentsChain(\n",
    "    llm_chain=llm_chain, document_variable_name=\"text\"\n",
    ")\n"
   ]
  },
  {
   "cell_type": "code",
   "execution_count": 19,
   "id": "0a205770",
   "metadata": {},
   "outputs": [
    {
     "ename": "NameError",
     "evalue": "name 'BASE_QUERY' is not defined",
     "output_type": "error",
     "traceback": [
      "\u001b[0;31m---------------------------------------------------------------------------\u001b[0m",
      "\u001b[0;31mNameError\u001b[0m                                 Traceback (most recent call last)",
      "File \u001b[0;32m<timed exec>:1\u001b[0m\n",
      "\u001b[0;31mNameError\u001b[0m: name 'BASE_QUERY' is not defined"
     ]
    }
   ],
   "source": [
    "%%time\n",
    "loader = BigQueryLoader(BASE_QUERY)\n",
    "docs = loader.load()\n",
    "itinerary_summary = stuff_chain.run(docs)"
   ]
  },
  {
   "cell_type": "code",
   "execution_count": 20,
   "id": "5427e2db",
   "metadata": {},
   "outputs": [
    {
     "name": "stdout",
     "output_type": "stream",
     "text": [
      "The \"Morocco Kasbahs & Desert\" tour by G Adventures is an 8-day trip that explores the highlights of Morocco. The tour starts on April 2, 2024, and costs £649. It falls under the Classic travel style, offering a mix of public and private transport and comfortable tourist-class accommodations. The physical grading is light, suitable for most fitness levels. The itinerary includes visits to ancient Roman ruins, the Fès medina, camel rides in the desert, the Todra Gorge, the Aït Ben Haddou Kasbah, and a guided visit to Marrakech. The tour also offers the option to participate in a tagine cooking class and experience the vibrant Djemaa el Fna Square. The tour is part of the Book Your Bubble Collection, providing extra benefits for booking private travel. Interested travelers can find more information and book the tour at the following URL: [https://www.gadventures.com/trips/morocco-kasbahs-and-desert/DCKD/].\n"
     ]
    }
   ],
   "source": [
    "print(itinerary_summary)"
   ]
  },
  {
   "cell_type": "code",
   "execution_count": null,
   "id": "8c0bdadc",
   "metadata": {},
   "outputs": [],
   "source": []
  }
 ],
 "metadata": {
  "kernelspec": {
   "display_name": "Python 3 (ipykernel)",
   "language": "python",
   "name": "python3"
  },
  "language_info": {
   "codemirror_mode": {
    "name": "ipython",
    "version": 3
   },
   "file_extension": ".py",
   "mimetype": "text/x-python",
   "name": "python",
   "nbconvert_exporter": "python",
   "pygments_lexer": "ipython3",
   "version": "3.10.6"
  },
  "toc": {
   "base_numbering": 1,
   "nav_menu": {},
   "number_sections": true,
   "sideBar": true,
   "skip_h1_title": false,
   "title_cell": "Table of Contents",
   "title_sidebar": "Contents",
   "toc_cell": false,
   "toc_position": {},
   "toc_section_display": true,
   "toc_window_display": false
  }
 },
 "nbformat": 4,
 "nbformat_minor": 5
}
