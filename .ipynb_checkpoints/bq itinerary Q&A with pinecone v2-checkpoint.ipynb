{
 "cells": [
  {
   "cell_type": "code",
   "execution_count": 20,
   "id": "9bc0fab0",
   "metadata": {},
   "outputs": [],
   "source": [
    "import pinecone\n",
    "from google.cloud import bigquery\n",
    "from langchain.embeddings.openai import OpenAIEmbeddings\n",
    "from langchain.text_splitter import CharacterTextSplitter\n",
    "from langchain.vectorstores import Pinecone\n",
    "from langchain.chat_models import ChatOpenAI\n",
    "from langchain.chains import RetrievalQA\n",
    "from langchain.document_loaders import BigQueryLoader\n",
    "from pydantic import BaseModel\n",
    "from langchain.agents import initialize_agent, Tool\n",
    "from langchain.agents import AgentType\n",
    "from dotenv import load_dotenv\n",
    "import os\n",
    "\n",
    "# Load the environment variables from the .env file\n",
    "load_dotenv()\n",
    "\n",
    "# Access environment variables\n",
    "api_key = os.getenv(\"OPENAI_KEY\")\n",
    "pinecone_key = os.getenv('PINECONE_API_KEY')\n",
    "pinecone_env = os.getenv('PINECONE_ENV')"
   ]
  },
  {
   "cell_type": "code",
   "execution_count": 21,
   "id": "bd74c580",
   "metadata": {},
   "outputs": [],
   "source": [
    "embeddings = OpenAIEmbeddings(openai_api_key=api_key)"
   ]
  },
  {
   "cell_type": "code",
   "execution_count": 22,
   "id": "381a6357",
   "metadata": {},
   "outputs": [],
   "source": [
    "\n",
    "pinecone.init(api_key=pinecone_key,\n",
    "              environment=pinecone_env)\n",
    "# pinecone.create_index(\"chatbot\", dimension=1536)"
   ]
  },
  {
   "cell_type": "code",
   "execution_count": 23,
   "id": "c1a2360c",
   "metadata": {},
   "outputs": [],
   "source": [
    "PROJECT = \"wagon-bootcamp-377120\"\n",
    "DATASET = \"g_adventures_dataset\"\n",
    "TABLE = \"one_month\""
   ]
  },
  {
   "cell_type": "code",
   "execution_count": 24,
   "id": "086eabcc",
   "metadata": {},
   "outputs": [],
   "source": [
    "found_itineraries = ['Morocco Kasbahs & Desert', 'Coastal Morocco: Waves & Market Stalls']"
   ]
  },
  {
   "cell_type": "code",
   "execution_count": 25,
   "id": "743efb3d",
   "metadata": {},
   "outputs": [],
   "source": [
    "PROJECT = \"wagon-bootcamp-377120\"\n",
    "DATASET = \"g_adventures_dataset\"\n",
    "TABLE = \"one_month\"\n",
    "\n",
    "query = f\"\"\"\n",
    "    SELECT \n",
    "      DISTINCT tour_name\n",
    "    FROM {PROJECT}.{DATASET}.{TABLE}\n",
    "    \"\"\"\n",
    "\n",
    "client = bigquery.Client(project=\"wagon-bootcamp-377120\")\n",
    "query_job = client.query(query)\n",
    "result = query_job.result()\n",
    "df = result.to_dataframe()"
   ]
  },
  {
   "cell_type": "code",
   "execution_count": 26,
   "id": "495901af",
   "metadata": {},
   "outputs": [],
   "source": [
    "tour_name_list = df['tour_name']"
   ]
  },
  {
   "cell_type": "code",
   "execution_count": 27,
   "id": "147e8305",
   "metadata": {},
   "outputs": [
    {
     "data": {
      "text/plain": [
       "0      Western and Central Europe: Venice, the Alps &...\n",
       "1       Costa Rica: Volcanoes, Cloud Forests & Zip-Lines\n",
       "2      Cancún Escape: Beaches, Cenotes, & Crystal-Cle...\n",
       "3      Yucatan & Cancún: Merida, Mayan Ruins, & Beach...\n",
       "4      Inca Adventure: Cusco, Machu Picchu & the Best...\n",
       "                             ...                        \n",
       "346                      Explore Kruger & Victoria Falls\n",
       "347    Morocco Family Journey: Ancient Souks to the S...\n",
       "348           Beijing to Tokyo: The Great Wall & Mt Fuji\n",
       "349                                        Wellness Bali\n",
       "350                                  Wellness Costa Rica\n",
       "Name: tour_name, Length: 351, dtype: object"
      ]
     },
     "execution_count": 27,
     "metadata": {},
     "output_type": "execute_result"
    }
   ],
   "source": [
    "tour_name_list"
   ]
  },
  {
   "cell_type": "code",
   "execution_count": 42,
   "id": "e090b93d",
   "metadata": {},
   "outputs": [],
   "source": [
    "tools = []\n",
    "\n",
    "for file in tour_name_list:\n",
    "    \n",
    "    pinecone_index = pinecone.Index(\"chatbot\")\n",
    "    vectorstore = Pinecone(pinecone_index, embeddings.embed_query, \"text\")\n",
    "    \n",
    "    filters = {\"tour_name\": file}\n",
    "\n",
    "    # completion llm\n",
    "    llm = ChatOpenAI(\n",
    "        openai_api_key=api_key,\n",
    "        model_name='gpt-3.5-turbo',\n",
    "        temperature=0.0\n",
    "    )\n",
    "\n",
    "    qa = RetrievalQA.from_chain_type(\n",
    "        llm=llm,\n",
    "        chain_type=\"stuff\",\n",
    "        retriever=vectorstore.as_retriever(search_kwargs={'filter': filters})\n",
    "    )\n",
    "\n",
    "    filters = {\"tour_name\": file}\n",
    "    \n",
    "    # Wrap retrievers in a Tool\n",
    "    tools.append(\n",
    "        Tool(\n",
    "            name=file.replace(\" \", \"_\").replace(\"&\", \"_\").replace(\":\", \"_\").replace(\",\", \"_\").replace(\"__\", \"_\"),\n",
    "            description=f\"useful when you want to answer questions about {file}\",\n",
    "            func=RetrievalQA.from_chain_type(llm=llm, retriever=vectorstore.as_retriever(search_kwargs={'filter': filters})),\n",
    "        )\n",
    "    )"
   ]
  },
  {
   "cell_type": "code",
   "execution_count": 45,
   "id": "ef7da0a2",
   "metadata": {},
   "outputs": [],
   "source": [
    "agent = initialize_agent(\n",
    "    agent=AgentType.OPENAI_FUNCTIONS,\n",
    "    tools=tools[10:20],\n",
    "    llm=llm,\n",
    "    verbose=True,\n",
    "    max_iterations=5,\n",
    "    early_stopping_method=\"generate\",\n",
    ")"
   ]
  },
  {
   "cell_type": "code",
   "execution_count": 46,
   "id": "66176a62",
   "metadata": {},
   "outputs": [
    {
     "name": "stdout",
     "output_type": "stream",
     "text": [
      "\n",
      "\n",
      "\u001b[1m> Entering new AgentExecutor chain...\u001b[0m\n",
      "\u001b[32;1m\u001b[1;3mTo fully enjoy the Kasbahs & Desert itinerary, it is recommended to have a moderate level of fitness. This itinerary includes walking tours in the cities and exploring the desert landscapes, which may involve walking on uneven terrain and climbing sand dunes. Additionally, there may be some optional activities such as camel riding or hiking in the Atlas Mountains. While these activities are not extremely strenuous, having a reasonable level of fitness will enhance your experience.\u001b[0m\n",
      "\n",
      "\u001b[1m> Finished chain.\u001b[0m\n",
      "CPU times: user 12.7 ms, sys: 247 µs, total: 12.9 ms\n",
      "Wall time: 6.53 s\n"
     ]
    },
    {
     "data": {
      "text/plain": [
       "'To fully enjoy the Kasbahs & Desert itinerary, it is recommended to have a moderate level of fitness. This itinerary includes walking tours in the cities and exploring the desert landscapes, which may involve walking on uneven terrain and climbing sand dunes. Additionally, there may be some optional activities such as camel riding or hiking in the Atlas Mountains. While these activities are not extremely strenuous, having a reasonable level of fitness will enhance your experience.'"
      ]
     },
     "execution_count": 46,
     "metadata": {},
     "output_type": "execute_result"
    }
   ],
   "source": [
    "%%time\n",
    "response = agent({\"input\": \"How fit do i need to be for the Kasbahs & Desert itinerary?\"})\n",
    "response['output']"
   ]
  },
  {
   "cell_type": "code",
   "execution_count": null,
   "id": "4a2258aa",
   "metadata": {},
   "outputs": [],
   "source": []
  }
 ],
 "metadata": {
  "kernelspec": {
   "display_name": "Python 3 (ipykernel)",
   "language": "python",
   "name": "python3"
  },
  "language_info": {
   "codemirror_mode": {
    "name": "ipython",
    "version": 3
   },
   "file_extension": ".py",
   "mimetype": "text/x-python",
   "name": "python",
   "nbconvert_exporter": "python",
   "pygments_lexer": "ipython3",
   "version": "3.10.6"
  },
  "toc": {
   "base_numbering": 1,
   "nav_menu": {},
   "number_sections": true,
   "sideBar": true,
   "skip_h1_title": false,
   "title_cell": "Table of Contents",
   "title_sidebar": "Contents",
   "toc_cell": false,
   "toc_position": {},
   "toc_section_display": true,
   "toc_window_display": false
  }
 },
 "nbformat": 4,
 "nbformat_minor": 5
}
