{
 "cells": [
  {
   "cell_type": "code",
   "execution_count": 1,
   "id": "9bc0fab0",
   "metadata": {},
   "outputs": [],
   "source": [
    "from dotenv import load_dotenv\n",
    "import os\n",
    "\n",
    "# Load the environment variables from the .env file\n",
    "load_dotenv()\n",
    "\n",
    "# Access environment variables\n",
    "api_key = os.getenv(\"OPENAI_KEY\")"
   ]
  },
  {
   "cell_type": "code",
   "execution_count": 2,
   "id": "6f72e956",
   "metadata": {},
   "outputs": [],
   "source": [
    "from langchain.document_loaders import CSVLoader\n",
    "\n",
    "loader = CSVLoader(file_path=\"raw_data/new_format_test.csv\", encoding='latin-1')\n",
    "docs = loader.load()"
   ]
  },
  {
   "cell_type": "code",
   "execution_count": null,
   "id": "c28216b7",
   "metadata": {},
   "outputs": [],
   "source": [
    "\n"
   ]
  },
  {
   "cell_type": "code",
   "execution_count": 3,
   "id": "8e44c304",
   "metadata": {},
   "outputs": [],
   "source": [
    "from langchain.document_loaders import BigQueryLoader\n",
    "PROJECT = \"wagon-bootcamp-377120\"\n",
    "DATASET = \"g_adventures_dataset\"\n",
    "TABLE = \"one_month\"\n",
    "\n",
    "BASE_QUERY = f\"\"\"\n",
    "    SELECT *\n",
    "    FROM {PROJECT}.{DATASET}.{TABLE}\n",
    "    WHERE tour_name = 'Highlights of Jordan'\n",
    "    \"\"\"\n",
    "\n",
    "loader = BigQueryLoader(BASE_QUERY)\n",
    "\n",
    "docs = loader.load()"
   ]
  },
  {
   "cell_type": "code",
   "execution_count": 4,
   "id": "de75bc39",
   "metadata": {},
   "outputs": [],
   "source": [
    "# print(docs[0].page_content)"
   ]
  },
  {
   "cell_type": "code",
   "execution_count": 5,
   "id": "db14355b",
   "metadata": {},
   "outputs": [],
   "source": [
    "from langchain.text_splitter import CharacterTextSplitter\n",
    "\n",
    "text_splitter = CharacterTextSplitter(chunk_size=500, chunk_overlap=50)\n",
    "texts = text_splitter.split_documents(docs)"
   ]
  },
  {
   "cell_type": "code",
   "execution_count": 6,
   "id": "6bbdee61",
   "metadata": {},
   "outputs": [],
   "source": [
    "from langchain.embeddings.openai import OpenAIEmbeddings\n",
    "from langchain.vectorstores import FAISS\n",
    "\n",
    "embeddings = OpenAIEmbeddings(openai_api_key=api_key)\n",
    "retriever = FAISS.from_documents(docs, embeddings).as_retriever()\n"
   ]
  },
  {
   "cell_type": "code",
   "execution_count": 7,
   "id": "6832fa87",
   "metadata": {},
   "outputs": [],
   "source": [
    "# v2"
   ]
  },
  {
   "cell_type": "code",
   "execution_count": 8,
   "id": "3f0d1f7d",
   "metadata": {},
   "outputs": [],
   "source": [
    "from langchain.prompts import PromptTemplate\n",
    "prompt_template = \"\"\"Use the following pieces of context to answer the question at the end. If you don't know the answer, just say that you don't know, don't try to make up an answer.\n",
    "\n",
    "{context}\n",
    "\n",
    "Question: {question}\n",
    "Answer:\"\"\"\n",
    "PROMPT = PromptTemplate(\n",
    "    template=prompt_template, input_variables=[\"context\", \"question\"]\n",
    ")"
   ]
  },
  {
   "cell_type": "code",
   "execution_count": 9,
   "id": "501b3b0f",
   "metadata": {},
   "outputs": [],
   "source": [
    "from langchain.chains import RetrievalQA\n",
    "from langchain.llms import OpenAI\n",
    "\n",
    "chain_type_kwargs = {\"prompt\": PROMPT}\n",
    "qa = RetrievalQA.from_chain_type(llm=OpenAI(openai_api_key=api_key), chain_type=\"stuff\", retriever=retriever, chain_type_kwargs=chain_type_kwargs)"
   ]
  },
  {
   "cell_type": "code",
   "execution_count": 10,
   "id": "9b45afd4",
   "metadata": {},
   "outputs": [
    {
     "name": "stdout",
     "output_type": "stream",
     "text": [
      "The departure dates for the tour are April 2nd, April 7th, and April 9th.\n"
     ]
    }
   ],
   "source": [
    "query = \"What are the departure dates for the tour?\"\n",
    "result = qa.run(query)\n",
    "print(result.strip())"
   ]
  },
  {
   "cell_type": "code",
   "execution_count": 31,
   "id": "13db5796",
   "metadata": {},
   "outputs": [],
   "source": [
    "from langchain.document_loaders import BigQueryLoader\n",
    "\n",
    "PROJECT = \"wagon-bootcamp-377120\"\n",
    "DATASET = \"g_adventures_dataset\"\n",
    "TABLE = \"one_month\"\n",
    "\n",
    "BASE_QUERY = query = f\"\"\"\n",
    "    SELECT\n",
    "      MAX(tour_operator) AS tour_operator,\n",
    "      tour_name,\n",
    "      itinerary_name,\n",
    "      MAX(visited_countries) AS visited_countries,\n",
    "      MAX(currency) AS currency,\n",
    "      ARRAY_AGG(DISTINCT Standard___Adult) AS Costs,\n",
    "      MAX(duration) AS duration,\n",
    "      ARRAY_AGG(CAST(start_date AS STRING) ORDER BY start_date) AS start_dates,\n",
    "      MAX(Travel_Style) AS Travel_Style,\n",
    "      MAX(Service_Level) AS Service_Level,\n",
    "      MAX(Physical_Grading) AS Physical_Grading,\n",
    "      MAX(Merchandising) AS Merchandising,\n",
    "      MAX(Trip_Type) AS Trip_Type,\n",
    "      MAX(itinerary) AS itinerary,\n",
    "      MAX(url) AS url\n",
    "    FROM\n",
    "      {PROJECT}.{DATASET}.{TABLE}\n",
    "    WHERE \n",
    "      tour_name = 'Highlights of Jordan'\n",
    "    GROUP BY\n",
    "      tour_name, itinerary_name;\n",
    "    \"\"\"\n",
    "\n",
    "loader = BigQueryLoader(BASE_QUERY)\n",
    "\n",
    "docs = loader.load()"
   ]
  },
  {
   "cell_type": "code",
   "execution_count": 32,
   "id": "d8a3d270",
   "metadata": {},
   "outputs": [],
   "source": [
    "from langchain.text_splitter import CharacterTextSplitter\n",
    "\n",
    "text_splitter = CharacterTextSplitter(chunk_size=500, chunk_overlap=50)\n",
    "texts = text_splitter.split_documents(docs)"
   ]
  },
  {
   "cell_type": "code",
   "execution_count": 33,
   "id": "c5aa7f61",
   "metadata": {},
   "outputs": [],
   "source": [
    "from langchain.embeddings.openai import OpenAIEmbeddings\n",
    "from langchain.vectorstores import FAISS\n",
    "\n",
    "embeddings = OpenAIEmbeddings(openai_api_key=api_key)\n",
    "retriever = FAISS.from_documents(docs, embeddings).as_retriever()"
   ]
  },
  {
   "cell_type": "code",
   "execution_count": 41,
   "id": "107127b2",
   "metadata": {},
   "outputs": [],
   "source": [
    "from langchain.prompts import PromptTemplate\n",
    "prompt_template = \"\"\"Use the following pieces of context to answer the question at the end. If you don't know the answer, just say that you don't know, don't try to make up an answer.\n",
    "\n",
    "{context}\n",
    "\n",
    "Question: {question}\n",
    "Answer:\"\"\"\n",
    "PROMPT = PromptTemplate(\n",
    "    template=prompt_template, input_variables=[\"context\", \"question\"]\n",
    ")"
   ]
  },
  {
   "cell_type": "code",
   "execution_count": 39,
   "id": "7fe9b471",
   "metadata": {},
   "outputs": [],
   "source": [
    "from langchain.chains import RetrievalQA\n",
    "from langchain.llms import OpenAI\n",
    "\n",
    "chain_type_kwargs = {\"prompt\": PROMPT}\n",
    "qa = RetrievalQA.from_chain_type(llm=OpenAI(openai_api_key=api_key), chain_type=\"stuff\", retriever=retriever, chain_type_kwargs=chain_type_kwargs)"
   ]
  },
  {
   "cell_type": "code",
   "execution_count": 40,
   "id": "17927a4a",
   "metadata": {},
   "outputs": [
    {
     "name": "stdout",
     "output_type": "stream",
     "text": [
      "The departure dates for the Highlights of Jordan tour by G Adventures are April 2, April 6, April 7, April 9, April 12, April 13, April 16, April 18, April 19, and April 21 in 2024.\n"
     ]
    }
   ],
   "source": [
    "query = \"What are the departure dates for the tour?\"\n",
    "result = qa.run(query)\n",
    "print(result.strip())"
   ]
  },
  {
   "cell_type": "code",
   "execution_count": 37,
   "id": "90fff2a8",
   "metadata": {},
   "outputs": [
    {
     "name": "stdout",
     "output_type": "stream",
     "text": [
      "tour_operator: G Adventures\n",
      "tour_name: Highlights of Jordan\n",
      "itinerary_name: None\n",
      "visited_countries: Jordan\n",
      "currency: GBP\n",
      "Costs: [1259.0]\n",
      "duration: 8\n",
      "start_dates: ['2024-04-02', '2024-04-06', '2024-04-07', '2024-04-09', '2024-04-12', '2024-04-13', '2024-04-16', '2024-04-18', '2024-04-19', '2024-04-21']\n",
      "Travel_Style: Classic - All of the highlights, culture, access, and I-can’t-believe-we-did-that moments, all at a great price.\n",
      "Service_Level: Standard - Comfortable tourist-class accommodations with character; mix of public and private transport.\n",
      "Physical_Grading: 3 - Average - Some tours may include light hiking, biking, rafting, or kayaking in addition to walking.\n",
      "Merchandising: Top Seller, Planeterra Project, Book Your Bubble - The Book Your Bubble Collection is a collection of 80 G Adventures tours that give travellers and their hand-picked crew the safety of travelling with people they know, combined with extra benefits for booking private travel.\n",
      "Trip_Type: Small Group - Group trips average 12 travellers per departure, depending on the adventure. The maximum is usually no more than 16, but some can be smaller or bigger, depending on the trip. Check individual trips for details.\n",
      "itinerary: \"Day 1: Arrive at any time.\n",
      "Day 2: Guided visit to the ancient Roman town of Jerash followed by a visit to the Dead Sea.\n",
      "Day 3: Start the day with a guided visit to the intricate Madaba mosaics, enjoying the panoramic views from Mt Nebo and a visit to the crusader castle at Karak. Continue to Wadi Musa for the evening.\n",
      "Day 4: Start early to visit iconic Petra. Enjoy a guided walking tour with your CEO, then opt to hike up to the top of the treasury or explore  on your own. This evening, opt to visit a Turkish bath or visit Petra by night.\n",
      "Day 5: Opt to visit Little Petra in the morning before continuing to Wadi Rum. Head out for a 4x4 excursion during the day before a traditional dinner and overnight at a Bedouin desert camp.\n",
      "Day 6: Journey to the red sea, where you can explore your surroundings or relax on the beach.\n",
      "Day 7: Journey back to Amman. En route stop at a G Adventures- supported community cafe for lunch.\n",
      "Day 8: Depart at any time.\n",
      "\"\n",
      "url: https://www.gadventures.com/trips/highlights-of-jordan/DWHJ/\n"
     ]
    }
   ],
   "source": [
    "print(docs[0].page_content)"
   ]
  },
  {
   "cell_type": "code",
   "execution_count": null,
   "id": "3f3fcea3",
   "metadata": {},
   "outputs": [],
   "source": []
  }
 ],
 "metadata": {
  "kernelspec": {
   "display_name": "Python 3 (ipykernel)",
   "language": "python",
   "name": "python3"
  },
  "language_info": {
   "codemirror_mode": {
    "name": "ipython",
    "version": 3
   },
   "file_extension": ".py",
   "mimetype": "text/x-python",
   "name": "python",
   "nbconvert_exporter": "python",
   "pygments_lexer": "ipython3",
   "version": "3.10.6"
  },
  "toc": {
   "base_numbering": 1,
   "nav_menu": {},
   "number_sections": true,
   "sideBar": true,
   "skip_h1_title": false,
   "title_cell": "Table of Contents",
   "title_sidebar": "Contents",
   "toc_cell": false,
   "toc_position": {},
   "toc_section_display": true,
   "toc_window_display": false
  }
 },
 "nbformat": 4,
 "nbformat_minor": 5
}
