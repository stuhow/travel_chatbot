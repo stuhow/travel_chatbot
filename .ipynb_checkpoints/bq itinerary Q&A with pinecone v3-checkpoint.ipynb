{
 "cells": [
  {
   "cell_type": "code",
   "execution_count": null,
   "id": "9bc0fab0",
   "metadata": {},
   "outputs": [],
   "source": [
    "# there are too many itineraries to have a tool for each itinerary. I need to have a single\n",
    "# Q&A that will check the which itinerary to look up\n",
    "# pip install \"langchain>=0.0.27\""
   ]
  },
  {
   "cell_type": "code",
   "execution_count": 1,
   "id": "2f5bb575",
   "metadata": {},
   "outputs": [
    {
     "name": "stderr",
     "output_type": "stream",
     "text": [
      "/home/stuart/.pyenv/versions/3.10.6/envs/lewagon/lib/python3.10/site-packages/pinecone/index.py:4: TqdmExperimentalWarning: Using `tqdm.autonotebook.tqdm` in notebook mode. Use `tqdm.tqdm` instead to force console mode (e.g. in jupyter console)\n",
      "  from tqdm.autonotebook import tqdm\n"
     ]
    }
   ],
   "source": [
    "import pinecone\n",
    "from google.cloud import bigquery\n",
    "from langchain.embeddings.openai import OpenAIEmbeddings\n",
    "from langchain.text_splitter import CharacterTextSplitter\n",
    "from langchain.vectorstores import Pinecone\n",
    "from langchain.chat_models import ChatOpenAI\n",
    "from langchain.chains import RetrievalQA\n",
    "from langchain.document_loaders import BigQueryLoader\n",
    "from pydantic import BaseModel\n",
    "from langchain.agents import initialize_agent, Tool\n",
    "from langchain.agents import AgentType\n",
    "from typing import Type\n",
    "from pydantic import BaseModel, Field\n",
    "from langchain.tools import BaseTool\n",
    "\n",
    "from dotenv import load_dotenv\n",
    "\n",
    "import os\n",
    "\n",
    "# Load the environment variables from the .env file\n",
    "load_dotenv()\n",
    "\n",
    "# Access environment variables\n",
    "api_key = os.getenv(\"OPENAI_KEY\")\n",
    "pinecone_key = os.getenv('PINECONE_API_KEY')\n",
    "pinecone_env = os.getenv('PINECONE_ENV')"
   ]
  },
  {
   "cell_type": "code",
   "execution_count": 2,
   "id": "bd74c580",
   "metadata": {},
   "outputs": [],
   "source": [
    "embeddings = OpenAIEmbeddings(openai_api_key=api_key)"
   ]
  },
  {
   "cell_type": "code",
   "execution_count": 3,
   "id": "381a6357",
   "metadata": {},
   "outputs": [],
   "source": [
    "\n",
    "pinecone.init(api_key=pinecone_key,\n",
    "              environment=pinecone_env)\n",
    "# pinecone.create_index(\"chatbot\", dimension=1536)"
   ]
  },
  {
   "cell_type": "code",
   "execution_count": 4,
   "id": "be998cd1",
   "metadata": {},
   "outputs": [],
   "source": [
    "PROJECT = \"wagon-bootcamp-377120\"\n",
    "DATASET = \"g_adventures_dataset\"\n",
    "TABLE = \"one_month\"\n",
    "\n",
    "query = f\"\"\"\n",
    "    SELECT \n",
    "      DISTINCT tour_name\n",
    "    FROM {PROJECT}.{DATASET}.{TABLE}\n",
    "    \"\"\"\n",
    "\n",
    "client = bigquery.Client(project=\"wagon-bootcamp-377120\")\n",
    "query_job = client.query(query)\n",
    "result = query_job.result()\n",
    "df = result.to_dataframe()"
   ]
  },
  {
   "cell_type": "code",
   "execution_count": 5,
   "id": "6a3624a5",
   "metadata": {},
   "outputs": [],
   "source": [
    "tour_name_list = df['tour_name']"
   ]
  },
  {
   "cell_type": "code",
   "execution_count": null,
   "id": "b71840c6",
   "metadata": {},
   "outputs": [],
   "source": []
  },
  {
   "cell_type": "code",
   "execution_count": 6,
   "id": "94d4b7c3",
   "metadata": {},
   "outputs": [],
   "source": [
    "from langchain.agents.agent_toolkits import create_retriever_tool\n",
    "from langchain.embeddings.openai import OpenAIEmbeddings\n",
    "from langchain.vectorstores import FAISS\n",
    "\n",
    "\n",
    "embeddings = OpenAIEmbeddings(openai_api_key=api_key)\n",
    "vector_db = FAISS.from_texts(tour_name_list, embeddings)\n",
    "retriever = vector_db.as_retriever(k=1)\n",
    "\n",
    "retriever_tool = create_retriever_tool(\n",
    "        retriever,\n",
    "        name='itinerary_name_search',\n",
    "        description='use to learn the correct spelling of an itinerary name'\n",
    "    )\n",
    "\n"
   ]
  },
  {
   "cell_type": "code",
   "execution_count": 83,
   "id": "ba8da056",
   "metadata": {},
   "outputs": [],
   "source": [
    "def question_function(att: str, question: str):\n",
    "    print(\"here\")\n",
    "    \n",
    "    embeddings = OpenAIEmbeddings(openai_api_key=api_key)\n",
    "    \n",
    "    pinecone_index = pinecone.Index(\"chatbot\")\n",
    "    vectorstore = Pinecone(pinecone_index, embeddings.embed_query, \"text\")\n",
    "    \n",
    "    filters = {\"tour_name\": att}\n",
    "\n",
    "    qa = RetrievalQA.from_chain_type(\n",
    "        llm=llm,\n",
    "        chain_type=\"stuff\",\n",
    "        retriever=vectorstore.as_retriever(search_kwargs={'filter': filters})\n",
    "    )\n",
    "\n",
    "    response = qa.run(question)\n",
    "    print(response)\n",
    "    return response\n",
    "\n",
    "\n",
    "class Itineraryname(BaseModel):\n",
    "    \"\"\"Inputs for my_profile function\"\"\"\n",
    "    itinerary_name: str = Field(description=\"the correct spelling of an itinerary name\")\n",
    "    question: str = Field(description=\"the question to be passed to the model\")\n",
    "\n",
    "class ItineraryQuestions(BaseTool):\n",
    "    name = \"itinerary_question\"\n",
    "    description = \"\"\"\n",
    "        Needed when you want to ask a question about an itinerary.\n",
    "        Use this tool once you have used the retriever_tool to get the correct name\n",
    "        \"\"\"\n",
    "    args_schema: Type[BaseModel] = Itineraryname\n",
    "\n",
    "    def _run(self, itinerary_name: str, question: str):\n",
    "        profile_detail_attribute = question_function(itinerary_name, question)\n",
    "        return profile_detail_attribute\n",
    "\n",
    "    def _arun(self, itinerary_name: str):\n",
    "        raise NotImplementedError(\n",
    "            \"my_profile does not support async calls\")"
   ]
  },
  {
   "cell_type": "code",
   "execution_count": 84,
   "id": "1a0cc21f",
   "metadata": {},
   "outputs": [],
   "source": [
    "from langchain.tools import StructuredTool\n",
    "itinerary_questions = StructuredTool.from_function(\n",
    "        name=\"itinerary_question\",\n",
    "        description=\"\"\"\n",
    "        Needed when you want to ask a question about an itinerary.\n",
    "        Use this tool once you have used the retriever_tool to get the correct name\n",
    "        \"\"\",\n",
    "        args_schema = Itineraryname,\n",
    "        func = lambda: question_function(itinerary_name, question)\n",
    "        )"
   ]
  },
  {
   "cell_type": "code",
   "execution_count": 85,
   "id": "21676949",
   "metadata": {},
   "outputs": [],
   "source": [
    "custom_tool_list = [retriever_tool, ItineraryQuestions()]\n",
    "# custom_tool_list = [retriever_tool, itinerary_questions]"
   ]
  },
  {
   "cell_type": "code",
   "execution_count": 86,
   "id": "a6a1a885",
   "metadata": {},
   "outputs": [],
   "source": [
    "llm = ChatOpenAI(\n",
    "    openai_api_key=api_key,\n",
    "    model_name='gpt-3.5-turbo',\n",
    "    temperature=0.0\n",
    ")"
   ]
  },
  {
   "cell_type": "code",
   "execution_count": 87,
   "id": "a5d7bede",
   "metadata": {},
   "outputs": [],
   "source": [
    "from langchain.prompts import PromptTemplate\n",
    "from langchain.prompts import ChatPromptTemplate, MessagesPlaceholder\n",
    "\n",
    "SALES_AGENT_TOOLS_PROMPT = \"\"\"You are being asked a question about an itinerary.\n",
    "The first thing you need to do is to get the correct itinerary name using the itinerary_name_search tool.\n",
    "Once you hvae the correct itinerary name use the itinerary_question tool to andser the question.\n",
    "\n",
    "\"\"\"\n",
    "\n",
    "final_prompt = ChatPromptTemplate.from_messages([\n",
    "  (\"system\", SALES_AGENT_TOOLS_PROMPT),\n",
    "  (\"user\", \"{input}\"),\n",
    "  MessagesPlaceholder(variable_name=\"agent_scratchpad\"),\n",
    "  #MessagesPlaceholder(variable_name=\"chat_history\")  \n",
    "])"
   ]
  },
  {
   "cell_type": "code",
   "execution_count": 88,
   "id": "64c7915c",
   "metadata": {},
   "outputs": [],
   "source": [
    "from langchain.agents import OpenAIFunctionsAgent, AgentExecutor\n",
    "\n",
    "# Create the agent\n",
    "agent = OpenAIFunctionsAgent(llm=llm,\n",
    "                             tools=custom_tool_list,\n",
    "                             prompt=final_prompt\n",
    "                            )\n",
    "\n",
    "\n",
    "# Run the agent with the actions\n",
    "agent_executor = AgentExecutor(agent=agent,\n",
    "                               tools=custom_tool_list,\n",
    "                               verbose=True,\n",
    "                               max_iterations=5)\n"
   ]
  },
  {
   "cell_type": "code",
   "execution_count": 89,
   "id": "0711089e",
   "metadata": {},
   "outputs": [
    {
     "name": "stdout",
     "output_type": "stream",
     "text": [
      "\n",
      "\n",
      "\u001b[1m> Entering new AgentExecutor chain...\u001b[0m\n",
      "\u001b[32;1m\u001b[1;3m\n",
      "Invoking: `itinerary_name_search` with `{'query': 'Kenya & Uganda Gorilla Overland'}`\n",
      "\n",
      "\n",
      "\u001b[0m\u001b[36;1m\u001b[1;3m[Document(page_content='Kenya & Uganda Gorilla Overland: Forests & Wildlife Spotting'), Document(page_content='Uganda Overland: Gorillas & Chimps'), Document(page_content='Uganda to Rwanda: Gorilla Treks & Safari Drives'), Document(page_content='Masai Mara & Gorilla Adventure')]\u001b[0m\u001b[32;1m\u001b[1;3m\n",
      "Invoking: `itinerary_question` with `{'itinerary_name': 'Kenya & Uganda Gorilla Overland: Forests & Wildlife Spotting', 'question': 'How long is the Kenya & Uganda Gorilla Overland itinerary?'}`\n",
      "\n",
      "\n",
      "\u001b[0mhere\n",
      "{'tour_name': 'Kenya & Uganda Gorilla Overland: Forests & Wildlife Spotting'}\n"
     ]
    },
    {
     "name": "stderr",
     "output_type": "stream",
     "text": [
      "/home/stuart/.pyenv/versions/3.10.6/envs/lewagon/lib/python3.10/site-packages/langchain/vectorstores/pinecone.py:59: UserWarning: Passing in `embedding` as a Callable is deprecated. Please pass in an Embeddings object instead.\n",
      "  warnings.warn(\n"
     ]
    },
    {
     "name": "stdout",
     "output_type": "stream",
     "text": [
      "\u001b[33;1m\u001b[1;3m1\u001b[0m\u001b[32;1m\u001b[1;3mThe Kenya & Uganda Gorilla Overland itinerary is 1 day long.\u001b[0m\n",
      "\n",
      "\u001b[1m> Finished chain.\u001b[0m\n"
     ]
    },
    {
     "ename": "TypeError",
     "evalue": "string indices must be integers",
     "output_type": "error",
     "traceback": [
      "\u001b[0;31m---------------------------------------------------------------------------\u001b[0m",
      "\u001b[0;31mTypeError\u001b[0m                                 Traceback (most recent call last)",
      "File \u001b[0;32m<timed exec>:2\u001b[0m\n",
      "\u001b[0;31mTypeError\u001b[0m: string indices must be integers"
     ]
    }
   ],
   "source": [
    "%%time\n",
    "response = agent_executor.run(\"how long is the Kenya & Uganda Gorilla Overland itinerary?\")\n",
    "response['output']"
   ]
  },
  {
   "cell_type": "code",
   "execution_count": null,
   "id": "e3863e03",
   "metadata": {},
   "outputs": [],
   "source": []
  },
  {
   "cell_type": "code",
   "execution_count": null,
   "id": "32b55648",
   "metadata": {},
   "outputs": [],
   "source": []
  },
  {
   "cell_type": "code",
   "execution_count": null,
   "id": "be4d3028",
   "metadata": {},
   "outputs": [],
   "source": []
  },
  {
   "cell_type": "code",
   "execution_count": null,
   "id": "ae439331",
   "metadata": {},
   "outputs": [],
   "source": []
  }
 ],
 "metadata": {
  "kernelspec": {
   "display_name": "Python 3 (ipykernel)",
   "language": "python",
   "name": "python3"
  },
  "language_info": {
   "codemirror_mode": {
    "name": "ipython",
    "version": 3
   },
   "file_extension": ".py",
   "mimetype": "text/x-python",
   "name": "python",
   "nbconvert_exporter": "python",
   "pygments_lexer": "ipython3",
   "version": "3.10.6"
  },
  "toc": {
   "base_numbering": 1,
   "nav_menu": {},
   "number_sections": true,
   "sideBar": true,
   "skip_h1_title": false,
   "title_cell": "Table of Contents",
   "title_sidebar": "Contents",
   "toc_cell": false,
   "toc_position": {},
   "toc_section_display": true,
   "toc_window_display": false
  }
 },
 "nbformat": 4,
 "nbformat_minor": 5
}
