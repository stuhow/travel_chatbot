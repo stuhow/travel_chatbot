{
 "cells": [
  {
   "cell_type": "code",
   "execution_count": 1,
   "id": "2e2879fe",
   "metadata": {},
   "outputs": [],
   "source": [
    "from langchain.agents import initialize_agent, Tool\n",
    "from langchain.agents import AgentType\n",
    "from langchain.chat_models import ChatOpenAI\n",
    "from langchain.chains import RetrievalQA\n",
    "from langchain.llms import OpenAI\n",
    "from langchain.prompts import PromptTemplate\n",
    "from langchain.document_loaders import BigQueryLoader\n",
    "from langchain.text_splitter import CharacterTextSplitter\n",
    "from langchain.embeddings.openai import OpenAIEmbeddings\n",
    "from langchain.vectorstores import FAISS\n",
    "\n"
   ]
  },
  {
   "cell_type": "code",
   "execution_count": 2,
   "id": "c98ccb40",
   "metadata": {},
   "outputs": [],
   "source": [
    "from dotenv import load_dotenv\n",
    "import os\n",
    "\n",
    "# Load the environment variables from the .env file\n",
    "load_dotenv()\n",
    "\n",
    "# Access environment variables\n",
    "api_key = os.getenv(\"OPENAI_KEY\")"
   ]
  },
  {
   "cell_type": "code",
   "execution_count": 3,
   "id": "65b7da20",
   "metadata": {},
   "outputs": [],
   "source": [
    "llm = ChatOpenAI(temperature=0, model=\"gpt-3.5-turbo\", openai_api_key=api_key)"
   ]
  },
  {
   "cell_type": "code",
   "execution_count": 4,
   "id": "ebf30407",
   "metadata": {},
   "outputs": [],
   "source": [
    "\n",
    "\n",
    "PROJECT = \"wagon-bootcamp-377120\"\n",
    "DATASET = \"g_adventures_dataset\"\n",
    "TABLE = \"one_month\"\n",
    "\n",
    "BASE_QUERY = query = f\"\"\"\n",
    "    SELECT\n",
    "      MAX(tour_operator) AS tour_operator,\n",
    "      tour_name,\n",
    "      itinerary_name,\n",
    "      MAX(visited_countries) AS visited_countries,\n",
    "      MAX(currency) AS currency,\n",
    "      ARRAY_AGG(DISTINCT Standard___Adult) AS Costs,\n",
    "      MAX(duration) AS duration,\n",
    "      ARRAY_AGG(CAST(start_date AS STRING) ORDER BY start_date) AS start_dates,\n",
    "      MAX(Travel_Style) AS Travel_Style,\n",
    "      MAX(Service_Level) AS Service_Level,\n",
    "      MAX(Physical_Grading) AS Physical_Grading,\n",
    "      MAX(Merchandising) AS Merchandising,\n",
    "      MAX(Trip_Type) AS Trip_Type,\n",
    "      MAX(itinerary) AS itinerary,\n",
    "      MAX(url) AS url\n",
    "    FROM\n",
    "      {PROJECT}.{DATASET}.{TABLE}\n",
    "    WHERE \n",
    "      tour_name = 'Highlights of Jordan'\n",
    "    GROUP BY\n",
    "      tour_name, itinerary_name;\n",
    "    \"\"\"\n",
    "\n",
    "loader = BigQueryLoader(BASE_QUERY)\n",
    "docs = loader.load()"
   ]
  },
  {
   "cell_type": "code",
   "execution_count": 5,
   "id": "0be3e2a9",
   "metadata": {},
   "outputs": [],
   "source": [
    "\n",
    "text_splitter = CharacterTextSplitter(chunk_size=500, chunk_overlap=50)\n",
    "texts = text_splitter.split_documents(docs)"
   ]
  },
  {
   "cell_type": "code",
   "execution_count": 6,
   "id": "663975e3",
   "metadata": {},
   "outputs": [],
   "source": [
    "\n",
    "embeddings = OpenAIEmbeddings(openai_api_key=api_key)\n",
    "retriever = FAISS.from_documents(docs, embeddings).as_retriever()"
   ]
  },
  {
   "cell_type": "code",
   "execution_count": 7,
   "id": "4b3ee63b",
   "metadata": {},
   "outputs": [],
   "source": [
    "\n",
    "prompt_template = \"\"\"Use the following pieces of context to answer the question at the end. If you don't know the answer, just say that you don't know, don't try to make up an answer.\n",
    "\n",
    "{context}\n",
    "\n",
    "Question: {question}\n",
    "Answer:\"\"\"\n",
    "PROMPT = PromptTemplate(\n",
    "    template=prompt_template, input_variables=[\"context\", \"question\"]\n",
    ")"
   ]
  },
  {
   "cell_type": "code",
   "execution_count": 8,
   "id": "63d57ed4",
   "metadata": {},
   "outputs": [],
   "source": [
    "\n",
    "\n",
    "chain_type_kwargs = {\"prompt\": PROMPT}\n",
    "qa = RetrievalQA.from_chain_type(llm=OpenAI(openai_api_key=api_key), chain_type=\"stuff\", retriever=retriever, chain_type_kwargs=chain_type_kwargs)"
   ]
  },
  {
   "cell_type": "code",
   "execution_count": null,
   "id": "a8151589",
   "metadata": {},
   "outputs": [],
   "source": []
  },
  {
   "cell_type": "code",
   "execution_count": null,
   "id": "cb886bb4",
   "metadata": {},
   "outputs": [],
   "source": []
  },
  {
   "cell_type": "code",
   "execution_count": null,
   "id": "7aed543b",
   "metadata": {},
   "outputs": [],
   "source": []
  },
  {
   "cell_type": "code",
   "execution_count": 18,
   "id": "3f1b71a9",
   "metadata": {},
   "outputs": [],
   "source": [
    "tools = [\n",
    "    Tool(\n",
    "        name=\"highlights_of_jordan\",\n",
    "        func=qa.run,\n",
    "        description=\"Useful when you need to answer questions about the highlights of jordan itinerary.\",\n",
    "    ),\n",
    "]"
   ]
  },
  {
   "cell_type": "code",
   "execution_count": 19,
   "id": "46c0ebbd",
   "metadata": {},
   "outputs": [],
   "source": [
    "mrkl = initialize_agent(\n",
    "    tools,\n",
    "    llm,\n",
    "    agent=AgentType.OPENAI_FUNCTIONS,\n",
    "    verbose=True,\n",
    "    max_iterations=5,\n",
    "    early_stopping_method=\"generate\",\n",
    ")"
   ]
  },
  {
   "cell_type": "code",
   "execution_count": 23,
   "id": "38d68a84",
   "metadata": {},
   "outputs": [
    {
     "name": "stdout",
     "output_type": "stream",
     "text": [
      "\n",
      "\n",
      "\u001b[1m> Entering new AgentExecutor chain...\u001b[0m\n",
      "\u001b[32;1m\u001b[1;3m\n",
      "Invoking: `highlights_of_jordan` with `departure`\n",
      "\n",
      "\n",
      "\u001b[0m\u001b[36;1m\u001b[1;3m Any time\u001b[0m\u001b[32;1m\u001b[1;3mThe Highlights of Jordan itinerary can depart at any time.\u001b[0m\n",
      "\n",
      "\u001b[1m> Finished chain.\u001b[0m\n"
     ]
    },
    {
     "data": {
      "text/plain": [
       "'The Highlights of Jordan itinerary can depart at any time.'"
      ]
     },
     "execution_count": 23,
     "metadata": {},
     "output_type": "execute_result"
    }
   ],
   "source": [
    "mrkl.run(\"when does the highlights of jordan itinerary depart?\")"
   ]
  },
  {
   "cell_type": "code",
   "execution_count": null,
   "id": "4eaa0fb1",
   "metadata": {},
   "outputs": [],
   "source": []
  }
 ],
 "metadata": {
  "kernelspec": {
   "display_name": "Python 3 (ipykernel)",
   "language": "python",
   "name": "python3"
  },
  "language_info": {
   "codemirror_mode": {
    "name": "ipython",
    "version": 3
   },
   "file_extension": ".py",
   "mimetype": "text/x-python",
   "name": "python",
   "nbconvert_exporter": "python",
   "pygments_lexer": "ipython3",
   "version": "3.10.6"
  },
  "toc": {
   "base_numbering": 1,
   "nav_menu": {},
   "number_sections": true,
   "sideBar": true,
   "skip_h1_title": false,
   "title_cell": "Table of Contents",
   "title_sidebar": "Contents",
   "toc_cell": false,
   "toc_position": {},
   "toc_section_display": true,
   "toc_window_display": false
  }
 },
 "nbformat": 4,
 "nbformat_minor": 5
}
