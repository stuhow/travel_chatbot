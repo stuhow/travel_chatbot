{
 "cells": [
  {
   "cell_type": "code",
   "execution_count": 1,
   "id": "715a4a36",
   "metadata": {},
   "outputs": [],
   "source": [
    "from dotenv import load_dotenv\n",
    "import os\n",
    "\n",
    "# Load the environment variables from the .env file\n",
    "load_dotenv()\n",
    "\n",
    "# Access environment variables\n",
    "api_key = os.getenv(\"OPENAI_KEY\")"
   ]
  },
  {
   "cell_type": "code",
   "execution_count": 2,
   "id": "ff816359",
   "metadata": {},
   "outputs": [],
   "source": [
    "from langchain.document_loaders import CSVLoader\n",
    "\n",
    "loader = CSVLoader(file_path=\"raw_data/new_format_test.csv\", encoding='latin-1')\n",
    "docs = loader.load()"
   ]
  },
  {
   "cell_type": "code",
   "execution_count": 3,
   "id": "0616adcd",
   "metadata": {},
   "outputs": [],
   "source": [
    "from langchain.text_splitter import CharacterTextSplitter\n",
    "\n",
    "text_splitter = CharacterTextSplitter(chunk_size=1000, chunk_overlap=0)\n",
    "texts = text_splitter.split_documents(docs)"
   ]
  },
  {
   "cell_type": "code",
   "execution_count": 4,
   "id": "5850f641",
   "metadata": {},
   "outputs": [],
   "source": [
    "from langchain.embeddings.openai import OpenAIEmbeddings\n",
    "from langchain.vectorstores import FAISS\n",
    "\n",
    "embeddings = OpenAIEmbeddings(openai_api_key=api_key)\n",
    "retriever = FAISS.from_documents(docs, embeddings).as_retriever()"
   ]
  },
  {
   "cell_type": "code",
   "execution_count": 5,
   "id": "5fb0ae91",
   "metadata": {},
   "outputs": [],
   "source": [
    "from langchain.chains.question_answering import load_qa_chain\n",
    "from langchain.llms import OpenAI\n",
    "from langchain.chains import RetrievalQA\n",
    "\n",
    "qa_chain = load_qa_chain(OpenAI(temperature=0), chain_type=\"stuff\")\n",
    "qa = RetrievalQA(combine_documents_chain=qa_chain, retriever=retriever, return_source_documents=True)"
   ]
  },
  {
   "cell_type": "code",
   "execution_count": 6,
   "id": "8712c022",
   "metadata": {},
   "outputs": [],
   "source": [
    "query = \"what start dates are there?\"\n",
    "result = qa({\"query\": query})"
   ]
  },
  {
   "cell_type": "code",
   "execution_count": 7,
   "id": "ade24396",
   "metadata": {},
   "outputs": [
    {
     "data": {
      "text/plain": [
       "' The start date for this tour is 20/04/2024.'"
      ]
     },
     "execution_count": 7,
     "metadata": {},
     "output_type": "execute_result"
    }
   ],
   "source": [
    "result[\"result\"]"
   ]
  },
  {
   "cell_type": "code",
   "execution_count": 8,
   "id": "c89d1510",
   "metadata": {},
   "outputs": [],
   "source": [
    "query = \"How much is the 20/04/2024 departure?\"\n",
    "result = qa({\"query\": query})"
   ]
  },
  {
   "cell_type": "code",
   "execution_count": 9,
   "id": "f65bf0df",
   "metadata": {},
   "outputs": [
    {
     "data": {
      "text/plain": [
       "' The 20/04/2024 departure costs 1500.'"
      ]
     },
     "execution_count": 9,
     "metadata": {},
     "output_type": "execute_result"
    }
   ],
   "source": [
    "result[\"result\"]"
   ]
  },
  {
   "cell_type": "code",
   "execution_count": 10,
   "id": "9b36cc5b",
   "metadata": {},
   "outputs": [
    {
     "name": "stdout",
     "output_type": "stream",
     "text": [
      "tour_name: Highlights of Morocco\n",
      "itinerary_name: \n",
      "visited_countries: Morocco\n",
      "start_date: 20/04/2024\n",
      "duration: 15 days\n",
      "url: https://www.gadventures.com/trips/highlights-of-morocco/DCMH/\n",
      "Travel Style: Classic - All of the highlights, culture, access, and I-cant-believe-we-did-that moments, all at a great price.\n",
      "Service Level: Standard - Comfortable tourist-class accommodations with character; mix of public and private transport.\n",
      "Physical Grading: 2 - Light - Light walking and hiking suitable for most fitness levels. Nothing too challenging.\n",
      "Trip Type: Small Group - Group trips average 12 travellers per departure, depending on the adventure. The maximum is usually no more than 16, but some can be smaller or bigger, depending on the trip. Check individual trips for details.\n",
      "Cost: 1500\n",
      "itinerary: Day 1: Arrive at any time.\n",
      "Day 2: Stop in Tangier for a guided tour of the medina before continuing on to Chefchaouen for the evening.\n",
      "Day 3: Enjoy a free day in Chefchaouen to explore. The city, whitewashed in different shades of blue, is spectacular on its own but with the surrounding mountains, it's a sight to behold. At sunset, opt to visit the Spanish Mosque for a stunning panoramic view of the city.\n",
      "Day 4: Enjoy a G Adventures-supported traditional lunch before taking a guided tour of the ancient Roman ruins of Volubilis. Continue on to Fès.\n",
      "Day 5: Explore the labyrinth of streets within the famous Fès medina with a local guide. Take in a view of one of the ancient tanneries from above and marvel at the myriad of colour and processes.\n",
      "Day 6: Enjoy a long, but beautiful, travel day across the unique landscapes of Morocco to get to the sand dunes of the Sahara Desert.\n",
      "Day 7: Explore the sand dunes by foot or opt to take a 4x4 excursion around the dunes. In the late afternoon, enjoy a camel ride to watch the sunset before returning to your hotel for an evening of entertainment.\n",
      "Day 8: Rise early to watch the sunrise. After breakfast, continue through a stone desert to the stunning Todra Gorge. Wedged between massive cliff walls, the gorge is filled with a green oasis of palm trees. This serene spot is great for hiking, relaxing on the edge of the river or sampling some local Amazigh delicacies.\n",
      "Day 9: Visit the Aït Ben Haddou Kasbah, a UNESCO World Heritage site. Opt to participate in a tagine cooking class for an intro to Moroccan cuisine.\n",
      "Day 10: Enjoy a hike to the village of Aroumd (Aremd), at the base of the High Atlas Mountains. Let a mule carry the bags up to this mountain hideaway and hike alongside. Enjoy views of Mt Toubkal from the mountain gîte before a home-cooked dinner.\n",
      "Day 11: Hike back to Imlil and transfer to the coastal town of Essaouira. The day is free for exploration.\n",
      "Day 12: Enjoy a free day exploring this coastal port town any way you like.\n",
      "Day 13: Drive to Marrakech for a medina tour with a local guide. Opt to visit Djemaa el Fna Square in the evening to see the gathering of musicians and street performers.\n",
      "Day 14: Enjoy a final free day to explore.\n",
      "Day 15: Depart at any time.\n"
     ]
    }
   ],
   "source": [
    "print(result[\"source_documents\"][0].page_content)\n",
    "\n"
   ]
  },
  {
   "cell_type": "code",
   "execution_count": null,
   "id": "d5a051cc",
   "metadata": {},
   "outputs": [],
   "source": []
  }
 ],
 "metadata": {
  "kernelspec": {
   "display_name": "Python 3 (ipykernel)",
   "language": "python",
   "name": "python3"
  },
  "language_info": {
   "codemirror_mode": {
    "name": "ipython",
    "version": 3
   },
   "file_extension": ".py",
   "mimetype": "text/x-python",
   "name": "python",
   "nbconvert_exporter": "python",
   "pygments_lexer": "ipython3",
   "version": "3.10.6"
  },
  "toc": {
   "base_numbering": 1,
   "nav_menu": {},
   "number_sections": true,
   "sideBar": true,
   "skip_h1_title": false,
   "title_cell": "Table of Contents",
   "title_sidebar": "Contents",
   "toc_cell": false,
   "toc_position": {},
   "toc_section_display": true,
   "toc_window_display": false
  }
 },
 "nbformat": 4,
 "nbformat_minor": 5
}
