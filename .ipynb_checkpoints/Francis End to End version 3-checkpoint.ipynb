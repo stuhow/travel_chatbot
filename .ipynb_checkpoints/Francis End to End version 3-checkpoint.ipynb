{
 "cells": [
  {
   "cell_type": "code",
   "execution_count": 1,
   "id": "5a74b426-5d2c-476f-a538-24260be719bb",
   "metadata": {},
   "outputs": [],
   "source": [
    "## Details QA"
   ]
  },
  {
   "cell_type": "code",
   "execution_count": 2,
   "id": "7b96ce50-8a39-481f-b724-52e92f462111",
   "metadata": {},
   "outputs": [],
   "source": [
    "from langchain.text_splitter import CharacterTextSplitter\n",
    "from langchain.llms import OpenAI\n",
    "from langchain.embeddings.openai import OpenAIEmbeddings\n",
    "from langchain.chains import RetrievalQA\n",
    "from langchain.vectorstores import Chroma\n",
    "from langchain.chains import create_tagging_chain_pydantic\n",
    "from langchain.document_loaders import TextLoader\n",
    "from langchain.vectorstores import FAISS\n",
    "from langchain.agents.agent_toolkits import create_pandas_dataframe_agent\n",
    "from langchain.agents.agent_types import AgentType\n",
    "\n",
    "import pandas as pd"
   ]
  },
  {
   "cell_type": "code",
   "execution_count": 3,
   "id": "36bbe172-3ce5-4ae1-b9d9-d568b1560a0c",
   "metadata": {},
   "outputs": [],
   "source": [
    "__import__('pysqlite3')\n",
    "import sys\n",
    "sys.modules['sqlite3'] = sys.modules.pop('pysqlite3')"
   ]
  },
  {
   "cell_type": "code",
   "execution_count": 4,
   "id": "6a00abee-9260-49d8-a2e8-d08ee7aac156",
   "metadata": {},
   "outputs": [],
   "source": [
    "# import re\n",
    "from dotenv import load_dotenv\n",
    "import os\n",
    "\n",
    "# Load the environment variables from the .env file\n",
    "load_dotenv()\n",
    "\n",
    "# Access environment variables\n",
    "api_key = os.getenv(\"OPENAI_KEY\")"
   ]
  },
  {
   "cell_type": "code",
   "execution_count": 5,
   "id": "b2e0a59c-87f5-4808-b9c1-f6b430cad781",
   "metadata": {},
   "outputs": [],
   "source": [
    "from langchain.chat_models import ChatOpenAI\n",
    "\n",
    "llm = ChatOpenAI(temperature=0.9, model=\"gpt-3.5-turbo\", openai_api_key=api_key)"
   ]
  },
  {
   "cell_type": "code",
   "execution_count": 6,
   "id": "ed0aa117",
   "metadata": {},
   "outputs": [],
   "source": [
    "df = pd.read_csv(\"raw_data/one_day_test.csv\")\n",
    "all_available_countries = df['visited_countries'].unique()"
   ]
  },
  {
   "cell_type": "markdown",
   "id": "7ff3a15c-bd79-4097-843a-cd1172ea2853",
   "metadata": {},
   "source": [
    "# stage analysis"
   ]
  },
  {
   "cell_type": "code",
   "execution_count": 7,
   "id": "ff197d79-e492-4555-8613-da68ab2e9b47",
   "metadata": {},
   "outputs": [],
   "source": [
    "from typing import Optional\n",
    "from pydantic import BaseModel, Field\n",
    "\n",
    "class TravelDetails(BaseModel):\n",
    "    introduction: Optional[bool] = Field(\n",
    "        False,\n",
    "        description=\"Has francis introducted himself and asked if the user is interested in a group tour.\",\n",
    "    )\n",
    "    qualification: Optional[str] = Field(\n",
    "        ...,\n",
    "        description=\"Did the user confirm they are looking for a group tour or answer positivley when asked. If the user asks about a trip assume the answer is yes\",\n",
    "        enum=[\"Yes\", \"No\", \"Unsure\"]\n",
    "    )\n",
    "    country: Optional[str] = Field(\n",
    "        \"\",\n",
    "        description=\"This is the name of the country the user is wanting to visit. If they name a place within a country always return the country\",\n",
    "        enum=[\"Cambodia\", \"Vietnam\", \"Morocco\", \"USA\"]\n",
    "    )\n",
    "    departing_after: Optional[str] = Field(\n",
    "        \"\",\n",
    "        description=\"This is the first date from which the user can depart. If the user gives a month assume this is the first of the month. If not year if given return 2023. In the format '%Y-%m-%d'\",\n",
    "    )\n",
    "    departing_before: Optional[str] = Field(\n",
    "        \"\",\n",
    "        description=\"This is the last date from which the user can depart. If the user gives a month assume this is the last day of the month. If not year if given return 2023. In the format '%Y-%m-%d'\",\n",
    "    )\n",
    "    max_budget: Optional[int] = Field(\n",
    "        0,\n",
    "        description=\"This is the maximun amount of money the user is looking to spend on their trip.\",\n",
    "    )\n",
    "    max_duration: Optional[int] = Field(\n",
    "        None,\n",
    "        description=\"This is the maximum duration of their trip.\"\n",
    "    )\n",
    "    min_duration: Optional[int] = Field(\n",
    "        None,\n",
    "        description=\"This is the minimum duration of their trip.\",\n",
    "    )"
   ]
  },
  {
   "cell_type": "code",
   "execution_count": 8,
   "id": "69de78ba-1c58-433f-864c-03653cf31487",
   "metadata": {},
   "outputs": [],
   "source": [
    "ask_for_dict = {\"country\":\"what country are you looking to travel to?\",\n",
    "                \"max_budget\":\"how much are you looking to spend?\",\n",
    "                \"departing_after\":\"when are you looking to travel?\",\n",
    "                \"departing_before\":\"when are you looking to travel?\",\n",
    "                \"max_duration\":\"how long do you want your trip to be?\",\n",
    "                \"min_duration\":\"how long do you want your trip to be?\"\n",
    "               }"
   ]
  },
  {
   "cell_type": "code",
   "execution_count": 38,
   "id": "d877fa78-435b-4627-a4f4-bbc916b006c7",
   "metadata": {},
   "outputs": [],
   "source": [
    "def check_what_is_empty(user_travel_details):\n",
    "    ask_for = []\n",
    "    # Check if fields are empty\n",
    "    for field, value in user_travel_details.dict().items():\n",
    "        if value in [None, \"\", 0]:  # You can add other 'empty' conditions as per your requirements\n",
    "            ask_for.append(ask_for_dict[field])\n",
    "    \n",
    "    if 'what country are you looking to travel to?' in ask_for:\n",
    "        ask_for.remove('what country are you looking to travel to?')\n",
    "        ask_for.insert(0, 'what country are you looking to travel to?')\n",
    "    elif 'how much are you looking to spend?' in ask_for:\n",
    "        ask_for.remove('how much are you looking to spend?')\n",
    "        ask_for.insert(0, 'how much are you looking to spend?')\n",
    "\n",
    "    \n",
    "    return ask_for"
   ]
  },
  {
   "cell_type": "code",
   "execution_count": 10,
   "id": "2b4a599e-ebe3-4c75-a65f-adbb83cd4862",
   "metadata": {},
   "outputs": [],
   "source": [
    "## checking the response and adding it\n",
    "def add_non_empty_details(current_details: TravelDetails, new_details: TravelDetails):\n",
    "    non_empty_details = {k: v for k, v in new_details.dict().items() if v not in [False, None, \"\"]}\n",
    "    updated_details = current_details.copy(update=non_empty_details)\n",
    "    return updated_details"
   ]
  },
  {
   "cell_type": "code",
   "execution_count": 11,
   "id": "88a27b37",
   "metadata": {},
   "outputs": [],
   "source": [
    "# Define a custom function to find the first non-null value in columns 9 to the end of the df \n",
    "# used for finding the costs\n",
    "def find_first_non_null(row):\n",
    "    for value in row[12:]:  # Slice from the 9th column to the end\n",
    "        if not pd.isna(value):\n",
    "            return value\n",
    "    return None"
   ]
  },
  {
   "cell_type": "code",
   "execution_count": 12,
   "id": "a717df4f-854e-449e-aaec-0989caef0f6d",
   "metadata": {},
   "outputs": [],
   "source": [
    "def get_filtered_df(df, user_travel_details):\n",
    "    trip_details_dict = user_travel_details.dict()\n",
    "    filled_out_dictionary = {k: v for k, v in user_travel_details.dict().items() if v not in [False, None, \"\",0]}\n",
    "\n",
    "    # convert dates to datetime format\n",
    "    df['duration'] = df['duration'].str.replace(' days', '').astype(int)\n",
    "    df['start_date'] = pd.to_datetime(df['start_date'], format='%Y-%m-%d')\n",
    "    \n",
    "    # Apply the custom function to each row to find cost\n",
    "    df['first_non_null'] = df.apply(find_first_non_null, axis=1)\n",
    "\n",
    "    # Filtering the DataFrame\n",
    "    filtered_df = df.copy()  # Make a copy of the original DataFrame to keep it intact\n",
    "    \n",
    "    # Iterate through the list of potential inputs\n",
    "    for input_column in filled_out_dictionary.keys():\n",
    "        if input_column == 'country':\n",
    "            filtered_df = filtered_df[filtered_df['visited_countries'] == trip_details_dict[\"country\"]]\n",
    "        elif input_column == 'max_budget':\n",
    "            filtered_df = filtered_df[filtered_df['first_non_null'] <= trip_details_dict[\"max_budget\"]]\n",
    "        elif input_column == 'min_budget':\n",
    "            filtered_df = filtered_df[filtered_df['first_non_null'] >= trip_details_dict[\"min_budget\"]]\n",
    "        elif input_column == 'departing_after':\n",
    "            filtered_df = filtered_df[filtered_df['start_date'] >= trip_details_dict[\"departing_after\"]]\n",
    "        elif input_column == 'departing_before':\n",
    "            filtered_df = filtered_df[filtered_df['start_date'] <= trip_details_dict[\"departing_before\"]]\n",
    "        elif input_column == 'max_duration':\n",
    "            filtered_df = filtered_df[filtered_df['duration'] <= trip_details_dict[\"max_duration\"]]\n",
    "        elif input_column == 'min_duration':\n",
    "            filtered_df = filtered_df[filtered_df['duration'] >= trip_details_dict[\"min_duration\"]]\n",
    "\n",
    "    return filtered_df"
   ]
  },
  {
   "cell_type": "code",
   "execution_count": 13,
   "id": "ebb7794c-9d35-4641-942b-a93cbf292799",
   "metadata": {},
   "outputs": [],
   "source": [
    "class ItineraryDetails(BaseModel):\n",
    "    itinerary_name: Optional[str] = Field(\n",
    "        ...,\n",
    "        description=\"The name of the itinerary the user has decided to take not the country\",\n",
    "    )\n",
    "    itinerary_start_date: Optional[str] = Field(\n",
    "        ...,\n",
    "        description=\"The start date of the itinerary the user has decided to take. This is an exact date\",\n",
    "    )"
   ]
  },
  {
   "cell_type": "code",
   "execution_count": 14,
   "id": "307ed380-488d-4d0e-a427-ee75434897f5",
   "metadata": {},
   "outputs": [],
   "source": [
    "available_dates = [\"06/04/2023\",\"13/04/2023\",\"20/04/2023\"]"
   ]
  },
  {
   "cell_type": "code",
   "execution_count": 15,
   "id": "73ba535b-41fe-4878-8327-006324af7c8e",
   "metadata": {},
   "outputs": [],
   "source": [
    "URL = \"www.affiliate_link_to_website.com\""
   ]
  },
  {
   "cell_type": "code",
   "execution_count": 16,
   "id": "0cdfc3fa-a10d-4f9e-9465-47e16dae4f6c",
   "metadata": {},
   "outputs": [],
   "source": [
    "asked_for = []"
   ]
  },
  {
   "cell_type": "code",
   "execution_count": null,
   "id": "650f38a7",
   "metadata": {},
   "outputs": [],
   "source": []
  },
  {
   "cell_type": "code",
   "execution_count": 17,
   "id": "4b9b11f3",
   "metadata": {},
   "outputs": [],
   "source": [
    "def prompt_amendments(ask_for, filtered_df, found_itineraries):\n",
    "    if ask_for[0] == 'how much are you looking to spend?':\n",
    "        min_budget = filtered_df['first_non_null'].min()\n",
    "        mean_budget = filtered_df['first_non_null'].mean()\n",
    "        return f'In your answer tell the user there are {len(found_itineraries)} itineraries that fit their needs.\\\n",
    "        The minimim trip cost is {min_budget} and the average tripcost is {mean_budget} to their destination.'\n",
    "    if ask_for[0] == 'when are you looking to travel?':\n",
    "         print('The question is about when to travel')\n",
    "    if ask_for[0] == 'how long do you want your trip to be?':\n",
    "         print('The question is about the duration')\n",
    "    if ask_for[0] == 'what country are you looking to travel to?':\n",
    "         print('The question is about where they want to travel to')\n",
    "    \n",
    "    "
   ]
  },
  {
   "cell_type": "code",
   "execution_count": null,
   "id": "1f5102c5",
   "metadata": {},
   "outputs": [],
   "source": []
  },
  {
   "cell_type": "code",
   "execution_count": 18,
   "id": "bdb5f0b2",
   "metadata": {},
   "outputs": [],
   "source": [
    "# promtps\n",
    "# Info gathering stage when there are still trip details to ask for\n",
    "def info_gathering_prompt(ask_for, found_itineraries, filtered_df):\n",
    "    if len(ask_for) == 6:\n",
    "        PROMPT_TEMPLATE = f\"\"\"You are currently in the detail gathering phase of the conversation and are trying to get detail of the users trip to help find the the perfect trip. \n",
    "            If the user has just asked a follow up question in the conversation history, answer it.\n",
    "            Once you have answered their question ALWAYS ask the user the following question to gather the required information.\n",
    "            Follow up question:\n",
    "            {ask_for[0]}\"\"\"\n",
    "    else:\n",
    "        PROMPT_TEMPLATE = f\"\"\"You are currently in the trip detail phase of the conversation and are trying to get detail of the users trip to help find the the perfect trip. \n",
    "            If the user has just asked a follow up question in the conversation history, answer it.\n",
    "            Once you have answered their question ALWAYS ask the user the following question to gather the required information.\n",
    "            Follow up question:\n",
    "            {ask_for[0]}\n",
    "            \"\"\"\n",
    "        # {prompt_amendments(ask_for, filtered_df, found_itineraries)} \n",
    "    return PROMPT_TEMPLATE\n",
    "    \n",
    "\n",
    "# All the details are gathered and we're presenting a solution, list of available itineraries\n",
    "def solution_presentation_prompt(found_itineraries, df):\n",
    "    summary = \"\"\n",
    "    for itinerary in found_itineraries:\n",
    "        filtered_df = df[df['tour_name'] == itinerary]\n",
    "        summary += f'Itinerary: {filtered_df[\"tour_name\"].values[0]}\\n'\n",
    "        summary += f'Tour description: {filtered_df[\"tour_description\"].values[0]}\\n'\n",
    "        summary += f'Link: {filtered_df[\"url\"].values[0]}\\n\\n'\n",
    "    \n",
    "    conversation_stage = f\"\"\"Thank the user for providing the details. \n",
    "        Based on all the users needs here is the list of itineraries and a summary that fit their needs:\\n{summary}\n",
    "        Present the itinerary or itineraries to the user. The \n",
    "        \"\"\"\n",
    "    return conversation_stage\n",
    "\n",
    "\n",
    "# all trip details are gathered and the clients have decided on an itinerary\n",
    "def available_dates_prompt(dates_text):\n",
    "        conversation_stage = f\"\"\"\n",
    "            The user has now decided on on the itinerary would like. We now need to check what dates they would like to travel on. The following dates are availab: \n",
    "            {dates_text}.\n",
    "            Ask the user to pick a desired departure date.\"\"\"\n",
    "        return conversation_stage\n",
    "\n",
    "# all trip details are gathered, the clients have decided on an itinerary and have a departure date\n",
    "def url_presentation_prompt(URL):\n",
    "        conversation_stage = f\"\"\"\n",
    "        The user now has an itinerary and the dates they want to travel. \n",
    "        You are not booking the trip for the user, just share the companies url: {URL}\"\"\"\n",
    "        return conversation_stage\n",
    "\n",
    "\n",
    "# still in the info gathering stage but there are no available itineraries based on preferences\n",
    "def no_results_prompt(user_travel_details, new_user_travel_details):\n",
    "    old_keys = new_user_travel_details.dict().keys()\n",
    "    new_keys = new_user_travel_details.dict().keys()\n",
    "    last_question = [x for x in new_keys if x not in old_keys]\n",
    "    conversation_stage = f\"\"\"\n",
    "        The user has provided details of their trip but unfortunatley there are no itineraries that match their needs. \n",
    "        Explain this to the user and higlight they need to look at alternate: {\", \".join(last_question)}\"\"\"\n",
    "    return conversation_stage\n",
    "#"
   ]
  },
  {
   "cell_type": "code",
   "execution_count": 19,
   "id": "57b23452-7d55-4a00-8434-224cb58ca164",
   "metadata": {},
   "outputs": [],
   "source": [
    "def check_conversation_stage(conversation_history, user_travel_details, user_itinerary_details):\n",
    "\n",
    "    conversation_history = \"\\n\".join(conversation_history)\n",
    "\n",
    "    # extract travel details chain\n",
    "    chain = create_tagging_chain_pydantic(TravelDetails, llm)\n",
    "    res = chain.run(conversation_history)\n",
    "    new_user_travel_details = add_non_empty_details(user_travel_details, res)\n",
    "    ask_for = check_what_is_empty(new_user_travel_details)\n",
    "\n",
    "    #load df\n",
    "    df = pd.read_csv(\"raw_data/one_day_test.csv\")\n",
    "    \n",
    "    # check number of unique itineraries\n",
    "    filtered_df = get_filtered_df(df, new_user_travel_details)\n",
    "    found_itineraries = filtered_df['tour_name'].unique()\n",
    "    \n",
    "    if len(filtered_df) == 0:\n",
    "        conversation_stage = no_results_prompt(user_travel_details, new_user_travel_details)                        \n",
    "        return conversation_stage, new_user_travel_details\n",
    "\n",
    "\n",
    "#     if len(ask_for) == 0:\n",
    "#         # extract itinerary details chain\n",
    "#         chain = create_tagging_chain_pydantic(ItineraryDetails, llm)\n",
    "#         res = chain.run(conversation_history)\n",
    "#         user_itinerary_details = add_non_empty_details(user_itinerary_details, res)\n",
    "#         print(user_itinerary_details)\n",
    "\n",
    "    # # check if we have all validated details and if we have an itinerary from the user. \n",
    "    # # We then need present the list of dates and have the client decide\n",
    "    if len(ask_for) == 0 and user_itinerary_details.itinerary_name in found_itineraries and user_itinerary_details.itinerary_start_date in available_dates:\n",
    "        print('all details gathered, itinerary decided and date sorted')\n",
    "        conversation_stage = url_presentation_prompt(URL)                        \n",
    "        return conversation_stage, new_user_travel_details\n",
    "\n",
    "\n",
    "    # # check if we have all validated details and if we have an itinerary from the user. \n",
    "    # # We then need present the list of dates and have the client decide\n",
    "    elif len(ask_for) == 0 and user_itinerary_details.itinerary_name in found_itineraries:\n",
    "        print(\"Itinerary selected! summarise the itineraries...\")\n",
    "        dates_text = \"\\n\".join(available_dates)\n",
    "        conversation_stage = available_dates_prompt(dates_text)                        \n",
    "        return conversation_stage, new_user_travel_details\n",
    "\n",
    "    # if we have all the validated details we need to present the list of itineraries and have the client decide\n",
    "    elif len(ask_for) == 0 and len(found_itineraries) > 0:\n",
    "        print(\"All details gathered! summarise the itineraries...\")\n",
    "        conversation_stage = solution_presentation_prompt(found_itineraries, df)   \n",
    "        return conversation_stage, new_user_travel_details\n",
    "    \n",
    "    if user_travel_details.dict()['qualification'] == 'no':\n",
    "        conversation_stage = \"The user is not interested in a group tour so politely end the conversation. Ask them to come back if they ever are\"\n",
    "    elif user_travel_details.dict()['qualification'] == 'Unsure':\n",
    "        conversation_stage = \"Explain what a group tour is. End by asking if they are interested in a group tour\"\n",
    "    else:\n",
    "        conversation_stage = info_gathering_prompt(ask_for, found_itineraries, filtered_df)\n",
    "        asked_for.append(ask_for[0])\n",
    "\n",
    "    return conversation_stage, new_user_travel_details"
   ]
  },
  {
   "cell_type": "markdown",
   "id": "6d2a6846-d3fd-414a-a29d-b9c2546980e4",
   "metadata": {
    "jp-MarkdownHeadingCollapsed": true
   },
   "source": [
    "# tools"
   ]
  },
  {
   "cell_type": "code",
   "execution_count": 20,
   "id": "b929bb9f",
   "metadata": {},
   "outputs": [],
   "source": [
    "def sumarization_tool(input=\"\"):\n",
    "    return 'a 15 day itinerary through morocco.'"
   ]
  },
  {
   "cell_type": "code",
   "execution_count": 21,
   "id": "7f4ca2e1",
   "metadata": {},
   "outputs": [],
   "source": [
    "from langchain.tools import PythonAstREPLTool\n",
    "df = pd.read_csv(\"raw_data/one_day_test.csv\")\n",
    "\n",
    "class PythonInputs(BaseModel):\n",
    "    query: str = Field(description=\"code snippet to run\")\n",
    "        \n",
    "repl = PythonAstREPLTool(locals={\"df\": df}, \n",
    "                         name=\"multi_county_query\",\n",
    "                         description=\"useful for answering questions about multiple country costs e.g. average trip cost to peru\",\n",
    "                         args_schema=PythonInputs)"
   ]
  },
  {
   "cell_type": "code",
   "execution_count": 45,
   "id": "e854c418",
   "metadata": {},
   "outputs": [],
   "source": [
    "import glob\n",
    "def get_tools():          \n",
    "    #tru start\n",
    "    class DocumentInput(BaseModel):\n",
    "        question: str = Field()\n",
    "\n",
    "\n",
    "    llm = ChatOpenAI(temperature=0, model=\"gpt-3.5-turbo\", openai_api_key=api_key)\n",
    "\n",
    "    tools = []\n",
    "    \n",
    "    files = []\n",
    "    for file in glob.glob('raw_data/itinerary_text/*'):\n",
    "        file_dict = {'name': file.split(\"/\")[-1].replace('.txt','').replace('& ','').replace(':','').replace(' ','_'),\n",
    "                    \"path\": file}\n",
    "        files.append(file_dict)\n",
    "\n",
    "    for file in files[:10]:\n",
    "        loader = TextLoader(file[\"path\"])\n",
    "        pages = loader.load_and_split()\n",
    "        text_splitter = CharacterTextSplitter(chunk_size=500, chunk_overlap=50)\n",
    "        docs = text_splitter.split_documents(pages)\n",
    "        embeddings = OpenAIEmbeddings(openai_api_key=api_key)\n",
    "        retriever = FAISS.from_documents(docs, embeddings).as_retriever()\n",
    "\n",
    "        # Wrap retrievers in a Tool\n",
    "        tools.append(\n",
    "            Tool(\n",
    "                args_schema=DocumentInput,\n",
    "                name=file[\"name\"],\n",
    "                description=f\"needed when you want to answer questions about {file['name']} itinerary\",\n",
    "                func=RetrievalQA.from_chain_type(llm=llm, retriever=retriever),\n",
    "            )\n",
    "        )\n",
    "        \n",
    "#     tools.append(PythonAstREPLTool(locals={\"df\": df}, \n",
    "#                          name=\"multi_county_query\",\n",
    "#                          description=\"useful for answering questions about multiple country costs e.g. average trip cost to peru\",\n",
    "#                          args_schema=PythonInputs))\n",
    "        \n",
    "    return tools"
   ]
  },
  {
   "cell_type": "markdown",
   "id": "26eb63c7-562a-49d5-aa52-f1d0de09915d",
   "metadata": {},
   "source": [
    "# Sales Agent"
   ]
  },
  {
   "cell_type": "code",
   "execution_count": 23,
   "id": "f340dfd2-c7db-439c-9afa-aaa341b25c95",
   "metadata": {},
   "outputs": [],
   "source": [
    "from langchain.agents import OpenAIFunctionsAgent, AgentExecutor\n",
    "from langchain.agents import Tool\n",
    "from langchain.schema.messages import SystemMessage"
   ]
  },
  {
   "cell_type": "code",
   "execution_count": 24,
   "id": "f5a47031-84b8-421a-a564-93e196bfb5c0",
   "metadata": {},
   "outputs": [],
   "source": [
    "SALES_AGENT_TOOLS_PROMPT = \"\"\"\n",
    "Never forget your name is Francis. You work as a Travel Agent.\n",
    "You work at company named Francis. Francis's business is the following: Francis is a context aware AI travel agent that works on finding users their dream group tour holiday.\n",
    "You are contacting a potential prospect in order to find them a group toup holiday.\n",
    "Your means of contacting the prospect is live chat.\n",
    "\n",
    "Keep your responses in short length to retain the user's attention. Never produce lists, just answers.\n",
    "\n",
    "Always think about the following conversation stage you are at before answering:\n",
    "\n",
    " - {conversation_stage}\n",
    "\n",
    "You MUST respond according to the previous conversation history and the stage of the conversation you are at.\n",
    "If you get asked about an itinerary use the tools available to you, do not make up an answer. If you do not know the answer tell the user.\n",
    "Only generate one response at a time and act as Francis only!\n",
    "Do not add Francis: to your output.\n",
    "\n",
    "Previous conversation history:\n",
    "{conversation_history}\n",
    "\n",
    "Begin!\n",
    "\"\"\"\n",
    "\n",
    "                                 "
   ]
  },
  {
   "cell_type": "code",
   "execution_count": 25,
   "id": "66d6c897-0d66-40f8-b23d-23f48643bb80",
   "metadata": {},
   "outputs": [],
   "source": [
    "def customize_prompt(conversation_history, conversation_stage, SALES_AGENT_TOOLS_PROMPT):\n",
    "\n",
    "    conversation_history = \"\\n\".join(conversation_history)\n",
    "    \n",
    "    \n",
    "    from langchain import LLMChain, PromptTemplate\n",
    "    prompt = PromptTemplate(\n",
    "                template=SALES_AGENT_TOOLS_PROMPT,\n",
    "                input_variables=[\n",
    "                    \"conversation_stage\",\n",
    "                    \"conversation_history\"\n",
    "                ],\n",
    "            )\n",
    "    \n",
    "    SALES_AGENT_TOOLS_PROMPT = prompt.format(conversation_stage=conversation_stage, \n",
    "                                     conversation_history=conversation_history)\n",
    "    \n",
    "    system_message = SystemMessage(\n",
    "            content=(SALES_AGENT_TOOLS_PROMPT\n",
    "            )\n",
    "    )\n",
    "    \n",
    "    prompt = OpenAIFunctionsAgent.create_prompt(\n",
    "            system_message=system_message\n",
    "    )\n",
    "\n",
    "    return prompt\n",
    "# print(prompt.messages[0].content)"
   ]
  },
  {
   "cell_type": "code",
   "execution_count": 26,
   "id": "928fde58-12ae-49ff-a833-51645d0987bb",
   "metadata": {},
   "outputs": [
    {
     "name": "stderr",
     "output_type": "stream",
     "text": [
      "Created a chunk of size 759, which is longer than the specified 500\n",
      "Created a chunk of size 917, which is longer than the specified 500\n",
      "Created a chunk of size 830, which is longer than the specified 500\n",
      "Created a chunk of size 771, which is longer than the specified 500\n",
      "Created a chunk of size 559, which is longer than the specified 500\n",
      "Created a chunk of size 800, which is longer than the specified 500\n",
      "Created a chunk of size 710, which is longer than the specified 500\n",
      "Created a chunk of size 724, which is longer than the specified 500\n",
      "Created a chunk of size 902, which is longer than the specified 500\n",
      "Created a chunk of size 759, which is longer than the specified 500\n",
      "Created a chunk of size 762, which is longer than the specified 500\n"
     ]
    },
    {
     "name": "stdout",
     "output_type": "stream",
     "text": [
      "[{'name': 'Lima_to_La_Paz_Sandboarding_Sunsets_Lares_Trek', 'path': 'raw_data/itinerary_text/Lima to La Paz: Sandboarding & Sunsets Lares Trek.txt'}, {'name': 'Inca_Discovery_Inca_Trail', 'path': 'raw_data/itinerary_text/Inca Discovery Inca Trail.txt'}, {'name': 'The_Lares_Trek_Lares_Trek', 'path': 'raw_data/itinerary_text/The Lares Trek Lares Trek.txt'}, {'name': 'Coastal_Morocco_Waves_Market_Stalls_', 'path': 'raw_data/itinerary_text/Coastal Morocco: Waves & Market Stalls .txt'}, {'name': 'Jordan_Multisport_', 'path': 'raw_data/itinerary_text/Jordan Multisport .txt'}, {'name': 'Serengeti_to_Victoria_Falls_Overland_Night_Stars_Spices_', 'path': 'raw_data/itinerary_text/Serengeti to Victoria Falls Overland: Night Stars & Spices .txt'}, {'name': 'Spain_Portugal_Flamenco_Tapas_', 'path': 'raw_data/itinerary_text/Spain & Portugal: Flamenco & Tapas .txt'}, {'name': 'Explore_Southern_Africa_', 'path': 'raw_data/itinerary_text/Explore Southern Africa .txt'}, {'name': 'Inca_Discovery_Plus_Cusco_Stay', 'path': 'raw_data/itinerary_text/Inca Discovery Plus Cusco Stay.txt'}, {'name': 'Highlights_of_Jordan_', 'path': 'raw_data/itinerary_text/Highlights of Jordan .txt'}, {'name': 'Classic_Bali_', 'path': 'raw_data/itinerary_text/Classic Bali .txt'}, {'name': 'Iceland_Northern_Lights_Golden_Circle_', 'path': 'raw_data/itinerary_text/Iceland Northern Lights & Golden Circle .txt'}, {'name': 'Laos_Sunrises_Street_Food_', 'path': 'raw_data/itinerary_text/Laos: Sunrises & Street Food .txt'}, {'name': 'The_Lares_Trek_Cusco_Stay', 'path': 'raw_data/itinerary_text/The Lares Trek Cusco Stay.txt'}, {'name': 'North_Central_Vietnam_Hanoi,_Hoi_An_Countryside_Adventures_', 'path': 'raw_data/itinerary_text/North & Central Vietnam: Hanoi, Hoi An & Countryside Adventures .txt'}, {'name': 'Everest_Base_Camp_Trek_', 'path': 'raw_data/itinerary_text/Everest Base Camp Trek .txt'}, {'name': 'Amazon_to_the_Andes_Cusco_Stay', 'path': 'raw_data/itinerary_text/Amazon to the Andes Cusco Stay.txt'}, {'name': 'Golden_Triangle_', 'path': 'raw_data/itinerary_text/Golden Triangle .txt'}, {'name': 'Bali_Beaches_Boat_Rides_', 'path': 'raw_data/itinerary_text/Bali: Beaches & Boat Rides .txt'}, {'name': 'Egypt_Jordan_Adventure_', 'path': 'raw_data/itinerary_text/Egypt & Jordan Adventure .txt'}, {'name': 'Lima_to_Rio_Coast_to_Coast_Inca_Trail', 'path': 'raw_data/itinerary_text/Lima to Rio: Coast to Coast Inca Trail.txt'}, {'name': 'Japan_Express_Osaka_to_Tokyo_', 'path': 'raw_data/itinerary_text/Japan Express: Osaka to Tokyo .txt'}, {'name': 'The_Inca_Trail_Cusco_Stay', 'path': 'raw_data/itinerary_text/The Inca Trail Cusco Stay.txt'}, {'name': 'Inca_Discovery_Lares_Trek', 'path': 'raw_data/itinerary_text/Inca Discovery Lares Trek.txt'}, {'name': 'Lima_to_La_Paz_Sandboarding_Sunsets_Cusco_Stay', 'path': 'raw_data/itinerary_text/Lima to La Paz: Sandboarding & Sunsets Cusco Stay.txt'}, {'name': 'Cambodia_to_Vietnam_Night_Markets_Noodle-Making_', 'path': 'raw_data/itinerary_text/Cambodia to Vietnam: Night Markets & Noodle-Making .txt'}, {'name': 'The_Many_Sides_of_Mexico_Puerto_Vallarta_to_Oaxaca_', 'path': 'raw_data/itinerary_text/The Many Sides of Mexico: Puerto Vallarta to Oaxaca .txt'}, {'name': 'Inca_Discovery_Cusco_Stay', 'path': 'raw_data/itinerary_text/Inca Discovery Cusco Stay.txt'}, {'name': 'The_Inca_Trail_Lares_Trek', 'path': 'raw_data/itinerary_text/The Inca Trail Lares Trek.txt'}, {'name': 'Best_of_South_Korea_', 'path': 'raw_data/itinerary_text/Best of South Korea .txt'}, {'name': 'Highlights_of_Portugal_', 'path': 'raw_data/itinerary_text/Highlights of Portugal .txt'}, {'name': 'Laos_to_Northern_Thailand_Treks_Trails_', 'path': 'raw_data/itinerary_text/Laos to Northern Thailand: Treks & Trails .txt'}, {'name': 'Maldives_Dhoni_Cruise_', 'path': 'raw_data/itinerary_text/Maldives Dhoni Cruise .txt'}, {'name': 'Ecuador_Amazon,_Hot_Springs_Volcanoes_', 'path': 'raw_data/itinerary_text/Ecuador: Amazon, Hot Springs & Volcanoes .txt'}, {'name': 'Southern_Divide_', 'path': 'raw_data/itinerary_text/Southern Divide .txt'}, {'name': 'Mexico_Coast-to-Coast_Puerto_Vallarta_to_the_Mayan_Riviera_', 'path': 'raw_data/itinerary_text/Mexico Coast-to-Coast: Puerto Vallarta to the Mayan Riviera .txt'}, {'name': 'Laos_to_Thailand_Night_Markets_Mekong_Cruising_', 'path': 'raw_data/itinerary_text/Laos to Thailand: Night Markets & Mekong Cruising .txt'}, {'name': 'Inca_Discovery_Plus_Lares_Trek', 'path': 'raw_data/itinerary_text/Inca Discovery Plus Lares Trek.txt'}, {'name': 'Epic_Vietnam_Hanoi,_Ho_Chi_Minh_City_Handmade_Noodles_', 'path': 'raw_data/itinerary_text/Epic Vietnam: Hanoi, Ho Chi Minh City & Handmade Noodles .txt'}, {'name': 'Borneo_–_East_Sabah_Adventure_', 'path': 'raw_data/itinerary_text/Borneo – East Sabah Adventure .txt'}, {'name': 'Classic_Vietnam_Hanoi_to_Ho_Chi_Minh_City_', 'path': 'raw_data/itinerary_text/Classic Vietnam: Hanoi to Ho Chi Minh City .txt'}, {'name': 'Lima_to_Rio_Coast_to_Coast_Cusco_Stay', 'path': 'raw_data/itinerary_text/Lima to Rio: Coast to Coast Cusco Stay.txt'}, {'name': 'Best_of_Egypt_', 'path': 'raw_data/itinerary_text/Best of Egypt .txt'}, {'name': 'Lima_to_Buenos_Aires_Deserts_Dancing_Cusco_Stay', 'path': 'raw_data/itinerary_text/Lima to Buenos Aires: Deserts & Dancing Cusco Stay.txt'}, {'name': 'Explore_Cape_Town_Kruger_National_Park_', 'path': 'raw_data/itinerary_text/Explore Cape Town & Kruger National Park .txt'}, {'name': 'Essential_Central_Mexico_', 'path': 'raw_data/itinerary_text/Essential Central Mexico .txt'}, {'name': 'The_Inca_Trail_Inca_Trail', 'path': 'raw_data/itinerary_text/The Inca Trail Inca Trail.txt'}, {'name': 'Discover_Japan_', 'path': 'raw_data/itinerary_text/Discover Japan .txt'}, {'name': 'Nairobi_to_Joburg_Overland_Craters_Camping_', 'path': 'raw_data/itinerary_text/Nairobi to Joburg Overland: Craters & Camping .txt'}, {'name': 'Best_of_Uzbekistan_and_Turkmenistan_', 'path': 'raw_data/itinerary_text/Best of Uzbekistan and Turkmenistan .txt'}, {'name': 'Amazon_to_the_Andes_Inca_Trail', 'path': 'raw_data/itinerary_text/Amazon to the Andes Inca Trail.txt'}, {'name': 'Vietnam_Historic_Cities_Halong_Bay_Cruising_', 'path': 'raw_data/itinerary_text/Vietnam: Historic Cities & Halong Bay Cruising .txt'}, {'name': 'Camino_de_Santiago_Encompassed_', 'path': 'raw_data/itinerary_text/Camino de Santiago Encompassed .txt'}, {'name': 'Essential_Southeast_Asia_Hanoi,_Phnom_Penh_Thailand_Good_Times_', 'path': 'raw_data/itinerary_text/Essential Southeast Asia: Hanoi, Phnom Penh & Thailand Good Times .txt'}, {'name': 'Best_of_Spain_Portugal_', 'path': 'raw_data/itinerary_text/Best of Spain & Portugal .txt'}, {'name': 'Lima_to_Rio_Coast_to_Coast_Lares_Trek', 'path': 'raw_data/itinerary_text/Lima to Rio: Coast to Coast Lares Trek.txt'}, {'name': 'Bangkok_to_Chiang_Mai_Express_', 'path': 'raw_data/itinerary_text/Bangkok to Chiang Mai Express .txt'}, {'name': 'Lima_to_Buenos_Aires_Deserts_Dancing_Inca_Trail', 'path': 'raw_data/itinerary_text/Lima to Buenos Aires: Deserts & Dancing Inca Trail.txt'}, {'name': 'Cambodia_Ancient_Ruins_Boat_Rides_', 'path': 'raw_data/itinerary_text/Cambodia: Ancient Ruins & Boat Rides .txt'}, {'name': 'Best_of_Cambodia_Northern_Thailand_', 'path': 'raw_data/itinerary_text/Best of Cambodia & Northern Thailand .txt'}, {'name': 'Costa_Rica_Quest_', 'path': 'raw_data/itinerary_text/Costa Rica Quest .txt'}, {'name': 'Cape_Town,_Kruger_Zimbabwe_', 'path': 'raw_data/itinerary_text/Cape Town, Kruger & Zimbabwe .txt'}, {'name': 'Cambodia_Experience_', 'path': 'raw_data/itinerary_text/Cambodia Experience .txt'}, {'name': 'Lima_to_La_Paz_Sandboarding_Sunsets_Inca_Trail', 'path': 'raw_data/itinerary_text/Lima to La Paz: Sandboarding & Sunsets Inca Trail.txt'}, {'name': 'Inca_Discovery_Plus_Inca_Trail', 'path': 'raw_data/itinerary_text/Inca Discovery Plus Inca Trail.txt'}, {'name': 'Serengeti,_Falls_Cape_Town_Overland_Sunsets_Safaris_', 'path': 'raw_data/itinerary_text/Serengeti, Falls & Cape Town Overland: Sunsets & Safaris .txt'}, {'name': 'Highlights_of_Morocco_', 'path': 'raw_data/itinerary_text/Highlights of Morocco .txt'}, {'name': 'The_Scenic_Route_-_Lima_to_Buenos_Aires_', 'path': 'raw_data/itinerary_text/The Scenic Route - Lima to Buenos Aires .txt'}, {'name': 'Amazon_to_the_Andes_Lares_Trek', 'path': 'raw_data/itinerary_text/Amazon to the Andes Lares Trek.txt'}, {'name': 'Spain,_Portugal_Morocco_Tapas,_Medinas_Sunsets_', 'path': 'raw_data/itinerary_text/Spain, Portugal & Morocco: Tapas, Medinas & Sunsets .txt'}, {'name': 'Lima_to_Buenos_Aires_Deserts_Dancing_Lares_Trek', 'path': 'raw_data/itinerary_text/Lima to Buenos Aires: Deserts & Dancing Lares Trek.txt'}]\n"
     ]
    }
   ],
   "source": [
    "# Define the tools\n",
    "tools = get_tools()"
   ]
  },
  {
   "cell_type": "code",
   "execution_count": 27,
   "id": "9d9be55b",
   "metadata": {},
   "outputs": [],
   "source": [
    "from langchain.agents import OpenAIMultiFunctionsAgent\n",
    "def run_francis(input, conversation_history, user_travel_details, user_itinerary_details):\n",
    "    llm = ChatOpenAI(temperature=0.9, model=\"gpt-3.5-turbo\", openai_api_key=api_key)\n",
    "    \n",
    "    user_input = f\"User: {input}\"\n",
    "\n",
    "    conversation_history.append(user_input)\n",
    "\n",
    "    conversation_stage, user_travel_details = check_conversation_stage(conversation_history, user_travel_details, user_itinerary_details)\n",
    "    \n",
    "    final_prompt = customize_prompt(conversation_history, conversation_stage, SALES_AGENT_TOOLS_PROMPT)\n",
    "    \n",
    "    # Create the agent\n",
    "    agent = OpenAIFunctionsAgent(llm=llm, tools=tools, prompt=final_prompt)\n",
    "    # agent = OpenAIMultiFunctionsAgent(llm=llm, tools=tools, prompt=final_prompt)\n",
    "    \n",
    "    # Run the agent with the actions\n",
    "    agent_executor = AgentExecutor(agent=agent, tools=tools, verbose=False, max_iterations=5)\n",
    "    #output = agent_executor.run(\"\")\n",
    "    \n",
    "    francis = agent_executor.run(input)\n",
    "    francis1 = f\"Francis: {francis}\"\n",
    "    conversation_history.append(francis1)\n",
    "\n",
    "    return francis, user_travel_details"
   ]
  },
  {
   "cell_type": "code",
   "execution_count": 28,
   "id": "e18bc7fc",
   "metadata": {},
   "outputs": [
    {
     "ename": "NameError",
     "evalue": "name 'ad' is not defined",
     "output_type": "error",
     "traceback": [
      "\u001b[0;31m---------------------------------------------------------------------------\u001b[0m",
      "\u001b[0;31mNameError\u001b[0m                                 Traceback (most recent call last)",
      "Cell \u001b[0;32mIn [28], line 1\u001b[0m\n\u001b[0;32m----> 1\u001b[0m ad\n",
      "\u001b[0;31mNameError\u001b[0m: name 'ad' is not defined"
     ]
    }
   ],
   "source": [
    "ad"
   ]
  },
  {
   "cell_type": "markdown",
   "id": "6e9e0249-c67e-4c2e-8255-21d5194e5a77",
   "metadata": {},
   "source": [
    "# conversation"
   ]
  },
  {
   "cell_type": "code",
   "execution_count": 39,
   "id": "d04585d0",
   "metadata": {},
   "outputs": [],
   "source": [
    "import langchain\n",
    "langchain.debug = False"
   ]
  },
  {
   "cell_type": "code",
   "execution_count": 46,
   "id": "d7c880d1",
   "metadata": {},
   "outputs": [],
   "source": [
    "user_travel_details = TravelDetails(introduction=False,\n",
    "                                qualification=\"\",\n",
    "                                country=\"\",\n",
    "                                departing_after=None,\n",
    "                                departing_before=None,\n",
    "                                max_budget=None,\n",
    "                                max_duration=None,\n",
    "                                min_duration=None)"
   ]
  },
  {
   "cell_type": "code",
   "execution_count": 47,
   "id": "3efeac25",
   "metadata": {},
   "outputs": [],
   "source": [
    "user_itinerary_details = ItineraryDetails(itinerary_name=\"\",\n",
    "                                itinerary_start_date=\"\")"
   ]
  },
  {
   "cell_type": "code",
   "execution_count": 48,
   "id": "0021a233-91d4-42c4-9b4c-af45f336c33a",
   "metadata": {},
   "outputs": [],
   "source": [
    "conversation_history = [\"Francis:  Hello, this is Francis from Francis Travel. Can i help you find a group tour today?\"]"
   ]
  },
  {
   "cell_type": "code",
   "execution_count": 49,
   "id": "5281ee56",
   "metadata": {},
   "outputs": [
    {
     "name": "stdout",
     "output_type": "stream",
     "text": [
      "['what country are you looking to travel to?', 'when are you looking to travel?', 'when are you looking to travel?', 'how much are you looking to spend?', 'how long do you want your trip to be?', 'how long do you want your trip to be?']\n",
      "Great! I'm here to help you find the perfect group tour. What country are you looking to travel to?\n"
     ]
    }
   ],
   "source": [
    "human_input = \"yes\"\n",
    "francis_output, user_travel_details = run_francis(human_input, conversation_history, user_travel_details, user_itinerary_details)\n",
    "print(francis_output)"
   ]
  },
  {
   "cell_type": "code",
   "execution_count": 50,
   "id": "33c348cf-fa3f-4f67-9c24-11695dacfdf6",
   "metadata": {
    "scrolled": false
   },
   "outputs": [
    {
     "name": "stdout",
     "output_type": "stream",
     "text": [
      "['how much are you looking to spend?', 'when are you looking to travel?', 'when are you looking to travel?', 'how long do you want your trip to be?', 'how long do you want your trip to be?']\n",
      "Great! Portugal is a wonderful destination. How long are you planning to stay in Portugal?\n"
     ]
    }
   ],
   "source": [
    "human_input = \"Portugal\"\n",
    "francis_output, user_travel_details = run_francis(human_input, conversation_history, user_travel_details, user_itinerary_details)\n",
    "print(francis_output)"
   ]
  },
  {
   "cell_type": "code",
   "execution_count": 52,
   "id": "1111ba04",
   "metadata": {
    "scrolled": true
   },
   "outputs": [
    {
     "name": "stdout",
     "output_type": "stream",
     "text": [
      "['when are you looking to travel?', 'when are you looking to travel?']\n",
      "Great! With a budget of £2000, there are several group tour options available for you. When are you looking to travel?\n"
     ]
    }
   ],
   "source": [
    "human_input = \"£2000\"\n",
    "francis_output, user_travel_details = run_francis(human_input, conversation_history, user_travel_details, user_itinerary_details)\n",
    "print(francis_output)"
   ]
  },
  {
   "cell_type": "code",
   "execution_count": 53,
   "id": "926c5ae0-442e-4b92-8e37-61aac6694190",
   "metadata": {},
   "outputs": [
    {
     "name": "stdout",
     "output_type": "stream",
     "text": [
      "[]\n",
      "All details gathered! summarise the itineraries...\n",
      "Thank you for choosing April 2024 as your travel date. Based on your preferences and budget, I recommend the \"Highlights of Portugal\" tour. It is a wonderful itinerary that includes visits to Lisbon, Coimbra, Sintra, and Porto. You will have the opportunity to explore UNESCO World Heritage Sites, enjoy delicious food, and relax in the beautiful Douro Valley. You can find more information and book the tour [here](https://www.gadventures.com/trips/portugal-highlights/EPLP/). Let me know if you have any other questions!\n"
     ]
    }
   ],
   "source": [
    "human_input = \"april 2024\"\n",
    "francis_output, user_travel_details = run_francis(human_input, conversation_history, user_travel_details, user_itinerary_details)\n",
    "print(francis_output)"
   ]
  },
  {
   "cell_type": "code",
   "execution_count": 51,
   "id": "4e68eb99",
   "metadata": {},
   "outputs": [
    {
     "name": "stdout",
     "output_type": "stream",
     "text": [
      "['how much are you looking to spend?', 'when are you looking to travel?', 'when are you looking to travel?']\n",
      "Thank you for providing the duration of your trip. How much are you looking to spend?\n"
     ]
    }
   ],
   "source": [
    "human_input = \"between 4 and 30 days\"\n",
    "francis_output, user_travel_details = run_francis(human_input, conversation_history, user_travel_details, user_itinerary_details)\n",
    "print(francis_output)"
   ]
  },
  {
   "cell_type": "code",
   "execution_count": 54,
   "id": "fdb2ab65",
   "metadata": {},
   "outputs": [
    {
     "name": "stdout",
     "output_type": "stream",
     "text": [
      "[]\n",
      "All details gathered! summarise the itineraries...\n",
      "The \"Highlights of Portugal\" tour lasts for 7 days.\n"
     ]
    }
   ],
   "source": [
    "human_input = \"how long is it?\"\n",
    "francis_output, user_travel_details = run_francis(human_input, conversation_history, user_travel_details, user_itinerary_details)\n",
    "print(francis_output)"
   ]
  },
  {
   "cell_type": "code",
   "execution_count": 55,
   "id": "db329b20",
   "metadata": {},
   "outputs": [
    {
     "name": "stdout",
     "output_type": "stream",
     "text": [
      "[]\n",
      "All details gathered! summarise the itineraries...\n",
      "Here is the day by day summary of the \"Highlights of Portugal\" tour:\n",
      "\n",
      "Day 1: Arrive in Lisbon\n",
      "Day 2: Explore Lisbon\n",
      "Day 3: Visit Coimbra and Batalha\n",
      "Day 4: Optional visit to Sintra\n",
      "Day 5: Travel to Porto\n",
      "Day 6: Explore Porto and Douro Valley\n",
      "Day 7: Depart from Porto\n",
      "\n",
      "You can find more information and book the tour [here](https://www.gadventures.com/trips/portugal-highlights/EPLP/). Let me know if you have any other questions!\n"
     ]
    }
   ],
   "source": [
    "human_input = \"What is the day by day summary?\"\n",
    "francis_output, user_travel_details = run_francis(human_input, conversation_history, user_travel_details, user_itinerary_details)\n",
    "print(francis_output)"
   ]
  },
  {
   "cell_type": "code",
   "execution_count": 56,
   "id": "65a6d087",
   "metadata": {},
   "outputs": [
    {
     "name": "stdout",
     "output_type": "stream",
     "text": [
      "[]\n",
      "All details gathered! summarise the itineraries...\n",
      "Certainly! Here are some more details about the \"Highlights of Portugal\" tour:\n",
      "\n",
      "- Day 1: Arrive in Lisbon - You will start your tour in the beautiful city of Lisbon, the capital of Portugal.\n",
      "- Day 2: Explore Lisbon - Spend the day exploring the hilly streets of Lisbon, sampling local cuisine, and taking in the sun-dappled architecture.\n",
      "- Day 3: Visit Coimbra and Batalha - Discover the historic city of Coimbra, home to one of the oldest universities in the world. Then, visit the Monastery of Batalha, a UNESCO World Heritage Site.\n",
      "- Day 4: Optional visit to Sintra - Take an optional trip to the picturesque town of Sintra, known for its stunning palaces and gardens.\n",
      "- Day 5: Travel to Porto - Journey to the city of Porto and explore its charming streets and vibrant culture.\n",
      "- Day 6: Explore Porto and Douro Valley - Spend the day discovering Porto's highlights and enjoying the scenic beauty of the Douro Valley. You'll also have the chance to try some delicious port wine.\n",
      "- Day 7: Depart from Porto - Your tour comes to an end in Porto, where you'll say goodbye to Portugal and take home wonderful memories.\n",
      "\n",
      "You can find more information and book the tour [here](https://www.gadventures.com/trips/portugal-highlights/EPLP/). Let me know if there is anything else I can assist you with!\n"
     ]
    }
   ],
   "source": [
    "human_input = \"Can you give me some more details?\"\n",
    "francis_output, user_travel_details = run_francis(human_input, conversation_history, user_travel_details, user_itinerary_details)\n",
    "print(francis_output)"
   ]
  },
  {
   "cell_type": "code",
   "execution_count": null,
   "id": "54dd45d2",
   "metadata": {},
   "outputs": [],
   "source": []
  }
 ],
 "metadata": {
  "kernelspec": {
   "display_name": "Python 3 (ipykernel)",
   "language": "python",
   "name": "python3"
  },
  "language_info": {
   "codemirror_mode": {
    "name": "ipython",
    "version": 3
   },
   "file_extension": ".py",
   "mimetype": "text/x-python",
   "name": "python",
   "nbconvert_exporter": "python",
   "pygments_lexer": "ipython3",
   "version": "3.10.6"
  },
  "toc": {
   "base_numbering": 1,
   "nav_menu": {},
   "number_sections": true,
   "sideBar": true,
   "skip_h1_title": false,
   "title_cell": "Table of Contents",
   "title_sidebar": "Contents",
   "toc_cell": false,
   "toc_position": {},
   "toc_section_display": true,
   "toc_window_display": false
  }
 },
 "nbformat": 4,
 "nbformat_minor": 5
}
