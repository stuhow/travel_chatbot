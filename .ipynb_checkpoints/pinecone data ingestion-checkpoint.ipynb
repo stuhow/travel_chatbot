{
 "cells": [
  {
   "cell_type": "code",
   "execution_count": 1,
   "id": "aa8740b3",
   "metadata": {},
   "outputs": [
    {
     "name": "stderr",
     "output_type": "stream",
     "text": [
      "/home/stuart/.pyenv/versions/3.10.6/envs/lewagon/lib/python3.10/site-packages/pinecone/index.py:4: TqdmExperimentalWarning: Using `tqdm.autonotebook.tqdm` in notebook mode. Use `tqdm.tqdm` instead to force console mode (e.g. in jupyter console)\n",
      "  from tqdm.autonotebook import tqdm\n"
     ]
    }
   ],
   "source": [
    "import pinecone\n",
    "\n",
    "from google.cloud import bigquery\n",
    "\n",
    "from langchain.embeddings.openai import OpenAIEmbeddings\n",
    "from langchain.text_splitter import CharacterTextSplitter\n",
    "from langchain.vectorstores import Pinecone\n",
    "from langchain.chat_models import ChatOpenAI\n",
    "from langchain.chains import RetrievalQA\n",
    "from langchain.document_loaders import BigQueryLoader\n",
    "\n",
    "from dotenv import load_dotenv\n",
    "import os\n",
    "\n",
    "# Load the environment variables from the .env file\n",
    "load_dotenv()\n",
    "\n",
    "# Access environment variables\n",
    "api_key = os.getenv(\"OPENAI_KEY\")\n",
    "pinecone_key = os.getenv('PINECONE_API_KEY')\n",
    "pinecone_env = os.getenv('PINECONE_ENV')"
   ]
  },
  {
   "cell_type": "code",
   "execution_count": 2,
   "id": "65475de1",
   "metadata": {},
   "outputs": [],
   "source": [
    "pinecone.init(api_key=pinecone_key,\n",
    "              environment=pinecone_env)"
   ]
  },
  {
   "cell_type": "code",
   "execution_count": 3,
   "id": "c733479e",
   "metadata": {},
   "outputs": [],
   "source": [
    "\n",
    "PROJECT = \"wagon-bootcamp-377120\"\n",
    "DATASET = \"g_adventures_dataset\"\n",
    "TABLE = \"one_month\"\n",
    "\n",
    "# query = f\"\"\"\n",
    "#     SELECT \n",
    "#       DISTINCT tour_name\n",
    "#     FROM {PROJECT}.{DATASET}.{TABLE}\n",
    "#     \"\"\"\n",
    "\n",
    "# client = bigquery.Client(project=\"wagon-bootcamp-377120\")\n",
    "# query_job = client.query(query)\n",
    "# result = query_job.result()\n",
    "# df = result.to_dataframe()"
   ]
  },
  {
   "cell_type": "code",
   "execution_count": 4,
   "id": "04c8b2ea",
   "metadata": {},
   "outputs": [],
   "source": [
    "# tour_name_list = df['tour_name']"
   ]
  },
  {
   "cell_type": "code",
   "execution_count": 5,
   "id": "dc08af35",
   "metadata": {},
   "outputs": [],
   "source": [
    "found_itineraries = ['Morocco Kasbahs & Desert', 'Coastal Morocco: Waves & Market Stalls'] # Peru Panorama"
   ]
  },
  {
   "cell_type": "code",
   "execution_count": 14,
   "id": "7fcb9901",
   "metadata": {},
   "outputs": [],
   "source": [
    "query = f\"\"\"\n",
    "    SELECT \n",
    "        MAX(tour_operator) AS tour_operator,\n",
    "        tour_name,\n",
    "        itinerary_name,\n",
    "        MAX(visited_countries) AS visited_countries,\n",
    "        MAX(duration) AS duration,\n",
    "        MAX(Travel_Style) AS Travel_Style,\n",
    "        MAX(Service_Level) AS Service_Level,\n",
    "        MAX(Physical_Grading) AS Physical_Grading,\n",
    "        MAX(Merchandising) AS Merchandising,\n",
    "        MAX(Trip_Type) AS Trip_Type,\n",
    "        MAX(itinerary) AS itinerary,\n",
    "        MAX(url) AS url\n",
    "    FROM {PROJECT}.{DATASET}.{TABLE}\n",
    "    WHERE \n",
    "      tour_name = 'Morocco Kasbahs & Desert'\n",
    "    GROUP BY\n",
    "      tour_name, itinerary_name;\n",
    "    \"\"\"\n",
    "\n",
    "# client = bigquery.Client(project=\"wagon-bootcamp-377120\")\n",
    "# query_job = client.query(query)\n",
    "# result = query_job.result()\n",
    "# df = result.to_dataframe()"
   ]
  },
  {
   "cell_type": "code",
   "execution_count": 15,
   "id": "29fdacf6",
   "metadata": {},
   "outputs": [],
   "source": [
    "# Create index if it doesn't exist already\n",
    "if \"chatbot\" not in pinecone.list_indexes():\n",
    "    pinecone.create_index(\n",
    "        name=\"chatbot\",\n",
    "        dimension=1536, \n",
    "        metric=\"cosine\" \n",
    "    )\n",
    "\n",
    "# Load embeddings model  \n",
    "embeddings = OpenAIEmbeddings(openai_api_key=api_key)\n",
    "\n",
    "# Load texts\n",
    "loader = BigQueryLoader(query, metadata_columns=[\"tour_name\"])\n",
    "\n",
    "docs = loader.load()\n",
    "\n",
    "text_splitter = CharacterTextSplitter(chunk_size=500, chunk_overlap=50)\n",
    "\n",
    "texts = text_splitter.split_documents(docs)\n",
    "\n"
   ]
  },
  {
   "cell_type": "code",
   "execution_count": 16,
   "id": "84515271",
   "metadata": {},
   "outputs": [],
   "source": [
    "# Create Pinecone index instance\n",
    "index = pinecone.Index(\"chatbot\")\n",
    "\n",
    "# let pinecone know what our metadata is\n",
    "# metadata = [{'tour_name': 'Peru Panorama'}]\n",
    "\n",
    "# Upsert texts into index\n",
    "docsearch = Pinecone.from_documents(texts, embeddings, index_name=\"chatbot\")"
   ]
  },
  {
   "cell_type": "code",
   "execution_count": null,
   "id": "a94a02ee",
   "metadata": {},
   "outputs": [],
   "source": []
  },
  {
   "cell_type": "code",
   "execution_count": null,
   "id": "854a96f7",
   "metadata": {},
   "outputs": [],
   "source": []
  },
  {
   "cell_type": "code",
   "execution_count": null,
   "id": "f5a5008e",
   "metadata": {},
   "outputs": [],
   "source": []
  },
  {
   "cell_type": "code",
   "execution_count": null,
   "id": "8c11bc9b",
   "metadata": {},
   "outputs": [],
   "source": [
    "# ingestion complete - test Q&A"
   ]
  },
  {
   "cell_type": "code",
   "execution_count": 10,
   "id": "1f363abc",
   "metadata": {},
   "outputs": [
    {
     "name": "stderr",
     "output_type": "stream",
     "text": [
      "/home/stuart/.pyenv/versions/3.10.6/envs/lewagon/lib/python3.10/site-packages/langchain/vectorstores/pinecone.py:61: UserWarning: Passing in `embedding` as a Callable is deprecated. Please pass in an Embeddings object instead.\n",
      "  warnings.warn(\n"
     ]
    }
   ],
   "source": [
    "pinecone_index = pinecone.Index(\"chatbot\")\n",
    "vectorstore = Pinecone(pinecone_index, embeddings.embed_query, \"text\")"
   ]
  },
  {
   "cell_type": "code",
   "execution_count": 11,
   "id": "2ad84452",
   "metadata": {},
   "outputs": [],
   "source": [
    "filters = {\"tour_name\": \"Coastal Morocco: Waves & Market Stalls\"}\n",
    "\n",
    "# completion llm\n",
    "llm = ChatOpenAI(\n",
    "    openai_api_key=api_key,\n",
    "    model_name='gpt-3.5-turbo',\n",
    "    temperature=0.0\n",
    ")\n",
    "\n",
    "qa = RetrievalQA.from_chain_type(\n",
    "    llm=llm,\n",
    "    chain_type=\"stuff\",\n",
    "    retriever=vectorstore.as_retriever(search_kwargs={'filter': filters})\n",
    ")"
   ]
  },
  {
   "cell_type": "code",
   "execution_count": 13,
   "id": "56295d86",
   "metadata": {},
   "outputs": [
    {
     "name": "stdout",
     "output_type": "stream",
     "text": [
      "The itinerary mentions that on Day 3, there is an opportunity to suit up for a surf lesson and hit the waves. After the lesson, there is a free afternoon for surfing or paddle-boarding. So, during this trip, you will have the chance to experience surfing in Taghazout, a fishing village in Morocco.\n"
     ]
    }
   ],
   "source": [
    "answer = qa.run('what surfing oppertunities are there?')\n",
    "print(answer)"
   ]
  },
  {
   "cell_type": "code",
   "execution_count": null,
   "id": "8907ef8c",
   "metadata": {},
   "outputs": [],
   "source": []
  },
  {
   "cell_type": "code",
   "execution_count": null,
   "id": "cc1c0fd4",
   "metadata": {},
   "outputs": [],
   "source": []
  },
  {
   "cell_type": "code",
   "execution_count": null,
   "id": "466b0f56",
   "metadata": {},
   "outputs": [],
   "source": [
    "# function to genterate the sql query for tool creation"
   ]
  },
  {
   "cell_type": "code",
   "execution_count": null,
   "id": "111c390d",
   "metadata": {},
   "outputs": [],
   "source": [
    "# tools = []\n",
    "# for itinerary in found_itineraries:\n",
    "#     query = generate_sql_query(user_travel_details, found_itineraries)\n",
    "\n",
    "#     loader = BigQueryLoader(query)\n",
    "\n",
    "#     docs = loader.load()\n",
    "    \n",
    "#     text_splitter = CharacterTextSplitter(chunk_size=500, chunk_overlap=50)\n",
    "#     texts = text_splitter.split_documents(docs)"
   ]
  },
  {
   "cell_type": "code",
   "execution_count": null,
   "id": "259e6afa",
   "metadata": {},
   "outputs": [],
   "source": []
  },
  {
   "cell_type": "code",
   "execution_count": null,
   "id": "3f9ee1c9",
   "metadata": {},
   "outputs": [],
   "source": []
  },
  {
   "cell_type": "code",
   "execution_count": null,
   "id": "30ab313f",
   "metadata": {},
   "outputs": [],
   "source": [
    "# pinecone.delete_index(\"chatbot\")"
   ]
  },
  {
   "cell_type": "code",
   "execution_count": null,
   "id": "dce2d2c1",
   "metadata": {},
   "outputs": [],
   "source": []
  }
 ],
 "metadata": {
  "kernelspec": {
   "display_name": "Python 3 (ipykernel)",
   "language": "python",
   "name": "python3"
  },
  "language_info": {
   "codemirror_mode": {
    "name": "ipython",
    "version": 3
   },
   "file_extension": ".py",
   "mimetype": "text/x-python",
   "name": "python",
   "nbconvert_exporter": "python",
   "pygments_lexer": "ipython3",
   "version": "3.10.6"
  },
  "toc": {
   "base_numbering": 1,
   "nav_menu": {},
   "number_sections": true,
   "sideBar": true,
   "skip_h1_title": false,
   "title_cell": "Table of Contents",
   "title_sidebar": "Contents",
   "toc_cell": false,
   "toc_position": {},
   "toc_section_display": true,
   "toc_window_display": false
  }
 },
 "nbformat": 4,
 "nbformat_minor": 5
}
