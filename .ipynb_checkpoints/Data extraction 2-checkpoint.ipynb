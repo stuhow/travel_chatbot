{
 "cells": [
  {
   "cell_type": "code",
   "execution_count": null,
   "id": "db3f7e63-2cab-4780-a613-54b34faee9ca",
   "metadata": {},
   "outputs": [],
   "source": [
    "# script to extract data from g adventures API\n"
   ]
  },
  {
   "cell_type": "code",
   "execution_count": null,
   "id": "c5fc33ac",
   "metadata": {},
   "outputs": [],
   "source": [
    "# change dtype of start_date & duration "
   ]
  },
  {
   "cell_type": "code",
   "execution_count": null,
   "id": "d51d1466",
   "metadata": {},
   "outputs": [],
   "source": [
    "# get promotional rates including promotion e.g. 25% of"
   ]
  },
  {
   "cell_type": "code",
   "execution_count": null,
   "id": "0df9c586",
   "metadata": {},
   "outputs": [],
   "source": [
    "# generate a list of possible countries"
   ]
  },
  {
   "cell_type": "code",
   "execution_count": null,
   "id": "e803975a",
   "metadata": {},
   "outputs": [],
   "source": [
    "from gapipy import Client\n",
    "from datetime import timedelta\n",
    "import pandas as pd"
   ]
  },
  {
   "cell_type": "code",
   "execution_count": null,
   "id": "4b958582",
   "metadata": {},
   "outputs": [],
   "source": [
    "import re\n",
    "from dotenv import load_dotenv\n",
    "import os\n",
    "\n",
    "# Load the environment variables from the .env file\n",
    "load_dotenv()\n",
    "\n",
    "# Access environment variables\n",
    "api_key = os.getenv(\"G_ADVENTURES_KEY\")\n",
    "\n",
    "client = Client(application_key=api_key) "
   ]
  },
  {
   "cell_type": "code",
   "execution_count": null,
   "id": "afbb1166",
   "metadata": {},
   "outputs": [],
   "source": [
    "filtered_departures = client.departures.filter(start_date=\"2024-04-19\")"
   ]
  },
  {
   "cell_type": "code",
   "execution_count": null,
   "id": "449c88c1",
   "metadata": {},
   "outputs": [],
   "source": [
    "# filtered_departures = client.departures.filter(start_date__gt=\"2024-04-01\", finish_date__lt=\"2024-04-30\")"
   ]
  },
  {
   "cell_type": "code",
   "execution_count": null,
   "id": "86a36e4b",
   "metadata": {},
   "outputs": [],
   "source": [
    "filtered_departures.count()"
   ]
  },
  {
   "cell_type": "code",
   "execution_count": null,
   "id": "33649952",
   "metadata": {},
   "outputs": [],
   "source": [
    "my_generator = filtered_departures.all() # .all()"
   ]
  },
  {
   "cell_type": "code",
   "execution_count": null,
   "id": "a7e4930d",
   "metadata": {
    "scrolled": true
   },
   "outputs": [],
   "source": [
    "departures_dictionaries_list = []\n",
    "countries_set = {}\n",
    "reference_count = 0\n",
    "for value in my_generator:\n",
    "    reference_count += 1\n",
    "    if reference_count % 100 == 0:\n",
    "        print(reference_count)\n",
    "    try:\n",
    "        if value.availability['status'] == \"AVAILABLE\" and value.tour_dossier != None: \n",
    "            trip_list = [category['name'] for category in value.tour_dossier.categories if category['category_type']['label'] ==  \"Trip Type\"]\n",
    "            if 'Small Group' in trip_list:\n",
    "                for i in range(len(value.structured_itineraries)):\n",
    "\n",
    "                    # get tour name\n",
    "                    tour_name = value.tour_dossier.name\n",
    "\n",
    "                    # structured itinerary id\n",
    "                    structured_itineraries_name = value.structured_itineraries[i].name\n",
    "\n",
    "                    # get the list of countries visited\n",
    "                    visited_countries_list = []\n",
    "                    for country in value.tour_dossier.geography['visited_countries']:\n",
    "                        visited_countries_list.append(country[\"name\"])\n",
    "                    # countries_set.update(visited_countries_list) #  add countries to set\n",
    "\n",
    "                    # get start date\n",
    "                    start_date = value.start_date\n",
    "                    \n",
    "                    # get duration\n",
    "                    duration = value.finish_date - value.start_date + timedelta(days=1)\n",
    "                    duration = duration.days\n",
    "                    print(duration)\n",
    "\n",
    "                    # get pricing form room categories\n",
    "                    room_categories_dictionaries = {}\n",
    "                    \n",
    "                    for room in value.rooms:\n",
    "                        data = room.to_dict()\n",
    "                        for price_brand in data[\"price_bands\"]:\n",
    "                            for price in price_brand[\"prices\"]:\n",
    "                                if price['currency'] == \"GBP\":               \n",
    "                                    if f'{data[\"name\"]} - {price_brand[\"name\"]}' in room_categories_dictionaries:\n",
    "                                        room_categories_dictionaries[f'{data[\"name\"]} - {price_brand[\"name\"]}'] += price['amount']\n",
    "                                    else:\n",
    "                                        room_categories_dictionaries[f'{data[\"name\"]} - {price_brand[\"name\"]}'] = price['amount']\n",
    "\n",
    "                    # get tour url \n",
    "                    tour_url = value.tour_dossier.site_links[0]['href']\n",
    "                    \n",
    "                    # get itinerary day by day\n",
    "                    itinerary = \"\"\n",
    "                    itinerary_days = value.structured_itineraries[i]\n",
    "                    for day in itinerary_days.days:\n",
    "                        itinerary += f'Day {day.day}: {day.summary}\\n'\n",
    "\n",
    "                    # get tour categories\n",
    "                    categories_id_list = [i['id'] for i in value.tour_dossier.categories]\n",
    "\n",
    "                    tour_categories_dictionaries = {}\n",
    "\n",
    "                    for category in categories_id_list:\n",
    "                        category_dict = client.tour_categories.get(category).to_dict()\n",
    "                        category_value = None\n",
    "                        if category_dict['description'] == None:\n",
    "                            category_value = category_dict['name']\n",
    "                        else:\n",
    "                            category_value = f\"{category_dict['name']} - {category_dict['description']}\"\n",
    "\n",
    "                        if category_dict['category_type']['name'] in tour_categories_dictionaries:\n",
    "                            tour_categories_dictionaries[category_dict['category_type']['name']] += \", \" + category_value\n",
    "                        else:\n",
    "                            tour_categories_dictionaries[category_dict['category_type']['name']] = category_value\n",
    "\n",
    "                    # create dictionary\n",
    "                    dataframe_dictionary = {}\n",
    "                    dataframe_dictionary['tour_name'] = tour_name\n",
    "                    dataframe_dictionary['itinerary_name'] = structured_itineraries_name\n",
    "                    dataframe_dictionary['visited_countries'] = \", \".join(visited_countries_list)\n",
    "                    dataframe_dictionary['start_date'] = start_date\n",
    "                    dataframe_dictionary['duration'] = duration\n",
    "                    dataframe_dictionary['url'] = tour_url\n",
    "                    dataframe_dictionary['itinerary'] = itinerary\n",
    "\n",
    "\n",
    "                    # combine dictionaries\n",
    "                    dataframe_dictionary = dict(dataframe_dictionary, **tour_categories_dictionaries, **room_categories_dictionaries)\n",
    "\n",
    "\n",
    "                    \n",
    "                    # add full dict to list\n",
    "                    departures_dictionaries_list.append(dataframe_dictionary)\n",
    "                    \n",
    "\n",
    "                    for category in categories_id_list:\n",
    "                        category_dict = client.tour_categories.get(category).to_dict()\n",
    "                        itinerary += f\"{category_dict['category_type']['name']}: {category_dict['name']} - {category_dict['description']}\\n\"\n",
    "\n",
    "     \n",
    "    except:\n",
    "        print(\"403 issue\")\n"
   ]
  },
  {
   "cell_type": "code",
   "execution_count": null,
   "id": "6c9238d5",
   "metadata": {},
   "outputs": [],
   "source": [
    "# df = pd.DataFrame(departures_dictionaries_list)\n",
    "# df.to_csv('raw_data/one_day_test_v2.csv', index=False)\n",
    "# df"
   ]
  },
  {
   "cell_type": "code",
   "execution_count": null,
   "id": "d8a561ed",
   "metadata": {},
   "outputs": [],
   "source": [
    "df = pd.DataFrame(departures_dictionaries_list)\n",
    "df.info()"
   ]
  },
  {
   "cell_type": "code",
   "execution_count": null,
   "id": "14a68d4a",
   "metadata": {},
   "outputs": [],
   "source": [
    "df.head(50)"
   ]
  },
  {
   "cell_type": "code",
   "execution_count": null,
   "id": "26ce0a5f",
   "metadata": {},
   "outputs": [],
   "source": []
  }
 ],
 "metadata": {
  "kernelspec": {
   "display_name": "Python 3 (ipykernel)",
   "language": "python",
   "name": "python3"
  },
  "language_info": {
   "codemirror_mode": {
    "name": "ipython",
    "version": 3
   },
   "file_extension": ".py",
   "mimetype": "text/x-python",
   "name": "python",
   "nbconvert_exporter": "python",
   "pygments_lexer": "ipython3",
   "version": "3.10.6"
  },
  "toc": {
   "base_numbering": 1,
   "nav_menu": {},
   "number_sections": true,
   "sideBar": true,
   "skip_h1_title": false,
   "title_cell": "Table of Contents",
   "title_sidebar": "Contents",
   "toc_cell": false,
   "toc_position": {},
   "toc_section_display": true,
   "toc_window_display": false
  }
 },
 "nbformat": 4,
 "nbformat_minor": 5
}
