{
 "cells": [
  {
   "cell_type": "code",
   "execution_count": 1,
   "id": "a803c9b4",
   "metadata": {},
   "outputs": [],
   "source": [
    "# script to turn extracted text files into locally stored vector stores"
   ]
  },
  {
   "cell_type": "code",
   "execution_count": 2,
   "id": "8e281f23",
   "metadata": {},
   "outputs": [],
   "source": [
    "from dotenv import load_dotenv\n",
    "import os\n",
    "\n",
    "# Load the environment variables from the .env file\n",
    "load_dotenv()\n",
    "\n",
    "# Access environment variables\n",
    "api_key = os.getenv(\"OPENAI_KEY\")"
   ]
  },
  {
   "cell_type": "code",
   "execution_count": 10,
   "id": "11b27f85",
   "metadata": {},
   "outputs": [
    {
     "name": "stdout",
     "output_type": "stream",
     "text": [
      "Lima to La Paz: Sandboarding & Sunsets Lares Trek\n",
      "Inca Discovery Inca Trail\n",
      "The Lares Trek Lares Trek\n",
      "Jordan Multisport \n",
      "Serengeti to Victoria Falls Overland: Night Stars & Spices \n",
      "Spain & Portugal: Flamenco & Tapas \n",
      "Explore Southern Africa \n",
      "Inca Discovery Plus Cusco Stay\n",
      "Highlights of Jordan \n",
      "Highlights of Morocco\n",
      "Classic Bali \n",
      "Iceland Northern Lights & Golden Circle \n",
      "Laos: Sunrises & Street Food \n",
      "The Lares Trek Cusco Stay\n",
      "North & Central Vietnam: Hanoi, Hoi An & Countryside Adventures \n",
      "Everest Base Camp Trek \n",
      "Amazon to the Andes Cusco Stay\n",
      "Golden Triangle \n",
      "Bali: Beaches & Boat Rides \n",
      "Egypt & Jordan Adventure \n",
      "Lima to Rio: Coast to Coast Inca Trail\n",
      "Japan Express: Osaka to Tokyo \n",
      "The Inca Trail Cusco Stay\n",
      "Inca Discovery Lares Trek\n",
      "Lima to La Paz: Sandboarding & Sunsets Cusco Stay\n",
      "Cambodia to Vietnam: Night Markets & Noodle-Making \n",
      "The Many Sides of Mexico: Puerto Vallarta to Oaxaca \n",
      "Inca Discovery Cusco Stay\n",
      "The Inca Trail Lares Trek\n",
      "Best of South Korea \n",
      "Highlights of Portugal \n",
      "Laos to Northern Thailand: Treks & Trails \n",
      "Maldives Dhoni Cruise \n",
      "Ecuador: Amazon, Hot Springs & Volcanoes \n",
      "Southern Divide \n",
      "Mexico Coast-to-Coast: Puerto Vallarta to the Mayan Riviera \n",
      "Laos to Thailand: Night Markets & Mekong Cruising \n",
      "Inca Discovery Plus Lares Trek\n",
      "Epic Vietnam: Hanoi, Ho Chi Minh City & Handmade Noodles \n",
      "Borneo – East Sabah Adventure \n",
      "Classic Vietnam: Hanoi to Ho Chi Minh City \n",
      "Lima to Rio: Coast to Coast Cusco Stay\n",
      "Best of Egypt \n",
      "Lima to Buenos Aires: Deserts & Dancing Cusco Stay\n",
      "Explore Cape Town & Kruger National Park \n",
      "Essential Central Mexico \n",
      "The Inca Trail Inca Trail\n",
      "Discover Japan \n",
      "Nairobi to Joburg Overland: Craters & Camping \n",
      "Best of Uzbekistan and Turkmenistan \n",
      "Amazon to the Andes Inca Trail\n",
      "Vietnam: Historic Cities & Halong Bay Cruising \n",
      "Camino de Santiago Encompassed \n",
      "Essential Southeast Asia: Hanoi, Phnom Penh & Thailand Good Times \n",
      "Best of Spain & Portugal \n",
      "Lima to Rio: Coast to Coast Lares Trek\n",
      "Bangkok to Chiang Mai Express \n",
      "Lima to Buenos Aires: Deserts & Dancing Inca Trail\n",
      "Cambodia: Ancient Ruins & Boat Rides \n",
      "Best of Cambodia & Northern Thailand \n",
      "Costa Rica Quest \n",
      "Cape Town, Kruger & Zimbabwe \n",
      "Cambodia Experience \n",
      "Lima to La Paz: Sandboarding & Sunsets Inca Trail\n",
      "Inca Discovery Plus Inca Trail\n",
      "Serengeti, Falls & Cape Town Overland: Sunsets & Safaris \n",
      "The Scenic Route - Lima to Buenos Aires \n",
      "Amazon to the Andes Lares Trek\n",
      "Spain, Portugal & Morocco: Tapas, Medinas & Sunsets \n",
      "Lima to Buenos Aires: Deserts & Dancing Lares Trek\n",
      "Coastal Morocco: Waves & Market Stalls\n"
     ]
    }
   ],
   "source": [
    "from langchain.text_splitter import RecursiveCharacterTextSplitter\n",
    "from langchain.document_loaders import TextLoader\n",
    "from langchain.vectorstores.faiss import FAISS\n",
    "from langchain.embeddings import OpenAIEmbeddings\n",
    "import pickle\n",
    "\n",
    "embeddings = OpenAIEmbeddings(openai_api_key=api_key)\n",
    "\n",
    "import glob\n",
    "\n",
    "folder_path = 'raw_data/itinerary_text'\n",
    "file_list = glob.glob(folder_path + '/*')\n",
    "\n",
    "for file_path in file_list:\n",
    "\n",
    "    print(file_path[24:-4])\n",
    "    # Loading data...\n",
    "    loader = TextLoader(file_path)\n",
    "    docs = loader.load()\n",
    "\n",
    "    # Splitting text...\n",
    "    text_splitter = RecursiveCharacterTextSplitter(chunk_size = 500,\n",
    "                                                   chunk_overlap = 50)\n",
    "    all_splits = text_splitter.split_documents(docs)\n",
    "\n",
    "    # Creating vectorstore...\n",
    "    vectorstore = FAISS.from_documents(all_splits, embeddings)\n",
    "    with open(f\"processed/{file_path[24:-4]}_vectorstore.pkl\", \"wb\") as f:\n",
    "        pickle.dump(vectorstore, f)\n"
   ]
  },
  {
   "cell_type": "code",
   "execution_count": 11,
   "id": "2439f1ef",
   "metadata": {},
   "outputs": [],
   "source": [
    "messages = [{'role': 'user', 'content': 'hi'}, {'role': 'assistant', 'content': 'Hello! How can I assist you today?'}, {'role': 'user', 'content': 'Who are you?'}, {'role': 'assistant', 'content': 'I am an AI language model created by OpenAI, called GPT-3. I am here to provide information, answer questions, and engage in conversation. How can I help you today?'}]"
   ]
  },
  {
   "cell_type": "code",
   "execution_count": 12,
   "id": "4e6fb845",
   "metadata": {},
   "outputs": [
    {
     "data": {
      "text/plain": [
       "[{'role': 'user', 'content': 'hi'},\n",
       " {'role': 'assistant', 'content': 'Hello! How can I assist you today?'},\n",
       " {'role': 'user', 'content': 'Who are you?'},\n",
       " {'role': 'assistant',\n",
       "  'content': 'I am an AI language model created by OpenAI, called GPT-3. I am here to provide information, answer questions, and engage in conversation. How can I help you today?'}]"
      ]
     },
     "execution_count": 12,
     "metadata": {},
     "output_type": "execute_result"
    }
   ],
   "source": [
    "[{\"role\": m[\"role\"], \"content\": m[\"content\"]}for m in messages]"
   ]
  },
  {
   "cell_type": "code",
   "execution_count": 15,
   "id": "8f215a56",
   "metadata": {},
   "outputs": [],
   "source": [
    "conversation_history = []\n",
    "\n",
    "for message in messages:\n",
    "    if message['role'] == 'user':\n",
    "        message['content'] = 'User: ' + message['content']\n",
    "    elif message['role'] == 'assistant':\n",
    "        message['content'] = 'Francis: ' + message['content']\n",
    "    conversation_history.append(message['content'])"
   ]
  },
  {
   "cell_type": "code",
   "execution_count": 16,
   "id": "937b90f2",
   "metadata": {},
   "outputs": [
    {
     "data": {
      "text/plain": [
       "['user: user: hi',\n",
       " 'Francis: Francis: Hello! How can I assist you today?',\n",
       " 'user: user: Who are you?',\n",
       " 'Francis: Francis: I am an AI language model created by OpenAI, called GPT-3. I am here to provide information, answer questions, and engage in conversation. How can I help you today?']"
      ]
     },
     "execution_count": 16,
     "metadata": {},
     "output_type": "execute_result"
    }
   ],
   "source": [
    "modified_data"
   ]
  },
  {
   "cell_type": "code",
   "execution_count": null,
   "id": "830d8ee3",
   "metadata": {},
   "outputs": [],
   "source": []
  }
 ],
 "metadata": {
  "kernelspec": {
   "display_name": "Python 3 (ipykernel)",
   "language": "python",
   "name": "python3"
  },
  "language_info": {
   "codemirror_mode": {
    "name": "ipython",
    "version": 3
   },
   "file_extension": ".py",
   "mimetype": "text/x-python",
   "name": "python",
   "nbconvert_exporter": "python",
   "pygments_lexer": "ipython3",
   "version": "3.10.6"
  },
  "toc": {
   "base_numbering": 1,
   "nav_menu": {},
   "number_sections": true,
   "sideBar": true,
   "skip_h1_title": false,
   "title_cell": "Table of Contents",
   "title_sidebar": "Contents",
   "toc_cell": false,
   "toc_position": {},
   "toc_section_display": true,
   "toc_window_display": false
  }
 },
 "nbformat": 4,
 "nbformat_minor": 5
}
