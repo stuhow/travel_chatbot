{
 "cells": [
  {
   "cell_type": "code",
   "execution_count": 1,
   "id": "db3f7e63-2cab-4780-a613-54b34faee9ca",
   "metadata": {},
   "outputs": [],
   "source": [
    "# script to extract data from g adventures API\n"
   ]
  },
  {
   "cell_type": "code",
   "execution_count": 2,
   "id": "218bade4",
   "metadata": {},
   "outputs": [],
   "source": [
    "# do i need the full name for itinerary name?"
   ]
  },
  {
   "cell_type": "code",
   "execution_count": 3,
   "id": "b4aa78e1",
   "metadata": {},
   "outputs": [],
   "source": [
    "# get promotional rates including promotion e.g. 25% of"
   ]
  },
  {
   "cell_type": "code",
   "execution_count": 4,
   "id": "e803975a",
   "metadata": {},
   "outputs": [],
   "source": [
    "from gapipy import Client\n",
    "from datetime import timedelta\n",
    "import pandas as pd"
   ]
  },
  {
   "cell_type": "code",
   "execution_count": 5,
   "id": "4b958582",
   "metadata": {},
   "outputs": [],
   "source": [
    "import re\n",
    "from dotenv import load_dotenv\n",
    "import os\n",
    "\n",
    "# Load the environment variables from the .env file\n",
    "load_dotenv()\n",
    "\n",
    "# Access environment variables\n",
    "api_key = os.getenv(\"G_ADVENTURES_KEY\")\n",
    "\n",
    "client = Client(application_key=api_key) "
   ]
  },
  {
   "cell_type": "code",
   "execution_count": 6,
   "id": "afbb1166",
   "metadata": {},
   "outputs": [],
   "source": [
    "filtered_departures = client.departures.filter(start_date=\"2024-04-19\")"
   ]
  },
  {
   "cell_type": "code",
   "execution_count": 7,
   "id": "b4976581",
   "metadata": {},
   "outputs": [],
   "source": [
    "# filtered_departures = client.departures.filter(start_date__gt=\"2024-04-01\", finish_date__lt=\"2024-04-30\")"
   ]
  },
  {
   "cell_type": "code",
   "execution_count": 8,
   "id": "86a36e4b",
   "metadata": {},
   "outputs": [
    {
     "data": {
      "text/plain": [
       "144"
      ]
     },
     "execution_count": 8,
     "metadata": {},
     "output_type": "execute_result"
    }
   ],
   "source": [
    "filtered_departures.count()"
   ]
  },
  {
   "cell_type": "code",
   "execution_count": 9,
   "id": "33649952",
   "metadata": {},
   "outputs": [],
   "source": [
    "my_generator = filtered_departures.all() # .all()"
   ]
  },
  {
   "cell_type": "code",
   "execution_count": 10,
   "id": "a7e4930d",
   "metadata": {
    "scrolled": true
   },
   "outputs": [
    {
     "name": "stdout",
     "output_type": "stream",
     "text": [
      "403 issue\n",
      "403 issue\n",
      "403 issue\n",
      "403 issue\n",
      "100\n",
      "403 issue\n",
      "403 issue\n"
     ]
    }
   ],
   "source": [
    "departures_dictionaries_list = []\n",
    "countries_set = set()\n",
    "reference_count = 0\n",
    "for value in my_generator:\n",
    "    reference_count += 1\n",
    "    if reference_count % 100 == 0:\n",
    "        print(reference_count)\n",
    "    try:\n",
    "        if value.availability['status'] == \"AVAILABLE\" and value.tour_dossier != None: \n",
    "            trip_list = [category['name'] for category in value.tour_dossier.categories if category['category_type']['label'] ==  \"Trip Type\"]\n",
    "            if 'Small Group' in trip_list:\n",
    "                for i in range(len(value.structured_itineraries)):\n",
    "\n",
    "                    # get tour name\n",
    "                    tour_name = value.tour_dossier.name\n",
    "\n",
    "                    # structured itinerary id\n",
    "                    structured_itineraries_name = value.structured_itineraries[i].name\n",
    "\n",
    "                    # get the list of countries visited\n",
    "                    visited_countries_list = []\n",
    "                    for country in value.tour_dossier.geography['visited_countries']:\n",
    "                        visited_countries_list.append(country[\"name\"])\n",
    "                        countries_set.add(country[\"name\"]) #  add countries to set\n",
    "\n",
    "                    \n",
    "                    # get start date\n",
    "                    start_date = value.start_date\n",
    "                \n",
    "                    # get duration\n",
    "                    duration = value.finish_date - value.start_date + timedelta(days=1)\n",
    "                    duration = duration.days\n",
    "\n",
    "                    # get pricing form room categories\n",
    "                    room_categories_dictionaries = {}\n",
    "                    \n",
    "                    for room in value.rooms:\n",
    "                        data = room.to_dict()\n",
    "                        for price_brand in data[\"price_bands\"]:\n",
    "                            for price in price_brand[\"prices\"]:\n",
    "                                if price['currency'] == \"GBP\":\n",
    "                                    # get prices\n",
    "                                    price_column = f'{data[\"name\"]} - {price_brand[\"name\"]}'\n",
    "                                    if price_column in room_categories_dictionaries:\n",
    "                                        room_categories_dictionaries[price_column] += price['amount']\n",
    "                                    else:\n",
    "                                        room_categories_dictionaries[price_column] = price['amount']\n",
    "                                    # get promotion\n",
    "                                    if  len(price['promotions']) > 0:\n",
    "                                        print(\"started promo\")\n",
    "                                        # get promo cost\n",
    "                                        promotion_column_cost = f'{data[\"name\"]} - {price_brand[\"name\"]} - Promotion cost'\n",
    "                                        if promotion_column_cost in room_categories_dictionaries:\n",
    "                                            room_categories_dictionaries[promotion_column_cost] += price[\"promotions\"][0]['amount']\n",
    "                                        else:\n",
    "                                            room_categories_dictionaries[promotion_column_cost] = price[\"promotions\"][0]['amount']\n",
    "                                        # promo cost done\n",
    "                                        # get promo description\n",
    "                                        promotion_column_name = f'{data[\"name\"]} - {price_brand[\"name\"]} - Promotion description'\n",
    "                                        if promotion_column_name in room_categories_dictionaries:\n",
    "                                            room_categories_dictionaries[promotion_column_name] += client.promotions.get(price[\"promotions\"][0]['id']).to_dict()['name']\n",
    "                                        else:\n",
    "                                            room_categories_dictionaries[promotion_column_name] = client.promotions.get(price[\"promotions\"][0]['id']).to_dict()['name']\n",
    "                                        print(\"finished promo\")\n",
    "                                            \n",
    "                    # get tour url \n",
    "                    tour_url = value.tour_dossier.site_links[0]['href']\n",
    "                    \n",
    "                    # get itinerary day by day\n",
    "                    itinerary = \"\"\n",
    "                    itinerary_days = value.structured_itineraries[i]\n",
    "                    for day in itinerary_days.days:\n",
    "                        itinerary += f'Day {day.day}: {day.summary}\\n'\n",
    "                        \n",
    "                    format_functions = lambda x: f'\"{x}\"'\n",
    "                    \n",
    "                    itinerary = format_functions(itinerary)\n",
    "\n",
    "                    # get tour categories\n",
    "                    categories_id_list = [i['id'] for i in value.tour_dossier.categories]\n",
    "\n",
    "                    tour_categories_dictionaries = {}\n",
    "\n",
    "                    for category in categories_id_list:\n",
    "                        category_dict = client.tour_categories.get(category).to_dict()\n",
    "                        category_value = None\n",
    "                        if category_dict['description'] == None:\n",
    "                            category_value = category_dict['name']\n",
    "                        else:\n",
    "                            category_value = f\"{category_dict['name']} - {category_dict['description']}\"\n",
    "\n",
    "                        if category_dict['category_type']['name'] in tour_categories_dictionaries:\n",
    "                            tour_categories_dictionaries[category_dict['category_type']['name']] += \", \" + category_value\n",
    "                        else:\n",
    "                            tour_categories_dictionaries[category_dict['category_type']['name']] = category_value\n",
    "\n",
    "                    # create dictionary\n",
    "                    dataframe_dictionary = {}\n",
    "                    dataframe_dictionary['tour_name'] = tour_name\n",
    "                    dataframe_dictionary['itinerary_name'] = structured_itineraries_name\n",
    "                    dataframe_dictionary['visited_countries'] = \", \".join(visited_countries_list)\n",
    "                    dataframe_dictionary['start_date'] = start_date\n",
    "                    dataframe_dictionary['duration'] = duration\n",
    "                    dataframe_dictionary['url'] = tour_url\n",
    "                    dataframe_dictionary['itinerary'] = itinerary\n",
    "\n",
    "\n",
    "                    # combine dictionaries\n",
    "                    dataframe_dictionary = dict(dataframe_dictionary, **tour_categories_dictionaries, **room_categories_dictionaries)\n",
    "\n",
    "\n",
    "                    \n",
    "                    # add full dict to list\n",
    "                    departures_dictionaries_list.append(dataframe_dictionary)\n",
    "     \n",
    "    except:\n",
    "        print(\"403 issue\")\n"
   ]
  },
  {
   "cell_type": "code",
   "execution_count": 11,
   "id": "6c9238d5",
   "metadata": {},
   "outputs": [],
   "source": [
    "df = pd.DataFrame(departures_dictionaries_list)\n",
    "df.to_csv('raw_data/one_day_test_v2.csv', encoding='utf-8', index=False)\n"
   ]
  },
  {
   "cell_type": "code",
   "execution_count": 14,
   "id": "20e715ea",
   "metadata": {},
   "outputs": [
    {
     "data": {
      "text/plain": [
       "['South Korea',\n",
       " 'Maldives',\n",
       " 'Chile',\n",
       " 'Peru',\n",
       " 'Turkmenistan',\n",
       " 'Uruguay',\n",
       " 'India',\n",
       " 'Uzbekistan',\n",
       " 'Japan',\n",
       " 'Laos',\n",
       " 'Brazil',\n",
       " 'Thailand',\n",
       " 'Bolivia',\n",
       " 'Spain',\n",
       " 'Egypt',\n",
       " 'Ecuador',\n",
       " 'Indonesia',\n",
       " 'Mexico',\n",
       " 'Cambodia',\n",
       " 'Portugal',\n",
       " 'Vietnam',\n",
       " 'Argentina',\n",
       " 'Jordan',\n",
       " 'Morocco',\n",
       " 'Nepal',\n",
       " 'Malaysia']"
      ]
     },
     "execution_count": 14,
     "metadata": {},
     "output_type": "execute_result"
    }
   ],
   "source": [
    "list(countries_set)"
   ]
  },
  {
   "cell_type": "code",
   "execution_count": null,
   "id": "f6c9108a",
   "metadata": {},
   "outputs": [],
   "source": []
  }
 ],
 "metadata": {
  "kernelspec": {
   "display_name": "Python 3 (ipykernel)",
   "language": "python",
   "name": "python3"
  },
  "language_info": {
   "codemirror_mode": {
    "name": "ipython",
    "version": 3
   },
   "file_extension": ".py",
   "mimetype": "text/x-python",
   "name": "python",
   "nbconvert_exporter": "python",
   "pygments_lexer": "ipython3",
   "version": "3.10.6"
  },
  "toc": {
   "base_numbering": 1,
   "nav_menu": {},
   "number_sections": true,
   "sideBar": true,
   "skip_h1_title": false,
   "title_cell": "Table of Contents",
   "title_sidebar": "Contents",
   "toc_cell": false,
   "toc_position": {},
   "toc_section_display": true,
   "toc_window_display": false
  }
 },
 "nbformat": 4,
 "nbformat_minor": 5
}
