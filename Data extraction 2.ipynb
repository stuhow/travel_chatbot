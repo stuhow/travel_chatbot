{
 "cells": [
  {
   "cell_type": "code",
   "execution_count": null,
   "id": "db3f7e63-2cab-4780-a613-54b34faee9ca",
   "metadata": {},
   "outputs": [],
   "source": [
    "# script to extract data from g adventures API\n"
   ]
  },
  {
   "cell_type": "code",
   "execution_count": null,
   "id": "440c1b5d",
   "metadata": {},
   "outputs": [],
   "source": [
    "# do i need the full name for itinerary n"
   ]
  },
  {
   "cell_type": "code",
   "execution_count": null,
   "id": "35df04a4",
   "metadata": {},
   "outputs": [],
   "source": [
    "# get promotional rates including promotion e.g. 25% of"
   ]
  },
  {
   "cell_type": "code",
   "execution_count": null,
   "id": "67fe74eb",
   "metadata": {},
   "outputs": [],
   "source": [
    "# generate a list of possible countries"
   ]
  },
  {
   "cell_type": "code",
   "execution_count": 1,
   "id": "e803975a",
   "metadata": {},
   "outputs": [],
   "source": [
    "from gapipy import Client\n",
    "from datetime import timedelta\n",
    "import pandas as pd"
   ]
  },
  {
   "cell_type": "code",
   "execution_count": 2,
   "id": "4b958582",
   "metadata": {},
   "outputs": [],
   "source": [
    "import re\n",
    "from dotenv import load_dotenv\n",
    "import os\n",
    "\n",
    "# Load the environment variables from the .env file\n",
    "load_dotenv()\n",
    "\n",
    "# Access environment variables\n",
    "api_key = os.getenv(\"G_ADVENTURES_KEY\")\n",
    "\n",
    "client = Client(application_key=api_key) "
   ]
  },
  {
   "cell_type": "code",
   "execution_count": 3,
   "id": "afbb1166",
   "metadata": {},
   "outputs": [],
   "source": [
    "filtered_departures = client.departures.filter(start_date=\"2024-04-19\")"
   ]
  },
  {
   "cell_type": "code",
   "execution_count": 4,
   "id": "3bfd8c66",
   "metadata": {},
   "outputs": [],
   "source": [
    "# filtered_departures = client.departures.filter(start_date__gt=\"2024-04-01\", finish_date__lt=\"2024-04-30\")"
   ]
  },
  {
   "cell_type": "code",
   "execution_count": 5,
   "id": "86a36e4b",
   "metadata": {},
   "outputs": [
    {
     "data": {
      "text/plain": [
       "144"
      ]
     },
     "execution_count": 5,
     "metadata": {},
     "output_type": "execute_result"
    }
   ],
   "source": [
    "filtered_departures.count()"
   ]
  },
  {
   "cell_type": "code",
   "execution_count": 6,
   "id": "33649952",
   "metadata": {},
   "outputs": [],
   "source": [
    "my_generator = filtered_departures.all() # .all()"
   ]
  },
  {
   "cell_type": "code",
   "execution_count": 8,
   "id": "a7e4930d",
   "metadata": {
    "scrolled": true
   },
   "outputs": [
    {
     "name": "stdout",
     "output_type": "stream",
     "text": [
      "403 issue\n",
      "403 issue\n",
      "403 issue\n",
      "403 issue\n",
      "100\n",
      "403 issue\n",
      "403 issue\n"
     ]
    }
   ],
   "source": [
    "departures_dictionaries_list = []\n",
    "countries_set = set()\n",
    "reference_count = 0\n",
    "for value in my_generator:\n",
    "    reference_count += 1\n",
    "    if reference_count % 100 == 0:\n",
    "        print(reference_count)\n",
    "    try:\n",
    "        if value.availability['status'] == \"AVAILABLE\" and value.tour_dossier != None: \n",
    "            trip_list = [category['name'] for category in value.tour_dossier.categories if category['category_type']['label'] ==  \"Trip Type\"]\n",
    "            if 'Small Group' in trip_list:\n",
    "                for i in range(len(value.structured_itineraries)):\n",
    "\n",
    "                    # get tour name\n",
    "                    tour_name = value.tour_dossier.name\n",
    "\n",
    "                    # structured itinerary id\n",
    "                    structured_itineraries_name = value.structured_itineraries[i].name\n",
    "\n",
    "                    # get the list of countries visited\n",
    "                    visited_countries_list = []\n",
    "                    for country in value.tour_dossier.geography['visited_countries']:\n",
    "                        visited_countries_list.append(country[\"name\"])\n",
    "                        countries_set.add(country[\"name\"]) #  add countries to set\n",
    "\n",
    "                    \n",
    "                    # get start date\n",
    "                    start_date = value.start_date\n",
    "                \n",
    "                    # get duration\n",
    "                    duration = value.finish_date - value.start_date + timedelta(days=1)\n",
    "                    duration = duration.days\n",
    "\n",
    "                    # get pricing form room categories\n",
    "                    room_categories_dictionaries = {}\n",
    "                    \n",
    "                    for room in value.rooms:\n",
    "                        data = room.to_dict()\n",
    "                        for price_brand in data[\"price_bands\"]:\n",
    "                            for price in price_brand[\"prices\"]:\n",
    "                                if price['currency'] == \"GBP\":               \n",
    "                                    if f'{data[\"name\"]} - {price_brand[\"name\"]}' in room_categories_dictionaries:\n",
    "                                        room_categories_dictionaries[f'{data[\"name\"]} - {price_brand[\"name\"]}'] += price['amount']\n",
    "                                    else:\n",
    "                                        room_categories_dictionaries[f'{data[\"name\"]} - {price_brand[\"name\"]}'] = price['amount']\n",
    "\n",
    "                    # get tour url \n",
    "                    tour_url = value.tour_dossier.site_links[0]['href']\n",
    "                    \n",
    "                    # get itinerary day by day\n",
    "                    itinerary = \"\"\n",
    "                    itinerary_days = value.structured_itineraries[i]\n",
    "                    for day in itinerary_days.days:\n",
    "                        itinerary += f'Day {day.day}: {day.summary}\\n'\n",
    "\n",
    "                    # get tour categories\n",
    "                    categories_id_list = [i['id'] for i in value.tour_dossier.categories]\n",
    "\n",
    "                    tour_categories_dictionaries = {}\n",
    "\n",
    "                    for category in categories_id_list:\n",
    "                        category_dict = client.tour_categories.get(category).to_dict()\n",
    "                        category_value = None\n",
    "                        if category_dict['description'] == None:\n",
    "                            category_value = category_dict['name']\n",
    "                        else:\n",
    "                            category_value = f\"{category_dict['name']} - {category_dict['description']}\"\n",
    "\n",
    "                        if category_dict['category_type']['name'] in tour_categories_dictionaries:\n",
    "                            tour_categories_dictionaries[category_dict['category_type']['name']] += \", \" + category_value\n",
    "                        else:\n",
    "                            tour_categories_dictionaries[category_dict['category_type']['name']] = category_value\n",
    "\n",
    "                    # create dictionary\n",
    "                    dataframe_dictionary = {}\n",
    "                    dataframe_dictionary['tour_name'] = tour_name\n",
    "                    dataframe_dictionary['itinerary_name'] = structured_itineraries_name\n",
    "                    dataframe_dictionary['visited_countries'] = \", \".join(visited_countries_list)\n",
    "                    dataframe_dictionary['start_date'] = start_date\n",
    "                    dataframe_dictionary['duration'] = duration\n",
    "                    dataframe_dictionary['url'] = tour_url\n",
    "                    dataframe_dictionary['itinerary'] = itinerary\n",
    "\n",
    "\n",
    "                    # combine dictionaries\n",
    "                    dataframe_dictionary = dict(dataframe_dictionary, **tour_categories_dictionaries, **room_categories_dictionaries)\n",
    "\n",
    "\n",
    "                    \n",
    "                    # add full dict to list\n",
    "                    departures_dictionaries_list.append(dataframe_dictionary)\n",
    "                    \n",
    "\n",
    "                    for category in categories_id_list:\n",
    "                        category_dict = client.tour_categories.get(category).to_dict()\n",
    "                        itinerary += f\"{category_dict['category_type']['name']}: {category_dict['name']} - {category_dict['description']}\\n\"\n",
    "\n",
    "     \n",
    "    except:\n",
    "        print(\"403 issue\")\n"
   ]
  },
  {
   "cell_type": "code",
   "execution_count": null,
   "id": "6c9238d5",
   "metadata": {},
   "outputs": [],
   "source": [
    "# df = pd.DataFrame(departures_dictionaries_list)\n",
    "# df.to_csv('raw_data/one_day_test_v2.csv', index=False)\n",
    "# df"
   ]
  },
  {
   "cell_type": "code",
   "execution_count": 11,
   "id": "d8a561ed",
   "metadata": {},
   "outputs": [
    {
     "name": "stdout",
     "output_type": "stream",
     "text": [
      "<class 'pandas.core.frame.DataFrame'>\n",
      "RangeIndex: 61 entries, 0 to 60\n",
      "Data columns (total 15 columns):\n",
      " #   Column                         Non-Null Count  Dtype \n",
      "---  ------                         --------------  ----- \n",
      " 0   tour_name                      61 non-null     object\n",
      " 1   itinerary_name                 61 non-null     object\n",
      " 2   visited_countries              61 non-null     object\n",
      " 3   start_date                     61 non-null     object\n",
      " 4   duration                       61 non-null     int64 \n",
      " 5   url                            61 non-null     object\n",
      " 6   itinerary                      61 non-null     object\n",
      " 7   Travel Style                   61 non-null     object\n",
      " 8   Service Level                  61 non-null     object\n",
      " 9   Physical Grading               61 non-null     object\n",
      " 10  Merchandising                  53 non-null     object\n",
      " 11  Trip Type                      61 non-null     object\n",
      " 12  Standard - Adult               60 non-null     object\n",
      " 13  Standard - Double - D - Adult  1 non-null      object\n",
      " 14  Standard - Twin - D - Adult    1 non-null      object\n",
      "dtypes: int64(1), object(14)\n",
      "memory usage: 7.3+ KB\n"
     ]
    }
   ],
   "source": [
    "df = pd.DataFrame(departures_dictionaries_list)\n",
    "df.info()"
   ]
  },
  {
   "cell_type": "code",
   "execution_count": 13,
   "id": "b168c1a1",
   "metadata": {
    "scrolled": false
   },
   "outputs": [
    {
     "data": {
      "text/html": [
       "<div>\n",
       "<style scoped>\n",
       "    .dataframe tbody tr th:only-of-type {\n",
       "        vertical-align: middle;\n",
       "    }\n",
       "\n",
       "    .dataframe tbody tr th {\n",
       "        vertical-align: top;\n",
       "    }\n",
       "\n",
       "    .dataframe thead th {\n",
       "        text-align: right;\n",
       "    }\n",
       "</style>\n",
       "<table border=\"1\" class=\"dataframe\">\n",
       "  <thead>\n",
       "    <tr style=\"text-align: right;\">\n",
       "      <th></th>\n",
       "      <th>tour_name</th>\n",
       "      <th>itinerary_name</th>\n",
       "      <th>visited_countries</th>\n",
       "      <th>start_date</th>\n",
       "      <th>duration</th>\n",
       "      <th>url</th>\n",
       "      <th>itinerary</th>\n",
       "      <th>Travel Style</th>\n",
       "      <th>Service Level</th>\n",
       "      <th>Physical Grading</th>\n",
       "      <th>Merchandising</th>\n",
       "      <th>Trip Type</th>\n",
       "      <th>Standard - Adult</th>\n",
       "      <th>Standard - Double - D - Adult</th>\n",
       "      <th>Standard - Twin - D - Adult</th>\n",
       "    </tr>\n",
       "  </thead>\n",
       "  <tbody>\n",
       "    <tr>\n",
       "      <th>0</th>\n",
       "      <td>Laos: Sunrises &amp; Street Food</td>\n",
       "      <td></td>\n",
       "      <td>Laos, Thailand</td>\n",
       "      <td>2024-04-19</td>\n",
       "      <td>9</td>\n",
       "      <td>https://www.gadventures.com/trips/budget-laos-...</td>\n",
       "      <td>Day 1: Arrive at any time and welcome to Vient...</td>\n",
       "      <td>18-to-Thirtysomethings - Fast, fresh, and fun ...</td>\n",
       "      <td>Basic - Simple and clean hotels and hostels; a...</td>\n",
       "      <td>2 - Light - Light walking and hiking suitable ...</td>\n",
       "      <td>Planeterra Project</td>\n",
       "      <td>Small Group - Group trips average 12 traveller...</td>\n",
       "      <td>779.00</td>\n",
       "      <td>NaN</td>\n",
       "      <td>NaN</td>\n",
       "    </tr>\n",
       "    <tr>\n",
       "      <th>1</th>\n",
       "      <td>Laos to Thailand: Night Markets &amp; Mekong Cruising</td>\n",
       "      <td></td>\n",
       "      <td>Laos, Thailand</td>\n",
       "      <td>2024-04-19</td>\n",
       "      <td>11</td>\n",
       "      <td>https://www.gadventures.com/trips/budget-tour-...</td>\n",
       "      <td>Day 1: Arrive at any time and welcome to Vient...</td>\n",
       "      <td>18-to-Thirtysomethings - Fast, fresh, and fun ...</td>\n",
       "      <td>Basic - Simple and clean hotels and hostels; a...</td>\n",
       "      <td>2 - Light - Light walking and hiking suitable ...</td>\n",
       "      <td>Planeterra Project</td>\n",
       "      <td>Small Group - Group trips average 12 traveller...</td>\n",
       "      <td>799.00</td>\n",
       "      <td>NaN</td>\n",
       "      <td>NaN</td>\n",
       "    </tr>\n",
       "    <tr>\n",
       "      <th>2</th>\n",
       "      <td>Laos to Northern Thailand: Treks &amp; Trails</td>\n",
       "      <td></td>\n",
       "      <td>Laos, Thailand</td>\n",
       "      <td>2024-04-19</td>\n",
       "      <td>14</td>\n",
       "      <td>https://www.gadventures.com/trips/trekking-lao...</td>\n",
       "      <td>Day 1: Arrive at any time and welcome to Vient...</td>\n",
       "      <td>18-to-Thirtysomethings - Fast, fresh, and fun ...</td>\n",
       "      <td>Basic - Simple and clean hotels and hostels; a...</td>\n",
       "      <td>3 - Average - Some tours may include light hik...</td>\n",
       "      <td>Planeterra Project</td>\n",
       "      <td>Small Group - Group trips average 12 traveller...</td>\n",
       "      <td>1049.00</td>\n",
       "      <td>NaN</td>\n",
       "      <td>NaN</td>\n",
       "    </tr>\n",
       "  </tbody>\n",
       "</table>\n",
       "</div>"
      ],
      "text/plain": [
       "                                           tour_name itinerary_name  \\\n",
       "0                       Laos: Sunrises & Street Food                  \n",
       "1  Laos to Thailand: Night Markets & Mekong Cruising                  \n",
       "2          Laos to Northern Thailand: Treks & Trails                  \n",
       "\n",
       "  visited_countries  start_date  duration  \\\n",
       "0    Laos, Thailand  2024-04-19         9   \n",
       "1    Laos, Thailand  2024-04-19        11   \n",
       "2    Laos, Thailand  2024-04-19        14   \n",
       "\n",
       "                                                 url  \\\n",
       "0  https://www.gadventures.com/trips/budget-laos-...   \n",
       "1  https://www.gadventures.com/trips/budget-tour-...   \n",
       "2  https://www.gadventures.com/trips/trekking-lao...   \n",
       "\n",
       "                                           itinerary  \\\n",
       "0  Day 1: Arrive at any time and welcome to Vient...   \n",
       "1  Day 1: Arrive at any time and welcome to Vient...   \n",
       "2  Day 1: Arrive at any time and welcome to Vient...   \n",
       "\n",
       "                                        Travel Style  \\\n",
       "0  18-to-Thirtysomethings - Fast, fresh, and fun ...   \n",
       "1  18-to-Thirtysomethings - Fast, fresh, and fun ...   \n",
       "2  18-to-Thirtysomethings - Fast, fresh, and fun ...   \n",
       "\n",
       "                                       Service Level  \\\n",
       "0  Basic - Simple and clean hotels and hostels; a...   \n",
       "1  Basic - Simple and clean hotels and hostels; a...   \n",
       "2  Basic - Simple and clean hotels and hostels; a...   \n",
       "\n",
       "                                    Physical Grading       Merchandising  \\\n",
       "0  2 - Light - Light walking and hiking suitable ...  Planeterra Project   \n",
       "1  2 - Light - Light walking and hiking suitable ...  Planeterra Project   \n",
       "2  3 - Average - Some tours may include light hik...  Planeterra Project   \n",
       "\n",
       "                                           Trip Type Standard - Adult  \\\n",
       "0  Small Group - Group trips average 12 traveller...           779.00   \n",
       "1  Small Group - Group trips average 12 traveller...           799.00   \n",
       "2  Small Group - Group trips average 12 traveller...          1049.00   \n",
       "\n",
       "  Standard - Double - D - Adult Standard - Twin - D - Adult  \n",
       "0                           NaN                         NaN  \n",
       "1                           NaN                         NaN  \n",
       "2                           NaN                         NaN  "
      ]
     },
     "execution_count": 13,
     "metadata": {},
     "output_type": "execute_result"
    }
   ],
   "source": [
    "df.head(3)"
   ]
  },
  {
   "cell_type": "code",
   "execution_count": 10,
   "id": "8f778b16",
   "metadata": {},
   "outputs": [
    {
     "data": {
      "text/plain": [
       "['Chile',\n",
       " 'Nepal',\n",
       " 'Brazil',\n",
       " 'Egypt',\n",
       " 'South Korea',\n",
       " 'Maldives',\n",
       " 'Turkmenistan',\n",
       " 'Uzbekistan',\n",
       " 'Thailand',\n",
       " 'Vietnam',\n",
       " 'Argentina',\n",
       " 'Morocco',\n",
       " 'Peru',\n",
       " 'Ecuador',\n",
       " 'Portugal',\n",
       " 'Indonesia',\n",
       " 'Spain',\n",
       " 'Malaysia',\n",
       " 'India',\n",
       " 'Laos',\n",
       " 'Uruguay',\n",
       " 'Bolivia',\n",
       " 'Mexico',\n",
       " 'Cambodia',\n",
       " 'Jordan',\n",
       " 'Japan']"
      ]
     },
     "execution_count": 10,
     "metadata": {},
     "output_type": "execute_result"
    }
   ],
   "source": [
    "list(countries_set)"
   ]
  },
  {
   "cell_type": "code",
   "execution_count": null,
   "id": "5458a37f",
   "metadata": {},
   "outputs": [],
   "source": []
  }
 ],
 "metadata": {
  "kernelspec": {
   "display_name": "Python 3 (ipykernel)",
   "language": "python",
   "name": "python3"
  },
  "language_info": {
   "codemirror_mode": {
    "name": "ipython",
    "version": 3
   },
   "file_extension": ".py",
   "mimetype": "text/x-python",
   "name": "python",
   "nbconvert_exporter": "python",
   "pygments_lexer": "ipython3",
   "version": "3.10.6"
  },
  "toc": {
   "base_numbering": 1,
   "nav_menu": {},
   "number_sections": true,
   "sideBar": true,
   "skip_h1_title": false,
   "title_cell": "Table of Contents",
   "title_sidebar": "Contents",
   "toc_cell": false,
   "toc_position": {},
   "toc_section_display": true,
   "toc_window_display": false
  }
 },
 "nbformat": 4,
 "nbformat_minor": 5
}
